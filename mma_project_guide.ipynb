{
 "cells": [
  {
   "cell_type": "markdown",
   "id": "7f6ee64a",
   "metadata": {},
   "source": [
    "# MoneyMakingAlgorithm (MMA) Light — Guide\n",
    "\n",
    "This projects aims at \n",
    "\n",
    "This notebook walks through the entire data pipeline from (from raw data to predictions) for predicting the win method of fights in the upcoming Ultimate Bouting Championship (UFC) event, a weekly or every-other-weekly Mixed Martial Arts (MMA) tournament.\n",
    "\n",
    "Highlights: \n",
    "- Retrieves raw data, cleans raw data, engineers features, trains a model and makes predictions for upcoming Ultimate Fighting Championship (UFC) fights. \n",
    "- Predicts 7 classes: KO win, Submission win, Decision win, Draw, Decision Loss, Submission Loss, KO loss. \n",
    "- Creates probability distributions for each of the 7 classes that can then be used for price estimation and risk analysis\n",
    "- Makes predictions using a self-devised elo-based rating system and other features. \n",
    "- Machine Learning method used: Extreme Gradient Booster (`xgboost`)\n",
    "- Trains the model using a repeated m-fold cross validation.\n",
    "- Includes singular value decomposition, feature selection and other optional data processing features.\n",
    "- Outputs the statistics of predicted probability distributions for both 7 and 2 (win or lose) classes. \n",
    "\n",
    "Notes\n",
    "- This is a light version of the model, meaning that certain feature sets left out compared to the full model. In addition, the data cleaning module (Section 1) is disabled. The model as presented here on GitHub is still >63% accurate and you can still use this notebook to play around and make your own predictions with.\n",
    "\n",
    "DISCLAIMER \n",
    "- This is not to be used for gambling! The purpose of this project is to obtain statistics for price estimation and risk analysis. If this model does what it should, it would tell you sportsbook offer unfavorable prices!\n",
    "\n",
    "\n",
    "## Quick setup (Windows/PowerShell)\n",
    "\n",
    "```powershell\n",
    "# From the repo root (this folder)\n",
    "py -3.11 -m venv .venv\n",
    ".venv\\Scripts\\Activate.ps1\n",
    "python -m pip install --upgrade pip\n",
    "pip install -r requirements.txt\n",
    "\n",
    "# If xgboost-cpu wheel fails on your CPU, try:\n",
    "# pip install xgboost==2.1.1\n",
    "```\n",
    "\n",
    "In VS Code, select the `.venv` interpreter for the notebook: Ctrl+Shift+P → “Python: Select Interpreter” → choose `.venv`.\n",
    "\n",
    "---\n",
    "\n",
    "## 1. Cleaning Data\n",
    "\n",
    "Raw ufcstats.com datasets are loaded from Greco1899's scape_ufc_stats repository. These datasets are regularly updated by the corresponding scraper (https://github.com/Greco1899/scrape_ufc_stats). Second, datasets are cleaned and merged into a single data set with basic features are created (date, height, time format etc...) and made ready for further feature engineering. Output csv is saved as `data/interim/clean_ufcstats-com_data.csv`.\n",
    "\n",
    "Key module: `src/data_processing/clean_raw_data.py`\n",
    "- Main function: `process_all_data(prefer_external=True, new_fights_only=False)`\n",
    "- Core class: `UFCDataProcessor`\n",
    "\n",
    "Notes:\n",
    "- Only events from UFC 31: Locked and Loaded (May 04, 2001) are included, because this is the first standardized UFC event (using the Unified Rules of MMA and has only 3 or 5 round fights. \n",
    "- Set `new_fights_only=False` (WIP otherwise).\n",
    "- `prefer_external` takes from external github repository (regularly updated) and otherwise from saved data.\n",
    "- Not all names in ufc_fight_results.csv match with those in ufc_fighter_tott. In addition, some fighters in ufc_fighter_tott have the same name, or are mentioned double with (one with stats, the other without etc). These issues have been resolved for all retired and currently active fighters, but may arise again in the future for newly debuting fighters. In this case, the code terminates and user must follow the instructions in the log and comments to implement a simple hard-code fix. \n",
    "- If there will ever be a Catch Weight bout where both fighters are debuting, sex cannot be inferred. Code termination for manual appending sex to 'interim/unknown_sex.csv'. One could also implement a AI that recognizes male/female names to solve this.   \n",
    "\n",
    "Python:"
   ]
  },
  {
   "cell_type": "code",
   "execution_count": null,
   "id": "421447b2",
   "metadata": {},
   "outputs": [
    {
     "name": "stderr",
     "output_type": "stream",
     "text": [
      "\u001b[32m2025-10-10 01:24:05.479\u001b[0m | \u001b[1mINFO    \u001b[0m | \u001b[36msrc.data_processing.clean_raw_data\u001b[0m:\u001b[36mprocess_all_data\u001b[0m:\u001b[36m706\u001b[0m - \u001b[1mStarting UFC data processing pipeline\u001b[0m\n",
      "\u001b[32m2025-10-10 01:24:05.582\u001b[0m | \u001b[1mINFO    \u001b[0m | \u001b[36msrc.data_processing.clean_raw_data\u001b[0m:\u001b[36m__init__\u001b[0m:\u001b[36m73\u001b[0m - \u001b[1mInitialized UFC data processor\u001b[0m\n",
      "\u001b[32m2025-10-10 01:24:05.589\u001b[0m | \u001b[1mINFO    \u001b[0m | \u001b[36msrc.data_processing.clean_raw_data\u001b[0m:\u001b[36m_run_data_processing\u001b[0m:\u001b[36m741\u001b[0m - \u001b[1mLoading raw data\u001b[0m\n",
      "\u001b[32m2025-10-10 01:24:05.736\u001b[0m | \u001b[1mINFO    \u001b[0m | \u001b[36msrc.data_processing.clean_raw_data\u001b[0m:\u001b[36mload_raw_data\u001b[0m:\u001b[36m95\u001b[0m - \u001b[1mSuccesfully loaded data from https://github.com/Greco1899/scrape_ufc_stats\u001b[0m\n",
      "\u001b[32m2025-10-10 01:24:05.746\u001b[0m | \u001b[34m\u001b[1mDEBUG   \u001b[0m | \u001b[36msrc.utils.general\u001b[0m:\u001b[36mstore_csv\u001b[0m:\u001b[36m155\u001b[0m - \u001b[34m\u001b[1mSaved CSV: c:\\Users\\OAVAI\\Desktop\\mma_light\\data\\raw\\ufc_event_details.csv (748 rows)\u001b[0m\n",
      "\u001b[32m2025-10-10 01:24:06.120\u001b[0m | \u001b[1mINFO    \u001b[0m | \u001b[36msrc.data_processing.clean_raw_data\u001b[0m:\u001b[36mload_raw_data\u001b[0m:\u001b[36m95\u001b[0m - \u001b[1mSuccesfully loaded data from https://github.com/Greco1899/scrape_ufc_stats\u001b[0m\n",
      "\u001b[32m2025-10-10 01:24:06.237\u001b[0m | \u001b[34m\u001b[1mDEBUG   \u001b[0m | \u001b[36msrc.utils.general\u001b[0m:\u001b[36mstore_csv\u001b[0m:\u001b[36m155\u001b[0m - \u001b[34m\u001b[1mSaved CSV: c:\\Users\\OAVAI\\Desktop\\mma_light\\data\\raw\\ufc_fight_results.csv (8377 rows)\u001b[0m\n",
      "\u001b[32m2025-10-10 01:24:07.004\u001b[0m | \u001b[1mINFO    \u001b[0m | \u001b[36msrc.data_processing.clean_raw_data\u001b[0m:\u001b[36mload_raw_data\u001b[0m:\u001b[36m95\u001b[0m - \u001b[1mSuccesfully loaded data from https://github.com/Greco1899/scrape_ufc_stats\u001b[0m\n",
      "\u001b[32m2025-10-10 01:24:07.587\u001b[0m | \u001b[34m\u001b[1mDEBUG   \u001b[0m | \u001b[36msrc.utils.general\u001b[0m:\u001b[36mstore_csv\u001b[0m:\u001b[36m155\u001b[0m - \u001b[34m\u001b[1mSaved CSV: c:\\Users\\OAVAI\\Desktop\\mma_light\\data\\raw\\ufc_fight_stats.csv (39422 rows)\u001b[0m\n",
      "\u001b[32m2025-10-10 01:24:07.850\u001b[0m | \u001b[1mINFO    \u001b[0m | \u001b[36msrc.data_processing.clean_raw_data\u001b[0m:\u001b[36mload_raw_data\u001b[0m:\u001b[36m95\u001b[0m - \u001b[1mSuccesfully loaded data from https://github.com/Greco1899/scrape_ufc_stats\u001b[0m\n",
      "\u001b[32m2025-10-10 01:24:07.883\u001b[0m | \u001b[34m\u001b[1mDEBUG   \u001b[0m | \u001b[36msrc.utils.general\u001b[0m:\u001b[36mstore_csv\u001b[0m:\u001b[36m155\u001b[0m - \u001b[34m\u001b[1mSaved CSV: c:\\Users\\OAVAI\\Desktop\\mma_light\\data\\raw\\ufc_fighter_tott.csv (4447 rows)\u001b[0m\n",
      "\u001b[32m2025-10-10 01:24:07.909\u001b[0m | \u001b[34m\u001b[1mDEBUG   \u001b[0m | \u001b[36msrc.utils.general\u001b[0m:\u001b[36mopen_csv\u001b[0m:\u001b[36m118\u001b[0m - \u001b[34m\u001b[1mLoaded CSV: c:\\Users\\OAVAI\\Desktop\\mma_light\\data\\interim\\alternative_spellings_internal.csv (59 rows)\u001b[0m\n",
      "\u001b[32m2025-10-10 01:24:07.958\u001b[0m | \u001b[1mINFO    \u001b[0m | \u001b[36msrc.data_processing.clean_raw_data\u001b[0m:\u001b[36m_run_data_processing\u001b[0m:\u001b[36m751\u001b[0m - \u001b[1mStarting data cleaning.\u001b[0m\n",
      "\u001b[32m2025-10-10 01:24:07.959\u001b[0m | \u001b[1mINFO    \u001b[0m | \u001b[36msrc.data_processing.clean_raw_data\u001b[0m:\u001b[36mclean_data\u001b[0m:\u001b[36m132\u001b[0m - \u001b[1mCleaning fight results data\u001b[0m\n",
      "\u001b[32m2025-10-10 01:24:07.967\u001b[0m | \u001b[1mINFO    \u001b[0m | \u001b[36msrc.data_processing.clean_raw_data\u001b[0m:\u001b[36mclean_data\u001b[0m:\u001b[36m141\u001b[0m - \u001b[1mPreparing raw data sets...\u001b[0m\n",
      "\u001b[32m2025-10-10 01:24:08.009\u001b[0m | \u001b[1mINFO    \u001b[0m | \u001b[36msrc.data_processing.clean_raw_data\u001b[0m:\u001b[36mclean_data\u001b[0m:\u001b[36m173\u001b[0m - \u001b[1mMatching bouts and fighters...\u001b[0m\n",
      "\u001b[32m2025-10-10 01:24:08.094\u001b[0m | \u001b[1mINFO    \u001b[0m | \u001b[36msrc.data_processing.clean_raw_data\u001b[0m:\u001b[36mclean_data\u001b[0m:\u001b[36m194\u001b[0m - \u001b[1mProcessing duplicate names...\u001b[0m\n",
      "\u001b[32m2025-10-10 01:24:08.389\u001b[0m | \u001b[1mINFO    \u001b[0m | \u001b[36msrc.data_processing.clean_raw_data\u001b[0m:\u001b[36mclean_data\u001b[0m:\u001b[36m344\u001b[0m - \u001b[1mProcessing temporal data...\u001b[0m\n",
      "\u001b[32m2025-10-10 01:24:08.642\u001b[0m | \u001b[1mINFO    \u001b[0m | \u001b[36msrc.data_processing.clean_raw_data\u001b[0m:\u001b[36mclean_data\u001b[0m:\u001b[36m454\u001b[0m - \u001b[1mGetting fighter specific info...\u001b[0m\n",
      "\u001b[32m2025-10-10 01:24:08.771\u001b[0m | \u001b[1mINFO    \u001b[0m | \u001b[36msrc.data_processing.clean_raw_data\u001b[0m:\u001b[36mclean_data\u001b[0m:\u001b[36m559\u001b[0m - \u001b[1mProcessing fight stats...\u001b[0m\n",
      "\u001b[32m2025-10-10 01:25:07.947\u001b[0m | \u001b[34m\u001b[1mDEBUG   \u001b[0m | \u001b[36msrc.utils.general\u001b[0m:\u001b[36mstore_csv\u001b[0m:\u001b[36m155\u001b[0m - \u001b[34m\u001b[1mSaved CSV: c:\\Users\\OAVAI\\Desktop\\mma_light\\data\\interim\\ufc_fighter_tott_clean.csv (4443 rows)\u001b[0m\n",
      "\u001b[32m2025-10-10 01:25:07.949\u001b[0m | \u001b[1mINFO    \u001b[0m | \u001b[36msrc.data_processing.clean_raw_data\u001b[0m:\u001b[36mclean_data\u001b[0m:\u001b[36m663\u001b[0m - \u001b[1mCreating classes...\u001b[0m\n",
      "\u001b[32m2025-10-10 01:25:08.050\u001b[0m | \u001b[1mINFO    \u001b[0m | \u001b[36msrc.data_processing.clean_raw_data\u001b[0m:\u001b[36mclean_data\u001b[0m:\u001b[36m691\u001b[0m - \u001b[1mFINITOOOOOOOOOOO\u001b[0m\n",
      "\u001b[32m2025-10-10 01:25:08.151\u001b[0m | \u001b[1mINFO    \u001b[0m | \u001b[36msrc.data_processing.clean_raw_data\u001b[0m:\u001b[36m_run_data_processing\u001b[0m:\u001b[36m760\u001b[0m - \u001b[1mStoring cleaned data\u001b[0m\n"
     ]
    },
    {
     "name": "stdout",
     "output_type": "stream",
     "text": [
      "<class 'pandas.core.frame.DataFrame'>\n"
     ]
    },
    {
     "name": "stderr",
     "output_type": "stream",
     "text": [
      "\u001b[32m2025-10-10 01:25:13.186\u001b[0m | \u001b[34m\u001b[1mDEBUG   \u001b[0m | \u001b[36msrc.utils.general\u001b[0m:\u001b[36mstore_csv\u001b[0m:\u001b[36m155\u001b[0m - \u001b[34m\u001b[1mSaved CSV: c:\\Users\\OAVAI\\Desktop\\mma_light\\data\\interim\\clean_ufcstats-com_data.csv (8102 rows)\u001b[0m\n",
      "\u001b[32m2025-10-10 01:25:13.683\u001b[0m | \u001b[1mINFO    \u001b[0m | \u001b[36msrc.data_processing.clean_raw_data\u001b[0m:\u001b[36m_run_data_processing\u001b[0m:\u001b[36m808\u001b[0m - \u001b[1mUFC data processing pipeline completed successfully\u001b[0m\n"
     ]
    }
   ],
   "source": [
    "# Disabled in light version\n",
    "#from src.data_processing.clean_raw_data import process_all_data\n",
    "\n",
    "\n",
    "#process_all_data(prefer_external=True, new_fights_only=False)\n",
    "# Expected: data/interim/clean_ufcstats-com_data.csv"
   ]
  },
  {
   "cell_type": "markdown",
   "id": "4bb4c680",
   "metadata": {},
   "source": [
    "---\n",
    "\n",
    "## 2. Constructing feature sets\n",
    "\n",
    "+ We now construct both our desired feature sets, and the feature sets they depend on. \n",
    "\n",
    "Key module: `src/data_processing/feature_manager.py`\n",
    "- Class: `FeatureManager(feature_set_names=None, feature_set_params=None, overwrite_all=True)`\n",
    "- Feature modules live in `src/feature_engineering` and are imported dynamically (e.g., `get_base_features.py`).\n",
    "\n",
    "Available feature sets:\n",
    "- base_features (always include)\n",
    "- elo_params (always include for elo feature set)\n",
    "- wl_elos\n",
    "\n",
    "\n",
    "Regarding elo_params \n",
    "- get_elo_params creates multiple K-parameters which can then be chosen by the elo feature set using 'which_K'.\n",
    "\n",
    "\n",
    "Notes:\n",
    "- Keep the param `process_upcoming_fights=False` at this stage (otherwise handled separately).\n",
    "Python (corrected):"
   ]
  },
  {
   "cell_type": "code",
   "execution_count": 3,
   "id": "2e000b8b",
   "metadata": {},
   "outputs": [
    {
     "name": "stderr",
     "output_type": "stream",
     "text": [
      "\u001b[32m2025-10-22 19:32:04.341\u001b[0m | \u001b[34m\u001b[1mDEBUG   \u001b[0m | \u001b[36msrc.utils.general\u001b[0m:\u001b[36mopen_csv\u001b[0m:\u001b[36m108\u001b[0m - \u001b[34m\u001b[1mLoaded CSV: c:\\Users\\OAVAI\\Desktop\\mma - Copy\\mma_light\\data\\features\\base_features.csv (8127 rows)\u001b[0m\n",
      "\u001b[32m2025-10-22 19:32:04.376\u001b[0m | \u001b[34m\u001b[1mDEBUG   \u001b[0m | \u001b[36msrc.utils.general\u001b[0m:\u001b[36mopen_csv\u001b[0m:\u001b[36m108\u001b[0m - \u001b[34m\u001b[1mLoaded CSV: c:\\Users\\OAVAI\\Desktop\\mma - Copy\\mma_light\\data\\features\\elo_params.csv (8127 rows)\u001b[0m\n",
      "\u001b[32m2025-10-22 19:32:04.388\u001b[0m | \u001b[34m\u001b[1mDEBUG   \u001b[0m | \u001b[36msrc.utils.general\u001b[0m:\u001b[36mopen_csv\u001b[0m:\u001b[36m108\u001b[0m - \u001b[34m\u001b[1mLoaded CSV: c:\\Users\\OAVAI\\Desktop\\mma - Copy\\mma_light\\data\\features\\wl_elos.csv (8127 rows)\u001b[0m\n"
     ]
    },
    {
     "data": {
      "text/plain": [
       "<src.data_processing.feature_manager.FeatureManager at 0x207b7714bf0>"
      ]
     },
     "execution_count": 3,
     "metadata": {},
     "output_type": "execute_result"
    }
   ],
   "source": [
    "from src.data_processing.feature_manager import FeatureManager\n",
    "from src.feature_engineering.get_elo_params import set_elo_params\n",
    "\n",
    "feature_sets = {}\n",
    "\n",
    "# Parameters per feature module\n",
    "base_features_params = {}\n",
    "elo_params = {\"d_params\": set_elo_params()}  # provide Elo parameters\n",
    "wl_elos_params = {\"which_K\": \"log\"}\n",
    "\n",
    "# Choose final feature sets\n",
    "feature_sets[\"base_features\"] = base_features_params\n",
    "feature_sets[\"elo_params\"] = elo_params\n",
    "feature_sets[\"wl_elos\"] = wl_elos_params\n",
    "\n",
    "# Create feature sets (writes CSVs under data/features/)\n",
    "# overwrite_all = True disabled in light version. \n",
    "FeatureManager(feature_sets, overwrite_all=False)"
   ]
  },
  {
   "cell_type": "markdown",
   "id": "eaecd61f",
   "metadata": {},
   "source": [
    "Expected outputs under `data/features/`: one CSV per enabled set, e.g., `base_features.csv`, `elo_params.csv`, `wl_elos.csv`, etc.\n",
    "\n",
    "---\n",
    "\n",
    "## 3) Creating training set, validation set and data-to-predict (TrainValPred) and further processing\n",
    "\n",
    "+ Key module: `src/model_selection/trainvalpred.py`\n",
    "- Class: `TrainValPred(feature_sets=None)`\n",
    "\n",
    "### 3.1 Creating the training and validation data\n",
    "+ Training data is created by merging feature sets and splitting off the validation data  \n",
    "+ To validate the model on relevant data, we split the validation set based on recency, either by \n",
    "last `last_years` years, or the most recent `sample_size` (proportion) of the data. The value that represents the smallest portion of the data takes precedence! When based `sample_size`, you can choose to randomly sample them from the last `last_years` of fights by setting `if_on_size_then_randomly=True` (Default False). \n",
    "+ When   \n",
    "+ The snippet below creates files `interim/chosen_features_merged`, `processed/train.csv` and `procssed/valid.csv`, +"
   ]
  },
  {
   "cell_type": "code",
   "execution_count": 4,
   "id": "6911458f",
   "metadata": {},
   "outputs": [
    {
     "name": "stderr",
     "output_type": "stream",
     "text": [
      "\u001b[32m2025-10-22 19:32:09.031\u001b[0m | \u001b[1mINFO    \u001b[0m | \u001b[36msrc.model_selection.trainvalpred\u001b[0m:\u001b[36mmerge_features\u001b[0m:\u001b[36m76\u001b[0m - \u001b[1mMerging features...\u001b[0m\n",
      "\u001b[32m2025-10-22 19:32:09.350\u001b[0m | \u001b[34m\u001b[1mDEBUG   \u001b[0m | \u001b[36msrc.utils.general\u001b[0m:\u001b[36mopen_csv\u001b[0m:\u001b[36m108\u001b[0m - \u001b[34m\u001b[1mLoaded CSV: c:\\Users\\OAVAI\\Desktop\\mma - Copy\\mma_light\\data\\features\\base_features.csv (8127 rows)\u001b[0m\n",
      "\u001b[32m2025-10-22 19:32:09.386\u001b[0m | \u001b[34m\u001b[1mDEBUG   \u001b[0m | \u001b[36msrc.utils.general\u001b[0m:\u001b[36mopen_csv\u001b[0m:\u001b[36m108\u001b[0m - \u001b[34m\u001b[1mLoaded CSV: c:\\Users\\OAVAI\\Desktop\\mma - Copy\\mma_light\\data\\features\\elo_params.csv (8127 rows)\u001b[0m\n",
      "\u001b[32m2025-10-22 19:32:09.398\u001b[0m | \u001b[34m\u001b[1mDEBUG   \u001b[0m | \u001b[36msrc.utils.general\u001b[0m:\u001b[36mopen_csv\u001b[0m:\u001b[36m108\u001b[0m - \u001b[34m\u001b[1mLoaded CSV: c:\\Users\\OAVAI\\Desktop\\mma - Copy\\mma_light\\data\\features\\wl_elos.csv (8127 rows)\u001b[0m\n",
      "\u001b[32m2025-10-22 19:32:09.757\u001b[0m | \u001b[34m\u001b[1mDEBUG   \u001b[0m | \u001b[36msrc.utils.general\u001b[0m:\u001b[36mstore_csv\u001b[0m:\u001b[36m145\u001b[0m - \u001b[34m\u001b[1mSaved CSV: c:\\Users\\OAVAI\\Desktop\\mma - Copy\\mma_light\\data\\interim\\chosen_features_merged.csv (8127 rows)\u001b[0m\n",
      "\u001b[32m2025-10-22 19:32:09.868\u001b[0m | \u001b[1mINFO    \u001b[0m | \u001b[36msrc.model_selection.trainvalpred\u001b[0m:\u001b[36m_do_merge_features\u001b[0m:\u001b[36m136\u001b[0m - \u001b[1mFeatures merged.\u001b[0m\n",
      "\u001b[32m2025-10-22 19:32:09.914\u001b[0m | \u001b[1mINFO    \u001b[0m | \u001b[36msrc.data_processing.feature_manager\u001b[0m:\u001b[36m__init__\u001b[0m:\u001b[36m50\u001b[0m - \u001b[1mOpening merged feature set\u001b[0m\n",
      "\u001b[32m2025-10-22 19:32:09.994\u001b[0m | \u001b[34m\u001b[1mDEBUG   \u001b[0m | \u001b[36msrc.utils.general\u001b[0m:\u001b[36mopen_csv\u001b[0m:\u001b[36m108\u001b[0m - \u001b[34m\u001b[1mLoaded CSV: c:\\Users\\OAVAI\\Desktop\\mma - Copy\\mma_light\\data\\interim\\chosen_features_merged.csv (8127 rows)\u001b[0m\n",
      "\u001b[32m2025-10-22 19:32:09.998\u001b[0m | \u001b[34m\u001b[1mDEBUG   \u001b[0m | \u001b[36msrc.utils.general\u001b[0m:\u001b[36mcreaopen_file\u001b[0m:\u001b[36m169\u001b[0m - \u001b[34m\u001b[1mFile doesn't exist, returning empty DataFrame: c:\\Users\\OAVAI\\Desktop\\mma - Copy\\mma_light\\data\\interim\\pred_clean\u001b[0m\n",
      "\u001b[32m2025-10-22 19:32:10.010\u001b[0m | \u001b[1mINFO    \u001b[0m | \u001b[36msrc.model_selection.trainvalpred\u001b[0m:\u001b[36m_do_split_trainval\u001b[0m:\u001b[36m367\u001b[0m - \u001b[1mValidation set contains last 1.6 years of fights, representing 10% of data.\u001b[0m\n",
      "\u001b[32m2025-10-22 19:32:10.079\u001b[0m | \u001b[34m\u001b[1mDEBUG   \u001b[0m | \u001b[36msrc.utils.general\u001b[0m:\u001b[36mstore_csv\u001b[0m:\u001b[36m145\u001b[0m - \u001b[34m\u001b[1mSaved CSV: c:\\Users\\OAVAI\\Desktop\\mma - Copy\\mma_light\\data\\interim\\valid_names.csv (1604 rows)\u001b[0m\n",
      "\u001b[32m2025-10-22 19:32:10.112\u001b[0m | \u001b[34m\u001b[1mDEBUG   \u001b[0m | \u001b[36msrc.utils.general\u001b[0m:\u001b[36mstore_csv\u001b[0m:\u001b[36m145\u001b[0m - \u001b[34m\u001b[1mSaved CSV: c:\\Users\\OAVAI\\Desktop\\mma - Copy\\mma_light\\data\\interim\\train_names.csv (14434 rows)\u001b[0m\n",
      "\u001b[32m2025-10-22 19:32:10.748\u001b[0m | \u001b[34m\u001b[1mDEBUG   \u001b[0m | \u001b[36msrc.utils.general\u001b[0m:\u001b[36mstore_csv\u001b[0m:\u001b[36m145\u001b[0m - \u001b[34m\u001b[1mSaved CSV: c:\\Users\\OAVAI\\Desktop\\mma - Copy\\mma_light\\data\\processed\\train.csv (14434 rows)\u001b[0m\n",
      "\u001b[32m2025-10-22 19:32:10.836\u001b[0m | \u001b[34m\u001b[1mDEBUG   \u001b[0m | \u001b[36msrc.utils.general\u001b[0m:\u001b[36mstore_csv\u001b[0m:\u001b[36m145\u001b[0m - \u001b[34m\u001b[1mSaved CSV: c:\\Users\\OAVAI\\Desktop\\mma - Copy\\mma_light\\data\\processed\\valid.csv (1604 rows)\u001b[0m\n"
     ]
    }
   ],
   "source": [
    "from src.model_selection.trainvalpred import TrainValPred\n",
    "\n",
    "TVP = TrainValPred(feature_sets)\n",
    "\n",
    "# Merge all selected feature sets\n",
    "TVP.merge_features(overwrite_feature_sets=False)\n",
    "\n",
    "# Choose validation partition (recent years and sample fraction; smallest takes precedence)\n",
    "last_years = 3\n",
    "sample_size = 0.1\n",
    "\n",
    "TVP.split_trainval(last_years=last_years, \n",
    "                   sample_size=sample_size, \n",
    "                   if_on_size_then_randomly = False\n",
    ")"
   ]
  },
  {
   "cell_type": "markdown",
   "id": "b14635de",
   "metadata": {},
   "source": [
    "Expected outputs:\n",
    "- `data/interim/chosen_features_merged.csv`\n",
    "- `data/processed/train.csv`\n",
    "- `data/processed/valid.csv`\n",
    "- `data/interim/train_names.csv` and `data/interim/valid_names.csv`\n",
    "\n",
    "### 3.2 Scraping, cleaning and processing features for data-to-predict. \n",
    "\n",
    "- The snippet below runs the entire prediction data pipeline from scraping `ufcstats.com`'s upcoming event data to creating all the features. \n",
    "- Creates files: `raw/pred_raw.csv`, `interim/pred_clean`, `processed/pred.csv`, +1\n",
    "- Tip: rerun this snippet if any bouts get cancelled/replaced.s"
   ]
  },
  {
   "cell_type": "code",
   "execution_count": null,
   "id": "1d3f8e0f",
   "metadata": {},
   "outputs": [],
   "source": [
    "from src.data_processing.scrape_pred import scrape_pred\n",
    "from src.data_processing.clean_pred import clean_pred\n",
    "\n",
    "# Disabled in light version, will be uploaded separately. \n",
    "# TVP.construct_pred(scrape_and_clean=True)"
   ]
  },
  {
   "cell_type": "markdown",
   "id": "a85cd607",
   "metadata": {},
   "source": [
    "Expected outputs:\n",
    "- `data/raw/pred_raw.csv`\n",
    "- `data/interim/pred_clean.csv`\n",
    "- `data/processed/pred.csv`\n",
    "- `data/interim/pred_names.csv`\n",
    "\n",
    "### 3.3 Optional further feature processing\n",
    "\n",
    "There are now basically three options: \n",
    "1. No further processing and go straight to training (`suffix = \"natty\"`) \n",
    "2. Make (anti-)symmetric feature pairs. Let $f_1$ be a feature for fighter 1 and let $f_2$ be the corresponding feature for fighter 2. Then $$f_1 \\rightarrow \\frac{1}{\\sqrt{2}}(f_1 + f_2)$$ $$f_2 \\rightarrow \\frac{1}{\\sqrt{2}}(f_1 - f_2)$$ and leave shared features be. In this case, set `suffix = \"symm\"`. \n",
    "3. Do a Singular Value Decompostion(SVD) on the data `suffix = \"svd\"` and transform to the Schmidt basis. \n",
    "\n",
    "Notes \n",
    "- The SVD path first standardizes the data and also makes (anti-)symmetric pairs. However, in contrast to `symmetrize(for_svd = False)`, one-hot encoded features will not be transformed to flags. This is done because one-hot encoded features could be favorable for the SVD, but otherwise waste xgb splits. \n",
    "- Ceates datasets `processed/train_{suffix}`, `processed/valid_{suffix}`, `processed/pred_{suffix}`"
   ]
  },
  {
   "cell_type": "code",
   "execution_count": 5,
   "id": "afbd2a2b",
   "metadata": {},
   "outputs": [
    {
     "name": "stderr",
     "output_type": "stream",
     "text": [
      "\u001b[32m2025-10-22 19:32:17.202\u001b[0m | \u001b[34m\u001b[1mDEBUG   \u001b[0m | \u001b[36msrc.utils.general\u001b[0m:\u001b[36mopen_csv\u001b[0m:\u001b[36m108\u001b[0m - \u001b[34m\u001b[1mLoaded CSV: c:\\Users\\OAVAI\\Desktop\\mma - Copy\\mma_light\\data\\processed\\train.csv (14434 rows)\u001b[0m\n",
      "\u001b[32m2025-10-22 19:32:17.228\u001b[0m | \u001b[34m\u001b[1mDEBUG   \u001b[0m | \u001b[36msrc.utils.general\u001b[0m:\u001b[36mopen_csv\u001b[0m:\u001b[36m108\u001b[0m - \u001b[34m\u001b[1mLoaded CSV: c:\\Users\\OAVAI\\Desktop\\mma - Copy\\mma_light\\data\\processed\\valid.csv (1604 rows)\u001b[0m\n",
      "\u001b[32m2025-10-22 19:32:17.236\u001b[0m | \u001b[34m\u001b[1mDEBUG   \u001b[0m | \u001b[36msrc.utils.general\u001b[0m:\u001b[36mopen_csv\u001b[0m:\u001b[36m108\u001b[0m - \u001b[34m\u001b[1mLoaded CSV: c:\\Users\\OAVAI\\Desktop\\mma - Copy\\mma_light\\data\\processed\\pred.csv (28 rows)\u001b[0m\n",
      "\u001b[32m2025-10-22 19:32:17.814\u001b[0m | \u001b[34m\u001b[1mDEBUG   \u001b[0m | \u001b[36msrc.utils.general\u001b[0m:\u001b[36mstore_csv\u001b[0m:\u001b[36m145\u001b[0m - \u001b[34m\u001b[1mSaved CSV: c:\\Users\\OAVAI\\Desktop\\mma - Copy\\mma_light\\data\\processed\\train_natty.csv (14434 rows)\u001b[0m\n",
      "\u001b[32m2025-10-22 19:32:17.880\u001b[0m | \u001b[34m\u001b[1mDEBUG   \u001b[0m | \u001b[36msrc.utils.general\u001b[0m:\u001b[36mstore_csv\u001b[0m:\u001b[36m145\u001b[0m - \u001b[34m\u001b[1mSaved CSV: c:\\Users\\OAVAI\\Desktop\\mma - Copy\\mma_light\\data\\processed\\valid_natty.csv (1604 rows)\u001b[0m\n",
      "\u001b[32m2025-10-22 19:32:17.889\u001b[0m | \u001b[34m\u001b[1mDEBUG   \u001b[0m | \u001b[36msrc.utils.general\u001b[0m:\u001b[36mstore_csv\u001b[0m:\u001b[36m145\u001b[0m - \u001b[34m\u001b[1mSaved CSV: c:\\Users\\OAVAI\\Desktop\\mma - Copy\\mma_light\\data\\processed\\pred_natty.csv (28 rows)\u001b[0m\n"
     ]
    }
   ],
   "source": [
    "suffix = 'natty' # 'symm', 'svd', or 'natty'\n",
    "\n",
    "if suffix == 'symm': \n",
    "    TVP.symmetrize(for_svd = False) \n",
    "\n",
    "elif suffix == 'svd':\n",
    "    # Because you probably wanna check where you truncate,\n",
    "    # you may have to run the SVD twice. \n",
    "    # TVP.svd(k = 10e6, plot_sv = True)\n",
    "    \n",
    "    TVP.do_svd(k=204)  \n",
    "elif suffix == 'natty': \n",
    "    TVP.go_natty() "
   ]
  },
  {
   "cell_type": "markdown",
   "metadata": {},
   "source": [
    "## 4) Training and predictions\n",
    "\n",
    "### 4.1 Hyperparameter optimization (Optuna)"
   ]
  },
  {
   "cell_type": "code",
   "execution_count": null,
   "metadata": {},
   "outputs": [],
   "source": [
    "from src.model_selection.cv_main import CVMain  \n",
    "\n",
    "CV = CVMain(suffix) \n",
    "\n",
    "# Optionally, change default parameters (at any point in the pipeline)\n",
    "valid_params = { \n",
    "    'vv_size': 0, \n",
    "    'vv_seed': 34, \n",
    "    'vv_random_split': False\n",
    "}\n",
    "cv_params = { \n",
    "    'n_repeats': 1,\n",
    "    'n_folds': 5, \n",
    "    'fold_seed': 42\n",
    "} \n",
    "# Chose either tuple or fixed value \n",
    "hyper_params = { \n",
    "    \"max_depth\": 5,\n",
    "    \"learning_rate\": (0.02, 0.7),\n",
    "    \"n_estimators\": (300,600),\n",
    "    \"min_child_weight\": (0, 40),\n",
    "    \"gamma\": (0, 2.5),\n",
    "    \"subsample\": (0.7, 0.85),\n",
    "    \"colsample_bytree\": 1,\n",
    "    # Optional regularization\n",
    "    \"reg_alpha\": 0.0,\n",
    "    \"reg_lambda\": 1.0\n",
    "}\n",
    "CV.set_valid_params(valid_params) \n",
    "CV.set_cv_params(cv_params)\n",
    "CV.set_hyper_params(hyper_params)\n",
    "\n",
    "# Initial training \n",
    "CV.optimize(n_trials = 20)"
   ]
  },
  {
   "cell_type": "markdown",
   "metadata": {},
   "source": [
    "### 4.2 Feature selection and re-training \n",
    "\n",
    "+ The following code snippet automatically selects the best hyperparameters from the output metrics file and starts feature selection. It outputs file `output/feature_selection/feature_frequency`.\n",
    "+ After ranking all features by their importance and counting how many times they it starts optimizing hyperparameters again but this time also varying over a range of the k_selected-th most important features.\n",
    "+ Because during HPO xgb random_state is fixed, we can set `rndstate_stability_check=True` to measure the stability of the model over different seeds. It will take the `top_n` parameter combinations with the best metrics and does `n_repeats` of cross validation, where inside each fold a different random seed is chosen. The seeds-averaged metrics will be stored in `data/output/metrics/{suffix}_stability_check.csv` and the best ones are automatically retrieved for further feature selection.\n",
    "+ Please note, re-training varies over the parameter ranges (+/- 20%) from the top 20 best metrics. This overrides the `hyper_params`! You can therefore iteratively re-train and still improve without having to set hyperparameters manually. "
   ]
  },
  {
   "cell_type": "code",
   "execution_count": 9,
   "id": "2eab3193",
   "metadata": {},
   "outputs": [
    {
     "name": "stderr",
     "output_type": "stream",
     "text": [
      "\u001b[32m2025-10-22 19:45:49.401\u001b[0m | \u001b[34m\u001b[1mDEBUG   \u001b[0m | \u001b[36msrc.utils.general\u001b[0m:\u001b[36mopen_csv\u001b[0m:\u001b[36m108\u001b[0m - \u001b[34m\u001b[1mLoaded CSV: c:\\Users\\OAVAI\\Desktop\\mma - Copy\\mma_light\\data\\processed\\train_natty.csv (14434 rows)\u001b[0m\n",
      "\u001b[32m2025-10-22 19:45:49.423\u001b[0m | \u001b[1mINFO    \u001b[0m | \u001b[36msrc.model_selection.trainvalpred\u001b[0m:\u001b[36mget_folds\u001b[0m:\u001b[36m471\u001b[0m - \u001b[1mCreated 1 unique 5-folds\u001b[0m\n",
      "\u001b[32m2025-10-22 19:45:49.423\u001b[0m | \u001b[1mINFO    \u001b[0m | \u001b[36msrc.model_selection.trainvalpred\u001b[0m:\u001b[36mget_folds\u001b[0m:\u001b[36m471\u001b[0m - \u001b[1mCreated 1 unique 5-folds\u001b[0m\n",
      "\u001b[32m2025-10-22 19:45:49.426\u001b[0m | \u001b[1mINFO    \u001b[0m | \u001b[36msrc.model_selection.cv_dataloader\u001b[0m:\u001b[36m_load_train\u001b[0m:\u001b[36m30\u001b[0m - \u001b[1mNumber of features: 87\u001b[0m\n",
      "\u001b[32m2025-10-22 19:45:49.442\u001b[0m | \u001b[34m\u001b[1mDEBUG   \u001b[0m | \u001b[36msrc.utils.general\u001b[0m:\u001b[36mopen_csv\u001b[0m:\u001b[36m108\u001b[0m - \u001b[34m\u001b[1mLoaded CSV: c:\\Users\\OAVAI\\Desktop\\mma - Copy\\mma_light\\data\\processed\\valid_natty.csv (1604 rows)\u001b[0m\n",
      "[I 2025-10-22 19:45:49,444] A new study created in memory with name: xgb_natty_1761155149\n",
      "\u001b[32m2025-10-22 19:45:49.444\u001b[0m | \u001b[1mINFO    \u001b[0m | \u001b[36msrc.model_selection.cv_main\u001b[0m:\u001b[36m_objective\u001b[0m:\u001b[36m602\u001b[0m - \u001b[1mFound attribute \"feature_params\". Assuming re-training with reduced features.\u001b[0m\n",
      "\u001b[32m2025-10-22 19:45:49.448\u001b[0m | \u001b[34m\u001b[1mDEBUG   \u001b[0m | \u001b[36msrc.utils.general\u001b[0m:\u001b[36mopen_csv\u001b[0m:\u001b[36m108\u001b[0m - \u001b[34m\u001b[1mLoaded CSV: c:\\Users\\OAVAI\\Desktop\\mma - Copy\\mma_light\\data\\output\\metrics\\natty_metrics.csv (82 rows)\u001b[0m\n",
      "\u001b[32m2025-10-22 19:45:49.451\u001b[0m | \u001b[34m\u001b[1mDEBUG   \u001b[0m | \u001b[36msrc.utils.general\u001b[0m:\u001b[36mopen_csv\u001b[0m:\u001b[36m108\u001b[0m - \u001b[34m\u001b[1mLoaded CSV: c:\\Users\\OAVAI\\Desktop\\mma - Copy\\mma_light\\data\\output\\feature_selection\\natty_feature_frequency.csv (87 rows)\u001b[0m\n",
      "\u001b[32m2025-10-22 19:45:49.452\u001b[0m | \u001b[1mINFO    \u001b[0m | \u001b[36msrc.model_selection.cv_main\u001b[0m:\u001b[36m_cross_validate\u001b[0m:\u001b[36m476\u001b[0m - \u001b[1mSelected top 64 features for CV: 64\u001b[0m\n",
      "\u001b[32m2025-10-22 19:45:49.455\u001b[0m | \u001b[1mINFO    \u001b[0m | \u001b[36msrc.model_selection.cv_main\u001b[0m:\u001b[36m_cross_validate\u001b[0m:\u001b[36m502\u001b[0m - \u001b[1mStarting CV for {'max_depth': 3, 'learning_rate': 0.0627, 'n_estimators': 792, 'min_child_weight': 36.405, 'gamma': 0.806, 'subsample': 0.3924, 'colsample_bytree': 0.6452, 'reg_alpha': 0.0, 'reg_lambda': 1.6513, 'top_k_feats': 64}\u001b[0m\n",
      "\u001b[32m2025-10-22 19:45:50.929\u001b[0m | \u001b[1mINFO    \u001b[0m | \u001b[36msrc.model_selection.cv_main\u001b[0m:\u001b[36m_cross_validate\u001b[0m:\u001b[36m532\u001b[0m - \u001b[1mRepeat 1/1, fold 1/5 complete.\u001b[0m\n",
      "\u001b[32m2025-10-22 19:45:53.447\u001b[0m | \u001b[1mINFO    \u001b[0m | \u001b[36msrc.model_selection.cv_main\u001b[0m:\u001b[36m_cross_validate\u001b[0m:\u001b[36m532\u001b[0m - \u001b[1mRepeat 1/1, fold 2/5 complete.\u001b[0m\n",
      "\u001b[32m2025-10-22 19:45:54.885\u001b[0m | \u001b[1mINFO    \u001b[0m | \u001b[36msrc.model_selection.cv_main\u001b[0m:\u001b[36m_cross_validate\u001b[0m:\u001b[36m532\u001b[0m - \u001b[1mRepeat 1/1, fold 3/5 complete.\u001b[0m\n",
      "\u001b[32m2025-10-22 19:45:56.200\u001b[0m | \u001b[1mINFO    \u001b[0m | \u001b[36msrc.model_selection.cv_main\u001b[0m:\u001b[36m_cross_validate\u001b[0m:\u001b[36m532\u001b[0m - \u001b[1mRepeat 1/1, fold 4/5 complete.\u001b[0m\n",
      "\u001b[32m2025-10-22 19:45:58.357\u001b[0m | \u001b[1mINFO    \u001b[0m | \u001b[36msrc.model_selection.cv_main\u001b[0m:\u001b[36m_cross_validate\u001b[0m:\u001b[36m532\u001b[0m - \u001b[1mRepeat 1/1, fold 5/5 complete.\u001b[0m\n",
      "\u001b[32m2025-10-22 19:45:58.359\u001b[0m | \u001b[1mINFO    \u001b[0m | \u001b[36msrc.model_selection.cv_main\u001b[0m:\u001b[36m_cross_validate\u001b[0m:\u001b[36m548\u001b[0m - \u001b[1mAccuracy on valid_train: 0.626875\u001b[0m\n",
      "\u001b[32m2025-10-22 19:45:58.364\u001b[0m | \u001b[34m\u001b[1mDEBUG   \u001b[0m | \u001b[36msrc.utils.general\u001b[0m:\u001b[36mopen_csv\u001b[0m:\u001b[36m108\u001b[0m - \u001b[34m\u001b[1mLoaded CSV: c:\\Users\\OAVAI\\Desktop\\mma - Copy\\mma_light\\data\\output\\metrics\\natty_metrics.csv (82 rows)\u001b[0m\n",
      "\u001b[32m2025-10-22 19:45:58.373\u001b[0m | \u001b[34m\u001b[1mDEBUG   \u001b[0m | \u001b[36msrc.utils.general\u001b[0m:\u001b[36mstore_csv\u001b[0m:\u001b[36m145\u001b[0m - \u001b[34m\u001b[1mSaved CSV: c:\\Users\\OAVAI\\Desktop\\mma - Copy\\mma_light\\data\\output\\metrics\\natty_metrics.csv (83 rows)\u001b[0m\n",
      "[I 2025-10-22 19:46:00,878] Trial 0 finished with value: 1.66208918 and parameters: {'max_depth': 3, 'learning_rate': 0.06269550772704971, 'n_estimators': 792, 'min_child_weight': 36.40498518553965, 'gamma': 0.8060336502504175, 'subsample': 0.3923810423557708, 'colsample_bytree': 0.6451809115939087, 'reg_lambda': 1.6512988124034798, 'top_k_feats': 64}. Best is trial 0 with value: 1.66208918.\n",
      "\u001b[32m2025-10-22 19:46:00.879\u001b[0m | \u001b[1mINFO    \u001b[0m | \u001b[36msrc.model_selection.cv_main\u001b[0m:\u001b[36m_objective\u001b[0m:\u001b[36m602\u001b[0m - \u001b[1mFound attribute \"feature_params\". Assuming re-training with reduced features.\u001b[0m\n",
      "\u001b[32m2025-10-22 19:46:00.895\u001b[0m | \u001b[34m\u001b[1mDEBUG   \u001b[0m | \u001b[36msrc.utils.general\u001b[0m:\u001b[36mopen_csv\u001b[0m:\u001b[36m108\u001b[0m - \u001b[34m\u001b[1mLoaded CSV: c:\\Users\\OAVAI\\Desktop\\mma - Copy\\mma_light\\data\\output\\metrics\\natty_metrics.csv (83 rows)\u001b[0m\n",
      "\u001b[32m2025-10-22 19:46:00.898\u001b[0m | \u001b[34m\u001b[1mDEBUG   \u001b[0m | \u001b[36msrc.utils.general\u001b[0m:\u001b[36mopen_csv\u001b[0m:\u001b[36m108\u001b[0m - \u001b[34m\u001b[1mLoaded CSV: c:\\Users\\OAVAI\\Desktop\\mma - Copy\\mma_light\\data\\output\\feature_selection\\natty_feature_frequency.csv (87 rows)\u001b[0m\n",
      "\u001b[32m2025-10-22 19:46:00.900\u001b[0m | \u001b[1mINFO    \u001b[0m | \u001b[36msrc.model_selection.cv_main\u001b[0m:\u001b[36m_cross_validate\u001b[0m:\u001b[36m476\u001b[0m - \u001b[1mSelected top 60 features for CV: 60\u001b[0m\n",
      "\u001b[32m2025-10-22 19:46:00.903\u001b[0m | \u001b[1mINFO    \u001b[0m | \u001b[36msrc.model_selection.cv_main\u001b[0m:\u001b[36m_cross_validate\u001b[0m:\u001b[36m502\u001b[0m - \u001b[1mStarting CV for {'max_depth': 5, 'learning_rate': 0.0229, 'n_estimators': 932, 'min_child_weight': 44.9796, 'gamma': 0.9818, 'subsample': 0.408, 'colsample_bytree': 0.6924, 'reg_alpha': 0.0, 'reg_lambda': 0.8729, 'top_k_feats': 60}\u001b[0m\n",
      "\u001b[32m2025-10-22 19:46:04.675\u001b[0m | \u001b[1mINFO    \u001b[0m | \u001b[36msrc.model_selection.cv_main\u001b[0m:\u001b[36m_cross_validate\u001b[0m:\u001b[36m532\u001b[0m - \u001b[1mRepeat 1/1, fold 1/5 complete.\u001b[0m\n",
      "\u001b[32m2025-10-22 19:46:09.706\u001b[0m | \u001b[1mINFO    \u001b[0m | \u001b[36msrc.model_selection.cv_main\u001b[0m:\u001b[36m_cross_validate\u001b[0m:\u001b[36m532\u001b[0m - \u001b[1mRepeat 1/1, fold 2/5 complete.\u001b[0m\n",
      "\u001b[32m2025-10-22 19:46:13.251\u001b[0m | \u001b[1mINFO    \u001b[0m | \u001b[36msrc.model_selection.cv_main\u001b[0m:\u001b[36m_cross_validate\u001b[0m:\u001b[36m532\u001b[0m - \u001b[1mRepeat 1/1, fold 3/5 complete.\u001b[0m\n",
      "\u001b[32m2025-10-22 19:46:17.028\u001b[0m | \u001b[1mINFO    \u001b[0m | \u001b[36msrc.model_selection.cv_main\u001b[0m:\u001b[36m_cross_validate\u001b[0m:\u001b[36m532\u001b[0m - \u001b[1mRepeat 1/1, fold 4/5 complete.\u001b[0m\n",
      "\u001b[32m2025-10-22 19:46:21.174\u001b[0m | \u001b[1mINFO    \u001b[0m | \u001b[36msrc.model_selection.cv_main\u001b[0m:\u001b[36m_cross_validate\u001b[0m:\u001b[36m532\u001b[0m - \u001b[1mRepeat 1/1, fold 5/5 complete.\u001b[0m\n",
      "\u001b[32m2025-10-22 19:46:21.176\u001b[0m | \u001b[1mINFO    \u001b[0m | \u001b[36msrc.model_selection.cv_main\u001b[0m:\u001b[36m_cross_validate\u001b[0m:\u001b[36m548\u001b[0m - \u001b[1mAccuracy on valid_train: 0.630375\u001b[0m\n",
      "\u001b[32m2025-10-22 19:46:21.180\u001b[0m | \u001b[34m\u001b[1mDEBUG   \u001b[0m | \u001b[36msrc.utils.general\u001b[0m:\u001b[36mopen_csv\u001b[0m:\u001b[36m108\u001b[0m - \u001b[34m\u001b[1mLoaded CSV: c:\\Users\\OAVAI\\Desktop\\mma - Copy\\mma_light\\data\\output\\metrics\\natty_metrics.csv (83 rows)\u001b[0m\n",
      "\u001b[32m2025-10-22 19:46:21.189\u001b[0m | \u001b[34m\u001b[1mDEBUG   \u001b[0m | \u001b[36msrc.utils.general\u001b[0m:\u001b[36mstore_csv\u001b[0m:\u001b[36m145\u001b[0m - \u001b[34m\u001b[1mSaved CSV: c:\\Users\\OAVAI\\Desktop\\mma - Copy\\mma_light\\data\\output\\metrics\\natty_metrics.csv (84 rows)\u001b[0m\n",
      "[I 2025-10-22 19:46:23,694] Trial 1 finished with value: 1.66310675 and parameters: {'max_depth': 5, 'learning_rate': 0.022888429663305197, 'n_estimators': 932, 'min_child_weight': 44.97963425428382, 'gamma': 0.9818072420591174, 'subsample': 0.4079671012534426, 'colsample_bytree': 0.6923891853317347, 'reg_lambda': 0.8729083558696357, 'top_k_feats': 60}. Best is trial 0 with value: 1.66208918.\n",
      "\u001b[32m2025-10-22 19:46:23.695\u001b[0m | \u001b[1mINFO    \u001b[0m | \u001b[36msrc.model_selection.cv_main\u001b[0m:\u001b[36m_objective\u001b[0m:\u001b[36m602\u001b[0m - \u001b[1mFound attribute \"feature_params\". Assuming re-training with reduced features.\u001b[0m\n",
      "\u001b[32m2025-10-22 19:46:23.710\u001b[0m | \u001b[34m\u001b[1mDEBUG   \u001b[0m | \u001b[36msrc.utils.general\u001b[0m:\u001b[36mopen_csv\u001b[0m:\u001b[36m108\u001b[0m - \u001b[34m\u001b[1mLoaded CSV: c:\\Users\\OAVAI\\Desktop\\mma - Copy\\mma_light\\data\\output\\metrics\\natty_metrics.csv (84 rows)\u001b[0m\n",
      "\u001b[32m2025-10-22 19:46:23.715\u001b[0m | \u001b[34m\u001b[1mDEBUG   \u001b[0m | \u001b[36msrc.utils.general\u001b[0m:\u001b[36mopen_csv\u001b[0m:\u001b[36m108\u001b[0m - \u001b[34m\u001b[1mLoaded CSV: c:\\Users\\OAVAI\\Desktop\\mma - Copy\\mma_light\\data\\output\\feature_selection\\natty_feature_frequency.csv (87 rows)\u001b[0m\n",
      "\u001b[32m2025-10-22 19:46:23.716\u001b[0m | \u001b[1mINFO    \u001b[0m | \u001b[36msrc.model_selection.cv_main\u001b[0m:\u001b[36m_cross_validate\u001b[0m:\u001b[36m476\u001b[0m - \u001b[1mSelected top 41 features for CV: 41\u001b[0m\n",
      "\u001b[32m2025-10-22 19:46:23.718\u001b[0m | \u001b[1mINFO    \u001b[0m | \u001b[36msrc.model_selection.cv_main\u001b[0m:\u001b[36m_cross_validate\u001b[0m:\u001b[36m502\u001b[0m - \u001b[1mStarting CV for {'max_depth': 4, 'learning_rate': 0.0345, 'n_estimators': 721, 'min_child_weight': 19.5639, 'gamma': 1.2309, 'subsample': 0.5193, 'colsample_bytree': 0.7951, 'reg_alpha': 0.0, 'reg_lambda': 1.5391, 'top_k_feats': 41}\u001b[0m\n",
      "\u001b[32m2025-10-22 19:46:25.739\u001b[0m | \u001b[1mINFO    \u001b[0m | \u001b[36msrc.model_selection.cv_main\u001b[0m:\u001b[36m_cross_validate\u001b[0m:\u001b[36m532\u001b[0m - \u001b[1mRepeat 1/1, fold 1/5 complete.\u001b[0m\n",
      "\u001b[32m2025-10-22 19:46:27.878\u001b[0m | \u001b[1mINFO    \u001b[0m | \u001b[36msrc.model_selection.cv_main\u001b[0m:\u001b[36m_cross_validate\u001b[0m:\u001b[36m532\u001b[0m - \u001b[1mRepeat 1/1, fold 2/5 complete.\u001b[0m\n",
      "\u001b[32m2025-10-22 19:46:29.609\u001b[0m | \u001b[1mINFO    \u001b[0m | \u001b[36msrc.model_selection.cv_main\u001b[0m:\u001b[36m_cross_validate\u001b[0m:\u001b[36m532\u001b[0m - \u001b[1mRepeat 1/1, fold 3/5 complete.\u001b[0m\n",
      "\u001b[32m2025-10-22 19:46:31.514\u001b[0m | \u001b[1mINFO    \u001b[0m | \u001b[36msrc.model_selection.cv_main\u001b[0m:\u001b[36m_cross_validate\u001b[0m:\u001b[36m532\u001b[0m - \u001b[1mRepeat 1/1, fold 4/5 complete.\u001b[0m\n",
      "\u001b[32m2025-10-22 19:46:33.385\u001b[0m | \u001b[1mINFO    \u001b[0m | \u001b[36msrc.model_selection.cv_main\u001b[0m:\u001b[36m_cross_validate\u001b[0m:\u001b[36m532\u001b[0m - \u001b[1mRepeat 1/1, fold 5/5 complete.\u001b[0m\n",
      "\u001b[32m2025-10-22 19:46:33.386\u001b[0m | \u001b[1mINFO    \u001b[0m | \u001b[36msrc.model_selection.cv_main\u001b[0m:\u001b[36m_cross_validate\u001b[0m:\u001b[36m548\u001b[0m - \u001b[1mAccuracy on valid_train: 0.640625\u001b[0m\n",
      "\u001b[32m2025-10-22 19:46:33.391\u001b[0m | \u001b[34m\u001b[1mDEBUG   \u001b[0m | \u001b[36msrc.utils.general\u001b[0m:\u001b[36mopen_csv\u001b[0m:\u001b[36m108\u001b[0m - \u001b[34m\u001b[1mLoaded CSV: c:\\Users\\OAVAI\\Desktop\\mma - Copy\\mma_light\\data\\output\\metrics\\natty_metrics.csv (84 rows)\u001b[0m\n",
      "\u001b[32m2025-10-22 19:46:33.399\u001b[0m | \u001b[34m\u001b[1mDEBUG   \u001b[0m | \u001b[36msrc.utils.general\u001b[0m:\u001b[36mstore_csv\u001b[0m:\u001b[36m145\u001b[0m - \u001b[34m\u001b[1mSaved CSV: c:\\Users\\OAVAI\\Desktop\\mma - Copy\\mma_light\\data\\output\\metrics\\natty_metrics.csv (85 rows)\u001b[0m\n",
      "[I 2025-10-22 19:46:35,901] Trial 2 finished with value: 1.66249435 and parameters: {'max_depth': 4, 'learning_rate': 0.03447129950216934, 'n_estimators': 721, 'min_child_weight': 19.563914477913478, 'gamma': 1.2308766474919808, 'subsample': 0.5193164183540483, 'colsample_bytree': 0.7951020336305201, 'reg_lambda': 1.5390974125867434, 'top_k_feats': 41}. Best is trial 0 with value: 1.66208918.\n",
      "\u001b[32m2025-10-22 19:46:35.901\u001b[0m | \u001b[1mINFO    \u001b[0m | \u001b[36msrc.model_selection.cv_main\u001b[0m:\u001b[36m_objective\u001b[0m:\u001b[36m602\u001b[0m - \u001b[1mFound attribute \"feature_params\". Assuming re-training with reduced features.\u001b[0m\n",
      "\u001b[32m2025-10-22 19:46:35.910\u001b[0m | \u001b[34m\u001b[1mDEBUG   \u001b[0m | \u001b[36msrc.utils.general\u001b[0m:\u001b[36mopen_csv\u001b[0m:\u001b[36m108\u001b[0m - \u001b[34m\u001b[1mLoaded CSV: c:\\Users\\OAVAI\\Desktop\\mma - Copy\\mma_light\\data\\output\\metrics\\natty_metrics.csv (85 rows)\u001b[0m\n",
      "\u001b[32m2025-10-22 19:46:35.926\u001b[0m | \u001b[34m\u001b[1mDEBUG   \u001b[0m | \u001b[36msrc.utils.general\u001b[0m:\u001b[36mopen_csv\u001b[0m:\u001b[36m108\u001b[0m - \u001b[34m\u001b[1mLoaded CSV: c:\\Users\\OAVAI\\Desktop\\mma - Copy\\mma_light\\data\\output\\feature_selection\\natty_feature_frequency.csv (87 rows)\u001b[0m\n",
      "\u001b[32m2025-10-22 19:46:35.926\u001b[0m | \u001b[1mINFO    \u001b[0m | \u001b[36msrc.model_selection.cv_main\u001b[0m:\u001b[36m_cross_validate\u001b[0m:\u001b[36m476\u001b[0m - \u001b[1mSelected top 76 features for CV: 76\u001b[0m\n",
      "\u001b[32m2025-10-22 19:46:35.926\u001b[0m | \u001b[1mINFO    \u001b[0m | \u001b[36msrc.model_selection.cv_main\u001b[0m:\u001b[36m_cross_validate\u001b[0m:\u001b[36m502\u001b[0m - \u001b[1mStarting CV for {'max_depth': 4, 'learning_rate': 0.0474, 'n_estimators': 389, 'min_child_weight': 36.7309, 'gamma': 0.8513, 'subsample': 0.3375, 'colsample_bytree': 0.9807, 'reg_alpha': 0.0, 'reg_lambda': 1.7891, 'top_k_feats': 76}\u001b[0m\n",
      "\u001b[32m2025-10-22 19:46:38.557\u001b[0m | \u001b[1mINFO    \u001b[0m | \u001b[36msrc.model_selection.cv_main\u001b[0m:\u001b[36m_cross_validate\u001b[0m:\u001b[36m532\u001b[0m - \u001b[1mRepeat 1/1, fold 1/5 complete.\u001b[0m\n",
      "\u001b[32m2025-10-22 19:46:41.271\u001b[0m | \u001b[1mINFO    \u001b[0m | \u001b[36msrc.model_selection.cv_main\u001b[0m:\u001b[36m_cross_validate\u001b[0m:\u001b[36m532\u001b[0m - \u001b[1mRepeat 1/1, fold 2/5 complete.\u001b[0m\n",
      "\u001b[32m2025-10-22 19:46:43.624\u001b[0m | \u001b[1mINFO    \u001b[0m | \u001b[36msrc.model_selection.cv_main\u001b[0m:\u001b[36m_cross_validate\u001b[0m:\u001b[36m532\u001b[0m - \u001b[1mRepeat 1/1, fold 3/5 complete.\u001b[0m\n",
      "\u001b[32m2025-10-22 19:46:46.592\u001b[0m | \u001b[1mINFO    \u001b[0m | \u001b[36msrc.model_selection.cv_main\u001b[0m:\u001b[36m_cross_validate\u001b[0m:\u001b[36m532\u001b[0m - \u001b[1mRepeat 1/1, fold 4/5 complete.\u001b[0m\n",
      "\u001b[32m2025-10-22 19:46:49.365\u001b[0m | \u001b[1mINFO    \u001b[0m | \u001b[36msrc.model_selection.cv_main\u001b[0m:\u001b[36m_cross_validate\u001b[0m:\u001b[36m532\u001b[0m - \u001b[1mRepeat 1/1, fold 5/5 complete.\u001b[0m\n",
      "\u001b[32m2025-10-22 19:46:49.366\u001b[0m | \u001b[1mINFO    \u001b[0m | \u001b[36msrc.model_selection.cv_main\u001b[0m:\u001b[36m_cross_validate\u001b[0m:\u001b[36m548\u001b[0m - \u001b[1mAccuracy on valid_train: 0.631125\u001b[0m\n",
      "\u001b[32m2025-10-22 19:46:49.372\u001b[0m | \u001b[34m\u001b[1mDEBUG   \u001b[0m | \u001b[36msrc.utils.general\u001b[0m:\u001b[36mopen_csv\u001b[0m:\u001b[36m108\u001b[0m - \u001b[34m\u001b[1mLoaded CSV: c:\\Users\\OAVAI\\Desktop\\mma - Copy\\mma_light\\data\\output\\metrics\\natty_metrics.csv (85 rows)\u001b[0m\n",
      "\u001b[32m2025-10-22 19:46:49.381\u001b[0m | \u001b[34m\u001b[1mDEBUG   \u001b[0m | \u001b[36msrc.utils.general\u001b[0m:\u001b[36mstore_csv\u001b[0m:\u001b[36m145\u001b[0m - \u001b[34m\u001b[1mSaved CSV: c:\\Users\\OAVAI\\Desktop\\mma - Copy\\mma_light\\data\\output\\metrics\\natty_metrics.csv (86 rows)\u001b[0m\n",
      "[I 2025-10-22 19:46:51,884] Trial 3 finished with value: 1.66071311 and parameters: {'max_depth': 4, 'learning_rate': 0.047361233481641986, 'n_estimators': 389, 'min_child_weight': 36.73091610262201, 'gamma': 0.8513045949032657, 'subsample': 0.3375061952769484, 'colsample_bytree': 0.9807452261045297, 'reg_lambda': 1.7890650392359708, 'top_k_feats': 76}. Best is trial 3 with value: 1.66071311.\n",
      "\u001b[32m2025-10-22 19:46:51.885\u001b[0m | \u001b[1mINFO    \u001b[0m | \u001b[36msrc.model_selection.cv_main\u001b[0m:\u001b[36m_objective\u001b[0m:\u001b[36m602\u001b[0m - \u001b[1mFound attribute \"feature_params\". Assuming re-training with reduced features.\u001b[0m\n",
      "\u001b[32m2025-10-22 19:46:51.903\u001b[0m | \u001b[34m\u001b[1mDEBUG   \u001b[0m | \u001b[36msrc.utils.general\u001b[0m:\u001b[36mopen_csv\u001b[0m:\u001b[36m108\u001b[0m - \u001b[34m\u001b[1mLoaded CSV: c:\\Users\\OAVAI\\Desktop\\mma - Copy\\mma_light\\data\\output\\metrics\\natty_metrics.csv (86 rows)\u001b[0m\n",
      "\u001b[32m2025-10-22 19:46:51.907\u001b[0m | \u001b[34m\u001b[1mDEBUG   \u001b[0m | \u001b[36msrc.utils.general\u001b[0m:\u001b[36mopen_csv\u001b[0m:\u001b[36m108\u001b[0m - \u001b[34m\u001b[1mLoaded CSV: c:\\Users\\OAVAI\\Desktop\\mma - Copy\\mma_light\\data\\output\\feature_selection\\natty_feature_frequency.csv (87 rows)\u001b[0m\n",
      "\u001b[32m2025-10-22 19:46:51.908\u001b[0m | \u001b[1mINFO    \u001b[0m | \u001b[36msrc.model_selection.cv_main\u001b[0m:\u001b[36m_cross_validate\u001b[0m:\u001b[36m476\u001b[0m - \u001b[1mSelected top 45 features for CV: 45\u001b[0m\n",
      "\u001b[32m2025-10-22 19:46:51.910\u001b[0m | \u001b[1mINFO    \u001b[0m | \u001b[36msrc.model_selection.cv_main\u001b[0m:\u001b[36m_cross_validate\u001b[0m:\u001b[36m502\u001b[0m - \u001b[1mStarting CV for {'max_depth': 3, 'learning_rate': 0.0262, 'n_estimators': 764, 'min_child_weight': 30.5914, 'gamma': 0.7, 'subsample': 0.597, 'colsample_bytree': 0.6363, 'reg_alpha': 0.0, 'reg_lambda': 1.7111, 'top_k_feats': 45}\u001b[0m\n",
      "\u001b[32m2025-10-22 19:46:55.554\u001b[0m | \u001b[1mINFO    \u001b[0m | \u001b[36msrc.model_selection.cv_main\u001b[0m:\u001b[36m_cross_validate\u001b[0m:\u001b[36m532\u001b[0m - \u001b[1mRepeat 1/1, fold 1/5 complete.\u001b[0m\n",
      "\u001b[32m2025-10-22 19:46:58.908\u001b[0m | \u001b[1mINFO    \u001b[0m | \u001b[36msrc.model_selection.cv_main\u001b[0m:\u001b[36m_cross_validate\u001b[0m:\u001b[36m532\u001b[0m - \u001b[1mRepeat 1/1, fold 2/5 complete.\u001b[0m\n",
      "\u001b[32m2025-10-22 19:47:01.080\u001b[0m | \u001b[1mINFO    \u001b[0m | \u001b[36msrc.model_selection.cv_main\u001b[0m:\u001b[36m_cross_validate\u001b[0m:\u001b[36m532\u001b[0m - \u001b[1mRepeat 1/1, fold 3/5 complete.\u001b[0m\n",
      "\u001b[32m2025-10-22 19:47:04.285\u001b[0m | \u001b[1mINFO    \u001b[0m | \u001b[36msrc.model_selection.cv_main\u001b[0m:\u001b[36m_cross_validate\u001b[0m:\u001b[36m532\u001b[0m - \u001b[1mRepeat 1/1, fold 4/5 complete.\u001b[0m\n",
      "\u001b[32m2025-10-22 19:47:08.087\u001b[0m | \u001b[1mINFO    \u001b[0m | \u001b[36msrc.model_selection.cv_main\u001b[0m:\u001b[36m_cross_validate\u001b[0m:\u001b[36m532\u001b[0m - \u001b[1mRepeat 1/1, fold 5/5 complete.\u001b[0m\n",
      "\u001b[32m2025-10-22 19:47:08.089\u001b[0m | \u001b[1mINFO    \u001b[0m | \u001b[36msrc.model_selection.cv_main\u001b[0m:\u001b[36m_cross_validate\u001b[0m:\u001b[36m548\u001b[0m - \u001b[1mAccuracy on valid_train: 0.638625\u001b[0m\n",
      "\u001b[32m2025-10-22 19:47:08.095\u001b[0m | \u001b[34m\u001b[1mDEBUG   \u001b[0m | \u001b[36msrc.utils.general\u001b[0m:\u001b[36mopen_csv\u001b[0m:\u001b[36m108\u001b[0m - \u001b[34m\u001b[1mLoaded CSV: c:\\Users\\OAVAI\\Desktop\\mma - Copy\\mma_light\\data\\output\\metrics\\natty_metrics.csv (86 rows)\u001b[0m\n",
      "\u001b[32m2025-10-22 19:47:08.105\u001b[0m | \u001b[34m\u001b[1mDEBUG   \u001b[0m | \u001b[36msrc.utils.general\u001b[0m:\u001b[36mstore_csv\u001b[0m:\u001b[36m145\u001b[0m - \u001b[34m\u001b[1mSaved CSV: c:\\Users\\OAVAI\\Desktop\\mma - Copy\\mma_light\\data\\output\\metrics\\natty_metrics.csv (87 rows)\u001b[0m\n",
      "[I 2025-10-22 19:47:10,611] Trial 4 finished with value: 1.66056223 and parameters: {'max_depth': 3, 'learning_rate': 0.026187574423102326, 'n_estimators': 764, 'min_child_weight': 30.59136092967534, 'gamma': 0.6999823705291076, 'subsample': 0.5970432663780487, 'colsample_bytree': 0.636254991293837, 'reg_lambda': 1.7110622066263712, 'top_k_feats': 45}. Best is trial 4 with value: 1.66056223.\n",
      "\u001b[32m2025-10-22 19:47:10.611\u001b[0m | \u001b[1mINFO    \u001b[0m | \u001b[36msrc.model_selection.cv_main\u001b[0m:\u001b[36m_objective\u001b[0m:\u001b[36m602\u001b[0m - \u001b[1mFound attribute \"feature_params\". Assuming re-training with reduced features.\u001b[0m\n",
      "\u001b[32m2025-10-22 19:47:10.625\u001b[0m | \u001b[34m\u001b[1mDEBUG   \u001b[0m | \u001b[36msrc.utils.general\u001b[0m:\u001b[36mopen_csv\u001b[0m:\u001b[36m108\u001b[0m - \u001b[34m\u001b[1mLoaded CSV: c:\\Users\\OAVAI\\Desktop\\mma - Copy\\mma_light\\data\\output\\metrics\\natty_metrics.csv (87 rows)\u001b[0m\n",
      "\u001b[32m2025-10-22 19:47:10.631\u001b[0m | \u001b[34m\u001b[1mDEBUG   \u001b[0m | \u001b[36msrc.utils.general\u001b[0m:\u001b[36mopen_csv\u001b[0m:\u001b[36m108\u001b[0m - \u001b[34m\u001b[1mLoaded CSV: c:\\Users\\OAVAI\\Desktop\\mma - Copy\\mma_light\\data\\output\\feature_selection\\natty_feature_frequency.csv (87 rows)\u001b[0m\n",
      "\u001b[32m2025-10-22 19:47:10.632\u001b[0m | \u001b[1mINFO    \u001b[0m | \u001b[36msrc.model_selection.cv_main\u001b[0m:\u001b[36m_cross_validate\u001b[0m:\u001b[36m476\u001b[0m - \u001b[1mSelected top 81 features for CV: 81\u001b[0m\n",
      "\u001b[32m2025-10-22 19:47:10.635\u001b[0m | \u001b[1mINFO    \u001b[0m | \u001b[36msrc.model_selection.cv_main\u001b[0m:\u001b[36m_cross_validate\u001b[0m:\u001b[36m502\u001b[0m - \u001b[1mStarting CV for {'max_depth': 5, 'learning_rate': 0.0353, 'n_estimators': 667, 'min_child_weight': 34.4996, 'gamma': 0.896, 'subsample': 0.8833, 'colsample_bytree': 0.9153, 'reg_alpha': 0.0, 'reg_lambda': 1.7529, 'top_k_feats': 81}\u001b[0m\n",
      "\u001b[32m2025-10-22 19:47:14.196\u001b[0m | \u001b[1mINFO    \u001b[0m | \u001b[36msrc.model_selection.cv_main\u001b[0m:\u001b[36m_cross_validate\u001b[0m:\u001b[36m532\u001b[0m - \u001b[1mRepeat 1/1, fold 1/5 complete.\u001b[0m\n",
      "\u001b[32m2025-10-22 19:47:18.572\u001b[0m | \u001b[1mINFO    \u001b[0m | \u001b[36msrc.model_selection.cv_main\u001b[0m:\u001b[36m_cross_validate\u001b[0m:\u001b[36m532\u001b[0m - \u001b[1mRepeat 1/1, fold 2/5 complete.\u001b[0m\n",
      "\u001b[32m2025-10-22 19:47:21.883\u001b[0m | \u001b[1mINFO    \u001b[0m | \u001b[36msrc.model_selection.cv_main\u001b[0m:\u001b[36m_cross_validate\u001b[0m:\u001b[36m532\u001b[0m - \u001b[1mRepeat 1/1, fold 3/5 complete.\u001b[0m\n",
      "\u001b[32m2025-10-22 19:47:25.479\u001b[0m | \u001b[1mINFO    \u001b[0m | \u001b[36msrc.model_selection.cv_main\u001b[0m:\u001b[36m_cross_validate\u001b[0m:\u001b[36m532\u001b[0m - \u001b[1mRepeat 1/1, fold 4/5 complete.\u001b[0m\n",
      "\u001b[32m2025-10-22 19:47:28.908\u001b[0m | \u001b[1mINFO    \u001b[0m | \u001b[36msrc.model_selection.cv_main\u001b[0m:\u001b[36m_cross_validate\u001b[0m:\u001b[36m532\u001b[0m - \u001b[1mRepeat 1/1, fold 5/5 complete.\u001b[0m\n",
      "\u001b[32m2025-10-22 19:47:28.909\u001b[0m | \u001b[1mINFO    \u001b[0m | \u001b[36msrc.model_selection.cv_main\u001b[0m:\u001b[36m_cross_validate\u001b[0m:\u001b[36m548\u001b[0m - \u001b[1mAccuracy on valid_train: 0.630625\u001b[0m\n",
      "\u001b[32m2025-10-22 19:47:28.914\u001b[0m | \u001b[34m\u001b[1mDEBUG   \u001b[0m | \u001b[36msrc.utils.general\u001b[0m:\u001b[36mopen_csv\u001b[0m:\u001b[36m108\u001b[0m - \u001b[34m\u001b[1mLoaded CSV: c:\\Users\\OAVAI\\Desktop\\mma - Copy\\mma_light\\data\\output\\metrics\\natty_metrics.csv (87 rows)\u001b[0m\n",
      "\u001b[32m2025-10-22 19:47:28.922\u001b[0m | \u001b[34m\u001b[1mDEBUG   \u001b[0m | \u001b[36msrc.utils.general\u001b[0m:\u001b[36mstore_csv\u001b[0m:\u001b[36m145\u001b[0m - \u001b[34m\u001b[1mSaved CSV: c:\\Users\\OAVAI\\Desktop\\mma - Copy\\mma_light\\data\\output\\metrics\\natty_metrics.csv (88 rows)\u001b[0m\n",
      "[I 2025-10-22 19:47:31,427] Trial 5 finished with value: 1.66081397 and parameters: {'max_depth': 5, 'learning_rate': 0.035347871793805885, 'n_estimators': 667, 'min_child_weight': 34.49964808809089, 'gamma': 0.896028900088742, 'subsample': 0.8833002818222859, 'colsample_bytree': 0.9152927291018653, 'reg_lambda': 1.752865498810519, 'top_k_feats': 81}. Best is trial 4 with value: 1.66056223.\n",
      "\u001b[32m2025-10-22 19:47:31.428\u001b[0m | \u001b[1mINFO    \u001b[0m | \u001b[36msrc.model_selection.cv_main\u001b[0m:\u001b[36m_objective\u001b[0m:\u001b[36m602\u001b[0m - \u001b[1mFound attribute \"feature_params\". Assuming re-training with reduced features.\u001b[0m\n",
      "\u001b[32m2025-10-22 19:47:31.444\u001b[0m | \u001b[34m\u001b[1mDEBUG   \u001b[0m | \u001b[36msrc.utils.general\u001b[0m:\u001b[36mopen_csv\u001b[0m:\u001b[36m108\u001b[0m - \u001b[34m\u001b[1mLoaded CSV: c:\\Users\\OAVAI\\Desktop\\mma - Copy\\mma_light\\data\\output\\metrics\\natty_metrics.csv (88 rows)\u001b[0m\n",
      "\u001b[32m2025-10-22 19:47:31.447\u001b[0m | \u001b[34m\u001b[1mDEBUG   \u001b[0m | \u001b[36msrc.utils.general\u001b[0m:\u001b[36mopen_csv\u001b[0m:\u001b[36m108\u001b[0m - \u001b[34m\u001b[1mLoaded CSV: c:\\Users\\OAVAI\\Desktop\\mma - Copy\\mma_light\\data\\output\\feature_selection\\natty_feature_frequency.csv (87 rows)\u001b[0m\n",
      "\u001b[32m2025-10-22 19:47:31.448\u001b[0m | \u001b[1mINFO    \u001b[0m | \u001b[36msrc.model_selection.cv_main\u001b[0m:\u001b[36m_cross_validate\u001b[0m:\u001b[36m476\u001b[0m - \u001b[1mSelected top 78 features for CV: 78\u001b[0m\n",
      "\u001b[32m2025-10-22 19:47:31.451\u001b[0m | \u001b[1mINFO    \u001b[0m | \u001b[36msrc.model_selection.cv_main\u001b[0m:\u001b[36m_cross_validate\u001b[0m:\u001b[36m502\u001b[0m - \u001b[1mStarting CV for {'max_depth': 4, 'learning_rate': 0.0615, 'n_estimators': 414, 'min_child_weight': 21.6358, 'gamma': 0.4603, 'subsample': 0.4946, 'colsample_bytree': 0.7697, 'reg_alpha': 0.0, 'reg_lambda': 0.8273, 'top_k_feats': 78}\u001b[0m\n",
      "\u001b[32m2025-10-22 19:47:33.085\u001b[0m | \u001b[1mINFO    \u001b[0m | \u001b[36msrc.model_selection.cv_main\u001b[0m:\u001b[36m_cross_validate\u001b[0m:\u001b[36m532\u001b[0m - \u001b[1mRepeat 1/1, fold 1/5 complete.\u001b[0m\n",
      "\u001b[32m2025-10-22 19:47:35.350\u001b[0m | \u001b[1mINFO    \u001b[0m | \u001b[36msrc.model_selection.cv_main\u001b[0m:\u001b[36m_cross_validate\u001b[0m:\u001b[36m532\u001b[0m - \u001b[1mRepeat 1/1, fold 2/5 complete.\u001b[0m\n",
      "\u001b[32m2025-10-22 19:47:37.410\u001b[0m | \u001b[1mINFO    \u001b[0m | \u001b[36msrc.model_selection.cv_main\u001b[0m:\u001b[36m_cross_validate\u001b[0m:\u001b[36m532\u001b[0m - \u001b[1mRepeat 1/1, fold 3/5 complete.\u001b[0m\n",
      "\u001b[32m2025-10-22 19:47:39.250\u001b[0m | \u001b[1mINFO    \u001b[0m | \u001b[36msrc.model_selection.cv_main\u001b[0m:\u001b[36m_cross_validate\u001b[0m:\u001b[36m532\u001b[0m - \u001b[1mRepeat 1/1, fold 4/5 complete.\u001b[0m\n",
      "\u001b[32m2025-10-22 19:47:41.130\u001b[0m | \u001b[1mINFO    \u001b[0m | \u001b[36msrc.model_selection.cv_main\u001b[0m:\u001b[36m_cross_validate\u001b[0m:\u001b[36m532\u001b[0m - \u001b[1mRepeat 1/1, fold 5/5 complete.\u001b[0m\n",
      "\u001b[32m2025-10-22 19:47:41.132\u001b[0m | \u001b[1mINFO    \u001b[0m | \u001b[36msrc.model_selection.cv_main\u001b[0m:\u001b[36m_cross_validate\u001b[0m:\u001b[36m548\u001b[0m - \u001b[1mAccuracy on valid_train: 0.63575\u001b[0m\n",
      "\u001b[32m2025-10-22 19:47:41.136\u001b[0m | \u001b[34m\u001b[1mDEBUG   \u001b[0m | \u001b[36msrc.utils.general\u001b[0m:\u001b[36mopen_csv\u001b[0m:\u001b[36m108\u001b[0m - \u001b[34m\u001b[1mLoaded CSV: c:\\Users\\OAVAI\\Desktop\\mma - Copy\\mma_light\\data\\output\\metrics\\natty_metrics.csv (88 rows)\u001b[0m\n",
      "\u001b[32m2025-10-22 19:47:41.145\u001b[0m | \u001b[34m\u001b[1mDEBUG   \u001b[0m | \u001b[36msrc.utils.general\u001b[0m:\u001b[36mstore_csv\u001b[0m:\u001b[36m145\u001b[0m - \u001b[34m\u001b[1mSaved CSV: c:\\Users\\OAVAI\\Desktop\\mma - Copy\\mma_light\\data\\output\\metrics\\natty_metrics.csv (89 rows)\u001b[0m\n",
      "[I 2025-10-22 19:47:43,647] Trial 6 finished with value: 1.66085701 and parameters: {'max_depth': 4, 'learning_rate': 0.061461229502541584, 'n_estimators': 414, 'min_child_weight': 21.635797249757253, 'gamma': 0.4602589484669504, 'subsample': 0.49455805570720157, 'colsample_bytree': 0.7697152639061495, 'reg_lambda': 0.8273447023093574, 'top_k_feats': 78}. Best is trial 4 with value: 1.66056223.\n",
      "\u001b[32m2025-10-22 19:47:43.648\u001b[0m | \u001b[1mINFO    \u001b[0m | \u001b[36msrc.model_selection.cv_main\u001b[0m:\u001b[36m_objective\u001b[0m:\u001b[36m602\u001b[0m - \u001b[1mFound attribute \"feature_params\". Assuming re-training with reduced features.\u001b[0m\n",
      "\u001b[32m2025-10-22 19:47:43.664\u001b[0m | \u001b[34m\u001b[1mDEBUG   \u001b[0m | \u001b[36msrc.utils.general\u001b[0m:\u001b[36mopen_csv\u001b[0m:\u001b[36m108\u001b[0m - \u001b[34m\u001b[1mLoaded CSV: c:\\Users\\OAVAI\\Desktop\\mma - Copy\\mma_light\\data\\output\\metrics\\natty_metrics.csv (89 rows)\u001b[0m\n",
      "\u001b[32m2025-10-22 19:47:43.664\u001b[0m | \u001b[34m\u001b[1mDEBUG   \u001b[0m | \u001b[36msrc.utils.general\u001b[0m:\u001b[36mopen_csv\u001b[0m:\u001b[36m108\u001b[0m - \u001b[34m\u001b[1mLoaded CSV: c:\\Users\\OAVAI\\Desktop\\mma - Copy\\mma_light\\data\\output\\feature_selection\\natty_feature_frequency.csv (87 rows)\u001b[0m\n",
      "\u001b[32m2025-10-22 19:47:43.664\u001b[0m | \u001b[1mINFO    \u001b[0m | \u001b[36msrc.model_selection.cv_main\u001b[0m:\u001b[36m_cross_validate\u001b[0m:\u001b[36m476\u001b[0m - \u001b[1mSelected top 41 features for CV: 41\u001b[0m\n",
      "\u001b[32m2025-10-22 19:47:43.664\u001b[0m | \u001b[1mINFO    \u001b[0m | \u001b[36msrc.model_selection.cv_main\u001b[0m:\u001b[36m_cross_validate\u001b[0m:\u001b[36m502\u001b[0m - \u001b[1mStarting CV for {'max_depth': 3, 'learning_rate': 0.034, 'n_estimators': 681, 'min_child_weight': 19.6164, 'gamma': 2.8227, 'subsample': 0.3432, 'colsample_bytree': 0.9951, 'reg_alpha': 0.0, 'reg_lambda': 1.5212, 'top_k_feats': 41}\u001b[0m\n",
      "\u001b[32m2025-10-22 19:47:45.808\u001b[0m | \u001b[1mINFO    \u001b[0m | \u001b[36msrc.model_selection.cv_main\u001b[0m:\u001b[36m_cross_validate\u001b[0m:\u001b[36m532\u001b[0m - \u001b[1mRepeat 1/1, fold 1/5 complete.\u001b[0m\n",
      "\u001b[32m2025-10-22 19:47:48.080\u001b[0m | \u001b[1mINFO    \u001b[0m | \u001b[36msrc.model_selection.cv_main\u001b[0m:\u001b[36m_cross_validate\u001b[0m:\u001b[36m532\u001b[0m - \u001b[1mRepeat 1/1, fold 2/5 complete.\u001b[0m\n",
      "\u001b[32m2025-10-22 19:47:50.004\u001b[0m | \u001b[1mINFO    \u001b[0m | \u001b[36msrc.model_selection.cv_main\u001b[0m:\u001b[36m_cross_validate\u001b[0m:\u001b[36m532\u001b[0m - \u001b[1mRepeat 1/1, fold 3/5 complete.\u001b[0m\n",
      "\u001b[32m2025-10-22 19:47:52.159\u001b[0m | \u001b[1mINFO    \u001b[0m | \u001b[36msrc.model_selection.cv_main\u001b[0m:\u001b[36m_cross_validate\u001b[0m:\u001b[36m532\u001b[0m - \u001b[1mRepeat 1/1, fold 4/5 complete.\u001b[0m\n",
      "\u001b[32m2025-10-22 19:47:54.674\u001b[0m | \u001b[1mINFO    \u001b[0m | \u001b[36msrc.model_selection.cv_main\u001b[0m:\u001b[36m_cross_validate\u001b[0m:\u001b[36m532\u001b[0m - \u001b[1mRepeat 1/1, fold 5/5 complete.\u001b[0m\n",
      "\u001b[32m2025-10-22 19:47:54.675\u001b[0m | \u001b[1mINFO    \u001b[0m | \u001b[36msrc.model_selection.cv_main\u001b[0m:\u001b[36m_cross_validate\u001b[0m:\u001b[36m548\u001b[0m - \u001b[1mAccuracy on valid_train: 0.639\u001b[0m\n",
      "\u001b[32m2025-10-22 19:47:54.680\u001b[0m | \u001b[34m\u001b[1mDEBUG   \u001b[0m | \u001b[36msrc.utils.general\u001b[0m:\u001b[36mopen_csv\u001b[0m:\u001b[36m108\u001b[0m - \u001b[34m\u001b[1mLoaded CSV: c:\\Users\\OAVAI\\Desktop\\mma - Copy\\mma_light\\data\\output\\metrics\\natty_metrics.csv (89 rows)\u001b[0m\n",
      "\u001b[32m2025-10-22 19:47:54.690\u001b[0m | \u001b[34m\u001b[1mDEBUG   \u001b[0m | \u001b[36msrc.utils.general\u001b[0m:\u001b[36mstore_csv\u001b[0m:\u001b[36m145\u001b[0m - \u001b[34m\u001b[1mSaved CSV: c:\\Users\\OAVAI\\Desktop\\mma - Copy\\mma_light\\data\\output\\metrics\\natty_metrics.csv (90 rows)\u001b[0m\n",
      "[I 2025-10-22 19:47:57,191] Trial 7 finished with value: 1.66026611 and parameters: {'max_depth': 3, 'learning_rate': 0.034030716741528806, 'n_estimators': 681, 'min_child_weight': 19.61637685297763, 'gamma': 2.822726468153726, 'subsample': 0.34323791042443647, 'colsample_bytree': 0.9950603203620589, 'reg_lambda': 1.5211851341693365, 'top_k_feats': 41}. Best is trial 7 with value: 1.66026611.\n",
      "\u001b[32m2025-10-22 19:47:57.191\u001b[0m | \u001b[1mINFO    \u001b[0m | \u001b[36msrc.model_selection.cv_main\u001b[0m:\u001b[36m_objective\u001b[0m:\u001b[36m602\u001b[0m - \u001b[1mFound attribute \"feature_params\". Assuming re-training with reduced features.\u001b[0m\n",
      "\u001b[32m2025-10-22 19:47:57.206\u001b[0m | \u001b[34m\u001b[1mDEBUG   \u001b[0m | \u001b[36msrc.utils.general\u001b[0m:\u001b[36mopen_csv\u001b[0m:\u001b[36m108\u001b[0m - \u001b[34m\u001b[1mLoaded CSV: c:\\Users\\OAVAI\\Desktop\\mma - Copy\\mma_light\\data\\output\\metrics\\natty_metrics.csv (90 rows)\u001b[0m\n",
      "\u001b[32m2025-10-22 19:47:57.212\u001b[0m | \u001b[34m\u001b[1mDEBUG   \u001b[0m | \u001b[36msrc.utils.general\u001b[0m:\u001b[36mopen_csv\u001b[0m:\u001b[36m108\u001b[0m - \u001b[34m\u001b[1mLoaded CSV: c:\\Users\\OAVAI\\Desktop\\mma - Copy\\mma_light\\data\\output\\feature_selection\\natty_feature_frequency.csv (87 rows)\u001b[0m\n",
      "\u001b[32m2025-10-22 19:47:57.214\u001b[0m | \u001b[1mINFO    \u001b[0m | \u001b[36msrc.model_selection.cv_main\u001b[0m:\u001b[36m_cross_validate\u001b[0m:\u001b[36m476\u001b[0m - \u001b[1mSelected top 80 features for CV: 80\u001b[0m\n",
      "\u001b[32m2025-10-22 19:47:57.214\u001b[0m | \u001b[1mINFO    \u001b[0m | \u001b[36msrc.model_selection.cv_main\u001b[0m:\u001b[36m_cross_validate\u001b[0m:\u001b[36m502\u001b[0m - \u001b[1mStarting CV for {'max_depth': 2, 'learning_rate': 0.0569, 'n_estimators': 777, 'min_child_weight': 41.1859, 'gamma': 2.7262, 'subsample': 0.3429, 'colsample_bytree': 0.7583, 'reg_alpha': 0.0, 'reg_lambda': 0.612, 'top_k_feats': 80}\u001b[0m\n",
      "\u001b[32m2025-10-22 19:47:59.655\u001b[0m | \u001b[1mINFO    \u001b[0m | \u001b[36msrc.model_selection.cv_main\u001b[0m:\u001b[36m_cross_validate\u001b[0m:\u001b[36m532\u001b[0m - \u001b[1mRepeat 1/1, fold 1/5 complete.\u001b[0m\n",
      "\u001b[32m2025-10-22 19:48:02.343\u001b[0m | \u001b[1mINFO    \u001b[0m | \u001b[36msrc.model_selection.cv_main\u001b[0m:\u001b[36m_cross_validate\u001b[0m:\u001b[36m532\u001b[0m - \u001b[1mRepeat 1/1, fold 2/5 complete.\u001b[0m\n",
      "\u001b[32m2025-10-22 19:48:04.327\u001b[0m | \u001b[1mINFO    \u001b[0m | \u001b[36msrc.model_selection.cv_main\u001b[0m:\u001b[36m_cross_validate\u001b[0m:\u001b[36m532\u001b[0m - \u001b[1mRepeat 1/1, fold 3/5 complete.\u001b[0m\n",
      "\u001b[32m2025-10-22 19:48:06.617\u001b[0m | \u001b[1mINFO    \u001b[0m | \u001b[36msrc.model_selection.cv_main\u001b[0m:\u001b[36m_cross_validate\u001b[0m:\u001b[36m532\u001b[0m - \u001b[1mRepeat 1/1, fold 4/5 complete.\u001b[0m\n",
      "\u001b[32m2025-10-22 19:48:09.111\u001b[0m | \u001b[1mINFO    \u001b[0m | \u001b[36msrc.model_selection.cv_main\u001b[0m:\u001b[36m_cross_validate\u001b[0m:\u001b[36m532\u001b[0m - \u001b[1mRepeat 1/1, fold 5/5 complete.\u001b[0m\n",
      "\u001b[32m2025-10-22 19:48:09.111\u001b[0m | \u001b[1mINFO    \u001b[0m | \u001b[36msrc.model_selection.cv_main\u001b[0m:\u001b[36m_cross_validate\u001b[0m:\u001b[36m548\u001b[0m - \u001b[1mAccuracy on valid_train: 0.628625\u001b[0m\n",
      "\u001b[32m2025-10-22 19:48:09.117\u001b[0m | \u001b[34m\u001b[1mDEBUG   \u001b[0m | \u001b[36msrc.utils.general\u001b[0m:\u001b[36mopen_csv\u001b[0m:\u001b[36m108\u001b[0m - \u001b[34m\u001b[1mLoaded CSV: c:\\Users\\OAVAI\\Desktop\\mma - Copy\\mma_light\\data\\output\\metrics\\natty_metrics.csv (90 rows)\u001b[0m\n",
      "\u001b[32m2025-10-22 19:48:09.125\u001b[0m | \u001b[34m\u001b[1mDEBUG   \u001b[0m | \u001b[36msrc.utils.general\u001b[0m:\u001b[36mstore_csv\u001b[0m:\u001b[36m145\u001b[0m - \u001b[34m\u001b[1mSaved CSV: c:\\Users\\OAVAI\\Desktop\\mma - Copy\\mma_light\\data\\output\\metrics\\natty_metrics.csv (91 rows)\u001b[0m\n",
      "[I 2025-10-22 19:48:11,630] Trial 8 finished with value: 1.66031785 and parameters: {'max_depth': 2, 'learning_rate': 0.05690704486844442, 'n_estimators': 777, 'min_child_weight': 41.18586613475953, 'gamma': 2.726205868628566, 'subsample': 0.3429325955258387, 'colsample_bytree': 0.7583345949599987, 'reg_lambda': 0.6119739514537278, 'top_k_feats': 80}. Best is trial 7 with value: 1.66026611.\n",
      "\u001b[32m2025-10-22 19:48:11.630\u001b[0m | \u001b[1mINFO    \u001b[0m | \u001b[36msrc.model_selection.cv_main\u001b[0m:\u001b[36m_objective\u001b[0m:\u001b[36m602\u001b[0m - \u001b[1mFound attribute \"feature_params\". Assuming re-training with reduced features.\u001b[0m\n",
      "\u001b[32m2025-10-22 19:48:11.645\u001b[0m | \u001b[34m\u001b[1mDEBUG   \u001b[0m | \u001b[36msrc.utils.general\u001b[0m:\u001b[36mopen_csv\u001b[0m:\u001b[36m108\u001b[0m - \u001b[34m\u001b[1mLoaded CSV: c:\\Users\\OAVAI\\Desktop\\mma - Copy\\mma_light\\data\\output\\metrics\\natty_metrics.csv (91 rows)\u001b[0m\n",
      "\u001b[32m2025-10-22 19:48:11.649\u001b[0m | \u001b[34m\u001b[1mDEBUG   \u001b[0m | \u001b[36msrc.utils.general\u001b[0m:\u001b[36mopen_csv\u001b[0m:\u001b[36m108\u001b[0m - \u001b[34m\u001b[1mLoaded CSV: c:\\Users\\OAVAI\\Desktop\\mma - Copy\\mma_light\\data\\output\\feature_selection\\natty_feature_frequency.csv (87 rows)\u001b[0m\n",
      "\u001b[32m2025-10-22 19:48:11.650\u001b[0m | \u001b[1mINFO    \u001b[0m | \u001b[36msrc.model_selection.cv_main\u001b[0m:\u001b[36m_cross_validate\u001b[0m:\u001b[36m476\u001b[0m - \u001b[1mSelected top 57 features for CV: 57\u001b[0m\n",
      "\u001b[32m2025-10-22 19:48:11.653\u001b[0m | \u001b[1mINFO    \u001b[0m | \u001b[36msrc.model_selection.cv_main\u001b[0m:\u001b[36m_cross_validate\u001b[0m:\u001b[36m502\u001b[0m - \u001b[1mStarting CV for {'max_depth': 5, 'learning_rate': 0.0362, 'n_estimators': 399, 'min_child_weight': 25.8537, 'gamma': 1.334, 'subsample': 0.7385, 'colsample_bytree': 0.8635, 'reg_alpha': 0.0, 'reg_lambda': 1.6804, 'top_k_feats': 57}\u001b[0m\n",
      "\u001b[32m2025-10-22 19:48:14.414\u001b[0m | \u001b[1mINFO    \u001b[0m | \u001b[36msrc.model_selection.cv_main\u001b[0m:\u001b[36m_cross_validate\u001b[0m:\u001b[36m532\u001b[0m - \u001b[1mRepeat 1/1, fold 1/5 complete.\u001b[0m\n",
      "\u001b[32m2025-10-22 19:48:17.677\u001b[0m | \u001b[1mINFO    \u001b[0m | \u001b[36msrc.model_selection.cv_main\u001b[0m:\u001b[36m_cross_validate\u001b[0m:\u001b[36m532\u001b[0m - \u001b[1mRepeat 1/1, fold 2/5 complete.\u001b[0m\n",
      "\u001b[32m2025-10-22 19:48:20.115\u001b[0m | \u001b[1mINFO    \u001b[0m | \u001b[36msrc.model_selection.cv_main\u001b[0m:\u001b[36m_cross_validate\u001b[0m:\u001b[36m532\u001b[0m - \u001b[1mRepeat 1/1, fold 3/5 complete.\u001b[0m\n",
      "\u001b[32m2025-10-22 19:48:22.501\u001b[0m | \u001b[1mINFO    \u001b[0m | \u001b[36msrc.model_selection.cv_main\u001b[0m:\u001b[36m_cross_validate\u001b[0m:\u001b[36m532\u001b[0m - \u001b[1mRepeat 1/1, fold 4/5 complete.\u001b[0m\n",
      "\u001b[32m2025-10-22 19:48:25.149\u001b[0m | \u001b[1mINFO    \u001b[0m | \u001b[36msrc.model_selection.cv_main\u001b[0m:\u001b[36m_cross_validate\u001b[0m:\u001b[36m532\u001b[0m - \u001b[1mRepeat 1/1, fold 5/5 complete.\u001b[0m\n",
      "\u001b[32m2025-10-22 19:48:25.151\u001b[0m | \u001b[1mINFO    \u001b[0m | \u001b[36msrc.model_selection.cv_main\u001b[0m:\u001b[36m_cross_validate\u001b[0m:\u001b[36m548\u001b[0m - \u001b[1mAccuracy on valid_train: 0.62925\u001b[0m\n",
      "\u001b[32m2025-10-22 19:48:25.155\u001b[0m | \u001b[34m\u001b[1mDEBUG   \u001b[0m | \u001b[36msrc.utils.general\u001b[0m:\u001b[36mopen_csv\u001b[0m:\u001b[36m108\u001b[0m - \u001b[34m\u001b[1mLoaded CSV: c:\\Users\\OAVAI\\Desktop\\mma - Copy\\mma_light\\data\\output\\metrics\\natty_metrics.csv (91 rows)\u001b[0m\n",
      "\u001b[32m2025-10-22 19:48:25.163\u001b[0m | \u001b[34m\u001b[1mDEBUG   \u001b[0m | \u001b[36msrc.utils.general\u001b[0m:\u001b[36mstore_csv\u001b[0m:\u001b[36m145\u001b[0m - \u001b[34m\u001b[1mSaved CSV: c:\\Users\\OAVAI\\Desktop\\mma - Copy\\mma_light\\data\\output\\metrics\\natty_metrics.csv (92 rows)\u001b[0m\n",
      "[I 2025-10-22 19:48:27,668] Trial 9 finished with value: 1.66339349 and parameters: {'max_depth': 5, 'learning_rate': 0.0361690220862444, 'n_estimators': 399, 'min_child_weight': 25.853705002316588, 'gamma': 1.3339888247142764, 'subsample': 0.7384975896494557, 'colsample_bytree': 0.8634682130232705, 'reg_lambda': 1.6804386918556946, 'top_k_feats': 57}. Best is trial 7 with value: 1.66026611.\n",
      "\u001b[32m2025-10-22 19:48:27.669\u001b[0m | \u001b[1mINFO    \u001b[0m | \u001b[36msrc.model_selection.cv_main\u001b[0m:\u001b[36m_objective\u001b[0m:\u001b[36m602\u001b[0m - \u001b[1mFound attribute \"feature_params\". Assuming re-training with reduced features.\u001b[0m\n",
      "\u001b[32m2025-10-22 19:48:27.684\u001b[0m | \u001b[34m\u001b[1mDEBUG   \u001b[0m | \u001b[36msrc.utils.general\u001b[0m:\u001b[36mopen_csv\u001b[0m:\u001b[36m108\u001b[0m - \u001b[34m\u001b[1mLoaded CSV: c:\\Users\\OAVAI\\Desktop\\mma - Copy\\mma_light\\data\\output\\metrics\\natty_metrics.csv (92 rows)\u001b[0m\n",
      "\u001b[32m2025-10-22 19:48:27.711\u001b[0m | \u001b[34m\u001b[1mDEBUG   \u001b[0m | \u001b[36msrc.utils.general\u001b[0m:\u001b[36mopen_csv\u001b[0m:\u001b[36m108\u001b[0m - \u001b[34m\u001b[1mLoaded CSV: c:\\Users\\OAVAI\\Desktop\\mma - Copy\\mma_light\\data\\output\\feature_selection\\natty_feature_frequency.csv (87 rows)\u001b[0m\n",
      "\u001b[32m2025-10-22 19:48:27.712\u001b[0m | \u001b[1mINFO    \u001b[0m | \u001b[36msrc.model_selection.cv_main\u001b[0m:\u001b[36m_cross_validate\u001b[0m:\u001b[36m476\u001b[0m - \u001b[1mSelected top 32 features for CV: 32\u001b[0m\n",
      "\u001b[32m2025-10-22 19:48:27.714\u001b[0m | \u001b[1mINFO    \u001b[0m | \u001b[36msrc.model_selection.cv_main\u001b[0m:\u001b[36m_cross_validate\u001b[0m:\u001b[36m502\u001b[0m - \u001b[1mStarting CV for {'max_depth': 2, 'learning_rate': 0.0482, 'n_estimators': 542, 'min_child_weight': 15.1064, 'gamma': 3.381, 'subsample': 0.7147, 'colsample_bytree': 0.9898, 'reg_alpha': 0.0, 'reg_lambda': 1.316, 'top_k_feats': 32}\u001b[0m\n",
      "\u001b[32m2025-10-22 19:48:29.570\u001b[0m | \u001b[1mINFO    \u001b[0m | \u001b[36msrc.model_selection.cv_main\u001b[0m:\u001b[36m_cross_validate\u001b[0m:\u001b[36m532\u001b[0m - \u001b[1mRepeat 1/1, fold 1/5 complete.\u001b[0m\n",
      "\u001b[32m2025-10-22 19:48:31.451\u001b[0m | \u001b[1mINFO    \u001b[0m | \u001b[36msrc.model_selection.cv_main\u001b[0m:\u001b[36m_cross_validate\u001b[0m:\u001b[36m532\u001b[0m - \u001b[1mRepeat 1/1, fold 2/5 complete.\u001b[0m\n",
      "\u001b[32m2025-10-22 19:48:33.062\u001b[0m | \u001b[1mINFO    \u001b[0m | \u001b[36msrc.model_selection.cv_main\u001b[0m:\u001b[36m_cross_validate\u001b[0m:\u001b[36m532\u001b[0m - \u001b[1mRepeat 1/1, fold 3/5 complete.\u001b[0m\n",
      "\u001b[32m2025-10-22 19:48:34.729\u001b[0m | \u001b[1mINFO    \u001b[0m | \u001b[36msrc.model_selection.cv_main\u001b[0m:\u001b[36m_cross_validate\u001b[0m:\u001b[36m532\u001b[0m - \u001b[1mRepeat 1/1, fold 4/5 complete.\u001b[0m\n",
      "\u001b[32m2025-10-22 19:48:36.628\u001b[0m | \u001b[1mINFO    \u001b[0m | \u001b[36msrc.model_selection.cv_main\u001b[0m:\u001b[36m_cross_validate\u001b[0m:\u001b[36m532\u001b[0m - \u001b[1mRepeat 1/1, fold 5/5 complete.\u001b[0m\n",
      "\u001b[32m2025-10-22 19:48:36.630\u001b[0m | \u001b[1mINFO    \u001b[0m | \u001b[36msrc.model_selection.cv_main\u001b[0m:\u001b[36m_cross_validate\u001b[0m:\u001b[36m548\u001b[0m - \u001b[1mAccuracy on valid_train: 0.640375\u001b[0m\n",
      "\u001b[32m2025-10-22 19:48:36.634\u001b[0m | \u001b[34m\u001b[1mDEBUG   \u001b[0m | \u001b[36msrc.utils.general\u001b[0m:\u001b[36mopen_csv\u001b[0m:\u001b[36m108\u001b[0m - \u001b[34m\u001b[1mLoaded CSV: c:\\Users\\OAVAI\\Desktop\\mma - Copy\\mma_light\\data\\output\\metrics\\natty_metrics.csv (92 rows)\u001b[0m\n",
      "\u001b[32m2025-10-22 19:48:36.642\u001b[0m | \u001b[34m\u001b[1mDEBUG   \u001b[0m | \u001b[36msrc.utils.general\u001b[0m:\u001b[36mstore_csv\u001b[0m:\u001b[36m145\u001b[0m - \u001b[34m\u001b[1mSaved CSV: c:\\Users\\OAVAI\\Desktop\\mma - Copy\\mma_light\\data\\output\\metrics\\natty_metrics.csv (93 rows)\u001b[0m\n",
      "[I 2025-10-22 19:48:39,147] Trial 10 finished with value: 1.66464018 and parameters: {'max_depth': 2, 'learning_rate': 0.04819823612801957, 'n_estimators': 542, 'min_child_weight': 15.106409155643242, 'gamma': 3.3809834951912148, 'subsample': 0.7147483557258585, 'colsample_bytree': 0.9898433478080466, 'reg_lambda': 1.3159522832594035, 'top_k_feats': 32}. Best is trial 7 with value: 1.66026611.\n",
      "\u001b[32m2025-10-22 19:48:39.148\u001b[0m | \u001b[1mINFO    \u001b[0m | \u001b[36msrc.model_selection.cv_main\u001b[0m:\u001b[36m_objective\u001b[0m:\u001b[36m602\u001b[0m - \u001b[1mFound attribute \"feature_params\". Assuming re-training with reduced features.\u001b[0m\n",
      "\u001b[32m2025-10-22 19:48:39.167\u001b[0m | \u001b[34m\u001b[1mDEBUG   \u001b[0m | \u001b[36msrc.utils.general\u001b[0m:\u001b[36mopen_csv\u001b[0m:\u001b[36m108\u001b[0m - \u001b[34m\u001b[1mLoaded CSV: c:\\Users\\OAVAI\\Desktop\\mma - Copy\\mma_light\\data\\output\\metrics\\natty_metrics.csv (93 rows)\u001b[0m\n",
      "\u001b[32m2025-10-22 19:48:39.194\u001b[0m | \u001b[34m\u001b[1mDEBUG   \u001b[0m | \u001b[36msrc.utils.general\u001b[0m:\u001b[36mopen_csv\u001b[0m:\u001b[36m108\u001b[0m - \u001b[34m\u001b[1mLoaded CSV: c:\\Users\\OAVAI\\Desktop\\mma - Copy\\mma_light\\data\\output\\feature_selection\\natty_feature_frequency.csv (87 rows)\u001b[0m\n",
      "\u001b[32m2025-10-22 19:48:39.195\u001b[0m | \u001b[1mINFO    \u001b[0m | \u001b[36msrc.model_selection.cv_main\u001b[0m:\u001b[36m_cross_validate\u001b[0m:\u001b[36m476\u001b[0m - \u001b[1mSelected top 87 features for CV: 87\u001b[0m\n",
      "\u001b[32m2025-10-22 19:48:39.199\u001b[0m | \u001b[1mINFO    \u001b[0m | \u001b[36msrc.model_selection.cv_main\u001b[0m:\u001b[36m_cross_validate\u001b[0m:\u001b[36m502\u001b[0m - \u001b[1mStarting CV for {'max_depth': 2, 'learning_rate': 0.0545, 'n_estimators': 873, 'min_child_weight': 48.6709, 'gamma': 2.7761, 'subsample': 0.3107, 'colsample_bytree': 0.7355, 'reg_alpha': 0.0, 'reg_lambda': 0.5548, 'top_k_feats': 87}\u001b[0m\n",
      "\u001b[32m2025-10-22 19:48:41.826\u001b[0m | \u001b[1mINFO    \u001b[0m | \u001b[36msrc.model_selection.cv_main\u001b[0m:\u001b[36m_cross_validate\u001b[0m:\u001b[36m532\u001b[0m - \u001b[1mRepeat 1/1, fold 1/5 complete.\u001b[0m\n",
      "\u001b[32m2025-10-22 19:48:45.487\u001b[0m | \u001b[1mINFO    \u001b[0m | \u001b[36msrc.model_selection.cv_main\u001b[0m:\u001b[36m_cross_validate\u001b[0m:\u001b[36m532\u001b[0m - \u001b[1mRepeat 1/1, fold 2/5 complete.\u001b[0m\n",
      "\u001b[32m2025-10-22 19:48:47.128\u001b[0m | \u001b[1mINFO    \u001b[0m | \u001b[36msrc.model_selection.cv_main\u001b[0m:\u001b[36m_cross_validate\u001b[0m:\u001b[36m532\u001b[0m - \u001b[1mRepeat 1/1, fold 3/5 complete.\u001b[0m\n",
      "\u001b[32m2025-10-22 19:48:49.608\u001b[0m | \u001b[1mINFO    \u001b[0m | \u001b[36msrc.model_selection.cv_main\u001b[0m:\u001b[36m_cross_validate\u001b[0m:\u001b[36m532\u001b[0m - \u001b[1mRepeat 1/1, fold 4/5 complete.\u001b[0m\n",
      "\u001b[32m2025-10-22 19:48:52.459\u001b[0m | \u001b[1mINFO    \u001b[0m | \u001b[36msrc.model_selection.cv_main\u001b[0m:\u001b[36m_cross_validate\u001b[0m:\u001b[36m532\u001b[0m - \u001b[1mRepeat 1/1, fold 5/5 complete.\u001b[0m\n",
      "\u001b[32m2025-10-22 19:48:52.460\u001b[0m | \u001b[1mINFO    \u001b[0m | \u001b[36msrc.model_selection.cv_main\u001b[0m:\u001b[36m_cross_validate\u001b[0m:\u001b[36m548\u001b[0m - \u001b[1mAccuracy on valid_train: 0.623125\u001b[0m\n",
      "\u001b[32m2025-10-22 19:48:52.465\u001b[0m | \u001b[34m\u001b[1mDEBUG   \u001b[0m | \u001b[36msrc.utils.general\u001b[0m:\u001b[36mopen_csv\u001b[0m:\u001b[36m108\u001b[0m - \u001b[34m\u001b[1mLoaded CSV: c:\\Users\\OAVAI\\Desktop\\mma - Copy\\mma_light\\data\\output\\metrics\\natty_metrics.csv (93 rows)\u001b[0m\n",
      "\u001b[32m2025-10-22 19:48:52.474\u001b[0m | \u001b[34m\u001b[1mDEBUG   \u001b[0m | \u001b[36msrc.utils.general\u001b[0m:\u001b[36mstore_csv\u001b[0m:\u001b[36m145\u001b[0m - \u001b[34m\u001b[1mSaved CSV: c:\\Users\\OAVAI\\Desktop\\mma - Copy\\mma_light\\data\\output\\metrics\\natty_metrics.csv (94 rows)\u001b[0m\n",
      "[I 2025-10-22 19:48:54,978] Trial 11 finished with value: 1.66291923 and parameters: {'max_depth': 2, 'learning_rate': 0.05453194386238338, 'n_estimators': 873, 'min_child_weight': 48.67091352058547, 'gamma': 2.776060068471637, 'subsample': 0.31073378107866395, 'colsample_bytree': 0.7355494799523123, 'reg_lambda': 0.5548332507502387, 'top_k_feats': 87}. Best is trial 7 with value: 1.66026611.\n",
      "\u001b[32m2025-10-22 19:48:54.978\u001b[0m | \u001b[1mINFO    \u001b[0m | \u001b[36msrc.model_selection.cv_main\u001b[0m:\u001b[36m_objective\u001b[0m:\u001b[36m602\u001b[0m - \u001b[1mFound attribute \"feature_params\". Assuming re-training with reduced features.\u001b[0m\n",
      "\u001b[32m2025-10-22 19:48:54.993\u001b[0m | \u001b[34m\u001b[1mDEBUG   \u001b[0m | \u001b[36msrc.utils.general\u001b[0m:\u001b[36mopen_csv\u001b[0m:\u001b[36m108\u001b[0m - \u001b[34m\u001b[1mLoaded CSV: c:\\Users\\OAVAI\\Desktop\\mma - Copy\\mma_light\\data\\output\\metrics\\natty_metrics.csv (94 rows)\u001b[0m\n",
      "\u001b[32m2025-10-22 19:48:55.023\u001b[0m | \u001b[34m\u001b[1mDEBUG   \u001b[0m | \u001b[36msrc.utils.general\u001b[0m:\u001b[36mopen_csv\u001b[0m:\u001b[36m108\u001b[0m - \u001b[34m\u001b[1mLoaded CSV: c:\\Users\\OAVAI\\Desktop\\mma - Copy\\mma_light\\data\\output\\feature_selection\\natty_feature_frequency.csv (87 rows)\u001b[0m\n",
      "\u001b[32m2025-10-22 19:48:55.024\u001b[0m | \u001b[1mINFO    \u001b[0m | \u001b[36msrc.model_selection.cv_main\u001b[0m:\u001b[36m_cross_validate\u001b[0m:\u001b[36m476\u001b[0m - \u001b[1mSelected top 49 features for CV: 49\u001b[0m\n",
      "\u001b[32m2025-10-22 19:48:55.027\u001b[0m | \u001b[1mINFO    \u001b[0m | \u001b[36msrc.model_selection.cv_main\u001b[0m:\u001b[36m_cross_validate\u001b[0m:\u001b[36m502\u001b[0m - \u001b[1mStarting CV for {'max_depth': 3, 'learning_rate': 0.0417, 'n_estimators': 582, 'min_child_weight': 41.5884, 'gamma': 2.3667, 'subsample': 0.4639, 'colsample_bytree': 0.8597, 'reg_alpha': 0.0, 'reg_lambda': 1.2308, 'top_k_feats': 49}\u001b[0m\n",
      "\u001b[32m2025-10-22 19:48:57.232\u001b[0m | \u001b[1mINFO    \u001b[0m | \u001b[36msrc.model_selection.cv_main\u001b[0m:\u001b[36m_cross_validate\u001b[0m:\u001b[36m532\u001b[0m - \u001b[1mRepeat 1/1, fold 1/5 complete.\u001b[0m\n",
      "\u001b[32m2025-10-22 19:48:59.879\u001b[0m | \u001b[1mINFO    \u001b[0m | \u001b[36msrc.model_selection.cv_main\u001b[0m:\u001b[36m_cross_validate\u001b[0m:\u001b[36m532\u001b[0m - \u001b[1mRepeat 1/1, fold 2/5 complete.\u001b[0m\n",
      "\u001b[32m2025-10-22 19:49:01.218\u001b[0m | \u001b[1mINFO    \u001b[0m | \u001b[36msrc.model_selection.cv_main\u001b[0m:\u001b[36m_cross_validate\u001b[0m:\u001b[36m532\u001b[0m - \u001b[1mRepeat 1/1, fold 3/5 complete.\u001b[0m\n",
      "\u001b[32m2025-10-22 19:49:03.167\u001b[0m | \u001b[1mINFO    \u001b[0m | \u001b[36msrc.model_selection.cv_main\u001b[0m:\u001b[36m_cross_validate\u001b[0m:\u001b[36m532\u001b[0m - \u001b[1mRepeat 1/1, fold 4/5 complete.\u001b[0m\n",
      "\u001b[32m2025-10-22 19:49:04.969\u001b[0m | \u001b[1mINFO    \u001b[0m | \u001b[36msrc.model_selection.cv_main\u001b[0m:\u001b[36m_cross_validate\u001b[0m:\u001b[36m532\u001b[0m - \u001b[1mRepeat 1/1, fold 5/5 complete.\u001b[0m\n",
      "\u001b[32m2025-10-22 19:49:04.971\u001b[0m | \u001b[1mINFO    \u001b[0m | \u001b[36msrc.model_selection.cv_main\u001b[0m:\u001b[36m_cross_validate\u001b[0m:\u001b[36m548\u001b[0m - \u001b[1mAccuracy on valid_train: 0.635125\u001b[0m\n",
      "\u001b[32m2025-10-22 19:49:04.975\u001b[0m | \u001b[34m\u001b[1mDEBUG   \u001b[0m | \u001b[36msrc.utils.general\u001b[0m:\u001b[36mopen_csv\u001b[0m:\u001b[36m108\u001b[0m - \u001b[34m\u001b[1mLoaded CSV: c:\\Users\\OAVAI\\Desktop\\mma - Copy\\mma_light\\data\\output\\metrics\\natty_metrics.csv (94 rows)\u001b[0m\n",
      "\u001b[32m2025-10-22 19:49:04.985\u001b[0m | \u001b[34m\u001b[1mDEBUG   \u001b[0m | \u001b[36msrc.utils.general\u001b[0m:\u001b[36mstore_csv\u001b[0m:\u001b[36m145\u001b[0m - \u001b[34m\u001b[1mSaved CSV: c:\\Users\\OAVAI\\Desktop\\mma - Copy\\mma_light\\data\\output\\metrics\\natty_metrics.csv (95 rows)\u001b[0m\n",
      "[I 2025-10-22 19:49:07,488] Trial 12 finished with value: 1.6608159 and parameters: {'max_depth': 3, 'learning_rate': 0.04172580163497901, 'n_estimators': 582, 'min_child_weight': 41.58838533313589, 'gamma': 2.3666911959808643, 'subsample': 0.4638780314579303, 'colsample_bytree': 0.8597334196191374, 'reg_lambda': 1.2307943625717042, 'top_k_feats': 49}. Best is trial 7 with value: 1.66026611.\n",
      "\u001b[32m2025-10-22 19:49:07.490\u001b[0m | \u001b[1mINFO    \u001b[0m | \u001b[36msrc.model_selection.cv_main\u001b[0m:\u001b[36m_objective\u001b[0m:\u001b[36m602\u001b[0m - \u001b[1mFound attribute \"feature_params\". Assuming re-training with reduced features.\u001b[0m\n",
      "\u001b[32m2025-10-22 19:49:07.525\u001b[0m | \u001b[34m\u001b[1mDEBUG   \u001b[0m | \u001b[36msrc.utils.general\u001b[0m:\u001b[36mopen_csv\u001b[0m:\u001b[36m108\u001b[0m - \u001b[34m\u001b[1mLoaded CSV: c:\\Users\\OAVAI\\Desktop\\mma - Copy\\mma_light\\data\\output\\metrics\\natty_metrics.csv (95 rows)\u001b[0m\n",
      "\u001b[32m2025-10-22 19:49:07.556\u001b[0m | \u001b[34m\u001b[1mDEBUG   \u001b[0m | \u001b[36msrc.utils.general\u001b[0m:\u001b[36mopen_csv\u001b[0m:\u001b[36m108\u001b[0m - \u001b[34m\u001b[1mLoaded CSV: c:\\Users\\OAVAI\\Desktop\\mma - Copy\\mma_light\\data\\output\\feature_selection\\natty_feature_frequency.csv (87 rows)\u001b[0m\n",
      "\u001b[32m2025-10-22 19:49:07.556\u001b[0m | \u001b[1mINFO    \u001b[0m | \u001b[36msrc.model_selection.cv_main\u001b[0m:\u001b[36m_cross_validate\u001b[0m:\u001b[36m476\u001b[0m - \u001b[1mSelected top 69 features for CV: 69\u001b[0m\n",
      "\u001b[32m2025-10-22 19:49:07.560\u001b[0m | \u001b[1mINFO    \u001b[0m | \u001b[36msrc.model_selection.cv_main\u001b[0m:\u001b[36m_cross_validate\u001b[0m:\u001b[36m502\u001b[0m - \u001b[1mStarting CV for {'max_depth': 2, 'learning_rate': 0.0544, 'n_estimators': 596, 'min_child_weight': 29.4069, 'gamma': 2.24, 'subsample': 0.3137, 'colsample_bytree': 0.8708, 'reg_alpha': 0.0, 'reg_lambda': 0.9651, 'top_k_feats': 69}\u001b[0m\n",
      "\u001b[32m2025-10-22 19:49:09.563\u001b[0m | \u001b[1mINFO    \u001b[0m | \u001b[36msrc.model_selection.cv_main\u001b[0m:\u001b[36m_cross_validate\u001b[0m:\u001b[36m532\u001b[0m - \u001b[1mRepeat 1/1, fold 1/5 complete.\u001b[0m\n",
      "\u001b[32m2025-10-22 19:49:11.470\u001b[0m | \u001b[1mINFO    \u001b[0m | \u001b[36msrc.model_selection.cv_main\u001b[0m:\u001b[36m_cross_validate\u001b[0m:\u001b[36m532\u001b[0m - \u001b[1mRepeat 1/1, fold 2/5 complete.\u001b[0m\n",
      "\u001b[32m2025-10-22 19:49:13.598\u001b[0m | \u001b[1mINFO    \u001b[0m | \u001b[36msrc.model_selection.cv_main\u001b[0m:\u001b[36m_cross_validate\u001b[0m:\u001b[36m532\u001b[0m - \u001b[1mRepeat 1/1, fold 3/5 complete.\u001b[0m\n",
      "\u001b[32m2025-10-22 19:49:15.229\u001b[0m | \u001b[1mINFO    \u001b[0m | \u001b[36msrc.model_selection.cv_main\u001b[0m:\u001b[36m_cross_validate\u001b[0m:\u001b[36m532\u001b[0m - \u001b[1mRepeat 1/1, fold 4/5 complete.\u001b[0m\n",
      "\u001b[32m2025-10-22 19:49:17.122\u001b[0m | \u001b[1mINFO    \u001b[0m | \u001b[36msrc.model_selection.cv_main\u001b[0m:\u001b[36m_cross_validate\u001b[0m:\u001b[36m532\u001b[0m - \u001b[1mRepeat 1/1, fold 5/5 complete.\u001b[0m\n",
      "\u001b[32m2025-10-22 19:49:17.124\u001b[0m | \u001b[1mINFO    \u001b[0m | \u001b[36msrc.model_selection.cv_main\u001b[0m:\u001b[36m_cross_validate\u001b[0m:\u001b[36m548\u001b[0m - \u001b[1mAccuracy on valid_train: 0.63075\u001b[0m\n",
      "\u001b[32m2025-10-22 19:49:17.128\u001b[0m | \u001b[34m\u001b[1mDEBUG   \u001b[0m | \u001b[36msrc.utils.general\u001b[0m:\u001b[36mopen_csv\u001b[0m:\u001b[36m108\u001b[0m - \u001b[34m\u001b[1mLoaded CSV: c:\\Users\\OAVAI\\Desktop\\mma - Copy\\mma_light\\data\\output\\metrics\\natty_metrics.csv (95 rows)\u001b[0m\n",
      "\u001b[32m2025-10-22 19:49:17.137\u001b[0m | \u001b[34m\u001b[1mDEBUG   \u001b[0m | \u001b[36msrc.utils.general\u001b[0m:\u001b[36mstore_csv\u001b[0m:\u001b[36m145\u001b[0m - \u001b[34m\u001b[1mSaved CSV: c:\\Users\\OAVAI\\Desktop\\mma - Copy\\mma_light\\data\\output\\metrics\\natty_metrics.csv (96 rows)\u001b[0m\n",
      "[I 2025-10-22 19:49:19,641] Trial 13 finished with value: 1.66384645 and parameters: {'max_depth': 2, 'learning_rate': 0.05438755797817676, 'n_estimators': 596, 'min_child_weight': 29.406905913684536, 'gamma': 2.240033455303457, 'subsample': 0.3136706793135482, 'colsample_bytree': 0.8707803841002952, 'reg_lambda': 0.9650960316538567, 'top_k_feats': 69}. Best is trial 7 with value: 1.66026611.\n",
      "\u001b[32m2025-10-22 19:49:19.642\u001b[0m | \u001b[1mINFO    \u001b[0m | \u001b[36msrc.model_selection.cv_main\u001b[0m:\u001b[36m_objective\u001b[0m:\u001b[36m602\u001b[0m - \u001b[1mFound attribute \"feature_params\". Assuming re-training with reduced features.\u001b[0m\n",
      "\u001b[32m2025-10-22 19:49:19.657\u001b[0m | \u001b[34m\u001b[1mDEBUG   \u001b[0m | \u001b[36msrc.utils.general\u001b[0m:\u001b[36mopen_csv\u001b[0m:\u001b[36m108\u001b[0m - \u001b[34m\u001b[1mLoaded CSV: c:\\Users\\OAVAI\\Desktop\\mma - Copy\\mma_light\\data\\output\\metrics\\natty_metrics.csv (96 rows)\u001b[0m\n",
      "\u001b[32m2025-10-22 19:49:19.687\u001b[0m | \u001b[34m\u001b[1mDEBUG   \u001b[0m | \u001b[36msrc.utils.general\u001b[0m:\u001b[36mopen_csv\u001b[0m:\u001b[36m108\u001b[0m - \u001b[34m\u001b[1mLoaded CSV: c:\\Users\\OAVAI\\Desktop\\mma - Copy\\mma_light\\data\\output\\feature_selection\\natty_feature_frequency.csv (87 rows)\u001b[0m\n",
      "\u001b[32m2025-10-22 19:49:19.688\u001b[0m | \u001b[1mINFO    \u001b[0m | \u001b[36msrc.model_selection.cv_main\u001b[0m:\u001b[36m_cross_validate\u001b[0m:\u001b[36m476\u001b[0m - \u001b[1mSelected top 33 features for CV: 33\u001b[0m\n",
      "\u001b[32m2025-10-22 19:49:19.690\u001b[0m | \u001b[1mINFO    \u001b[0m | \u001b[36msrc.model_selection.cv_main\u001b[0m:\u001b[36m_cross_validate\u001b[0m:\u001b[36m502\u001b[0m - \u001b[1mStarting CV for {'max_depth': 6, 'learning_rate': 0.0291, 'n_estimators': 830, 'min_child_weight': 41.5193, 'gamma': 3.1047, 'subsample': 0.5803, 'colsample_bytree': 0.7119, 'reg_alpha': 0.0, 'reg_lambda': 0.6177, 'top_k_feats': 33}\u001b[0m\n",
      "\u001b[32m2025-10-22 19:49:22.941\u001b[0m | \u001b[1mINFO    \u001b[0m | \u001b[36msrc.model_selection.cv_main\u001b[0m:\u001b[36m_cross_validate\u001b[0m:\u001b[36m532\u001b[0m - \u001b[1mRepeat 1/1, fold 1/5 complete.\u001b[0m\n",
      "\u001b[32m2025-10-22 19:49:25.659\u001b[0m | \u001b[1mINFO    \u001b[0m | \u001b[36msrc.model_selection.cv_main\u001b[0m:\u001b[36m_cross_validate\u001b[0m:\u001b[36m532\u001b[0m - \u001b[1mRepeat 1/1, fold 2/5 complete.\u001b[0m\n",
      "\u001b[32m2025-10-22 19:49:27.460\u001b[0m | \u001b[1mINFO    \u001b[0m | \u001b[36msrc.model_selection.cv_main\u001b[0m:\u001b[36m_cross_validate\u001b[0m:\u001b[36m532\u001b[0m - \u001b[1mRepeat 1/1, fold 3/5 complete.\u001b[0m\n",
      "\u001b[32m2025-10-22 19:49:29.825\u001b[0m | \u001b[1mINFO    \u001b[0m | \u001b[36msrc.model_selection.cv_main\u001b[0m:\u001b[36m_cross_validate\u001b[0m:\u001b[36m532\u001b[0m - \u001b[1mRepeat 1/1, fold 4/5 complete.\u001b[0m\n",
      "\u001b[32m2025-10-22 19:49:33.229\u001b[0m | \u001b[1mINFO    \u001b[0m | \u001b[36msrc.model_selection.cv_main\u001b[0m:\u001b[36m_cross_validate\u001b[0m:\u001b[36m532\u001b[0m - \u001b[1mRepeat 1/1, fold 5/5 complete.\u001b[0m\n",
      "\u001b[32m2025-10-22 19:49:33.231\u001b[0m | \u001b[1mINFO    \u001b[0m | \u001b[36msrc.model_selection.cv_main\u001b[0m:\u001b[36m_cross_validate\u001b[0m:\u001b[36m548\u001b[0m - \u001b[1mAccuracy on valid_train: 0.644875\u001b[0m\n",
      "\u001b[32m2025-10-22 19:49:33.235\u001b[0m | \u001b[34m\u001b[1mDEBUG   \u001b[0m | \u001b[36msrc.utils.general\u001b[0m:\u001b[36mopen_csv\u001b[0m:\u001b[36m108\u001b[0m - \u001b[34m\u001b[1mLoaded CSV: c:\\Users\\OAVAI\\Desktop\\mma - Copy\\mma_light\\data\\output\\metrics\\natty_metrics.csv (96 rows)\u001b[0m\n",
      "\u001b[32m2025-10-22 19:49:33.245\u001b[0m | \u001b[34m\u001b[1mDEBUG   \u001b[0m | \u001b[36msrc.utils.general\u001b[0m:\u001b[36mstore_csv\u001b[0m:\u001b[36m145\u001b[0m - \u001b[34m\u001b[1mSaved CSV: c:\\Users\\OAVAI\\Desktop\\mma - Copy\\mma_light\\data\\output\\metrics\\natty_metrics.csv (97 rows)\u001b[0m\n",
      "[I 2025-10-22 19:49:35,750] Trial 14 finished with value: 1.66185081 and parameters: {'max_depth': 6, 'learning_rate': 0.029141168121901352, 'n_estimators': 830, 'min_child_weight': 41.51930886473926, 'gamma': 3.1046537650361103, 'subsample': 0.5803315652095439, 'colsample_bytree': 0.7119323366040907, 'reg_lambda': 0.6176565297358623, 'top_k_feats': 33}. Best is trial 7 with value: 1.66026611.\n",
      "\u001b[32m2025-10-22 19:49:35.751\u001b[0m | \u001b[1mINFO    \u001b[0m | \u001b[36msrc.model_selection.cv_main\u001b[0m:\u001b[36m_objective\u001b[0m:\u001b[36m602\u001b[0m - \u001b[1mFound attribute \"feature_params\". Assuming re-training with reduced features.\u001b[0m\n",
      "\u001b[32m2025-10-22 19:49:35.768\u001b[0m | \u001b[34m\u001b[1mDEBUG   \u001b[0m | \u001b[36msrc.utils.general\u001b[0m:\u001b[36mopen_csv\u001b[0m:\u001b[36m108\u001b[0m - \u001b[34m\u001b[1mLoaded CSV: c:\\Users\\OAVAI\\Desktop\\mma - Copy\\mma_light\\data\\output\\metrics\\natty_metrics.csv (97 rows)\u001b[0m\n",
      "\u001b[32m2025-10-22 19:49:35.797\u001b[0m | \u001b[34m\u001b[1mDEBUG   \u001b[0m | \u001b[36msrc.utils.general\u001b[0m:\u001b[36mopen_csv\u001b[0m:\u001b[36m108\u001b[0m - \u001b[34m\u001b[1mLoaded CSV: c:\\Users\\OAVAI\\Desktop\\mma - Copy\\mma_light\\data\\output\\feature_selection\\natty_feature_frequency.csv (87 rows)\u001b[0m\n",
      "\u001b[32m2025-10-22 19:49:35.798\u001b[0m | \u001b[1mINFO    \u001b[0m | \u001b[36msrc.model_selection.cv_main\u001b[0m:\u001b[36m_cross_validate\u001b[0m:\u001b[36m476\u001b[0m - \u001b[1mSelected top 52 features for CV: 52\u001b[0m\n",
      "\u001b[32m2025-10-22 19:49:35.800\u001b[0m | \u001b[1mINFO    \u001b[0m | \u001b[36msrc.model_selection.cv_main\u001b[0m:\u001b[36m_cross_validate\u001b[0m:\u001b[36m502\u001b[0m - \u001b[1mStarting CV for {'max_depth': 3, 'learning_rate': 0.04, 'n_estimators': 697, 'min_child_weight': 14.8507, 'gamma': 1.794, 'subsample': 0.4071, 'colsample_bytree': 0.9484, 'reg_alpha': 0.0, 'reg_lambda': 1.3803, 'top_k_feats': 52}\u001b[0m\n",
      "\u001b[32m2025-10-22 19:49:37.783\u001b[0m | \u001b[1mINFO    \u001b[0m | \u001b[36msrc.model_selection.cv_main\u001b[0m:\u001b[36m_cross_validate\u001b[0m:\u001b[36m532\u001b[0m - \u001b[1mRepeat 1/1, fold 1/5 complete.\u001b[0m\n",
      "\u001b[32m2025-10-22 19:49:40.485\u001b[0m | \u001b[1mINFO    \u001b[0m | \u001b[36msrc.model_selection.cv_main\u001b[0m:\u001b[36m_cross_validate\u001b[0m:\u001b[36m532\u001b[0m - \u001b[1mRepeat 1/1, fold 2/5 complete.\u001b[0m\n",
      "\u001b[32m2025-10-22 19:49:42.350\u001b[0m | \u001b[1mINFO    \u001b[0m | \u001b[36msrc.model_selection.cv_main\u001b[0m:\u001b[36m_cross_validate\u001b[0m:\u001b[36m532\u001b[0m - \u001b[1mRepeat 1/1, fold 3/5 complete.\u001b[0m\n",
      "\u001b[32m2025-10-22 19:49:43.958\u001b[0m | \u001b[1mINFO    \u001b[0m | \u001b[36msrc.model_selection.cv_main\u001b[0m:\u001b[36m_cross_validate\u001b[0m:\u001b[36m532\u001b[0m - \u001b[1mRepeat 1/1, fold 4/5 complete.\u001b[0m\n",
      "\u001b[32m2025-10-22 19:49:46.227\u001b[0m | \u001b[1mINFO    \u001b[0m | \u001b[36msrc.model_selection.cv_main\u001b[0m:\u001b[36m_cross_validate\u001b[0m:\u001b[36m532\u001b[0m - \u001b[1mRepeat 1/1, fold 5/5 complete.\u001b[0m\n",
      "\u001b[32m2025-10-22 19:49:46.228\u001b[0m | \u001b[1mINFO    \u001b[0m | \u001b[36msrc.model_selection.cv_main\u001b[0m:\u001b[36m_cross_validate\u001b[0m:\u001b[36m548\u001b[0m - \u001b[1mAccuracy on valid_train: 0.63325\u001b[0m\n",
      "\u001b[32m2025-10-22 19:49:46.233\u001b[0m | \u001b[34m\u001b[1mDEBUG   \u001b[0m | \u001b[36msrc.utils.general\u001b[0m:\u001b[36mopen_csv\u001b[0m:\u001b[36m108\u001b[0m - \u001b[34m\u001b[1mLoaded CSV: c:\\Users\\OAVAI\\Desktop\\mma - Copy\\mma_light\\data\\output\\metrics\\natty_metrics.csv (97 rows)\u001b[0m\n",
      "\u001b[32m2025-10-22 19:49:46.245\u001b[0m | \u001b[34m\u001b[1mDEBUG   \u001b[0m | \u001b[36msrc.utils.general\u001b[0m:\u001b[36mstore_csv\u001b[0m:\u001b[36m145\u001b[0m - \u001b[34m\u001b[1mSaved CSV: c:\\Users\\OAVAI\\Desktop\\mma - Copy\\mma_light\\data\\output\\metrics\\natty_metrics.csv (98 rows)\u001b[0m\n",
      "[I 2025-10-22 19:49:48,750] Trial 15 finished with value: 1.66033065 and parameters: {'max_depth': 3, 'learning_rate': 0.039984214517922764, 'n_estimators': 697, 'min_child_weight': 14.850667536678078, 'gamma': 1.793970634515516, 'subsample': 0.4070591813801717, 'colsample_bytree': 0.9483648407292651, 'reg_lambda': 1.3803108810706852, 'top_k_feats': 52}. Best is trial 7 with value: 1.66026611.\n",
      "\u001b[32m2025-10-22 19:49:48.751\u001b[0m | \u001b[1mINFO    \u001b[0m | \u001b[36msrc.model_selection.cv_main\u001b[0m:\u001b[36m_objective\u001b[0m:\u001b[36m602\u001b[0m - \u001b[1mFound attribute \"feature_params\". Assuming re-training with reduced features.\u001b[0m\n",
      "\u001b[32m2025-10-22 19:49:48.768\u001b[0m | \u001b[34m\u001b[1mDEBUG   \u001b[0m | \u001b[36msrc.utils.general\u001b[0m:\u001b[36mopen_csv\u001b[0m:\u001b[36m108\u001b[0m - \u001b[34m\u001b[1mLoaded CSV: c:\\Users\\OAVAI\\Desktop\\mma - Copy\\mma_light\\data\\output\\metrics\\natty_metrics.csv (98 rows)\u001b[0m\n",
      "\u001b[32m2025-10-22 19:49:48.798\u001b[0m | \u001b[34m\u001b[1mDEBUG   \u001b[0m | \u001b[36msrc.utils.general\u001b[0m:\u001b[36mopen_csv\u001b[0m:\u001b[36m108\u001b[0m - \u001b[34m\u001b[1mLoaded CSV: c:\\Users\\OAVAI\\Desktop\\mma - Copy\\mma_light\\data\\output\\feature_selection\\natty_feature_frequency.csv (87 rows)\u001b[0m\n",
      "\u001b[32m2025-10-22 19:49:48.799\u001b[0m | \u001b[1mINFO    \u001b[0m | \u001b[36msrc.model_selection.cv_main\u001b[0m:\u001b[36m_cross_validate\u001b[0m:\u001b[36m476\u001b[0m - \u001b[1mSelected top 40 features for CV: 40\u001b[0m\n",
      "\u001b[32m2025-10-22 19:49:48.801\u001b[0m | \u001b[1mINFO    \u001b[0m | \u001b[36msrc.model_selection.cv_main\u001b[0m:\u001b[36m_cross_validate\u001b[0m:\u001b[36m502\u001b[0m - \u001b[1mStarting CV for {'max_depth': 2, 'learning_rate': 0.0559, 'n_estimators': 511, 'min_child_weight': 50.3787, 'gamma': 2.7027, 'subsample': 0.7514, 'colsample_bytree': 0.8202, 'reg_alpha': 0.0, 'reg_lambda': 1.0746, 'top_k_feats': 40}\u001b[0m\n",
      "\u001b[32m2025-10-22 19:49:50.656\u001b[0m | \u001b[1mINFO    \u001b[0m | \u001b[36msrc.model_selection.cv_main\u001b[0m:\u001b[36m_cross_validate\u001b[0m:\u001b[36m532\u001b[0m - \u001b[1mRepeat 1/1, fold 1/5 complete.\u001b[0m\n",
      "\u001b[32m2025-10-22 19:49:52.548\u001b[0m | \u001b[1mINFO    \u001b[0m | \u001b[36msrc.model_selection.cv_main\u001b[0m:\u001b[36m_cross_validate\u001b[0m:\u001b[36m532\u001b[0m - \u001b[1mRepeat 1/1, fold 2/5 complete.\u001b[0m\n",
      "\u001b[32m2025-10-22 19:49:53.833\u001b[0m | \u001b[1mINFO    \u001b[0m | \u001b[36msrc.model_selection.cv_main\u001b[0m:\u001b[36m_cross_validate\u001b[0m:\u001b[36m532\u001b[0m - \u001b[1mRepeat 1/1, fold 3/5 complete.\u001b[0m\n",
      "\u001b[32m2025-10-22 19:49:55.596\u001b[0m | \u001b[1mINFO    \u001b[0m | \u001b[36msrc.model_selection.cv_main\u001b[0m:\u001b[36m_cross_validate\u001b[0m:\u001b[36m532\u001b[0m - \u001b[1mRepeat 1/1, fold 4/5 complete.\u001b[0m\n",
      "\u001b[32m2025-10-22 19:49:57.522\u001b[0m | \u001b[1mINFO    \u001b[0m | \u001b[36msrc.model_selection.cv_main\u001b[0m:\u001b[36m_cross_validate\u001b[0m:\u001b[36m532\u001b[0m - \u001b[1mRepeat 1/1, fold 5/5 complete.\u001b[0m\n",
      "\u001b[32m2025-10-22 19:49:57.523\u001b[0m | \u001b[1mINFO    \u001b[0m | \u001b[36msrc.model_selection.cv_main\u001b[0m:\u001b[36m_cross_validate\u001b[0m:\u001b[36m548\u001b[0m - \u001b[1mAccuracy on valid_train: 0.637\u001b[0m\n",
      "\u001b[32m2025-10-22 19:49:57.528\u001b[0m | \u001b[34m\u001b[1mDEBUG   \u001b[0m | \u001b[36msrc.utils.general\u001b[0m:\u001b[36mopen_csv\u001b[0m:\u001b[36m108\u001b[0m - \u001b[34m\u001b[1mLoaded CSV: c:\\Users\\OAVAI\\Desktop\\mma - Copy\\mma_light\\data\\output\\metrics\\natty_metrics.csv (98 rows)\u001b[0m\n",
      "\u001b[32m2025-10-22 19:49:57.537\u001b[0m | \u001b[34m\u001b[1mDEBUG   \u001b[0m | \u001b[36msrc.utils.general\u001b[0m:\u001b[36mstore_csv\u001b[0m:\u001b[36m145\u001b[0m - \u001b[34m\u001b[1mSaved CSV: c:\\Users\\OAVAI\\Desktop\\mma - Copy\\mma_light\\data\\output\\metrics\\natty_metrics.csv (99 rows)\u001b[0m\n",
      "[I 2025-10-22 19:50:00,041] Trial 16 finished with value: 1.66288776 and parameters: {'max_depth': 2, 'learning_rate': 0.0559364955567462, 'n_estimators': 511, 'min_child_weight': 50.37872309677208, 'gamma': 2.70272708288208, 'subsample': 0.7514049267336347, 'colsample_bytree': 0.8202106521248953, 'reg_lambda': 1.0745602383842743, 'top_k_feats': 40}. Best is trial 7 with value: 1.66026611.\n",
      "\u001b[32m2025-10-22 19:50:00.042\u001b[0m | \u001b[1mINFO    \u001b[0m | \u001b[36msrc.model_selection.cv_main\u001b[0m:\u001b[36m_objective\u001b[0m:\u001b[36m602\u001b[0m - \u001b[1mFound attribute \"feature_params\". Assuming re-training with reduced features.\u001b[0m\n",
      "\u001b[32m2025-10-22 19:50:00.055\u001b[0m | \u001b[34m\u001b[1mDEBUG   \u001b[0m | \u001b[36msrc.utils.general\u001b[0m:\u001b[36mopen_csv\u001b[0m:\u001b[36m108\u001b[0m - \u001b[34m\u001b[1mLoaded CSV: c:\\Users\\OAVAI\\Desktop\\mma - Copy\\mma_light\\data\\output\\metrics\\natty_metrics.csv (99 rows)\u001b[0m\n",
      "\u001b[32m2025-10-22 19:50:00.084\u001b[0m | \u001b[34m\u001b[1mDEBUG   \u001b[0m | \u001b[36msrc.utils.general\u001b[0m:\u001b[36mopen_csv\u001b[0m:\u001b[36m108\u001b[0m - \u001b[34m\u001b[1mLoaded CSV: c:\\Users\\OAVAI\\Desktop\\mma - Copy\\mma_light\\data\\output\\feature_selection\\natty_feature_frequency.csv (87 rows)\u001b[0m\n",
      "\u001b[32m2025-10-22 19:50:00.085\u001b[0m | \u001b[1mINFO    \u001b[0m | \u001b[36msrc.model_selection.cv_main\u001b[0m:\u001b[36m_cross_validate\u001b[0m:\u001b[36m476\u001b[0m - \u001b[1mSelected top 71 features for CV: 71\u001b[0m\n",
      "\u001b[32m2025-10-22 19:50:00.088\u001b[0m | \u001b[1mINFO    \u001b[0m | \u001b[36msrc.model_selection.cv_main\u001b[0m:\u001b[36m_cross_validate\u001b[0m:\u001b[36m502\u001b[0m - \u001b[1mStarting CV for {'max_depth': 3, 'learning_rate': 0.0471, 'n_estimators': 630, 'min_child_weight': 25.5239, 'gamma': 1.903, 'subsample': 0.3856, 'colsample_bytree': 0.761, 'reg_alpha': 0.0, 'reg_lambda': 1.4701, 'top_k_feats': 71}\u001b[0m\n",
      "\u001b[32m2025-10-22 19:50:02.266\u001b[0m | \u001b[1mINFO    \u001b[0m | \u001b[36msrc.model_selection.cv_main\u001b[0m:\u001b[36m_cross_validate\u001b[0m:\u001b[36m532\u001b[0m - \u001b[1mRepeat 1/1, fold 1/5 complete.\u001b[0m\n",
      "\u001b[32m2025-10-22 19:50:04.575\u001b[0m | \u001b[1mINFO    \u001b[0m | \u001b[36msrc.model_selection.cv_main\u001b[0m:\u001b[36m_cross_validate\u001b[0m:\u001b[36m532\u001b[0m - \u001b[1mRepeat 1/1, fold 2/5 complete.\u001b[0m\n",
      "\u001b[32m2025-10-22 19:50:06.174\u001b[0m | \u001b[1mINFO    \u001b[0m | \u001b[36msrc.model_selection.cv_main\u001b[0m:\u001b[36m_cross_validate\u001b[0m:\u001b[36m532\u001b[0m - \u001b[1mRepeat 1/1, fold 3/5 complete.\u001b[0m\n",
      "\u001b[32m2025-10-22 19:50:07.937\u001b[0m | \u001b[1mINFO    \u001b[0m | \u001b[36msrc.model_selection.cv_main\u001b[0m:\u001b[36m_cross_validate\u001b[0m:\u001b[36m532\u001b[0m - \u001b[1mRepeat 1/1, fold 4/5 complete.\u001b[0m\n",
      "\u001b[32m2025-10-22 19:50:10.808\u001b[0m | \u001b[1mINFO    \u001b[0m | \u001b[36msrc.model_selection.cv_main\u001b[0m:\u001b[36m_cross_validate\u001b[0m:\u001b[36m532\u001b[0m - \u001b[1mRepeat 1/1, fold 5/5 complete.\u001b[0m\n",
      "\u001b[32m2025-10-22 19:50:10.810\u001b[0m | \u001b[1mINFO    \u001b[0m | \u001b[36msrc.model_selection.cv_main\u001b[0m:\u001b[36m_cross_validate\u001b[0m:\u001b[36m548\u001b[0m - \u001b[1mAccuracy on valid_train: 0.633375\u001b[0m\n",
      "\u001b[32m2025-10-22 19:50:10.814\u001b[0m | \u001b[34m\u001b[1mDEBUG   \u001b[0m | \u001b[36msrc.utils.general\u001b[0m:\u001b[36mopen_csv\u001b[0m:\u001b[36m108\u001b[0m - \u001b[34m\u001b[1mLoaded CSV: c:\\Users\\OAVAI\\Desktop\\mma - Copy\\mma_light\\data\\output\\metrics\\natty_metrics.csv (99 rows)\u001b[0m\n",
      "\u001b[32m2025-10-22 19:50:10.822\u001b[0m | \u001b[34m\u001b[1mDEBUG   \u001b[0m | \u001b[36msrc.utils.general\u001b[0m:\u001b[36mstore_csv\u001b[0m:\u001b[36m145\u001b[0m - \u001b[34m\u001b[1mSaved CSV: c:\\Users\\OAVAI\\Desktop\\mma - Copy\\mma_light\\data\\output\\metrics\\natty_metrics.csv (100 rows)\u001b[0m\n",
      "[I 2025-10-22 19:50:13,326] Trial 17 finished with value: 1.66241917 and parameters: {'max_depth': 3, 'learning_rate': 0.04708534716195903, 'n_estimators': 630, 'min_child_weight': 25.523914437572667, 'gamma': 1.9029650699940943, 'subsample': 0.38559204278980674, 'colsample_bytree': 0.7610175870669589, 'reg_lambda': 1.4700699186880632, 'top_k_feats': 71}. Best is trial 7 with value: 1.66026611.\n",
      "\u001b[32m2025-10-22 19:50:13.327\u001b[0m | \u001b[1mINFO    \u001b[0m | \u001b[36msrc.model_selection.cv_main\u001b[0m:\u001b[36m_objective\u001b[0m:\u001b[36m602\u001b[0m - \u001b[1mFound attribute \"feature_params\". Assuming re-training with reduced features.\u001b[0m\n",
      "\u001b[32m2025-10-22 19:50:13.342\u001b[0m | \u001b[34m\u001b[1mDEBUG   \u001b[0m | \u001b[36msrc.utils.general\u001b[0m:\u001b[36mopen_csv\u001b[0m:\u001b[36m108\u001b[0m - \u001b[34m\u001b[1mLoaded CSV: c:\\Users\\OAVAI\\Desktop\\mma - Copy\\mma_light\\data\\output\\metrics\\natty_metrics.csv (100 rows)\u001b[0m\n",
      "\u001b[32m2025-10-22 19:50:13.374\u001b[0m | \u001b[34m\u001b[1mDEBUG   \u001b[0m | \u001b[36msrc.utils.general\u001b[0m:\u001b[36mopen_csv\u001b[0m:\u001b[36m108\u001b[0m - \u001b[34m\u001b[1mLoaded CSV: c:\\Users\\OAVAI\\Desktop\\mma - Copy\\mma_light\\data\\output\\feature_selection\\natty_feature_frequency.csv (87 rows)\u001b[0m\n",
      "\u001b[32m2025-10-22 19:50:13.375\u001b[0m | \u001b[1mINFO    \u001b[0m | \u001b[36msrc.model_selection.cv_main\u001b[0m:\u001b[36m_cross_validate\u001b[0m:\u001b[36m476\u001b[0m - \u001b[1mSelected top 86 features for CV: 86\u001b[0m\n",
      "\u001b[32m2025-10-22 19:50:13.379\u001b[0m | \u001b[1mINFO    \u001b[0m | \u001b[36msrc.model_selection.cv_main\u001b[0m:\u001b[36m_cross_validate\u001b[0m:\u001b[36m502\u001b[0m - \u001b[1mStarting CV for {'max_depth': 2, 'learning_rate': 0.031, 'n_estimators': 752, 'min_child_weight': 41.6835, 'gamma': 2.8754, 'subsample': 0.6552, 'colsample_bytree': 0.9209, 'reg_alpha': 0.0, 'reg_lambda': 0.7002, 'top_k_feats': 86}\u001b[0m\n",
      "\u001b[32m2025-10-22 19:50:17.855\u001b[0m | \u001b[1mINFO    \u001b[0m | \u001b[36msrc.model_selection.cv_main\u001b[0m:\u001b[36m_cross_validate\u001b[0m:\u001b[36m532\u001b[0m - \u001b[1mRepeat 1/1, fold 1/5 complete.\u001b[0m\n",
      "\u001b[32m2025-10-22 19:50:22.476\u001b[0m | \u001b[1mINFO    \u001b[0m | \u001b[36msrc.model_selection.cv_main\u001b[0m:\u001b[36m_cross_validate\u001b[0m:\u001b[36m532\u001b[0m - \u001b[1mRepeat 1/1, fold 2/5 complete.\u001b[0m\n",
      "\u001b[32m2025-10-22 19:50:26.638\u001b[0m | \u001b[1mINFO    \u001b[0m | \u001b[36msrc.model_selection.cv_main\u001b[0m:\u001b[36m_cross_validate\u001b[0m:\u001b[36m532\u001b[0m - \u001b[1mRepeat 1/1, fold 3/5 complete.\u001b[0m\n",
      "\u001b[32m2025-10-22 19:50:31.373\u001b[0m | \u001b[1mINFO    \u001b[0m | \u001b[36msrc.model_selection.cv_main\u001b[0m:\u001b[36m_cross_validate\u001b[0m:\u001b[36m532\u001b[0m - \u001b[1mRepeat 1/1, fold 4/5 complete.\u001b[0m\n",
      "\u001b[32m2025-10-22 19:50:35.847\u001b[0m | \u001b[1mINFO    \u001b[0m | \u001b[36msrc.model_selection.cv_main\u001b[0m:\u001b[36m_cross_validate\u001b[0m:\u001b[36m532\u001b[0m - \u001b[1mRepeat 1/1, fold 5/5 complete.\u001b[0m\n",
      "\u001b[32m2025-10-22 19:50:35.849\u001b[0m | \u001b[1mINFO    \u001b[0m | \u001b[36msrc.model_selection.cv_main\u001b[0m:\u001b[36m_cross_validate\u001b[0m:\u001b[36m548\u001b[0m - \u001b[1mAccuracy on valid_train: 0.632\u001b[0m\n",
      "\u001b[32m2025-10-22 19:50:35.854\u001b[0m | \u001b[34m\u001b[1mDEBUG   \u001b[0m | \u001b[36msrc.utils.general\u001b[0m:\u001b[36mopen_csv\u001b[0m:\u001b[36m108\u001b[0m - \u001b[34m\u001b[1mLoaded CSV: c:\\Users\\OAVAI\\Desktop\\mma - Copy\\mma_light\\data\\output\\metrics\\natty_metrics.csv (100 rows)\u001b[0m\n",
      "\u001b[32m2025-10-22 19:50:35.863\u001b[0m | \u001b[34m\u001b[1mDEBUG   \u001b[0m | \u001b[36msrc.utils.general\u001b[0m:\u001b[36mstore_csv\u001b[0m:\u001b[36m145\u001b[0m - \u001b[34m\u001b[1mSaved CSV: c:\\Users\\OAVAI\\Desktop\\mma - Copy\\mma_light\\data\\output\\metrics\\natty_metrics.csv (101 rows)\u001b[0m\n",
      "[I 2025-10-22 19:50:38,370] Trial 18 finished with value: 1.6597205 and parameters: {'max_depth': 2, 'learning_rate': 0.031049298290913876, 'n_estimators': 752, 'min_child_weight': 41.683532676845104, 'gamma': 2.8753781948956476, 'subsample': 0.6551751593683861, 'colsample_bytree': 0.9208552826532393, 'reg_lambda': 0.700162818879869, 'top_k_feats': 86}. Best is trial 18 with value: 1.6597205.\n",
      "\u001b[32m2025-10-22 19:50:38.371\u001b[0m | \u001b[1mINFO    \u001b[0m | \u001b[36msrc.model_selection.cv_main\u001b[0m:\u001b[36m_objective\u001b[0m:\u001b[36m602\u001b[0m - \u001b[1mFound attribute \"feature_params\". Assuming re-training with reduced features.\u001b[0m\n",
      "\u001b[32m2025-10-22 19:50:38.388\u001b[0m | \u001b[34m\u001b[1mDEBUG   \u001b[0m | \u001b[36msrc.utils.general\u001b[0m:\u001b[36mopen_csv\u001b[0m:\u001b[36m108\u001b[0m - \u001b[34m\u001b[1mLoaded CSV: c:\\Users\\OAVAI\\Desktop\\mma - Copy\\mma_light\\data\\output\\metrics\\natty_metrics.csv (101 rows)\u001b[0m\n",
      "\u001b[32m2025-10-22 19:50:38.420\u001b[0m | \u001b[34m\u001b[1mDEBUG   \u001b[0m | \u001b[36msrc.utils.general\u001b[0m:\u001b[36mopen_csv\u001b[0m:\u001b[36m108\u001b[0m - \u001b[34m\u001b[1mLoaded CSV: c:\\Users\\OAVAI\\Desktop\\mma - Copy\\mma_light\\data\\output\\feature_selection\\natty_feature_frequency.csv (87 rows)\u001b[0m\n",
      "\u001b[32m2025-10-22 19:50:38.421\u001b[0m | \u001b[1mINFO    \u001b[0m | \u001b[36msrc.model_selection.cv_main\u001b[0m:\u001b[36m_cross_validate\u001b[0m:\u001b[36m476\u001b[0m - \u001b[1mSelected top 86 features for CV: 86\u001b[0m\n",
      "\u001b[32m2025-10-22 19:50:38.423\u001b[0m | \u001b[1mINFO    \u001b[0m | \u001b[36msrc.model_selection.cv_main\u001b[0m:\u001b[36m_cross_validate\u001b[0m:\u001b[36m502\u001b[0m - \u001b[1mStarting CV for {'max_depth': 3, 'learning_rate': 0.0305, 'n_estimators': 480, 'min_child_weight': 45.9322, 'gamma': 3.384, 'subsample': 0.6646, 'colsample_bytree': 0.9287, 'reg_alpha': 0.0, 'reg_lambda': 0.7614, 'top_k_feats': 86}\u001b[0m\n",
      "\u001b[32m2025-10-22 19:50:41.692\u001b[0m | \u001b[1mINFO    \u001b[0m | \u001b[36msrc.model_selection.cv_main\u001b[0m:\u001b[36m_cross_validate\u001b[0m:\u001b[36m532\u001b[0m - \u001b[1mRepeat 1/1, fold 1/5 complete.\u001b[0m\n",
      "\u001b[32m2025-10-22 19:50:45.392\u001b[0m | \u001b[1mINFO    \u001b[0m | \u001b[36msrc.model_selection.cv_main\u001b[0m:\u001b[36m_cross_validate\u001b[0m:\u001b[36m532\u001b[0m - \u001b[1mRepeat 1/1, fold 2/5 complete.\u001b[0m\n",
      "\u001b[32m2025-10-22 19:50:48.360\u001b[0m | \u001b[1mINFO    \u001b[0m | \u001b[36msrc.model_selection.cv_main\u001b[0m:\u001b[36m_cross_validate\u001b[0m:\u001b[36m532\u001b[0m - \u001b[1mRepeat 1/1, fold 3/5 complete.\u001b[0m\n",
      "\u001b[32m2025-10-22 19:50:51.617\u001b[0m | \u001b[1mINFO    \u001b[0m | \u001b[36msrc.model_selection.cv_main\u001b[0m:\u001b[36m_cross_validate\u001b[0m:\u001b[36m532\u001b[0m - \u001b[1mRepeat 1/1, fold 4/5 complete.\u001b[0m\n",
      "\u001b[32m2025-10-22 19:50:54.574\u001b[0m | \u001b[1mINFO    \u001b[0m | \u001b[36msrc.model_selection.cv_main\u001b[0m:\u001b[36m_cross_validate\u001b[0m:\u001b[36m532\u001b[0m - \u001b[1mRepeat 1/1, fold 5/5 complete.\u001b[0m\n",
      "\u001b[32m2025-10-22 19:50:54.576\u001b[0m | \u001b[1mINFO    \u001b[0m | \u001b[36msrc.model_selection.cv_main\u001b[0m:\u001b[36m_cross_validate\u001b[0m:\u001b[36m548\u001b[0m - \u001b[1mAccuracy on valid_train: 0.632\u001b[0m\n",
      "\u001b[32m2025-10-22 19:50:54.580\u001b[0m | \u001b[34m\u001b[1mDEBUG   \u001b[0m | \u001b[36msrc.utils.general\u001b[0m:\u001b[36mopen_csv\u001b[0m:\u001b[36m108\u001b[0m - \u001b[34m\u001b[1mLoaded CSV: c:\\Users\\OAVAI\\Desktop\\mma - Copy\\mma_light\\data\\output\\metrics\\natty_metrics.csv (101 rows)\u001b[0m\n",
      "\u001b[32m2025-10-22 19:50:54.590\u001b[0m | \u001b[34m\u001b[1mDEBUG   \u001b[0m | \u001b[36msrc.utils.general\u001b[0m:\u001b[36mstore_csv\u001b[0m:\u001b[36m145\u001b[0m - \u001b[34m\u001b[1mSaved CSV: c:\\Users\\OAVAI\\Desktop\\mma - Copy\\mma_light\\data\\output\\metrics\\natty_metrics.csv (102 rows)\u001b[0m\n",
      "[I 2025-10-22 19:50:57,096] Trial 19 finished with value: 1.66230166 and parameters: {'max_depth': 3, 'learning_rate': 0.030460595354511934, 'n_estimators': 480, 'min_child_weight': 45.932173301034716, 'gamma': 3.3839865793505286, 'subsample': 0.664581553232571, 'colsample_bytree': 0.9287457122295657, 'reg_lambda': 0.7613718262480456, 'top_k_feats': 86}. Best is trial 18 with value: 1.6597205.\n",
      "\u001b[32m2025-10-22 19:50:57.097\u001b[0m | \u001b[1mINFO    \u001b[0m | \u001b[36msrc.model_selection.cv_main\u001b[0m:\u001b[36m_objective\u001b[0m:\u001b[36m602\u001b[0m - \u001b[1mFound attribute \"feature_params\". Assuming re-training with reduced features.\u001b[0m\n",
      "\u001b[32m2025-10-22 19:50:57.114\u001b[0m | \u001b[34m\u001b[1mDEBUG   \u001b[0m | \u001b[36msrc.utils.general\u001b[0m:\u001b[36mopen_csv\u001b[0m:\u001b[36m108\u001b[0m - \u001b[34m\u001b[1mLoaded CSV: c:\\Users\\OAVAI\\Desktop\\mma - Copy\\mma_light\\data\\output\\metrics\\natty_metrics.csv (102 rows)\u001b[0m\n",
      "\u001b[32m2025-10-22 19:50:57.145\u001b[0m | \u001b[34m\u001b[1mDEBUG   \u001b[0m | \u001b[36msrc.utils.general\u001b[0m:\u001b[36mopen_csv\u001b[0m:\u001b[36m108\u001b[0m - \u001b[34m\u001b[1mLoaded CSV: c:\\Users\\OAVAI\\Desktop\\mma - Copy\\mma_light\\data\\output\\feature_selection\\natty_feature_frequency.csv (87 rows)\u001b[0m\n",
      "\u001b[32m2025-10-22 19:50:57.145\u001b[0m | \u001b[1mINFO    \u001b[0m | \u001b[36msrc.model_selection.cv_main\u001b[0m:\u001b[36m_cross_validate\u001b[0m:\u001b[36m476\u001b[0m - \u001b[1mSelected top 55 features for CV: 55\u001b[0m\n",
      "\u001b[32m2025-10-22 19:50:57.148\u001b[0m | \u001b[1mINFO    \u001b[0m | \u001b[36msrc.model_selection.cv_main\u001b[0m:\u001b[36m_cross_validate\u001b[0m:\u001b[36m502\u001b[0m - \u001b[1mStarting CV for {'max_depth': 2, 'learning_rate': 0.0222, 'n_estimators': 874, 'min_child_weight': 20.1321, 'gamma': 3.1023, 'subsample': 0.8434, 'colsample_bytree': 0.8999, 'reg_alpha': 0.0, 'reg_lambda': 0.4676, 'top_k_feats': 55}\u001b[0m\n",
      "\u001b[32m2025-10-22 19:51:01.165\u001b[0m | \u001b[1mINFO    \u001b[0m | \u001b[36msrc.model_selection.cv_main\u001b[0m:\u001b[36m_cross_validate\u001b[0m:\u001b[36m532\u001b[0m - \u001b[1mRepeat 1/1, fold 1/5 complete.\u001b[0m\n",
      "\u001b[32m2025-10-22 19:51:05.188\u001b[0m | \u001b[1mINFO    \u001b[0m | \u001b[36msrc.model_selection.cv_main\u001b[0m:\u001b[36m_cross_validate\u001b[0m:\u001b[36m532\u001b[0m - \u001b[1mRepeat 1/1, fold 2/5 complete.\u001b[0m\n",
      "\u001b[32m2025-10-22 19:51:08.686\u001b[0m | \u001b[1mINFO    \u001b[0m | \u001b[36msrc.model_selection.cv_main\u001b[0m:\u001b[36m_cross_validate\u001b[0m:\u001b[36m532\u001b[0m - \u001b[1mRepeat 1/1, fold 3/5 complete.\u001b[0m\n",
      "\u001b[32m2025-10-22 19:51:12.618\u001b[0m | \u001b[1mINFO    \u001b[0m | \u001b[36msrc.model_selection.cv_main\u001b[0m:\u001b[36m_cross_validate\u001b[0m:\u001b[36m532\u001b[0m - \u001b[1mRepeat 1/1, fold 4/5 complete.\u001b[0m\n",
      "\u001b[32m2025-10-22 19:51:16.749\u001b[0m | \u001b[1mINFO    \u001b[0m | \u001b[36msrc.model_selection.cv_main\u001b[0m:\u001b[36m_cross_validate\u001b[0m:\u001b[36m532\u001b[0m - \u001b[1mRepeat 1/1, fold 5/5 complete.\u001b[0m\n",
      "\u001b[32m2025-10-22 19:51:16.751\u001b[0m | \u001b[1mINFO    \u001b[0m | \u001b[36msrc.model_selection.cv_main\u001b[0m:\u001b[36m_cross_validate\u001b[0m:\u001b[36m548\u001b[0m - \u001b[1mAccuracy on valid_train: 0.6335\u001b[0m\n",
      "\u001b[32m2025-10-22 19:51:16.755\u001b[0m | \u001b[34m\u001b[1mDEBUG   \u001b[0m | \u001b[36msrc.utils.general\u001b[0m:\u001b[36mopen_csv\u001b[0m:\u001b[36m108\u001b[0m - \u001b[34m\u001b[1mLoaded CSV: c:\\Users\\OAVAI\\Desktop\\mma - Copy\\mma_light\\data\\output\\metrics\\natty_metrics.csv (102 rows)\u001b[0m\n",
      "\u001b[32m2025-10-22 19:51:16.765\u001b[0m | \u001b[34m\u001b[1mDEBUG   \u001b[0m | \u001b[36msrc.utils.general\u001b[0m:\u001b[36mstore_csv\u001b[0m:\u001b[36m145\u001b[0m - \u001b[34m\u001b[1mSaved CSV: c:\\Users\\OAVAI\\Desktop\\mma - Copy\\mma_light\\data\\output\\metrics\\natty_metrics.csv (103 rows)\u001b[0m\n",
      "[I 2025-10-22 19:51:19,269] Trial 20 finished with value: 1.66647512 and parameters: {'max_depth': 2, 'learning_rate': 0.02218890070130187, 'n_estimators': 874, 'min_child_weight': 20.132098384843573, 'gamma': 3.102304179558764, 'subsample': 0.8434302725916301, 'colsample_bytree': 0.8999453445732799, 'reg_lambda': 0.4675695577897686, 'top_k_feats': 55}. Best is trial 18 with value: 1.6597205.\n",
      "\u001b[32m2025-10-22 19:51:19.270\u001b[0m | \u001b[1mINFO    \u001b[0m | \u001b[36msrc.model_selection.cv_main\u001b[0m:\u001b[36m_objective\u001b[0m:\u001b[36m602\u001b[0m - \u001b[1mFound attribute \"feature_params\". Assuming re-training with reduced features.\u001b[0m\n",
      "\u001b[32m2025-10-22 19:51:19.286\u001b[0m | \u001b[34m\u001b[1mDEBUG   \u001b[0m | \u001b[36msrc.utils.general\u001b[0m:\u001b[36mopen_csv\u001b[0m:\u001b[36m108\u001b[0m - \u001b[34m\u001b[1mLoaded CSV: c:\\Users\\OAVAI\\Desktop\\mma - Copy\\mma_light\\data\\output\\metrics\\natty_metrics.csv (103 rows)\u001b[0m\n",
      "\u001b[32m2025-10-22 19:51:19.322\u001b[0m | \u001b[34m\u001b[1mDEBUG   \u001b[0m | \u001b[36msrc.utils.general\u001b[0m:\u001b[36mopen_csv\u001b[0m:\u001b[36m108\u001b[0m - \u001b[34m\u001b[1mLoaded CSV: c:\\Users\\OAVAI\\Desktop\\mma - Copy\\mma_light\\data\\output\\feature_selection\\natty_feature_frequency.csv (87 rows)\u001b[0m\n",
      "\u001b[32m2025-10-22 19:51:19.322\u001b[0m | \u001b[1mINFO    \u001b[0m | \u001b[36msrc.model_selection.cv_main\u001b[0m:\u001b[36m_cross_validate\u001b[0m:\u001b[36m476\u001b[0m - \u001b[1mSelected top 81 features for CV: 81\u001b[0m\n",
      "\u001b[32m2025-10-22 19:51:19.325\u001b[0m | \u001b[1mINFO    \u001b[0m | \u001b[36msrc.model_selection.cv_main\u001b[0m:\u001b[36m_cross_validate\u001b[0m:\u001b[36m502\u001b[0m - \u001b[1mStarting CV for {'max_depth': 2, 'learning_rate': 0.031, 'n_estimators': 735, 'min_child_weight': 40.0465, 'gamma': 2.625, 'subsample': 0.5475, 'colsample_bytree': 0.9605, 'reg_alpha': 0.0, 'reg_lambda': 0.6314, 'top_k_feats': 81}\u001b[0m\n",
      "\u001b[32m2025-10-22 19:51:23.200\u001b[0m | \u001b[1mINFO    \u001b[0m | \u001b[36msrc.model_selection.cv_main\u001b[0m:\u001b[36m_cross_validate\u001b[0m:\u001b[36m532\u001b[0m - \u001b[1mRepeat 1/1, fold 1/5 complete.\u001b[0m\n",
      "\u001b[32m2025-10-22 19:51:27.726\u001b[0m | \u001b[1mINFO    \u001b[0m | \u001b[36msrc.model_selection.cv_main\u001b[0m:\u001b[36m_cross_validate\u001b[0m:\u001b[36m532\u001b[0m - \u001b[1mRepeat 1/1, fold 2/5 complete.\u001b[0m\n",
      "\u001b[32m2025-10-22 19:51:31.854\u001b[0m | \u001b[1mINFO    \u001b[0m | \u001b[36msrc.model_selection.cv_main\u001b[0m:\u001b[36m_cross_validate\u001b[0m:\u001b[36m532\u001b[0m - \u001b[1mRepeat 1/1, fold 3/5 complete.\u001b[0m\n",
      "\u001b[32m2025-10-22 19:51:35.753\u001b[0m | \u001b[1mINFO    \u001b[0m | \u001b[36msrc.model_selection.cv_main\u001b[0m:\u001b[36m_cross_validate\u001b[0m:\u001b[36m532\u001b[0m - \u001b[1mRepeat 1/1, fold 4/5 complete.\u001b[0m\n",
      "\u001b[32m2025-10-22 19:51:39.548\u001b[0m | \u001b[1mINFO    \u001b[0m | \u001b[36msrc.model_selection.cv_main\u001b[0m:\u001b[36m_cross_validate\u001b[0m:\u001b[36m532\u001b[0m - \u001b[1mRepeat 1/1, fold 5/5 complete.\u001b[0m\n",
      "\u001b[32m2025-10-22 19:51:39.549\u001b[0m | \u001b[1mINFO    \u001b[0m | \u001b[36msrc.model_selection.cv_main\u001b[0m:\u001b[36m_cross_validate\u001b[0m:\u001b[36m548\u001b[0m - \u001b[1mAccuracy on valid_train: 0.62975\u001b[0m\n",
      "\u001b[32m2025-10-22 19:51:39.555\u001b[0m | \u001b[34m\u001b[1mDEBUG   \u001b[0m | \u001b[36msrc.utils.general\u001b[0m:\u001b[36mopen_csv\u001b[0m:\u001b[36m108\u001b[0m - \u001b[34m\u001b[1mLoaded CSV: c:\\Users\\OAVAI\\Desktop\\mma - Copy\\mma_light\\data\\output\\metrics\\natty_metrics.csv (103 rows)\u001b[0m\n",
      "\u001b[32m2025-10-22 19:51:39.565\u001b[0m | \u001b[34m\u001b[1mDEBUG   \u001b[0m | \u001b[36msrc.utils.general\u001b[0m:\u001b[36mstore_csv\u001b[0m:\u001b[36m145\u001b[0m - \u001b[34m\u001b[1mSaved CSV: c:\\Users\\OAVAI\\Desktop\\mma - Copy\\mma_light\\data\\output\\metrics\\natty_metrics.csv (104 rows)\u001b[0m\n",
      "[I 2025-10-22 19:51:42,069] Trial 21 finished with value: 1.65882396 and parameters: {'max_depth': 2, 'learning_rate': 0.031023047590599977, 'n_estimators': 735, 'min_child_weight': 40.04650934458618, 'gamma': 2.6250212891265776, 'subsample': 0.5475293469144353, 'colsample_bytree': 0.9604855975967731, 'reg_lambda': 0.6313856645692011, 'top_k_feats': 81}. Best is trial 21 with value: 1.65882396.\n",
      "\u001b[32m2025-10-22 19:51:42.070\u001b[0m | \u001b[1mINFO    \u001b[0m | \u001b[36msrc.model_selection.cv_main\u001b[0m:\u001b[36m_objective\u001b[0m:\u001b[36m602\u001b[0m - \u001b[1mFound attribute \"feature_params\". Assuming re-training with reduced features.\u001b[0m\n",
      "\u001b[32m2025-10-22 19:51:42.085\u001b[0m | \u001b[34m\u001b[1mDEBUG   \u001b[0m | \u001b[36msrc.utils.general\u001b[0m:\u001b[36mopen_csv\u001b[0m:\u001b[36m108\u001b[0m - \u001b[34m\u001b[1mLoaded CSV: c:\\Users\\OAVAI\\Desktop\\mma - Copy\\mma_light\\data\\output\\metrics\\natty_metrics.csv (104 rows)\u001b[0m\n",
      "\u001b[32m2025-10-22 19:51:42.119\u001b[0m | \u001b[34m\u001b[1mDEBUG   \u001b[0m | \u001b[36msrc.utils.general\u001b[0m:\u001b[36mopen_csv\u001b[0m:\u001b[36m108\u001b[0m - \u001b[34m\u001b[1mLoaded CSV: c:\\Users\\OAVAI\\Desktop\\mma - Copy\\mma_light\\data\\output\\feature_selection\\natty_feature_frequency.csv (87 rows)\u001b[0m\n",
      "\u001b[32m2025-10-22 19:51:42.120\u001b[0m | \u001b[1mINFO    \u001b[0m | \u001b[36msrc.model_selection.cv_main\u001b[0m:\u001b[36m_cross_validate\u001b[0m:\u001b[36m476\u001b[0m - \u001b[1mSelected top 66 features for CV: 66\u001b[0m\n",
      "\u001b[32m2025-10-22 19:51:42.123\u001b[0m | \u001b[1mINFO    \u001b[0m | \u001b[36msrc.model_selection.cv_main\u001b[0m:\u001b[36m_cross_validate\u001b[0m:\u001b[36m502\u001b[0m - \u001b[1mStarting CV for {'max_depth': 2, 'learning_rate': 0.0311, 'n_estimators': 722, 'min_child_weight': 38.78, 'gamma': 2.3144, 'subsample': 0.6592, 'colsample_bytree': 0.9566, 'reg_alpha': 0.0, 'reg_lambda': 1.0958, 'top_k_feats': 66}\u001b[0m\n",
      "\u001b[32m2025-10-22 19:51:45.628\u001b[0m | \u001b[1mINFO    \u001b[0m | \u001b[36msrc.model_selection.cv_main\u001b[0m:\u001b[36m_cross_validate\u001b[0m:\u001b[36m532\u001b[0m - \u001b[1mRepeat 1/1, fold 1/5 complete.\u001b[0m\n",
      "\u001b[32m2025-10-22 19:51:49.610\u001b[0m | \u001b[1mINFO    \u001b[0m | \u001b[36msrc.model_selection.cv_main\u001b[0m:\u001b[36m_cross_validate\u001b[0m:\u001b[36m532\u001b[0m - \u001b[1mRepeat 1/1, fold 2/5 complete.\u001b[0m\n",
      "\u001b[32m2025-10-22 19:51:53.281\u001b[0m | \u001b[1mINFO    \u001b[0m | \u001b[36msrc.model_selection.cv_main\u001b[0m:\u001b[36m_cross_validate\u001b[0m:\u001b[36m532\u001b[0m - \u001b[1mRepeat 1/1, fold 3/5 complete.\u001b[0m\n",
      "\u001b[32m2025-10-22 19:51:57.124\u001b[0m | \u001b[1mINFO    \u001b[0m | \u001b[36msrc.model_selection.cv_main\u001b[0m:\u001b[36m_cross_validate\u001b[0m:\u001b[36m532\u001b[0m - \u001b[1mRepeat 1/1, fold 4/5 complete.\u001b[0m\n",
      "\u001b[32m2025-10-22 19:52:00.802\u001b[0m | \u001b[1mINFO    \u001b[0m | \u001b[36msrc.model_selection.cv_main\u001b[0m:\u001b[36m_cross_validate\u001b[0m:\u001b[36m532\u001b[0m - \u001b[1mRepeat 1/1, fold 5/5 complete.\u001b[0m\n",
      "\u001b[32m2025-10-22 19:52:00.804\u001b[0m | \u001b[1mINFO    \u001b[0m | \u001b[36msrc.model_selection.cv_main\u001b[0m:\u001b[36m_cross_validate\u001b[0m:\u001b[36m548\u001b[0m - \u001b[1mAccuracy on valid_train: 0.633125\u001b[0m\n",
      "\u001b[32m2025-10-22 19:52:00.809\u001b[0m | \u001b[34m\u001b[1mDEBUG   \u001b[0m | \u001b[36msrc.utils.general\u001b[0m:\u001b[36mopen_csv\u001b[0m:\u001b[36m108\u001b[0m - \u001b[34m\u001b[1mLoaded CSV: c:\\Users\\OAVAI\\Desktop\\mma - Copy\\mma_light\\data\\output\\metrics\\natty_metrics.csv (104 rows)\u001b[0m\n",
      "\u001b[32m2025-10-22 19:52:00.819\u001b[0m | \u001b[34m\u001b[1mDEBUG   \u001b[0m | \u001b[36msrc.utils.general\u001b[0m:\u001b[36mstore_csv\u001b[0m:\u001b[36m145\u001b[0m - \u001b[34m\u001b[1mSaved CSV: c:\\Users\\OAVAI\\Desktop\\mma - Copy\\mma_light\\data\\output\\metrics\\natty_metrics.csv (105 rows)\u001b[0m\n",
      "[I 2025-10-22 19:52:03,320] Trial 22 finished with value: 1.66063497 and parameters: {'max_depth': 2, 'learning_rate': 0.031072454326570832, 'n_estimators': 722, 'min_child_weight': 38.77995183494407, 'gamma': 2.314438292641272, 'subsample': 0.6592212954863502, 'colsample_bytree': 0.956588234246917, 'reg_lambda': 1.0958350150840028, 'top_k_feats': 66}. Best is trial 21 with value: 1.65882396.\n",
      "\u001b[32m2025-10-22 19:52:03.320\u001b[0m | \u001b[1mINFO    \u001b[0m | \u001b[36msrc.model_selection.cv_main\u001b[0m:\u001b[36m_objective\u001b[0m:\u001b[36m602\u001b[0m - \u001b[1mFound attribute \"feature_params\". Assuming re-training with reduced features.\u001b[0m\n",
      "\u001b[32m2025-10-22 19:52:03.327\u001b[0m | \u001b[34m\u001b[1mDEBUG   \u001b[0m | \u001b[36msrc.utils.general\u001b[0m:\u001b[36mopen_csv\u001b[0m:\u001b[36m108\u001b[0m - \u001b[34m\u001b[1mLoaded CSV: c:\\Users\\OAVAI\\Desktop\\mma - Copy\\mma_light\\data\\output\\metrics\\natty_metrics.csv (105 rows)\u001b[0m\n",
      "\u001b[32m2025-10-22 19:52:03.375\u001b[0m | \u001b[34m\u001b[1mDEBUG   \u001b[0m | \u001b[36msrc.utils.general\u001b[0m:\u001b[36mopen_csv\u001b[0m:\u001b[36m108\u001b[0m - \u001b[34m\u001b[1mLoaded CSV: c:\\Users\\OAVAI\\Desktop\\mma - Copy\\mma_light\\data\\output\\feature_selection\\natty_feature_frequency.csv (87 rows)\u001b[0m\n",
      "\u001b[32m2025-10-22 19:52:03.375\u001b[0m | \u001b[1mINFO    \u001b[0m | \u001b[36msrc.model_selection.cv_main\u001b[0m:\u001b[36m_cross_validate\u001b[0m:\u001b[36m476\u001b[0m - \u001b[1mSelected top 73 features for CV: 73\u001b[0m\n",
      "\u001b[32m2025-10-22 19:52:03.375\u001b[0m | \u001b[1mINFO    \u001b[0m | \u001b[36msrc.model_selection.cv_main\u001b[0m:\u001b[36m_cross_validate\u001b[0m:\u001b[36m502\u001b[0m - \u001b[1mStarting CV for {'max_depth': 3, 'learning_rate': 0.0387, 'n_estimators': 680, 'min_child_weight': 33.2028, 'gamma': 3.0307, 'subsample': 0.5593, 'colsample_bytree': 0.9988, 'reg_alpha': 0.0, 'reg_lambda': 0.714, 'top_k_feats': 73}\u001b[0m\n",
      "\u001b[32m2025-10-22 19:52:06.569\u001b[0m | \u001b[1mINFO    \u001b[0m | \u001b[36msrc.model_selection.cv_main\u001b[0m:\u001b[36m_cross_validate\u001b[0m:\u001b[36m532\u001b[0m - \u001b[1mRepeat 1/1, fold 1/5 complete.\u001b[0m\n",
      "\u001b[32m2025-10-22 19:52:10.072\u001b[0m | \u001b[1mINFO    \u001b[0m | \u001b[36msrc.model_selection.cv_main\u001b[0m:\u001b[36m_cross_validate\u001b[0m:\u001b[36m532\u001b[0m - \u001b[1mRepeat 1/1, fold 2/5 complete.\u001b[0m\n",
      "\u001b[32m2025-10-22 19:52:12.477\u001b[0m | \u001b[1mINFO    \u001b[0m | \u001b[36msrc.model_selection.cv_main\u001b[0m:\u001b[36m_cross_validate\u001b[0m:\u001b[36m532\u001b[0m - \u001b[1mRepeat 1/1, fold 3/5 complete.\u001b[0m\n",
      "\u001b[32m2025-10-22 19:52:15.101\u001b[0m | \u001b[1mINFO    \u001b[0m | \u001b[36msrc.model_selection.cv_main\u001b[0m:\u001b[36m_cross_validate\u001b[0m:\u001b[36m532\u001b[0m - \u001b[1mRepeat 1/1, fold 4/5 complete.\u001b[0m\n",
      "\u001b[32m2025-10-22 19:52:18.494\u001b[0m | \u001b[1mINFO    \u001b[0m | \u001b[36msrc.model_selection.cv_main\u001b[0m:\u001b[36m_cross_validate\u001b[0m:\u001b[36m532\u001b[0m - \u001b[1mRepeat 1/1, fold 5/5 complete.\u001b[0m\n",
      "\u001b[32m2025-10-22 19:52:18.494\u001b[0m | \u001b[1mINFO    \u001b[0m | \u001b[36msrc.model_selection.cv_main\u001b[0m:\u001b[36m_cross_validate\u001b[0m:\u001b[36m548\u001b[0m - \u001b[1mAccuracy on valid_train: 0.63175\u001b[0m\n",
      "\u001b[32m2025-10-22 19:52:18.499\u001b[0m | \u001b[34m\u001b[1mDEBUG   \u001b[0m | \u001b[36msrc.utils.general\u001b[0m:\u001b[36mopen_csv\u001b[0m:\u001b[36m108\u001b[0m - \u001b[34m\u001b[1mLoaded CSV: c:\\Users\\OAVAI\\Desktop\\mma - Copy\\mma_light\\data\\output\\metrics\\natty_metrics.csv (105 rows)\u001b[0m\n",
      "\u001b[32m2025-10-22 19:52:18.508\u001b[0m | \u001b[34m\u001b[1mDEBUG   \u001b[0m | \u001b[36msrc.utils.general\u001b[0m:\u001b[36mstore_csv\u001b[0m:\u001b[36m145\u001b[0m - \u001b[34m\u001b[1mSaved CSV: c:\\Users\\OAVAI\\Desktop\\mma - Copy\\mma_light\\data\\output\\metrics\\natty_metrics.csv (106 rows)\u001b[0m\n",
      "[I 2025-10-22 19:52:21,014] Trial 23 finished with value: 1.6585566 and parameters: {'max_depth': 3, 'learning_rate': 0.038693242052916535, 'n_estimators': 680, 'min_child_weight': 33.202797290194525, 'gamma': 3.0307173946760337, 'subsample': 0.5592541115304747, 'colsample_bytree': 0.998807067826734, 'reg_lambda': 0.7139524386351683, 'top_k_feats': 73}. Best is trial 23 with value: 1.6585566.\n",
      "\u001b[32m2025-10-22 19:52:21.015\u001b[0m | \u001b[1mINFO    \u001b[0m | \u001b[36msrc.model_selection.cv_main\u001b[0m:\u001b[36m_objective\u001b[0m:\u001b[36m602\u001b[0m - \u001b[1mFound attribute \"feature_params\". Assuming re-training with reduced features.\u001b[0m\n",
      "\u001b[32m2025-10-22 19:52:21.030\u001b[0m | \u001b[34m\u001b[1mDEBUG   \u001b[0m | \u001b[36msrc.utils.general\u001b[0m:\u001b[36mopen_csv\u001b[0m:\u001b[36m108\u001b[0m - \u001b[34m\u001b[1mLoaded CSV: c:\\Users\\OAVAI\\Desktop\\mma - Copy\\mma_light\\data\\output\\metrics\\natty_metrics.csv (106 rows)\u001b[0m\n",
      "\u001b[32m2025-10-22 19:52:21.061\u001b[0m | \u001b[34m\u001b[1mDEBUG   \u001b[0m | \u001b[36msrc.utils.general\u001b[0m:\u001b[36mopen_csv\u001b[0m:\u001b[36m108\u001b[0m - \u001b[34m\u001b[1mLoaded CSV: c:\\Users\\OAVAI\\Desktop\\mma - Copy\\mma_light\\data\\output\\feature_selection\\natty_feature_frequency.csv (87 rows)\u001b[0m\n",
      "\u001b[32m2025-10-22 19:52:21.062\u001b[0m | \u001b[1mINFO    \u001b[0m | \u001b[36msrc.model_selection.cv_main\u001b[0m:\u001b[36m_cross_validate\u001b[0m:\u001b[36m476\u001b[0m - \u001b[1mSelected top 83 features for CV: 83\u001b[0m\n",
      "\u001b[32m2025-10-22 19:52:21.065\u001b[0m | \u001b[1mINFO    \u001b[0m | \u001b[36msrc.model_selection.cv_main\u001b[0m:\u001b[36m_cross_validate\u001b[0m:\u001b[36m502\u001b[0m - \u001b[1mStarting CV for {'max_depth': 2, 'learning_rate': 0.0392, 'n_estimators': 635, 'min_child_weight': 33.7765, 'gamma': 3.5993, 'subsample': 0.5396, 'colsample_bytree': 0.9561, 'reg_alpha': 0.0, 'reg_lambda': 0.7234, 'top_k_feats': 83}\u001b[0m\n",
      "\u001b[32m2025-10-22 19:52:24.552\u001b[0m | \u001b[1mINFO    \u001b[0m | \u001b[36msrc.model_selection.cv_main\u001b[0m:\u001b[36m_cross_validate\u001b[0m:\u001b[36m532\u001b[0m - \u001b[1mRepeat 1/1, fold 1/5 complete.\u001b[0m\n",
      "\u001b[32m2025-10-22 19:52:28.273\u001b[0m | \u001b[1mINFO    \u001b[0m | \u001b[36msrc.model_selection.cv_main\u001b[0m:\u001b[36m_cross_validate\u001b[0m:\u001b[36m532\u001b[0m - \u001b[1mRepeat 1/1, fold 2/5 complete.\u001b[0m\n",
      "\u001b[32m2025-10-22 19:52:31.471\u001b[0m | \u001b[1mINFO    \u001b[0m | \u001b[36msrc.model_selection.cv_main\u001b[0m:\u001b[36m_cross_validate\u001b[0m:\u001b[36m532\u001b[0m - \u001b[1mRepeat 1/1, fold 3/5 complete.\u001b[0m\n",
      "\u001b[32m2025-10-22 19:52:35.155\u001b[0m | \u001b[1mINFO    \u001b[0m | \u001b[36msrc.model_selection.cv_main\u001b[0m:\u001b[36m_cross_validate\u001b[0m:\u001b[36m532\u001b[0m - \u001b[1mRepeat 1/1, fold 4/5 complete.\u001b[0m\n",
      "\u001b[32m2025-10-22 19:52:38.210\u001b[0m | \u001b[1mINFO    \u001b[0m | \u001b[36msrc.model_selection.cv_main\u001b[0m:\u001b[36m_cross_validate\u001b[0m:\u001b[36m532\u001b[0m - \u001b[1mRepeat 1/1, fold 5/5 complete.\u001b[0m\n",
      "\u001b[32m2025-10-22 19:52:38.211\u001b[0m | \u001b[1mINFO    \u001b[0m | \u001b[36msrc.model_selection.cv_main\u001b[0m:\u001b[36m_cross_validate\u001b[0m:\u001b[36m548\u001b[0m - \u001b[1mAccuracy on valid_train: 0.630625\u001b[0m\n",
      "\u001b[32m2025-10-22 19:52:38.216\u001b[0m | \u001b[34m\u001b[1mDEBUG   \u001b[0m | \u001b[36msrc.utils.general\u001b[0m:\u001b[36mopen_csv\u001b[0m:\u001b[36m108\u001b[0m - \u001b[34m\u001b[1mLoaded CSV: c:\\Users\\OAVAI\\Desktop\\mma - Copy\\mma_light\\data\\output\\metrics\\natty_metrics.csv (106 rows)\u001b[0m\n",
      "\u001b[32m2025-10-22 19:52:38.225\u001b[0m | \u001b[34m\u001b[1mDEBUG   \u001b[0m | \u001b[36msrc.utils.general\u001b[0m:\u001b[36mstore_csv\u001b[0m:\u001b[36m145\u001b[0m - \u001b[34m\u001b[1mSaved CSV: c:\\Users\\OAVAI\\Desktop\\mma - Copy\\mma_light\\data\\output\\metrics\\natty_metrics.csv (107 rows)\u001b[0m\n",
      "[I 2025-10-22 19:52:40,732] Trial 24 finished with value: 1.66081597 and parameters: {'max_depth': 2, 'learning_rate': 0.03922851935492841, 'n_estimators': 635, 'min_child_weight': 33.776473248653595, 'gamma': 3.5992850634394618, 'subsample': 0.5396076590613724, 'colsample_bytree': 0.9560663857026308, 'reg_lambda': 0.7234046316979118, 'top_k_feats': 83}. Best is trial 23 with value: 1.6585566.\n",
      "\u001b[32m2025-10-22 19:52:40.732\u001b[0m | \u001b[1mINFO    \u001b[0m | \u001b[36msrc.model_selection.cv_main\u001b[0m:\u001b[36m_objective\u001b[0m:\u001b[36m602\u001b[0m - \u001b[1mFound attribute \"feature_params\". Assuming re-training with reduced features.\u001b[0m\n",
      "\u001b[32m2025-10-22 19:52:40.747\u001b[0m | \u001b[34m\u001b[1mDEBUG   \u001b[0m | \u001b[36msrc.utils.general\u001b[0m:\u001b[36mopen_csv\u001b[0m:\u001b[36m108\u001b[0m - \u001b[34m\u001b[1mLoaded CSV: c:\\Users\\OAVAI\\Desktop\\mma - Copy\\mma_light\\data\\output\\metrics\\natty_metrics.csv (107 rows)\u001b[0m\n",
      "\u001b[32m2025-10-22 19:52:40.789\u001b[0m | \u001b[34m\u001b[1mDEBUG   \u001b[0m | \u001b[36msrc.utils.general\u001b[0m:\u001b[36mopen_csv\u001b[0m:\u001b[36m108\u001b[0m - \u001b[34m\u001b[1mLoaded CSV: c:\\Users\\OAVAI\\Desktop\\mma - Copy\\mma_light\\data\\output\\feature_selection\\natty_feature_frequency.csv (87 rows)\u001b[0m\n",
      "\u001b[32m2025-10-22 19:52:40.790\u001b[0m | \u001b[1mINFO    \u001b[0m | \u001b[36msrc.model_selection.cv_main\u001b[0m:\u001b[36m_cross_validate\u001b[0m:\u001b[36m476\u001b[0m - \u001b[1mSelected top 73 features for CV: 73\u001b[0m\n",
      "\u001b[32m2025-10-22 19:52:40.793\u001b[0m | \u001b[1mINFO    \u001b[0m | \u001b[36msrc.model_selection.cv_main\u001b[0m:\u001b[36m_cross_validate\u001b[0m:\u001b[36m502\u001b[0m - \u001b[1mStarting CV for {'max_depth': 3, 'learning_rate': 0.0266, 'n_estimators': 757, 'min_child_weight': 38.6089, 'gamma': 3.0109, 'subsample': 0.625, 'colsample_bytree': 0.9028, 'reg_alpha': 0.0, 'reg_lambda': 0.9083, 'top_k_feats': 73}\u001b[0m\n",
      "\u001b[32m2025-10-22 19:52:44.861\u001b[0m | \u001b[1mINFO    \u001b[0m | \u001b[36msrc.model_selection.cv_main\u001b[0m:\u001b[36m_cross_validate\u001b[0m:\u001b[36m532\u001b[0m - \u001b[1mRepeat 1/1, fold 1/5 complete.\u001b[0m\n",
      "\u001b[32m2025-10-22 19:52:49.701\u001b[0m | \u001b[1mINFO    \u001b[0m | \u001b[36msrc.model_selection.cv_main\u001b[0m:\u001b[36m_cross_validate\u001b[0m:\u001b[36m532\u001b[0m - \u001b[1mRepeat 1/1, fold 2/5 complete.\u001b[0m\n",
      "\u001b[32m2025-10-22 19:52:52.896\u001b[0m | \u001b[1mINFO    \u001b[0m | \u001b[36msrc.model_selection.cv_main\u001b[0m:\u001b[36m_cross_validate\u001b[0m:\u001b[36m532\u001b[0m - \u001b[1mRepeat 1/1, fold 3/5 complete.\u001b[0m\n",
      "\u001b[32m2025-10-22 19:52:56.824\u001b[0m | \u001b[1mINFO    \u001b[0m | \u001b[36msrc.model_selection.cv_main\u001b[0m:\u001b[36m_cross_validate\u001b[0m:\u001b[36m532\u001b[0m - \u001b[1mRepeat 1/1, fold 4/5 complete.\u001b[0m\n",
      "\u001b[32m2025-10-22 19:53:01.145\u001b[0m | \u001b[1mINFO    \u001b[0m | \u001b[36msrc.model_selection.cv_main\u001b[0m:\u001b[36m_cross_validate\u001b[0m:\u001b[36m532\u001b[0m - \u001b[1mRepeat 1/1, fold 5/5 complete.\u001b[0m\n",
      "\u001b[32m2025-10-22 19:53:01.146\u001b[0m | \u001b[1mINFO    \u001b[0m | \u001b[36msrc.model_selection.cv_main\u001b[0m:\u001b[36m_cross_validate\u001b[0m:\u001b[36m548\u001b[0m - \u001b[1mAccuracy on valid_train: 0.63325\u001b[0m\n",
      "\u001b[32m2025-10-22 19:53:01.151\u001b[0m | \u001b[34m\u001b[1mDEBUG   \u001b[0m | \u001b[36msrc.utils.general\u001b[0m:\u001b[36mopen_csv\u001b[0m:\u001b[36m108\u001b[0m - \u001b[34m\u001b[1mLoaded CSV: c:\\Users\\OAVAI\\Desktop\\mma - Copy\\mma_light\\data\\output\\metrics\\natty_metrics.csv (107 rows)\u001b[0m\n",
      "\u001b[32m2025-10-22 19:53:01.161\u001b[0m | \u001b[34m\u001b[1mDEBUG   \u001b[0m | \u001b[36msrc.utils.general\u001b[0m:\u001b[36mstore_csv\u001b[0m:\u001b[36m145\u001b[0m - \u001b[34m\u001b[1mSaved CSV: c:\\Users\\OAVAI\\Desktop\\mma - Copy\\mma_light\\data\\output\\metrics\\natty_metrics.csv (108 rows)\u001b[0m\n",
      "[I 2025-10-22 19:53:03,663] Trial 25 finished with value: 1.65881512 and parameters: {'max_depth': 3, 'learning_rate': 0.026609478031582215, 'n_estimators': 757, 'min_child_weight': 38.608936623074264, 'gamma': 3.0109467201421616, 'subsample': 0.6250050531419977, 'colsample_bytree': 0.9027784730156935, 'reg_lambda': 0.9082819550860034, 'top_k_feats': 73}. Best is trial 23 with value: 1.6585566.\n",
      "\u001b[32m2025-10-22 19:53:03.663\u001b[0m | \u001b[1mINFO    \u001b[0m | \u001b[36msrc.model_selection.cv_main\u001b[0m:\u001b[36m_objective\u001b[0m:\u001b[36m602\u001b[0m - \u001b[1mFound attribute \"feature_params\". Assuming re-training with reduced features.\u001b[0m\n",
      "\u001b[32m2025-10-22 19:53:03.676\u001b[0m | \u001b[34m\u001b[1mDEBUG   \u001b[0m | \u001b[36msrc.utils.general\u001b[0m:\u001b[36mopen_csv\u001b[0m:\u001b[36m108\u001b[0m - \u001b[34m\u001b[1mLoaded CSV: c:\\Users\\OAVAI\\Desktop\\mma - Copy\\mma_light\\data\\output\\metrics\\natty_metrics.csv (108 rows)\u001b[0m\n",
      "\u001b[32m2025-10-22 19:53:03.723\u001b[0m | \u001b[34m\u001b[1mDEBUG   \u001b[0m | \u001b[36msrc.utils.general\u001b[0m:\u001b[36mopen_csv\u001b[0m:\u001b[36m108\u001b[0m - \u001b[34m\u001b[1mLoaded CSV: c:\\Users\\OAVAI\\Desktop\\mma - Copy\\mma_light\\data\\output\\feature_selection\\natty_feature_frequency.csv (87 rows)\u001b[0m\n",
      "\u001b[32m2025-10-22 19:53:03.723\u001b[0m | \u001b[1mINFO    \u001b[0m | \u001b[36msrc.model_selection.cv_main\u001b[0m:\u001b[36m_cross_validate\u001b[0m:\u001b[36m476\u001b[0m - \u001b[1mSelected top 72 features for CV: 72\u001b[0m\n",
      "\u001b[32m2025-10-22 19:53:03.734\u001b[0m | \u001b[1mINFO    \u001b[0m | \u001b[36msrc.model_selection.cv_main\u001b[0m:\u001b[36m_cross_validate\u001b[0m:\u001b[36m502\u001b[0m - \u001b[1mStarting CV for {'max_depth': 4, 'learning_rate': 0.0271, 'n_estimators': 820, 'min_child_weight': 31.5799, 'gamma': 2.5152, 'subsample': 0.6226, 'colsample_bytree': 0.8872, 'reg_alpha': 0.0, 'reg_lambda': 0.9484, 'top_k_feats': 72}\u001b[0m\n",
      "\u001b[32m2025-10-22 19:53:07.483\u001b[0m | \u001b[1mINFO    \u001b[0m | \u001b[36msrc.model_selection.cv_main\u001b[0m:\u001b[36m_cross_validate\u001b[0m:\u001b[36m532\u001b[0m - \u001b[1mRepeat 1/1, fold 1/5 complete.\u001b[0m\n",
      "\u001b[32m2025-10-22 19:53:11.172\u001b[0m | \u001b[1mINFO    \u001b[0m | \u001b[36msrc.model_selection.cv_main\u001b[0m:\u001b[36m_cross_validate\u001b[0m:\u001b[36m532\u001b[0m - \u001b[1mRepeat 1/1, fold 2/5 complete.\u001b[0m\n",
      "\u001b[32m2025-10-22 19:53:14.757\u001b[0m | \u001b[1mINFO    \u001b[0m | \u001b[36msrc.model_selection.cv_main\u001b[0m:\u001b[36m_cross_validate\u001b[0m:\u001b[36m532\u001b[0m - \u001b[1mRepeat 1/1, fold 3/5 complete.\u001b[0m\n",
      "\u001b[32m2025-10-22 19:53:18.480\u001b[0m | \u001b[1mINFO    \u001b[0m | \u001b[36msrc.model_selection.cv_main\u001b[0m:\u001b[36m_cross_validate\u001b[0m:\u001b[36m532\u001b[0m - \u001b[1mRepeat 1/1, fold 4/5 complete.\u001b[0m\n",
      "\u001b[32m2025-10-22 19:53:23.260\u001b[0m | \u001b[1mINFO    \u001b[0m | \u001b[36msrc.model_selection.cv_main\u001b[0m:\u001b[36m_cross_validate\u001b[0m:\u001b[36m532\u001b[0m - \u001b[1mRepeat 1/1, fold 5/5 complete.\u001b[0m\n",
      "\u001b[32m2025-10-22 19:53:23.262\u001b[0m | \u001b[1mINFO    \u001b[0m | \u001b[36msrc.model_selection.cv_main\u001b[0m:\u001b[36m_cross_validate\u001b[0m:\u001b[36m548\u001b[0m - \u001b[1mAccuracy on valid_train: 0.6325\u001b[0m\n",
      "\u001b[32m2025-10-22 19:53:23.267\u001b[0m | \u001b[34m\u001b[1mDEBUG   \u001b[0m | \u001b[36msrc.utils.general\u001b[0m:\u001b[36mopen_csv\u001b[0m:\u001b[36m108\u001b[0m - \u001b[34m\u001b[1mLoaded CSV: c:\\Users\\OAVAI\\Desktop\\mma - Copy\\mma_light\\data\\output\\metrics\\natty_metrics.csv (108 rows)\u001b[0m\n",
      "\u001b[32m2025-10-22 19:53:23.278\u001b[0m | \u001b[34m\u001b[1mDEBUG   \u001b[0m | \u001b[36msrc.utils.general\u001b[0m:\u001b[36mstore_csv\u001b[0m:\u001b[36m145\u001b[0m - \u001b[34m\u001b[1mSaved CSV: c:\\Users\\OAVAI\\Desktop\\mma - Copy\\mma_light\\data\\output\\metrics\\natty_metrics.csv (109 rows)\u001b[0m\n",
      "[I 2025-10-22 19:53:25,780] Trial 26 finished with value: 1.6587486 and parameters: {'max_depth': 4, 'learning_rate': 0.027102603331105615, 'n_estimators': 820, 'min_child_weight': 31.57988727173246, 'gamma': 2.5151684785780914, 'subsample': 0.6225964722605956, 'colsample_bytree': 0.8872064995218651, 'reg_lambda': 0.9484107170051017, 'top_k_feats': 72}. Best is trial 23 with value: 1.6585566.\n",
      "\u001b[32m2025-10-22 19:53:25.784\u001b[0m | \u001b[1mINFO    \u001b[0m | \u001b[36msrc.model_selection.cv_main\u001b[0m:\u001b[36m_objective\u001b[0m:\u001b[36m602\u001b[0m - \u001b[1mFound attribute \"feature_params\". Assuming re-training with reduced features.\u001b[0m\n",
      "\u001b[32m2025-10-22 19:53:25.800\u001b[0m | \u001b[34m\u001b[1mDEBUG   \u001b[0m | \u001b[36msrc.utils.general\u001b[0m:\u001b[36mopen_csv\u001b[0m:\u001b[36m108\u001b[0m - \u001b[34m\u001b[1mLoaded CSV: c:\\Users\\OAVAI\\Desktop\\mma - Copy\\mma_light\\data\\output\\metrics\\natty_metrics.csv (109 rows)\u001b[0m\n",
      "\u001b[32m2025-10-22 19:53:25.833\u001b[0m | \u001b[34m\u001b[1mDEBUG   \u001b[0m | \u001b[36msrc.utils.general\u001b[0m:\u001b[36mopen_csv\u001b[0m:\u001b[36m108\u001b[0m - \u001b[34m\u001b[1mLoaded CSV: c:\\Users\\OAVAI\\Desktop\\mma - Copy\\mma_light\\data\\output\\feature_selection\\natty_feature_frequency.csv (87 rows)\u001b[0m\n",
      "\u001b[32m2025-10-22 19:53:25.833\u001b[0m | \u001b[1mINFO    \u001b[0m | \u001b[36msrc.model_selection.cv_main\u001b[0m:\u001b[36m_cross_validate\u001b[0m:\u001b[36m476\u001b[0m - \u001b[1mSelected top 72 features for CV: 72\u001b[0m\n",
      "\u001b[32m2025-10-22 19:53:25.843\u001b[0m | \u001b[1mINFO    \u001b[0m | \u001b[36msrc.model_selection.cv_main\u001b[0m:\u001b[36m_cross_validate\u001b[0m:\u001b[36m502\u001b[0m - \u001b[1mStarting CV for {'max_depth': 4, 'learning_rate': 0.0261, 'n_estimators': 934, 'min_child_weight': 26.8673, 'gamma': 3.0981, 'subsample': 0.6234, 'colsample_bytree': 0.8909, 'reg_alpha': 0.0, 'reg_lambda': 0.964, 'top_k_feats': 72}\u001b[0m\n",
      "\u001b[32m2025-10-22 19:53:30.111\u001b[0m | \u001b[1mINFO    \u001b[0m | \u001b[36msrc.model_selection.cv_main\u001b[0m:\u001b[36m_cross_validate\u001b[0m:\u001b[36m532\u001b[0m - \u001b[1mRepeat 1/1, fold 1/5 complete.\u001b[0m\n",
      "\u001b[32m2025-10-22 19:53:34.251\u001b[0m | \u001b[1mINFO    \u001b[0m | \u001b[36msrc.model_selection.cv_main\u001b[0m:\u001b[36m_cross_validate\u001b[0m:\u001b[36m532\u001b[0m - \u001b[1mRepeat 1/1, fold 2/5 complete.\u001b[0m\n",
      "\u001b[32m2025-10-22 19:53:37.529\u001b[0m | \u001b[1mINFO    \u001b[0m | \u001b[36msrc.model_selection.cv_main\u001b[0m:\u001b[36m_cross_validate\u001b[0m:\u001b[36m532\u001b[0m - \u001b[1mRepeat 1/1, fold 3/5 complete.\u001b[0m\n",
      "\u001b[32m2025-10-22 19:53:41.909\u001b[0m | \u001b[1mINFO    \u001b[0m | \u001b[36msrc.model_selection.cv_main\u001b[0m:\u001b[36m_cross_validate\u001b[0m:\u001b[36m532\u001b[0m - \u001b[1mRepeat 1/1, fold 4/5 complete.\u001b[0m\n",
      "\u001b[32m2025-10-22 19:53:46.372\u001b[0m | \u001b[1mINFO    \u001b[0m | \u001b[36msrc.model_selection.cv_main\u001b[0m:\u001b[36m_cross_validate\u001b[0m:\u001b[36m532\u001b[0m - \u001b[1mRepeat 1/1, fold 5/5 complete.\u001b[0m\n",
      "\u001b[32m2025-10-22 19:53:46.373\u001b[0m | \u001b[1mINFO    \u001b[0m | \u001b[36msrc.model_selection.cv_main\u001b[0m:\u001b[36m_cross_validate\u001b[0m:\u001b[36m548\u001b[0m - \u001b[1mAccuracy on valid_train: 0.631625\u001b[0m\n",
      "\u001b[32m2025-10-22 19:53:46.378\u001b[0m | \u001b[34m\u001b[1mDEBUG   \u001b[0m | \u001b[36msrc.utils.general\u001b[0m:\u001b[36mopen_csv\u001b[0m:\u001b[36m108\u001b[0m - \u001b[34m\u001b[1mLoaded CSV: c:\\Users\\OAVAI\\Desktop\\mma - Copy\\mma_light\\data\\output\\metrics\\natty_metrics.csv (109 rows)\u001b[0m\n",
      "\u001b[32m2025-10-22 19:53:46.387\u001b[0m | \u001b[34m\u001b[1mDEBUG   \u001b[0m | \u001b[36msrc.utils.general\u001b[0m:\u001b[36mstore_csv\u001b[0m:\u001b[36m145\u001b[0m - \u001b[34m\u001b[1mSaved CSV: c:\\Users\\OAVAI\\Desktop\\mma - Copy\\mma_light\\data\\output\\metrics\\natty_metrics.csv (110 rows)\u001b[0m\n",
      "[I 2025-10-22 19:53:48,890] Trial 27 finished with value: 1.65990449 and parameters: {'max_depth': 4, 'learning_rate': 0.02605119731813344, 'n_estimators': 934, 'min_child_weight': 26.86732981987305, 'gamma': 3.098063874146309, 'subsample': 0.6234286213344875, 'colsample_bytree': 0.8908587017450644, 'reg_lambda': 0.964039372029529, 'top_k_feats': 72}. Best is trial 23 with value: 1.6585566.\n",
      "\u001b[32m2025-10-22 19:53:48.890\u001b[0m | \u001b[1mINFO    \u001b[0m | \u001b[36msrc.model_selection.cv_main\u001b[0m:\u001b[36m_objective\u001b[0m:\u001b[36m602\u001b[0m - \u001b[1mFound attribute \"feature_params\". Assuming re-training with reduced features.\u001b[0m\n",
      "\u001b[32m2025-10-22 19:53:48.899\u001b[0m | \u001b[34m\u001b[1mDEBUG   \u001b[0m | \u001b[36msrc.utils.general\u001b[0m:\u001b[36mopen_csv\u001b[0m:\u001b[36m108\u001b[0m - \u001b[34m\u001b[1mLoaded CSV: c:\\Users\\OAVAI\\Desktop\\mma - Copy\\mma_light\\data\\output\\metrics\\natty_metrics.csv (110 rows)\u001b[0m\n",
      "\u001b[32m2025-10-22 19:53:48.933\u001b[0m | \u001b[34m\u001b[1mDEBUG   \u001b[0m | \u001b[36msrc.utils.general\u001b[0m:\u001b[36mopen_csv\u001b[0m:\u001b[36m108\u001b[0m - \u001b[34m\u001b[1mLoaded CSV: c:\\Users\\OAVAI\\Desktop\\mma - Copy\\mma_light\\data\\output\\feature_selection\\natty_feature_frequency.csv (87 rows)\u001b[0m\n",
      "\u001b[32m2025-10-22 19:53:48.933\u001b[0m | \u001b[1mINFO    \u001b[0m | \u001b[36msrc.model_selection.cv_main\u001b[0m:\u001b[36m_cross_validate\u001b[0m:\u001b[36m476\u001b[0m - \u001b[1mSelected top 62 features for CV: 62\u001b[0m\n",
      "\u001b[32m2025-10-22 19:53:48.945\u001b[0m | \u001b[1mINFO    \u001b[0m | \u001b[36msrc.model_selection.cv_main\u001b[0m:\u001b[36m_cross_validate\u001b[0m:\u001b[36m502\u001b[0m - \u001b[1mStarting CV for {'max_depth': 4, 'learning_rate': 0.0255, 'n_estimators': 830, 'min_child_weight': 32.2134, 'gamma': 1.66, 'subsample': 0.4603, 'colsample_bytree': 0.8288, 'reg_alpha': 0.0, 'reg_lambda': 0.9545, 'top_k_feats': 62}\u001b[0m\n",
      "\u001b[32m2025-10-22 19:53:52.130\u001b[0m | \u001b[1mINFO    \u001b[0m | \u001b[36msrc.model_selection.cv_main\u001b[0m:\u001b[36m_cross_validate\u001b[0m:\u001b[36m532\u001b[0m - \u001b[1mRepeat 1/1, fold 1/5 complete.\u001b[0m\n",
      "\u001b[32m2025-10-22 19:53:55.631\u001b[0m | \u001b[1mINFO    \u001b[0m | \u001b[36msrc.model_selection.cv_main\u001b[0m:\u001b[36m_cross_validate\u001b[0m:\u001b[36m532\u001b[0m - \u001b[1mRepeat 1/1, fold 2/5 complete.\u001b[0m\n",
      "\u001b[32m2025-10-22 19:53:59.282\u001b[0m | \u001b[1mINFO    \u001b[0m | \u001b[36msrc.model_selection.cv_main\u001b[0m:\u001b[36m_cross_validate\u001b[0m:\u001b[36m532\u001b[0m - \u001b[1mRepeat 1/1, fold 3/5 complete.\u001b[0m\n",
      "\u001b[32m2025-10-22 19:54:02.025\u001b[0m | \u001b[1mINFO    \u001b[0m | \u001b[36msrc.model_selection.cv_main\u001b[0m:\u001b[36m_cross_validate\u001b[0m:\u001b[36m532\u001b[0m - \u001b[1mRepeat 1/1, fold 4/5 complete.\u001b[0m\n",
      "\u001b[32m2025-10-22 19:54:05.377\u001b[0m | \u001b[1mINFO    \u001b[0m | \u001b[36msrc.model_selection.cv_main\u001b[0m:\u001b[36m_cross_validate\u001b[0m:\u001b[36m532\u001b[0m - \u001b[1mRepeat 1/1, fold 5/5 complete.\u001b[0m\n",
      "\u001b[32m2025-10-22 19:54:05.378\u001b[0m | \u001b[1mINFO    \u001b[0m | \u001b[36msrc.model_selection.cv_main\u001b[0m:\u001b[36m_cross_validate\u001b[0m:\u001b[36m548\u001b[0m - \u001b[1mAccuracy on valid_train: 0.630625\u001b[0m\n",
      "\u001b[32m2025-10-22 19:54:05.383\u001b[0m | \u001b[34m\u001b[1mDEBUG   \u001b[0m | \u001b[36msrc.utils.general\u001b[0m:\u001b[36mopen_csv\u001b[0m:\u001b[36m108\u001b[0m - \u001b[34m\u001b[1mLoaded CSV: c:\\Users\\OAVAI\\Desktop\\mma - Copy\\mma_light\\data\\output\\metrics\\natty_metrics.csv (110 rows)\u001b[0m\n",
      "\u001b[32m2025-10-22 19:54:05.392\u001b[0m | \u001b[34m\u001b[1mDEBUG   \u001b[0m | \u001b[36msrc.utils.general\u001b[0m:\u001b[36mstore_csv\u001b[0m:\u001b[36m145\u001b[0m - \u001b[34m\u001b[1mSaved CSV: c:\\Users\\OAVAI\\Desktop\\mma - Copy\\mma_light\\data\\output\\metrics\\natty_metrics.csv (111 rows)\u001b[0m\n",
      "[I 2025-10-22 19:54:07,898] Trial 28 finished with value: 1.66188544 and parameters: {'max_depth': 4, 'learning_rate': 0.02549794557328975, 'n_estimators': 830, 'min_child_weight': 32.21344770027662, 'gamma': 1.660028297128219, 'subsample': 0.4602640331885092, 'colsample_bytree': 0.8287652752313674, 'reg_lambda': 0.9544569920813692, 'top_k_feats': 62}. Best is trial 23 with value: 1.6585566.\n",
      "\u001b[32m2025-10-22 19:54:07.899\u001b[0m | \u001b[1mINFO    \u001b[0m | \u001b[36msrc.model_selection.cv_main\u001b[0m:\u001b[36m_objective\u001b[0m:\u001b[36m602\u001b[0m - \u001b[1mFound attribute \"feature_params\". Assuming re-training with reduced features.\u001b[0m\n",
      "\u001b[32m2025-10-22 19:54:07.917\u001b[0m | \u001b[34m\u001b[1mDEBUG   \u001b[0m | \u001b[36msrc.utils.general\u001b[0m:\u001b[36mopen_csv\u001b[0m:\u001b[36m108\u001b[0m - \u001b[34m\u001b[1mLoaded CSV: c:\\Users\\OAVAI\\Desktop\\mma - Copy\\mma_light\\data\\output\\metrics\\natty_metrics.csv (111 rows)\u001b[0m\n",
      "\u001b[32m2025-10-22 19:54:07.949\u001b[0m | \u001b[34m\u001b[1mDEBUG   \u001b[0m | \u001b[36msrc.utils.general\u001b[0m:\u001b[36mopen_csv\u001b[0m:\u001b[36m108\u001b[0m - \u001b[34m\u001b[1mLoaded CSV: c:\\Users\\OAVAI\\Desktop\\mma - Copy\\mma_light\\data\\output\\feature_selection\\natty_feature_frequency.csv (87 rows)\u001b[0m\n",
      "\u001b[32m2025-10-22 19:54:07.950\u001b[0m | \u001b[1mINFO    \u001b[0m | \u001b[36msrc.model_selection.cv_main\u001b[0m:\u001b[36m_cross_validate\u001b[0m:\u001b[36m476\u001b[0m - \u001b[1mSelected top 75 features for CV: 75\u001b[0m\n",
      "\u001b[32m2025-10-22 19:54:07.953\u001b[0m | \u001b[1mINFO    \u001b[0m | \u001b[36msrc.model_selection.cv_main\u001b[0m:\u001b[36m_cross_validate\u001b[0m:\u001b[36m502\u001b[0m - \u001b[1mStarting CV for {'max_depth': 3, 'learning_rate': 0.0269, 'n_estimators': 805, 'min_child_weight': 36.7259, 'gamma': 2.5035, 'subsample': 0.6137, 'colsample_bytree': 0.8876, 'reg_alpha': 0.0, 'reg_lambda': 1.0826, 'top_k_feats': 75}\u001b[0m\n",
      "\u001b[32m2025-10-22 19:54:11.721\u001b[0m | \u001b[1mINFO    \u001b[0m | \u001b[36msrc.model_selection.cv_main\u001b[0m:\u001b[36m_cross_validate\u001b[0m:\u001b[36m532\u001b[0m - \u001b[1mRepeat 1/1, fold 1/5 complete.\u001b[0m\n",
      "\u001b[32m2025-10-22 19:54:17.202\u001b[0m | \u001b[1mINFO    \u001b[0m | \u001b[36msrc.model_selection.cv_main\u001b[0m:\u001b[36m_cross_validate\u001b[0m:\u001b[36m532\u001b[0m - \u001b[1mRepeat 1/1, fold 2/5 complete.\u001b[0m\n",
      "\u001b[32m2025-10-22 19:54:20.463\u001b[0m | \u001b[1mINFO    \u001b[0m | \u001b[36msrc.model_selection.cv_main\u001b[0m:\u001b[36m_cross_validate\u001b[0m:\u001b[36m532\u001b[0m - \u001b[1mRepeat 1/1, fold 3/5 complete.\u001b[0m\n",
      "\u001b[32m2025-10-22 19:54:24.693\u001b[0m | \u001b[1mINFO    \u001b[0m | \u001b[36msrc.model_selection.cv_main\u001b[0m:\u001b[36m_cross_validate\u001b[0m:\u001b[36m532\u001b[0m - \u001b[1mRepeat 1/1, fold 4/5 complete.\u001b[0m\n",
      "\u001b[32m2025-10-22 19:54:29.383\u001b[0m | \u001b[1mINFO    \u001b[0m | \u001b[36msrc.model_selection.cv_main\u001b[0m:\u001b[36m_cross_validate\u001b[0m:\u001b[36m532\u001b[0m - \u001b[1mRepeat 1/1, fold 5/5 complete.\u001b[0m\n",
      "\u001b[32m2025-10-22 19:54:29.385\u001b[0m | \u001b[1mINFO    \u001b[0m | \u001b[36msrc.model_selection.cv_main\u001b[0m:\u001b[36m_cross_validate\u001b[0m:\u001b[36m548\u001b[0m - \u001b[1mAccuracy on valid_train: 0.630125\u001b[0m\n",
      "\u001b[32m2025-10-22 19:54:29.389\u001b[0m | \u001b[34m\u001b[1mDEBUG   \u001b[0m | \u001b[36msrc.utils.general\u001b[0m:\u001b[36mopen_csv\u001b[0m:\u001b[36m108\u001b[0m - \u001b[34m\u001b[1mLoaded CSV: c:\\Users\\OAVAI\\Desktop\\mma - Copy\\mma_light\\data\\output\\metrics\\natty_metrics.csv (111 rows)\u001b[0m\n",
      "\u001b[32m2025-10-22 19:54:29.399\u001b[0m | \u001b[34m\u001b[1mDEBUG   \u001b[0m | \u001b[36msrc.utils.general\u001b[0m:\u001b[36mstore_csv\u001b[0m:\u001b[36m145\u001b[0m - \u001b[34m\u001b[1mSaved CSV: c:\\Users\\OAVAI\\Desktop\\mma - Copy\\mma_light\\data\\output\\metrics\\natty_metrics.csv (112 rows)\u001b[0m\n",
      "[I 2025-10-22 19:54:31,904] Trial 29 finished with value: 1.6581382 and parameters: {'max_depth': 3, 'learning_rate': 0.026942257663929332, 'n_estimators': 805, 'min_child_weight': 36.725859786748785, 'gamma': 2.5034847741901416, 'subsample': 0.6137097787359718, 'colsample_bytree': 0.8876355878665728, 'reg_lambda': 1.0825769203485618, 'top_k_feats': 75}. Best is trial 29 with value: 1.6581382.\n",
      "\u001b[32m2025-10-22 19:54:31.905\u001b[0m | \u001b[1mINFO    \u001b[0m | \u001b[36msrc.model_selection.cv_main\u001b[0m:\u001b[36m_objective\u001b[0m:\u001b[36m602\u001b[0m - \u001b[1mFound attribute \"feature_params\". Assuming re-training with reduced features.\u001b[0m\n",
      "\u001b[32m2025-10-22 19:54:31.921\u001b[0m | \u001b[34m\u001b[1mDEBUG   \u001b[0m | \u001b[36msrc.utils.general\u001b[0m:\u001b[36mopen_csv\u001b[0m:\u001b[36m108\u001b[0m - \u001b[34m\u001b[1mLoaded CSV: c:\\Users\\OAVAI\\Desktop\\mma - Copy\\mma_light\\data\\output\\metrics\\natty_metrics.csv (112 rows)\u001b[0m\n",
      "\u001b[32m2025-10-22 19:54:31.958\u001b[0m | \u001b[34m\u001b[1mDEBUG   \u001b[0m | \u001b[36msrc.utils.general\u001b[0m:\u001b[36mopen_csv\u001b[0m:\u001b[36m108\u001b[0m - \u001b[34m\u001b[1mLoaded CSV: c:\\Users\\OAVAI\\Desktop\\mma - Copy\\mma_light\\data\\output\\feature_selection\\natty_feature_frequency.csv (87 rows)\u001b[0m\n",
      "\u001b[32m2025-10-22 19:54:31.958\u001b[0m | \u001b[1mINFO    \u001b[0m | \u001b[36msrc.model_selection.cv_main\u001b[0m:\u001b[36m_cross_validate\u001b[0m:\u001b[36m476\u001b[0m - \u001b[1mSelected top 64 features for CV: 64\u001b[0m\n",
      "\u001b[32m2025-10-22 19:54:31.961\u001b[0m | \u001b[1mINFO    \u001b[0m | \u001b[36msrc.model_selection.cv_main\u001b[0m:\u001b[36m_cross_validate\u001b[0m:\u001b[36m502\u001b[0m - \u001b[1mStarting CV for {'max_depth': 5, 'learning_rate': 0.0441, 'n_estimators': 967, 'min_child_weight': 28.3675, 'gamma': 2.4811, 'subsample': 0.6906, 'colsample_bytree': 0.844, 'reg_alpha': 0.0, 'reg_lambda': 1.1035, 'top_k_feats': 64}\u001b[0m\n",
      "\u001b[32m2025-10-22 19:54:34.414\u001b[0m | \u001b[1mINFO    \u001b[0m | \u001b[36msrc.model_selection.cv_main\u001b[0m:\u001b[36m_cross_validate\u001b[0m:\u001b[36m532\u001b[0m - \u001b[1mRepeat 1/1, fold 1/5 complete.\u001b[0m\n",
      "\u001b[32m2025-10-22 19:54:37.238\u001b[0m | \u001b[1mINFO    \u001b[0m | \u001b[36msrc.model_selection.cv_main\u001b[0m:\u001b[36m_cross_validate\u001b[0m:\u001b[36m532\u001b[0m - \u001b[1mRepeat 1/1, fold 2/5 complete.\u001b[0m\n",
      "\u001b[32m2025-10-22 19:54:39.246\u001b[0m | \u001b[1mINFO    \u001b[0m | \u001b[36msrc.model_selection.cv_main\u001b[0m:\u001b[36m_cross_validate\u001b[0m:\u001b[36m532\u001b[0m - \u001b[1mRepeat 1/1, fold 3/5 complete.\u001b[0m\n",
      "\u001b[32m2025-10-22 19:54:41.266\u001b[0m | \u001b[1mINFO    \u001b[0m | \u001b[36msrc.model_selection.cv_main\u001b[0m:\u001b[36m_cross_validate\u001b[0m:\u001b[36m532\u001b[0m - \u001b[1mRepeat 1/1, fold 4/5 complete.\u001b[0m\n",
      "\u001b[32m2025-10-22 19:54:43.443\u001b[0m | \u001b[1mINFO    \u001b[0m | \u001b[36msrc.model_selection.cv_main\u001b[0m:\u001b[36m_cross_validate\u001b[0m:\u001b[36m532\u001b[0m - \u001b[1mRepeat 1/1, fold 5/5 complete.\u001b[0m\n",
      "\u001b[32m2025-10-22 19:54:43.444\u001b[0m | \u001b[1mINFO    \u001b[0m | \u001b[36msrc.model_selection.cv_main\u001b[0m:\u001b[36m_cross_validate\u001b[0m:\u001b[36m548\u001b[0m - \u001b[1mAccuracy on valid_train: 0.631\u001b[0m\n",
      "\u001b[32m2025-10-22 19:54:43.449\u001b[0m | \u001b[34m\u001b[1mDEBUG   \u001b[0m | \u001b[36msrc.utils.general\u001b[0m:\u001b[36mopen_csv\u001b[0m:\u001b[36m108\u001b[0m - \u001b[34m\u001b[1mLoaded CSV: c:\\Users\\OAVAI\\Desktop\\mma - Copy\\mma_light\\data\\output\\metrics\\natty_metrics.csv (112 rows)\u001b[0m\n",
      "\u001b[32m2025-10-22 19:54:43.459\u001b[0m | \u001b[34m\u001b[1mDEBUG   \u001b[0m | \u001b[36msrc.utils.general\u001b[0m:\u001b[36mstore_csv\u001b[0m:\u001b[36m145\u001b[0m - \u001b[34m\u001b[1mSaved CSV: c:\\Users\\OAVAI\\Desktop\\mma - Copy\\mma_light\\data\\output\\metrics\\natty_metrics.csv (113 rows)\u001b[0m\n",
      "[I 2025-10-22 19:54:45,961] Trial 30 finished with value: 1.66264015 and parameters: {'max_depth': 5, 'learning_rate': 0.04406337712849427, 'n_estimators': 967, 'min_child_weight': 28.367472098222873, 'gamma': 2.4810618978249157, 'subsample': 0.6906152283695953, 'colsample_bytree': 0.8439895323918055, 'reg_lambda': 1.1034887350632505, 'top_k_feats': 64}. Best is trial 29 with value: 1.6581382.\n",
      "\u001b[32m2025-10-22 19:54:45.964\u001b[0m | \u001b[1mINFO    \u001b[0m | \u001b[36msrc.model_selection.cv_main\u001b[0m:\u001b[36m_objective\u001b[0m:\u001b[36m602\u001b[0m - \u001b[1mFound attribute \"feature_params\". Assuming re-training with reduced features.\u001b[0m\n",
      "\u001b[32m2025-10-22 19:54:45.964\u001b[0m | \u001b[34m\u001b[1mDEBUG   \u001b[0m | \u001b[36msrc.utils.general\u001b[0m:\u001b[36mopen_csv\u001b[0m:\u001b[36m108\u001b[0m - \u001b[34m\u001b[1mLoaded CSV: c:\\Users\\OAVAI\\Desktop\\mma - Copy\\mma_light\\data\\output\\metrics\\natty_metrics.csv (113 rows)\u001b[0m\n",
      "\u001b[32m2025-10-22 19:54:46.019\u001b[0m | \u001b[34m\u001b[1mDEBUG   \u001b[0m | \u001b[36msrc.utils.general\u001b[0m:\u001b[36mopen_csv\u001b[0m:\u001b[36m108\u001b[0m - \u001b[34m\u001b[1mLoaded CSV: c:\\Users\\OAVAI\\Desktop\\mma - Copy\\mma_light\\data\\output\\feature_selection\\natty_feature_frequency.csv (87 rows)\u001b[0m\n",
      "\u001b[32m2025-10-22 19:54:46.020\u001b[0m | \u001b[1mINFO    \u001b[0m | \u001b[36msrc.model_selection.cv_main\u001b[0m:\u001b[36m_cross_validate\u001b[0m:\u001b[36m476\u001b[0m - \u001b[1mSelected top 75 features for CV: 75\u001b[0m\n",
      "\u001b[32m2025-10-22 19:54:46.023\u001b[0m | \u001b[1mINFO    \u001b[0m | \u001b[36msrc.model_selection.cv_main\u001b[0m:\u001b[36m_cross_validate\u001b[0m:\u001b[36m502\u001b[0m - \u001b[1mStarting CV for {'max_depth': 3, 'learning_rate': 0.0274, 'n_estimators': 821, 'min_child_weight': 36.1601, 'gamma': 2.1378, 'subsample': 0.5938, 'colsample_bytree': 0.8906, 'reg_alpha': 0.0, 'reg_lambda': 0.8657, 'top_k_feats': 75}\u001b[0m\n",
      "\u001b[32m2025-10-22 19:54:49.430\u001b[0m | \u001b[1mINFO    \u001b[0m | \u001b[36msrc.model_selection.cv_main\u001b[0m:\u001b[36m_cross_validate\u001b[0m:\u001b[36m532\u001b[0m - \u001b[1mRepeat 1/1, fold 1/5 complete.\u001b[0m\n",
      "\u001b[32m2025-10-22 19:54:54.388\u001b[0m | \u001b[1mINFO    \u001b[0m | \u001b[36msrc.model_selection.cv_main\u001b[0m:\u001b[36m_cross_validate\u001b[0m:\u001b[36m532\u001b[0m - \u001b[1mRepeat 1/1, fold 2/5 complete.\u001b[0m\n",
      "\u001b[32m2025-10-22 19:54:58.130\u001b[0m | \u001b[1mINFO    \u001b[0m | \u001b[36msrc.model_selection.cv_main\u001b[0m:\u001b[36m_cross_validate\u001b[0m:\u001b[36m532\u001b[0m - \u001b[1mRepeat 1/1, fold 3/5 complete.\u001b[0m\n",
      "\u001b[32m2025-10-22 19:55:02.322\u001b[0m | \u001b[1mINFO    \u001b[0m | \u001b[36msrc.model_selection.cv_main\u001b[0m:\u001b[36m_cross_validate\u001b[0m:\u001b[36m532\u001b[0m - \u001b[1mRepeat 1/1, fold 4/5 complete.\u001b[0m\n",
      "\u001b[32m2025-10-22 19:55:06.641\u001b[0m | \u001b[1mINFO    \u001b[0m | \u001b[36msrc.model_selection.cv_main\u001b[0m:\u001b[36m_cross_validate\u001b[0m:\u001b[36m532\u001b[0m - \u001b[1mRepeat 1/1, fold 5/5 complete.\u001b[0m\n",
      "\u001b[32m2025-10-22 19:55:06.641\u001b[0m | \u001b[1mINFO    \u001b[0m | \u001b[36msrc.model_selection.cv_main\u001b[0m:\u001b[36m_cross_validate\u001b[0m:\u001b[36m548\u001b[0m - \u001b[1mAccuracy on valid_train: 0.629\u001b[0m\n",
      "\u001b[32m2025-10-22 19:55:06.647\u001b[0m | \u001b[34m\u001b[1mDEBUG   \u001b[0m | \u001b[36msrc.utils.general\u001b[0m:\u001b[36mopen_csv\u001b[0m:\u001b[36m108\u001b[0m - \u001b[34m\u001b[1mLoaded CSV: c:\\Users\\OAVAI\\Desktop\\mma - Copy\\mma_light\\data\\output\\metrics\\natty_metrics.csv (113 rows)\u001b[0m\n",
      "\u001b[32m2025-10-22 19:55:06.656\u001b[0m | \u001b[34m\u001b[1mDEBUG   \u001b[0m | \u001b[36msrc.utils.general\u001b[0m:\u001b[36mstore_csv\u001b[0m:\u001b[36m145\u001b[0m - \u001b[34m\u001b[1mSaved CSV: c:\\Users\\OAVAI\\Desktop\\mma - Copy\\mma_light\\data\\output\\metrics\\natty_metrics.csv (114 rows)\u001b[0m\n",
      "[I 2025-10-22 19:55:09,163] Trial 31 finished with value: 1.65798625 and parameters: {'max_depth': 3, 'learning_rate': 0.027447538507292937, 'n_estimators': 821, 'min_child_weight': 36.16010762323121, 'gamma': 2.137830338056309, 'subsample': 0.5937755292773286, 'colsample_bytree': 0.8906006902194342, 'reg_lambda': 0.8657034399746407, 'top_k_feats': 75}. Best is trial 31 with value: 1.65798625.\n",
      "\u001b[32m2025-10-22 19:55:09.164\u001b[0m | \u001b[1mINFO    \u001b[0m | \u001b[36msrc.model_selection.cv_main\u001b[0m:\u001b[36m_objective\u001b[0m:\u001b[36m602\u001b[0m - \u001b[1mFound attribute \"feature_params\". Assuming re-training with reduced features.\u001b[0m\n",
      "\u001b[32m2025-10-22 19:55:09.182\u001b[0m | \u001b[34m\u001b[1mDEBUG   \u001b[0m | \u001b[36msrc.utils.general\u001b[0m:\u001b[36mopen_csv\u001b[0m:\u001b[36m108\u001b[0m - \u001b[34m\u001b[1mLoaded CSV: c:\\Users\\OAVAI\\Desktop\\mma - Copy\\mma_light\\data\\output\\metrics\\natty_metrics.csv (114 rows)\u001b[0m\n",
      "\u001b[32m2025-10-22 19:55:09.217\u001b[0m | \u001b[34m\u001b[1mDEBUG   \u001b[0m | \u001b[36msrc.utils.general\u001b[0m:\u001b[36mopen_csv\u001b[0m:\u001b[36m108\u001b[0m - \u001b[34m\u001b[1mLoaded CSV: c:\\Users\\OAVAI\\Desktop\\mma - Copy\\mma_light\\data\\output\\feature_selection\\natty_feature_frequency.csv (87 rows)\u001b[0m\n",
      "\u001b[32m2025-10-22 19:55:09.218\u001b[0m | \u001b[1mINFO    \u001b[0m | \u001b[36msrc.model_selection.cv_main\u001b[0m:\u001b[36m_cross_validate\u001b[0m:\u001b[36m476\u001b[0m - \u001b[1mSelected top 75 features for CV: 75\u001b[0m\n",
      "\u001b[32m2025-10-22 19:55:09.221\u001b[0m | \u001b[1mINFO    \u001b[0m | \u001b[36msrc.model_selection.cv_main\u001b[0m:\u001b[36m_cross_validate\u001b[0m:\u001b[36m502\u001b[0m - \u001b[1mStarting CV for {'max_depth': 4, 'learning_rate': 0.0235, 'n_estimators': 812, 'min_child_weight': 36.7251, 'gamma': 2.0859, 'subsample': 0.6047, 'colsample_bytree': 0.8808, 'reg_alpha': 0.0, 'reg_lambda': 1.0301, 'top_k_feats': 75}\u001b[0m\n",
      "\u001b[32m2025-10-22 19:55:13.100\u001b[0m | \u001b[1mINFO    \u001b[0m | \u001b[36msrc.model_selection.cv_main\u001b[0m:\u001b[36m_cross_validate\u001b[0m:\u001b[36m532\u001b[0m - \u001b[1mRepeat 1/1, fold 1/5 complete.\u001b[0m\n",
      "\u001b[32m2025-10-22 19:55:18.937\u001b[0m | \u001b[1mINFO    \u001b[0m | \u001b[36msrc.model_selection.cv_main\u001b[0m:\u001b[36m_cross_validate\u001b[0m:\u001b[36m532\u001b[0m - \u001b[1mRepeat 1/1, fold 2/5 complete.\u001b[0m\n",
      "\u001b[32m2025-10-22 19:55:22.872\u001b[0m | \u001b[1mINFO    \u001b[0m | \u001b[36msrc.model_selection.cv_main\u001b[0m:\u001b[36m_cross_validate\u001b[0m:\u001b[36m532\u001b[0m - \u001b[1mRepeat 1/1, fold 3/5 complete.\u001b[0m\n",
      "\u001b[32m2025-10-22 19:55:27.069\u001b[0m | \u001b[1mINFO    \u001b[0m | \u001b[36msrc.model_selection.cv_main\u001b[0m:\u001b[36m_cross_validate\u001b[0m:\u001b[36m532\u001b[0m - \u001b[1mRepeat 1/1, fold 4/5 complete.\u001b[0m\n",
      "\u001b[32m2025-10-22 19:55:32.212\u001b[0m | \u001b[1mINFO    \u001b[0m | \u001b[36msrc.model_selection.cv_main\u001b[0m:\u001b[36m_cross_validate\u001b[0m:\u001b[36m532\u001b[0m - \u001b[1mRepeat 1/1, fold 5/5 complete.\u001b[0m\n",
      "\u001b[32m2025-10-22 19:55:32.214\u001b[0m | \u001b[1mINFO    \u001b[0m | \u001b[36msrc.model_selection.cv_main\u001b[0m:\u001b[36m_cross_validate\u001b[0m:\u001b[36m548\u001b[0m - \u001b[1mAccuracy on valid_train: 0.629125\u001b[0m\n",
      "\u001b[32m2025-10-22 19:55:32.219\u001b[0m | \u001b[34m\u001b[1mDEBUG   \u001b[0m | \u001b[36msrc.utils.general\u001b[0m:\u001b[36mopen_csv\u001b[0m:\u001b[36m108\u001b[0m - \u001b[34m\u001b[1mLoaded CSV: c:\\Users\\OAVAI\\Desktop\\mma - Copy\\mma_light\\data\\output\\metrics\\natty_metrics.csv (114 rows)\u001b[0m\n",
      "\u001b[32m2025-10-22 19:55:32.228\u001b[0m | \u001b[34m\u001b[1mDEBUG   \u001b[0m | \u001b[36msrc.utils.general\u001b[0m:\u001b[36mstore_csv\u001b[0m:\u001b[36m145\u001b[0m - \u001b[34m\u001b[1mSaved CSV: c:\\Users\\OAVAI\\Desktop\\mma - Copy\\mma_light\\data\\output\\metrics\\natty_metrics.csv (115 rows)\u001b[0m\n",
      "[I 2025-10-22 19:55:34,733] Trial 32 finished with value: 1.65830043 and parameters: {'max_depth': 4, 'learning_rate': 0.023503584539871593, 'n_estimators': 812, 'min_child_weight': 36.725119382537144, 'gamma': 2.085862789544227, 'subsample': 0.6046698940074512, 'colsample_bytree': 0.8807792011479826, 'reg_lambda': 1.030144739142739, 'top_k_feats': 75}. Best is trial 31 with value: 1.65798625.\n",
      "\u001b[32m2025-10-22 19:55:34.734\u001b[0m | \u001b[1mINFO    \u001b[0m | \u001b[36msrc.model_selection.cv_main\u001b[0m:\u001b[36m_objective\u001b[0m:\u001b[36m602\u001b[0m - \u001b[1mFound attribute \"feature_params\". Assuming re-training with reduced features.\u001b[0m\n",
      "\u001b[32m2025-10-22 19:55:34.750\u001b[0m | \u001b[34m\u001b[1mDEBUG   \u001b[0m | \u001b[36msrc.utils.general\u001b[0m:\u001b[36mopen_csv\u001b[0m:\u001b[36m108\u001b[0m - \u001b[34m\u001b[1mLoaded CSV: c:\\Users\\OAVAI\\Desktop\\mma - Copy\\mma_light\\data\\output\\metrics\\natty_metrics.csv (115 rows)\u001b[0m\n",
      "\u001b[32m2025-10-22 19:55:34.787\u001b[0m | \u001b[34m\u001b[1mDEBUG   \u001b[0m | \u001b[36msrc.utils.general\u001b[0m:\u001b[36mopen_csv\u001b[0m:\u001b[36m108\u001b[0m - \u001b[34m\u001b[1mLoaded CSV: c:\\Users\\OAVAI\\Desktop\\mma - Copy\\mma_light\\data\\output\\feature_selection\\natty_feature_frequency.csv (87 rows)\u001b[0m\n",
      "\u001b[32m2025-10-22 19:55:34.788\u001b[0m | \u001b[1mINFO    \u001b[0m | \u001b[36msrc.model_selection.cv_main\u001b[0m:\u001b[36m_cross_validate\u001b[0m:\u001b[36m476\u001b[0m - \u001b[1mSelected top 76 features for CV: 76\u001b[0m\n",
      "\u001b[32m2025-10-22 19:55:34.791\u001b[0m | \u001b[1mINFO    \u001b[0m | \u001b[36msrc.model_selection.cv_main\u001b[0m:\u001b[36m_cross_validate\u001b[0m:\u001b[36m502\u001b[0m - \u001b[1mStarting CV for {'max_depth': 3, 'learning_rate': 0.019, 'n_estimators': 877, 'min_child_weight': 36.2728, 'gamma': 2.102, 'subsample': 0.5594, 'colsample_bytree': 0.7988, 'reg_alpha': 0.0, 'reg_lambda': 1.0253, 'top_k_feats': 76}\u001b[0m\n",
      "\u001b[32m2025-10-22 19:55:40.461\u001b[0m | \u001b[1mINFO    \u001b[0m | \u001b[36msrc.model_selection.cv_main\u001b[0m:\u001b[36m_cross_validate\u001b[0m:\u001b[36m532\u001b[0m - \u001b[1mRepeat 1/1, fold 1/5 complete.\u001b[0m\n",
      "\u001b[32m2025-10-22 19:55:46.906\u001b[0m | \u001b[1mINFO    \u001b[0m | \u001b[36msrc.model_selection.cv_main\u001b[0m:\u001b[36m_cross_validate\u001b[0m:\u001b[36m532\u001b[0m - \u001b[1mRepeat 1/1, fold 2/5 complete.\u001b[0m\n",
      "\u001b[32m2025-10-22 19:55:51.656\u001b[0m | \u001b[1mINFO    \u001b[0m | \u001b[36msrc.model_selection.cv_main\u001b[0m:\u001b[36m_cross_validate\u001b[0m:\u001b[36m532\u001b[0m - \u001b[1mRepeat 1/1, fold 3/5 complete.\u001b[0m\n",
      "\u001b[32m2025-10-22 19:55:57.085\u001b[0m | \u001b[1mINFO    \u001b[0m | \u001b[36msrc.model_selection.cv_main\u001b[0m:\u001b[36m_cross_validate\u001b[0m:\u001b[36m532\u001b[0m - \u001b[1mRepeat 1/1, fold 4/5 complete.\u001b[0m\n",
      "\u001b[32m2025-10-22 19:56:02.570\u001b[0m | \u001b[1mINFO    \u001b[0m | \u001b[36msrc.model_selection.cv_main\u001b[0m:\u001b[36m_cross_validate\u001b[0m:\u001b[36m532\u001b[0m - \u001b[1mRepeat 1/1, fold 5/5 complete.\u001b[0m\n",
      "\u001b[32m2025-10-22 19:56:02.572\u001b[0m | \u001b[1mINFO    \u001b[0m | \u001b[36msrc.model_selection.cv_main\u001b[0m:\u001b[36m_cross_validate\u001b[0m:\u001b[36m548\u001b[0m - \u001b[1mAccuracy on valid_train: 0.63425\u001b[0m\n",
      "\u001b[32m2025-10-22 19:56:02.576\u001b[0m | \u001b[34m\u001b[1mDEBUG   \u001b[0m | \u001b[36msrc.utils.general\u001b[0m:\u001b[36mopen_csv\u001b[0m:\u001b[36m108\u001b[0m - \u001b[34m\u001b[1mLoaded CSV: c:\\Users\\OAVAI\\Desktop\\mma - Copy\\mma_light\\data\\output\\metrics\\natty_metrics.csv (115 rows)\u001b[0m\n",
      "\u001b[32m2025-10-22 19:56:02.586\u001b[0m | \u001b[34m\u001b[1mDEBUG   \u001b[0m | \u001b[36msrc.utils.general\u001b[0m:\u001b[36mstore_csv\u001b[0m:\u001b[36m145\u001b[0m - \u001b[34m\u001b[1mSaved CSV: c:\\Users\\OAVAI\\Desktop\\mma - Copy\\mma_light\\data\\output\\metrics\\natty_metrics.csv (116 rows)\u001b[0m\n",
      "[I 2025-10-22 19:56:05,091] Trial 33 finished with value: 1.65784242 and parameters: {'max_depth': 3, 'learning_rate': 0.01900633757791355, 'n_estimators': 877, 'min_child_weight': 36.27276603248165, 'gamma': 2.102019318279898, 'subsample': 0.5594063671966585, 'colsample_bytree': 0.7988085278907581, 'reg_lambda': 1.0253020322925295, 'top_k_feats': 76}. Best is trial 33 with value: 1.65784242.\n",
      "\u001b[32m2025-10-22 19:56:05.092\u001b[0m | \u001b[1mINFO    \u001b[0m | \u001b[36msrc.model_selection.cv_main\u001b[0m:\u001b[36m_objective\u001b[0m:\u001b[36m602\u001b[0m - \u001b[1mFound attribute \"feature_params\". Assuming re-training with reduced features.\u001b[0m\n",
      "\u001b[32m2025-10-22 19:56:05.135\u001b[0m | \u001b[34m\u001b[1mDEBUG   \u001b[0m | \u001b[36msrc.utils.general\u001b[0m:\u001b[36mopen_csv\u001b[0m:\u001b[36m108\u001b[0m - \u001b[34m\u001b[1mLoaded CSV: c:\\Users\\OAVAI\\Desktop\\mma - Copy\\mma_light\\data\\output\\metrics\\natty_metrics.csv (116 rows)\u001b[0m\n",
      "\u001b[32m2025-10-22 19:56:05.171\u001b[0m | \u001b[34m\u001b[1mDEBUG   \u001b[0m | \u001b[36msrc.utils.general\u001b[0m:\u001b[36mopen_csv\u001b[0m:\u001b[36m108\u001b[0m - \u001b[34m\u001b[1mLoaded CSV: c:\\Users\\OAVAI\\Desktop\\mma - Copy\\mma_light\\data\\output\\feature_selection\\natty_feature_frequency.csv (87 rows)\u001b[0m\n",
      "\u001b[32m2025-10-22 19:56:05.173\u001b[0m | \u001b[1mINFO    \u001b[0m | \u001b[36msrc.model_selection.cv_main\u001b[0m:\u001b[36m_cross_validate\u001b[0m:\u001b[36m476\u001b[0m - \u001b[1mSelected top 67 features for CV: 67\u001b[0m\n",
      "\u001b[32m2025-10-22 19:56:05.175\u001b[0m | \u001b[1mINFO    \u001b[0m | \u001b[36msrc.model_selection.cv_main\u001b[0m:\u001b[36m_cross_validate\u001b[0m:\u001b[36m502\u001b[0m - \u001b[1mStarting CV for {'max_depth': 4, 'learning_rate': 0.0161, 'n_estimators': 877, 'min_child_weight': 36.3608, 'gamma': 2.0945, 'subsample': 0.5811, 'colsample_bytree': 0.8, 'reg_alpha': 0.0, 'reg_lambda': 1.0193, 'top_k_feats': 67}\u001b[0m\n",
      "\u001b[32m2025-10-22 19:56:11.359\u001b[0m | \u001b[1mINFO    \u001b[0m | \u001b[36msrc.model_selection.cv_main\u001b[0m:\u001b[36m_cross_validate\u001b[0m:\u001b[36m532\u001b[0m - \u001b[1mRepeat 1/1, fold 1/5 complete.\u001b[0m\n",
      "\u001b[32m2025-10-22 19:56:18.215\u001b[0m | \u001b[1mINFO    \u001b[0m | \u001b[36msrc.model_selection.cv_main\u001b[0m:\u001b[36m_cross_validate\u001b[0m:\u001b[36m532\u001b[0m - \u001b[1mRepeat 1/1, fold 2/5 complete.\u001b[0m\n",
      "\u001b[32m2025-10-22 19:56:22.605\u001b[0m | \u001b[1mINFO    \u001b[0m | \u001b[36msrc.model_selection.cv_main\u001b[0m:\u001b[36m_cross_validate\u001b[0m:\u001b[36m532\u001b[0m - \u001b[1mRepeat 1/1, fold 3/5 complete.\u001b[0m\n",
      "\u001b[32m2025-10-22 19:56:26.893\u001b[0m | \u001b[1mINFO    \u001b[0m | \u001b[36msrc.model_selection.cv_main\u001b[0m:\u001b[36m_cross_validate\u001b[0m:\u001b[36m532\u001b[0m - \u001b[1mRepeat 1/1, fold 4/5 complete.\u001b[0m\n",
      "\u001b[32m2025-10-22 19:56:32.337\u001b[0m | \u001b[1mINFO    \u001b[0m | \u001b[36msrc.model_selection.cv_main\u001b[0m:\u001b[36m_cross_validate\u001b[0m:\u001b[36m532\u001b[0m - \u001b[1mRepeat 1/1, fold 5/5 complete.\u001b[0m\n",
      "\u001b[32m2025-10-22 19:56:32.339\u001b[0m | \u001b[1mINFO    \u001b[0m | \u001b[36msrc.model_selection.cv_main\u001b[0m:\u001b[36m_cross_validate\u001b[0m:\u001b[36m548\u001b[0m - \u001b[1mAccuracy on valid_train: 0.6315\u001b[0m\n",
      "\u001b[32m2025-10-22 19:56:32.344\u001b[0m | \u001b[34m\u001b[1mDEBUG   \u001b[0m | \u001b[36msrc.utils.general\u001b[0m:\u001b[36mopen_csv\u001b[0m:\u001b[36m108\u001b[0m - \u001b[34m\u001b[1mLoaded CSV: c:\\Users\\OAVAI\\Desktop\\mma - Copy\\mma_light\\data\\output\\metrics\\natty_metrics.csv (116 rows)\u001b[0m\n",
      "\u001b[32m2025-10-22 19:56:32.353\u001b[0m | \u001b[34m\u001b[1mDEBUG   \u001b[0m | \u001b[36msrc.utils.general\u001b[0m:\u001b[36mstore_csv\u001b[0m:\u001b[36m145\u001b[0m - \u001b[34m\u001b[1mSaved CSV: c:\\Users\\OAVAI\\Desktop\\mma - Copy\\mma_light\\data\\output\\metrics\\natty_metrics.csv (117 rows)\u001b[0m\n",
      "[I 2025-10-22 19:56:34,859] Trial 34 finished with value: 1.66083441 and parameters: {'max_depth': 4, 'learning_rate': 0.01606719112940337, 'n_estimators': 877, 'min_child_weight': 36.360798621052716, 'gamma': 2.094470746042608, 'subsample': 0.5810721562466763, 'colsample_bytree': 0.7999877128079755, 'reg_lambda': 1.0193380626641773, 'top_k_feats': 67}. Best is trial 33 with value: 1.65784242.\n",
      "\u001b[32m2025-10-22 19:56:34.860\u001b[0m | \u001b[1mINFO    \u001b[0m | \u001b[36msrc.model_selection.cv_main\u001b[0m:\u001b[36m_objective\u001b[0m:\u001b[36m602\u001b[0m - \u001b[1mFound attribute \"feature_params\". Assuming re-training with reduced features.\u001b[0m\n",
      "\u001b[32m2025-10-22 19:56:34.876\u001b[0m | \u001b[34m\u001b[1mDEBUG   \u001b[0m | \u001b[36msrc.utils.general\u001b[0m:\u001b[36mopen_csv\u001b[0m:\u001b[36m108\u001b[0m - \u001b[34m\u001b[1mLoaded CSV: c:\\Users\\OAVAI\\Desktop\\mma - Copy\\mma_light\\data\\output\\metrics\\natty_metrics.csv (117 rows)\u001b[0m\n",
      "\u001b[32m2025-10-22 19:56:34.908\u001b[0m | \u001b[34m\u001b[1mDEBUG   \u001b[0m | \u001b[36msrc.utils.general\u001b[0m:\u001b[36mopen_csv\u001b[0m:\u001b[36m108\u001b[0m - \u001b[34m\u001b[1mLoaded CSV: c:\\Users\\OAVAI\\Desktop\\mma - Copy\\mma_light\\data\\output\\feature_selection\\natty_feature_frequency.csv (87 rows)\u001b[0m\n",
      "\u001b[32m2025-10-22 19:56:34.910\u001b[0m | \u001b[1mINFO    \u001b[0m | \u001b[36msrc.model_selection.cv_main\u001b[0m:\u001b[36m_cross_validate\u001b[0m:\u001b[36m476\u001b[0m - \u001b[1mSelected top 76 features for CV: 76\u001b[0m\n",
      "\u001b[32m2025-10-22 19:56:34.912\u001b[0m | \u001b[1mINFO    \u001b[0m | \u001b[36msrc.model_selection.cv_main\u001b[0m:\u001b[36m_cross_validate\u001b[0m:\u001b[36m502\u001b[0m - \u001b[1mStarting CV for {'max_depth': 3, 'learning_rate': 0.0196, 'n_estimators': 923, 'min_child_weight': 36.3428, 'gamma': 2.1163, 'subsample': 0.601, 'colsample_bytree': 0.7912, 'reg_alpha': 0.0, 'reg_lambda': 1.175, 'top_k_feats': 76}\u001b[0m\n",
      "\u001b[32m2025-10-22 19:56:40.171\u001b[0m | \u001b[1mINFO    \u001b[0m | \u001b[36msrc.model_selection.cv_main\u001b[0m:\u001b[36m_cross_validate\u001b[0m:\u001b[36m532\u001b[0m - \u001b[1mRepeat 1/1, fold 1/5 complete.\u001b[0m\n",
      "\u001b[32m2025-10-22 19:56:45.980\u001b[0m | \u001b[1mINFO    \u001b[0m | \u001b[36msrc.model_selection.cv_main\u001b[0m:\u001b[36m_cross_validate\u001b[0m:\u001b[36m532\u001b[0m - \u001b[1mRepeat 1/1, fold 2/5 complete.\u001b[0m\n",
      "\u001b[32m2025-10-22 19:56:50.895\u001b[0m | \u001b[1mINFO    \u001b[0m | \u001b[36msrc.model_selection.cv_main\u001b[0m:\u001b[36m_cross_validate\u001b[0m:\u001b[36m532\u001b[0m - \u001b[1mRepeat 1/1, fold 3/5 complete.\u001b[0m\n",
      "\u001b[32m2025-10-22 19:56:56.299\u001b[0m | \u001b[1mINFO    \u001b[0m | \u001b[36msrc.model_selection.cv_main\u001b[0m:\u001b[36m_cross_validate\u001b[0m:\u001b[36m532\u001b[0m - \u001b[1mRepeat 1/1, fold 4/5 complete.\u001b[0m\n",
      "\u001b[32m2025-10-22 19:57:01.762\u001b[0m | \u001b[1mINFO    \u001b[0m | \u001b[36msrc.model_selection.cv_main\u001b[0m:\u001b[36m_cross_validate\u001b[0m:\u001b[36m532\u001b[0m - \u001b[1mRepeat 1/1, fold 5/5 complete.\u001b[0m\n",
      "\u001b[32m2025-10-22 19:57:01.764\u001b[0m | \u001b[1mINFO    \u001b[0m | \u001b[36msrc.model_selection.cv_main\u001b[0m:\u001b[36m_cross_validate\u001b[0m:\u001b[36m548\u001b[0m - \u001b[1mAccuracy on valid_train: 0.6295\u001b[0m\n",
      "\u001b[32m2025-10-22 19:57:01.770\u001b[0m | \u001b[34m\u001b[1mDEBUG   \u001b[0m | \u001b[36msrc.utils.general\u001b[0m:\u001b[36mopen_csv\u001b[0m:\u001b[36m108\u001b[0m - \u001b[34m\u001b[1mLoaded CSV: c:\\Users\\OAVAI\\Desktop\\mma - Copy\\mma_light\\data\\output\\metrics\\natty_metrics.csv (117 rows)\u001b[0m\n",
      "\u001b[32m2025-10-22 19:57:01.778\u001b[0m | \u001b[34m\u001b[1mDEBUG   \u001b[0m | \u001b[36msrc.utils.general\u001b[0m:\u001b[36mstore_csv\u001b[0m:\u001b[36m145\u001b[0m - \u001b[34m\u001b[1mSaved CSV: c:\\Users\\OAVAI\\Desktop\\mma - Copy\\mma_light\\data\\output\\metrics\\natty_metrics.csv (118 rows)\u001b[0m\n",
      "[I 2025-10-22 19:57:04,283] Trial 35 finished with value: 1.6582324 and parameters: {'max_depth': 3, 'learning_rate': 0.019576710978517403, 'n_estimators': 923, 'min_child_weight': 36.342801075031076, 'gamma': 2.116260809282513, 'subsample': 0.6009915478785147, 'colsample_bytree': 0.7912401481956333, 'reg_lambda': 1.174993098908447, 'top_k_feats': 76}. Best is trial 33 with value: 1.65784242.\n",
      "\u001b[32m2025-10-22 19:57:04.284\u001b[0m | \u001b[1mINFO    \u001b[0m | \u001b[36msrc.model_selection.cv_main\u001b[0m:\u001b[36m_objective\u001b[0m:\u001b[36m602\u001b[0m - \u001b[1mFound attribute \"feature_params\". Assuming re-training with reduced features.\u001b[0m\n",
      "\u001b[32m2025-10-22 19:57:04.299\u001b[0m | \u001b[34m\u001b[1mDEBUG   \u001b[0m | \u001b[36msrc.utils.general\u001b[0m:\u001b[36mopen_csv\u001b[0m:\u001b[36m108\u001b[0m - \u001b[34m\u001b[1mLoaded CSV: c:\\Users\\OAVAI\\Desktop\\mma - Copy\\mma_light\\data\\output\\metrics\\natty_metrics.csv (118 rows)\u001b[0m\n",
      "\u001b[32m2025-10-22 19:57:04.337\u001b[0m | \u001b[34m\u001b[1mDEBUG   \u001b[0m | \u001b[36msrc.utils.general\u001b[0m:\u001b[36mopen_csv\u001b[0m:\u001b[36m108\u001b[0m - \u001b[34m\u001b[1mLoaded CSV: c:\\Users\\OAVAI\\Desktop\\mma - Copy\\mma_light\\data\\output\\feature_selection\\natty_feature_frequency.csv (87 rows)\u001b[0m\n",
      "\u001b[32m2025-10-22 19:57:04.337\u001b[0m | \u001b[1mINFO    \u001b[0m | \u001b[36msrc.model_selection.cv_main\u001b[0m:\u001b[36m_cross_validate\u001b[0m:\u001b[36m476\u001b[0m - \u001b[1mSelected top 77 features for CV: 77\u001b[0m\n",
      "\u001b[32m2025-10-22 19:57:04.340\u001b[0m | \u001b[1mINFO    \u001b[0m | \u001b[36msrc.model_selection.cv_main\u001b[0m:\u001b[36m_cross_validate\u001b[0m:\u001b[36m502\u001b[0m - \u001b[1mStarting CV for {'max_depth': 3, 'learning_rate': 0.0185, 'n_estimators': 1060, 'min_child_weight': 35.7152, 'gamma': 2.1734, 'subsample': 0.5214, 'colsample_bytree': 0.7983, 'reg_alpha': 0.0, 'reg_lambda': 1.1531, 'top_k_feats': 77}\u001b[0m\n",
      "\u001b[32m2025-10-22 19:57:10.149\u001b[0m | \u001b[1mINFO    \u001b[0m | \u001b[36msrc.model_selection.cv_main\u001b[0m:\u001b[36m_cross_validate\u001b[0m:\u001b[36m532\u001b[0m - \u001b[1mRepeat 1/1, fold 1/5 complete.\u001b[0m\n",
      "\u001b[32m2025-10-22 19:57:17.407\u001b[0m | \u001b[1mINFO    \u001b[0m | \u001b[36msrc.model_selection.cv_main\u001b[0m:\u001b[36m_cross_validate\u001b[0m:\u001b[36m532\u001b[0m - \u001b[1mRepeat 1/1, fold 2/5 complete.\u001b[0m\n",
      "\u001b[32m2025-10-22 19:57:21.858\u001b[0m | \u001b[1mINFO    \u001b[0m | \u001b[36msrc.model_selection.cv_main\u001b[0m:\u001b[36m_cross_validate\u001b[0m:\u001b[36m532\u001b[0m - \u001b[1mRepeat 1/1, fold 3/5 complete.\u001b[0m\n",
      "\u001b[32m2025-10-22 19:57:27.474\u001b[0m | \u001b[1mINFO    \u001b[0m | \u001b[36msrc.model_selection.cv_main\u001b[0m:\u001b[36m_cross_validate\u001b[0m:\u001b[36m532\u001b[0m - \u001b[1mRepeat 1/1, fold 4/5 complete.\u001b[0m\n",
      "\u001b[32m2025-10-22 19:57:32.920\u001b[0m | \u001b[1mINFO    \u001b[0m | \u001b[36msrc.model_selection.cv_main\u001b[0m:\u001b[36m_cross_validate\u001b[0m:\u001b[36m532\u001b[0m - \u001b[1mRepeat 1/1, fold 5/5 complete.\u001b[0m\n",
      "\u001b[32m2025-10-22 19:57:32.922\u001b[0m | \u001b[1mINFO    \u001b[0m | \u001b[36msrc.model_selection.cv_main\u001b[0m:\u001b[36m_cross_validate\u001b[0m:\u001b[36m548\u001b[0m - \u001b[1mAccuracy on valid_train: 0.630125\u001b[0m\n",
      "\u001b[32m2025-10-22 19:57:32.926\u001b[0m | \u001b[34m\u001b[1mDEBUG   \u001b[0m | \u001b[36msrc.utils.general\u001b[0m:\u001b[36mopen_csv\u001b[0m:\u001b[36m108\u001b[0m - \u001b[34m\u001b[1mLoaded CSV: c:\\Users\\OAVAI\\Desktop\\mma - Copy\\mma_light\\data\\output\\metrics\\natty_metrics.csv (118 rows)\u001b[0m\n",
      "\u001b[32m2025-10-22 19:57:32.936\u001b[0m | \u001b[34m\u001b[1mDEBUG   \u001b[0m | \u001b[36msrc.utils.general\u001b[0m:\u001b[36mstore_csv\u001b[0m:\u001b[36m145\u001b[0m - \u001b[34m\u001b[1mSaved CSV: c:\\Users\\OAVAI\\Desktop\\mma - Copy\\mma_light\\data\\output\\metrics\\natty_metrics.csv (119 rows)\u001b[0m\n",
      "[I 2025-10-22 19:57:35,441] Trial 36 finished with value: 1.65833257 and parameters: {'max_depth': 3, 'learning_rate': 0.01846324432330579, 'n_estimators': 1060, 'min_child_weight': 35.71524195140815, 'gamma': 2.173446385962092, 'subsample': 0.5214046949751995, 'colsample_bytree': 0.7983337263693631, 'reg_lambda': 1.1531289183932123, 'top_k_feats': 77}. Best is trial 33 with value: 1.65784242.\n",
      "\u001b[32m2025-10-22 19:57:35.442\u001b[0m | \u001b[1mINFO    \u001b[0m | \u001b[36msrc.model_selection.cv_main\u001b[0m:\u001b[36m_objective\u001b[0m:\u001b[36m602\u001b[0m - \u001b[1mFound attribute \"feature_params\". Assuming re-training with reduced features.\u001b[0m\n",
      "\u001b[32m2025-10-22 19:57:35.459\u001b[0m | \u001b[34m\u001b[1mDEBUG   \u001b[0m | \u001b[36msrc.utils.general\u001b[0m:\u001b[36mopen_csv\u001b[0m:\u001b[36m108\u001b[0m - \u001b[34m\u001b[1mLoaded CSV: c:\\Users\\OAVAI\\Desktop\\mma - Copy\\mma_light\\data\\output\\metrics\\natty_metrics.csv (119 rows)\u001b[0m\n",
      "\u001b[32m2025-10-22 19:57:35.498\u001b[0m | \u001b[34m\u001b[1mDEBUG   \u001b[0m | \u001b[36msrc.utils.general\u001b[0m:\u001b[36mopen_csv\u001b[0m:\u001b[36m108\u001b[0m - \u001b[34m\u001b[1mLoaded CSV: c:\\Users\\OAVAI\\Desktop\\mma - Copy\\mma_light\\data\\output\\feature_selection\\natty_feature_frequency.csv (87 rows)\u001b[0m\n",
      "\u001b[32m2025-10-22 19:57:35.499\u001b[0m | \u001b[1mINFO    \u001b[0m | \u001b[36msrc.model_selection.cv_main\u001b[0m:\u001b[36m_cross_validate\u001b[0m:\u001b[36m476\u001b[0m - \u001b[1mSelected top 68 features for CV: 68\u001b[0m\n",
      "\u001b[32m2025-10-22 19:57:35.502\u001b[0m | \u001b[1mINFO    \u001b[0m | \u001b[36msrc.model_selection.cv_main\u001b[0m:\u001b[36m_cross_validate\u001b[0m:\u001b[36m502\u001b[0m - \u001b[1mStarting CV for {'max_depth': 3, 'learning_rate': 0.0206, 'n_estimators': 1235, 'min_child_weight': 37.9617, 'gamma': 1.9532, 'subsample': 0.4953, 'colsample_bytree': 0.6721, 'reg_alpha': 0.0, 'reg_lambda': 1.1918, 'top_k_feats': 68}\u001b[0m\n",
      "\u001b[32m2025-10-22 19:57:39.827\u001b[0m | \u001b[1mINFO    \u001b[0m | \u001b[36msrc.model_selection.cv_main\u001b[0m:\u001b[36m_cross_validate\u001b[0m:\u001b[36m532\u001b[0m - \u001b[1mRepeat 1/1, fold 1/5 complete.\u001b[0m\n",
      "\u001b[32m2025-10-22 19:57:46.735\u001b[0m | \u001b[1mINFO    \u001b[0m | \u001b[36msrc.model_selection.cv_main\u001b[0m:\u001b[36m_cross_validate\u001b[0m:\u001b[36m532\u001b[0m - \u001b[1mRepeat 1/1, fold 2/5 complete.\u001b[0m\n",
      "\u001b[32m2025-10-22 19:57:51.314\u001b[0m | \u001b[1mINFO    \u001b[0m | \u001b[36msrc.model_selection.cv_main\u001b[0m:\u001b[36m_cross_validate\u001b[0m:\u001b[36m532\u001b[0m - \u001b[1mRepeat 1/1, fold 3/5 complete.\u001b[0m\n",
      "\u001b[32m2025-10-22 19:57:55.951\u001b[0m | \u001b[1mINFO    \u001b[0m | \u001b[36msrc.model_selection.cv_main\u001b[0m:\u001b[36m_cross_validate\u001b[0m:\u001b[36m532\u001b[0m - \u001b[1mRepeat 1/1, fold 4/5 complete.\u001b[0m\n",
      "\u001b[32m2025-10-22 19:58:00.321\u001b[0m | \u001b[1mINFO    \u001b[0m | \u001b[36msrc.model_selection.cv_main\u001b[0m:\u001b[36m_cross_validate\u001b[0m:\u001b[36m532\u001b[0m - \u001b[1mRepeat 1/1, fold 5/5 complete.\u001b[0m\n",
      "\u001b[32m2025-10-22 19:58:00.323\u001b[0m | \u001b[1mINFO    \u001b[0m | \u001b[36msrc.model_selection.cv_main\u001b[0m:\u001b[36m_cross_validate\u001b[0m:\u001b[36m548\u001b[0m - \u001b[1mAccuracy on valid_train: 0.6325\u001b[0m\n",
      "\u001b[32m2025-10-22 19:58:00.327\u001b[0m | \u001b[34m\u001b[1mDEBUG   \u001b[0m | \u001b[36msrc.utils.general\u001b[0m:\u001b[36mopen_csv\u001b[0m:\u001b[36m108\u001b[0m - \u001b[34m\u001b[1mLoaded CSV: c:\\Users\\OAVAI\\Desktop\\mma - Copy\\mma_light\\data\\output\\metrics\\natty_metrics.csv (119 rows)\u001b[0m\n",
      "\u001b[32m2025-10-22 19:58:00.337\u001b[0m | \u001b[34m\u001b[1mDEBUG   \u001b[0m | \u001b[36msrc.utils.general\u001b[0m:\u001b[36mstore_csv\u001b[0m:\u001b[36m145\u001b[0m - \u001b[34m\u001b[1mSaved CSV: c:\\Users\\OAVAI\\Desktop\\mma - Copy\\mma_light\\data\\output\\metrics\\natty_metrics.csv (120 rows)\u001b[0m\n",
      "[I 2025-10-22 19:58:02,844] Trial 37 finished with value: 1.65960703 and parameters: {'max_depth': 3, 'learning_rate': 0.020571142159688433, 'n_estimators': 1235, 'min_child_weight': 37.96168551880412, 'gamma': 1.953213187320435, 'subsample': 0.49530372964314834, 'colsample_bytree': 0.6721018823378407, 'reg_lambda': 1.1918011595443205, 'top_k_feats': 68}. Best is trial 33 with value: 1.65784242.\n",
      "\u001b[32m2025-10-22 19:58:02.845\u001b[0m | \u001b[1mINFO    \u001b[0m | \u001b[36msrc.model_selection.cv_main\u001b[0m:\u001b[36m_objective\u001b[0m:\u001b[36m602\u001b[0m - \u001b[1mFound attribute \"feature_params\". Assuming re-training with reduced features.\u001b[0m\n",
      "\u001b[32m2025-10-22 19:58:02.860\u001b[0m | \u001b[34m\u001b[1mDEBUG   \u001b[0m | \u001b[36msrc.utils.general\u001b[0m:\u001b[36mopen_csv\u001b[0m:\u001b[36m108\u001b[0m - \u001b[34m\u001b[1mLoaded CSV: c:\\Users\\OAVAI\\Desktop\\mma - Copy\\mma_light\\data\\output\\metrics\\natty_metrics.csv (120 rows)\u001b[0m\n",
      "\u001b[32m2025-10-22 19:58:02.893\u001b[0m | \u001b[34m\u001b[1mDEBUG   \u001b[0m | \u001b[36msrc.utils.general\u001b[0m:\u001b[36mopen_csv\u001b[0m:\u001b[36m108\u001b[0m - \u001b[34m\u001b[1mLoaded CSV: c:\\Users\\OAVAI\\Desktop\\mma - Copy\\mma_light\\data\\output\\feature_selection\\natty_feature_frequency.csv (87 rows)\u001b[0m\n",
      "\u001b[32m2025-10-22 19:58:02.894\u001b[0m | \u001b[1mINFO    \u001b[0m | \u001b[36msrc.model_selection.cv_main\u001b[0m:\u001b[36m_cross_validate\u001b[0m:\u001b[36m476\u001b[0m - \u001b[1mSelected top 60 features for CV: 60\u001b[0m\n",
      "\u001b[32m2025-10-22 19:58:02.896\u001b[0m | \u001b[1mINFO    \u001b[0m | \u001b[36msrc.model_selection.cv_main\u001b[0m:\u001b[36m_cross_validate\u001b[0m:\u001b[36m502\u001b[0m - \u001b[1mStarting CV for {'max_depth': 3, 'learning_rate': 0.0169, 'n_estimators': 1073, 'min_child_weight': 35.0502, 'gamma': 2.4525, 'subsample': 0.5702, 'colsample_bytree': 0.8423, 'reg_alpha': 0.0, 'reg_lambda': 0.8427, 'top_k_feats': 60}\u001b[0m\n",
      "\u001b[32m2025-10-22 19:58:07.790\u001b[0m | \u001b[1mINFO    \u001b[0m | \u001b[36msrc.model_selection.cv_main\u001b[0m:\u001b[36m_cross_validate\u001b[0m:\u001b[36m532\u001b[0m - \u001b[1mRepeat 1/1, fold 1/5 complete.\u001b[0m\n",
      "\u001b[32m2025-10-22 19:58:14.201\u001b[0m | \u001b[1mINFO    \u001b[0m | \u001b[36msrc.model_selection.cv_main\u001b[0m:\u001b[36m_cross_validate\u001b[0m:\u001b[36m532\u001b[0m - \u001b[1mRepeat 1/1, fold 2/5 complete.\u001b[0m\n",
      "\u001b[32m2025-10-22 19:58:18.498\u001b[0m | \u001b[1mINFO    \u001b[0m | \u001b[36msrc.model_selection.cv_main\u001b[0m:\u001b[36m_cross_validate\u001b[0m:\u001b[36m532\u001b[0m - \u001b[1mRepeat 1/1, fold 3/5 complete.\u001b[0m\n",
      "\u001b[32m2025-10-22 19:58:22.466\u001b[0m | \u001b[1mINFO    \u001b[0m | \u001b[36msrc.model_selection.cv_main\u001b[0m:\u001b[36m_cross_validate\u001b[0m:\u001b[36m532\u001b[0m - \u001b[1mRepeat 1/1, fold 4/5 complete.\u001b[0m\n",
      "\u001b[32m2025-10-22 19:58:27.123\u001b[0m | \u001b[1mINFO    \u001b[0m | \u001b[36msrc.model_selection.cv_main\u001b[0m:\u001b[36m_cross_validate\u001b[0m:\u001b[36m532\u001b[0m - \u001b[1mRepeat 1/1, fold 5/5 complete.\u001b[0m\n",
      "\u001b[32m2025-10-22 19:58:27.125\u001b[0m | \u001b[1mINFO    \u001b[0m | \u001b[36msrc.model_selection.cv_main\u001b[0m:\u001b[36m_cross_validate\u001b[0m:\u001b[36m548\u001b[0m - \u001b[1mAccuracy on valid_train: 0.629125\u001b[0m\n",
      "\u001b[32m2025-10-22 19:58:27.129\u001b[0m | \u001b[34m\u001b[1mDEBUG   \u001b[0m | \u001b[36msrc.utils.general\u001b[0m:\u001b[36mopen_csv\u001b[0m:\u001b[36m108\u001b[0m - \u001b[34m\u001b[1mLoaded CSV: c:\\Users\\OAVAI\\Desktop\\mma - Copy\\mma_light\\data\\output\\metrics\\natty_metrics.csv (120 rows)\u001b[0m\n",
      "\u001b[32m2025-10-22 19:58:27.139\u001b[0m | \u001b[34m\u001b[1mDEBUG   \u001b[0m | \u001b[36msrc.utils.general\u001b[0m:\u001b[36mstore_csv\u001b[0m:\u001b[36m145\u001b[0m - \u001b[34m\u001b[1mSaved CSV: c:\\Users\\OAVAI\\Desktop\\mma - Copy\\mma_light\\data\\output\\metrics\\natty_metrics.csv (121 rows)\u001b[0m\n",
      "[I 2025-10-22 19:58:29,645] Trial 38 finished with value: 1.66124578 and parameters: {'max_depth': 3, 'learning_rate': 0.016850867759270013, 'n_estimators': 1073, 'min_child_weight': 35.05018972702254, 'gamma': 2.4524994938438947, 'subsample': 0.5702150259354631, 'colsample_bytree': 0.8422782186484142, 'reg_lambda': 0.8427087765892407, 'top_k_feats': 60}. Best is trial 33 with value: 1.65784242.\n",
      "\u001b[32m2025-10-22 19:58:29.645\u001b[0m | \u001b[1mINFO    \u001b[0m | \u001b[36msrc.model_selection.cv_main\u001b[0m:\u001b[36m_objective\u001b[0m:\u001b[36m602\u001b[0m - \u001b[1mFound attribute \"feature_params\". Assuming re-training with reduced features.\u001b[0m\n",
      "\u001b[32m2025-10-22 19:58:29.662\u001b[0m | \u001b[34m\u001b[1mDEBUG   \u001b[0m | \u001b[36msrc.utils.general\u001b[0m:\u001b[36mopen_csv\u001b[0m:\u001b[36m108\u001b[0m - \u001b[34m\u001b[1mLoaded CSV: c:\\Users\\OAVAI\\Desktop\\mma - Copy\\mma_light\\data\\output\\metrics\\natty_metrics.csv (121 rows)\u001b[0m\n",
      "\u001b[32m2025-10-22 19:58:29.701\u001b[0m | \u001b[34m\u001b[1mDEBUG   \u001b[0m | \u001b[36msrc.utils.general\u001b[0m:\u001b[36mopen_csv\u001b[0m:\u001b[36m108\u001b[0m - \u001b[34m\u001b[1mLoaded CSV: c:\\Users\\OAVAI\\Desktop\\mma - Copy\\mma_light\\data\\output\\feature_selection\\natty_feature_frequency.csv (87 rows)\u001b[0m\n",
      "\u001b[32m2025-10-22 19:58:29.702\u001b[0m | \u001b[1mINFO    \u001b[0m | \u001b[36msrc.model_selection.cv_main\u001b[0m:\u001b[36m_cross_validate\u001b[0m:\u001b[36m476\u001b[0m - \u001b[1mSelected top 78 features for CV: 78\u001b[0m\n",
      "\u001b[32m2025-10-22 19:58:29.705\u001b[0m | \u001b[1mINFO    \u001b[0m | \u001b[36msrc.model_selection.cv_main\u001b[0m:\u001b[36m_cross_validate\u001b[0m:\u001b[36m502\u001b[0m - \u001b[1mStarting CV for {'max_depth': 3, 'learning_rate': 0.0195, 'n_estimators': 1015, 'min_child_weight': 38.0365, 'gamma': 2.0089, 'subsample': 0.5918, 'colsample_bytree': 0.7921, 'reg_alpha': 0.0, 'reg_lambda': 1.2557, 'top_k_feats': 78}\u001b[0m\n",
      "\u001b[32m2025-10-22 19:58:36.108\u001b[0m | \u001b[1mINFO    \u001b[0m | \u001b[36msrc.model_selection.cv_main\u001b[0m:\u001b[36m_cross_validate\u001b[0m:\u001b[36m532\u001b[0m - \u001b[1mRepeat 1/1, fold 1/5 complete.\u001b[0m\n",
      "\u001b[32m2025-10-22 19:58:42.747\u001b[0m | \u001b[1mINFO    \u001b[0m | \u001b[36msrc.model_selection.cv_main\u001b[0m:\u001b[36m_cross_validate\u001b[0m:\u001b[36m532\u001b[0m - \u001b[1mRepeat 1/1, fold 2/5 complete.\u001b[0m\n",
      "\u001b[32m2025-10-22 19:58:47.113\u001b[0m | \u001b[1mINFO    \u001b[0m | \u001b[36msrc.model_selection.cv_main\u001b[0m:\u001b[36m_cross_validate\u001b[0m:\u001b[36m532\u001b[0m - \u001b[1mRepeat 1/1, fold 3/5 complete.\u001b[0m\n",
      "\u001b[32m2025-10-22 19:58:52.069\u001b[0m | \u001b[1mINFO    \u001b[0m | \u001b[36msrc.model_selection.cv_main\u001b[0m:\u001b[36m_cross_validate\u001b[0m:\u001b[36m532\u001b[0m - \u001b[1mRepeat 1/1, fold 4/5 complete.\u001b[0m\n",
      "\u001b[32m2025-10-22 19:58:57.104\u001b[0m | \u001b[1mINFO    \u001b[0m | \u001b[36msrc.model_selection.cv_main\u001b[0m:\u001b[36m_cross_validate\u001b[0m:\u001b[36m532\u001b[0m - \u001b[1mRepeat 1/1, fold 5/5 complete.\u001b[0m\n",
      "\u001b[32m2025-10-22 19:58:57.104\u001b[0m | \u001b[1mINFO    \u001b[0m | \u001b[36msrc.model_selection.cv_main\u001b[0m:\u001b[36m_cross_validate\u001b[0m:\u001b[36m548\u001b[0m - \u001b[1mAccuracy on valid_train: 0.63375\u001b[0m\n",
      "\u001b[32m2025-10-22 19:58:57.110\u001b[0m | \u001b[34m\u001b[1mDEBUG   \u001b[0m | \u001b[36msrc.utils.general\u001b[0m:\u001b[36mopen_csv\u001b[0m:\u001b[36m108\u001b[0m - \u001b[34m\u001b[1mLoaded CSV: c:\\Users\\OAVAI\\Desktop\\mma - Copy\\mma_light\\data\\output\\metrics\\natty_metrics.csv (121 rows)\u001b[0m\n",
      "\u001b[32m2025-10-22 19:58:57.120\u001b[0m | \u001b[34m\u001b[1mDEBUG   \u001b[0m | \u001b[36msrc.utils.general\u001b[0m:\u001b[36mstore_csv\u001b[0m:\u001b[36m145\u001b[0m - \u001b[34m\u001b[1mSaved CSV: c:\\Users\\OAVAI\\Desktop\\mma - Copy\\mma_light\\data\\output\\metrics\\natty_metrics.csv (122 rows)\u001b[0m\n",
      "[I 2025-10-22 19:58:59,624] Trial 39 finished with value: 1.65791367 and parameters: {'max_depth': 3, 'learning_rate': 0.019497365364120334, 'n_estimators': 1015, 'min_child_weight': 38.03647795820886, 'gamma': 2.0089374515964162, 'subsample': 0.5917822415427065, 'colsample_bytree': 0.792142758386544, 'reg_lambda': 1.2557393418859508, 'top_k_feats': 78}. Best is trial 33 with value: 1.65784242.\n",
      "\u001b[32m2025-10-22 19:58:59.625\u001b[0m | \u001b[1mINFO    \u001b[0m | \u001b[36msrc.model_selection.cv_main\u001b[0m:\u001b[36moptimize\u001b[0m:\u001b[36m153\u001b[0m - \u001b[1mLowest logloss found for valid_train: 1.65784242\u001b[0m\n"
     ]
    }
   ],
   "source": [
    "# Optionally, change default stability check params \n",
    "stability_check_params = {\n",
    "    'top_n': 5, \n",
    "    'n_repeats': 3\n",
    "}\n",
    "CV.set_stability_check_params(stability_check_params)\n",
    "\n",
    "CV.change_cv_param('n_repeats', 3)\n",
    "#CV.select_features(rndstate_stability_check = True)\n",
    "\n",
    "select_by = 'index'   # index or frequency \n",
    "\n",
    "if select_by == 'frequency': \n",
    "    # Seems to have a bug when feature_range[0] < n_features. \n",
    "    max_freq = CV.cv_params['n_repeats'] * CV.cv_params['n_folds'] \n",
    "    feature_range = (max_freq-2, max_freq)\n",
    "    feature_range = (12,15)\n",
    "elif select_by == 'index': \n",
    "    max_index = len(CV.Xt.columns)\n",
    "    feature_range = (30, max_index)\n",
    "    \n",
    "CV.set_feature_params(\n",
    "    select_by = select_by, \n",
    "    feature_range = feature_range\n",
    ") \n",
    "\n",
    "CV.change_cv_param('n_repeats', 1)\n",
    "CV.optimize(n_trials = 40) "
   ]
  },
  {
   "cell_type": "markdown",
   "metadata": {},
   "source": [
    "### 4.3 Making predictions\n",
    "\n",
    "+ Now we can start making predictions. Program automatically selects the best hyperparameters and the best k_selected most important columns and calculates probabilities for each of the 7 classes.\n",
    "+ The output file `output/predictions/pred_{suffix}` contains averages, standard deviations, mean +/- 2std, 5perc, 95perc, min max for each of the 7 classes. These values define the probability distributions that are created by making predictions in each of the folds of the n_repeats unique 5-folds (so `n_repeats*n_folds` unique samples).  \n",
    "+ In contrast to training, for each repeat and for each fold, a different xgb random state is chosen. \n",
    "+ Probability distributions are created for both 7 classes and 2 classes (win or lose). In case of two classes, a draw basically means money back so win probabilities are calculated as $$P_{win} = \\frac{P_{KO} + P_{Sub} + P_{Dec}}{1-P_{Draw}}$$\n",
    "+ Based on the validation set, the model also creates a plot to show how well it's calibrated.\n",
    "+ Also makes predictions for debuting fighters, but the model does not take into account previous carreer stats. This means that, with luck, only height, reach and age are available. Take this into account when competing against other models and comparing accuracies. \n",
    "+ In stead of using the model parameters with the best metrics from the previous optimization step, you can also first do a rndstate_stability_check again and use the best paramaters of those.  "
   ]
  },
  {
   "cell_type": "code",
   "execution_count": 10,
   "metadata": {},
   "outputs": [
    {
     "name": "stderr",
     "output_type": "stream",
     "text": [
      "\u001b[32m2025-10-22 20:09:18.026\u001b[0m | \u001b[34m\u001b[1mDEBUG   \u001b[0m | \u001b[36msrc.utils.general\u001b[0m:\u001b[36mopen_csv\u001b[0m:\u001b[36m108\u001b[0m - \u001b[34m\u001b[1mLoaded CSV: c:\\Users\\OAVAI\\Desktop\\mma - Copy\\mma_light\\data\\processed\\train_natty.csv (14434 rows)\u001b[0m\n",
      "\u001b[32m2025-10-22 20:09:18.085\u001b[0m | \u001b[1mINFO    \u001b[0m | \u001b[36msrc.model_selection.trainvalpred\u001b[0m:\u001b[36mget_folds\u001b[0m:\u001b[36m471\u001b[0m - \u001b[1mCreated 3 unique 5-folds\u001b[0m\n",
      "\u001b[32m2025-10-22 20:09:18.089\u001b[0m | \u001b[1mINFO    \u001b[0m | \u001b[36msrc.model_selection.cv_dataloader\u001b[0m:\u001b[36m_load_train\u001b[0m:\u001b[36m30\u001b[0m - \u001b[1mNumber of features: 87\u001b[0m\n",
      "\u001b[32m2025-10-22 20:09:18.090\u001b[0m | \u001b[1mINFO    \u001b[0m | \u001b[36msrc.model_selection.cv_main\u001b[0m:\u001b[36m_xgb_seed_stability_check\u001b[0m:\u001b[36m391\u001b[0m - \u001b[1mChecking xgb random_state stability.\u001b[0m\n",
      "\u001b[32m2025-10-22 20:09:18.093\u001b[0m | \u001b[34m\u001b[1mDEBUG   \u001b[0m | \u001b[36msrc.utils.general\u001b[0m:\u001b[36mopen_csv\u001b[0m:\u001b[36m108\u001b[0m - \u001b[34m\u001b[1mLoaded CSV: c:\\Users\\OAVAI\\Desktop\\mma - Copy\\mma_light\\data\\output\\metrics\\natty_metrics_rndstate_stability_check.csv (6 rows)\u001b[0m\n",
      "\u001b[32m2025-10-22 20:09:18.095\u001b[0m | \u001b[34m\u001b[1mDEBUG   \u001b[0m | \u001b[36msrc.utils.general\u001b[0m:\u001b[36mopen_csv\u001b[0m:\u001b[36m108\u001b[0m - \u001b[34m\u001b[1mLoaded CSV: c:\\Users\\OAVAI\\Desktop\\mma - Copy\\mma_light\\data\\output\\metrics\\natty_metrics.csv (122 rows)\u001b[0m\n",
      "\u001b[32m2025-10-22 20:09:18.097\u001b[0m | \u001b[34m\u001b[1mDEBUG   \u001b[0m | \u001b[36msrc.utils.general\u001b[0m:\u001b[36mopen_csv\u001b[0m:\u001b[36m108\u001b[0m - \u001b[34m\u001b[1mLoaded CSV: c:\\Users\\OAVAI\\Desktop\\mma - Copy\\mma_light\\data\\output\\feature_selection\\natty_feature_frequency.csv (87 rows)\u001b[0m\n",
      "\u001b[32m2025-10-22 20:09:18.097\u001b[0m | \u001b[1mINFO    \u001b[0m | \u001b[36msrc.model_selection.cv_main\u001b[0m:\u001b[36m_cross_validate\u001b[0m:\u001b[36m476\u001b[0m - \u001b[1mSelected top 76 features for CV: 76\u001b[0m\n",
      "\u001b[32m2025-10-22 20:09:18.101\u001b[0m | \u001b[1mINFO    \u001b[0m | \u001b[36msrc.model_selection.cv_main\u001b[0m:\u001b[36m_cross_validate\u001b[0m:\u001b[36m502\u001b[0m - \u001b[1mStarting CV for {'max_depth': 3, 'learning_rate': 0.019, 'n_estimators': 877, 'min_child_weight': 36.2728, 'gamma': 2.102, 'subsample': 0.5594, 'colsample_bytree': 0.7988, 'reg_alpha': 0.0, 'reg_lambda': 1.0253, 'top_k_feats': '76'}\u001b[0m\n",
      "\u001b[32m2025-10-22 20:09:24.841\u001b[0m | \u001b[1mINFO    \u001b[0m | \u001b[36msrc.model_selection.cv_main\u001b[0m:\u001b[36m_cross_validate\u001b[0m:\u001b[36m532\u001b[0m - \u001b[1mRepeat 1/3, fold 1/5 complete.\u001b[0m\n",
      "\u001b[32m2025-10-22 20:09:30.628\u001b[0m | \u001b[1mINFO    \u001b[0m | \u001b[36msrc.model_selection.cv_main\u001b[0m:\u001b[36m_cross_validate\u001b[0m:\u001b[36m532\u001b[0m - \u001b[1mRepeat 1/3, fold 2/5 complete.\u001b[0m\n",
      "\u001b[32m2025-10-22 20:09:35.858\u001b[0m | \u001b[1mINFO    \u001b[0m | \u001b[36msrc.model_selection.cv_main\u001b[0m:\u001b[36m_cross_validate\u001b[0m:\u001b[36m532\u001b[0m - \u001b[1mRepeat 1/3, fold 3/5 complete.\u001b[0m\n",
      "\u001b[32m2025-10-22 20:09:42.685\u001b[0m | \u001b[1mINFO    \u001b[0m | \u001b[36msrc.model_selection.cv_main\u001b[0m:\u001b[36m_cross_validate\u001b[0m:\u001b[36m532\u001b[0m - \u001b[1mRepeat 1/3, fold 4/5 complete.\u001b[0m\n",
      "\u001b[32m2025-10-22 20:09:48.986\u001b[0m | \u001b[1mINFO    \u001b[0m | \u001b[36msrc.model_selection.cv_main\u001b[0m:\u001b[36m_cross_validate\u001b[0m:\u001b[36m532\u001b[0m - \u001b[1mRepeat 1/3, fold 5/5 complete.\u001b[0m\n",
      "\u001b[32m2025-10-22 20:09:55.224\u001b[0m | \u001b[1mINFO    \u001b[0m | \u001b[36msrc.model_selection.cv_main\u001b[0m:\u001b[36m_cross_validate\u001b[0m:\u001b[36m532\u001b[0m - \u001b[1mRepeat 2/3, fold 1/5 complete.\u001b[0m\n",
      "\u001b[32m2025-10-22 20:10:00.291\u001b[0m | \u001b[1mINFO    \u001b[0m | \u001b[36msrc.model_selection.cv_main\u001b[0m:\u001b[36m_cross_validate\u001b[0m:\u001b[36m532\u001b[0m - \u001b[1mRepeat 2/3, fold 2/5 complete.\u001b[0m\n",
      "\u001b[32m2025-10-22 20:10:06.874\u001b[0m | \u001b[1mINFO    \u001b[0m | \u001b[36msrc.model_selection.cv_main\u001b[0m:\u001b[36m_cross_validate\u001b[0m:\u001b[36m532\u001b[0m - \u001b[1mRepeat 2/3, fold 3/5 complete.\u001b[0m\n",
      "\u001b[32m2025-10-22 20:10:12.414\u001b[0m | \u001b[1mINFO    \u001b[0m | \u001b[36msrc.model_selection.cv_main\u001b[0m:\u001b[36m_cross_validate\u001b[0m:\u001b[36m532\u001b[0m - \u001b[1mRepeat 2/3, fold 4/5 complete.\u001b[0m\n",
      "\u001b[32m2025-10-22 20:10:18.337\u001b[0m | \u001b[1mINFO    \u001b[0m | \u001b[36msrc.model_selection.cv_main\u001b[0m:\u001b[36m_cross_validate\u001b[0m:\u001b[36m532\u001b[0m - \u001b[1mRepeat 2/3, fold 5/5 complete.\u001b[0m\n",
      "\u001b[32m2025-10-22 20:10:24.494\u001b[0m | \u001b[1mINFO    \u001b[0m | \u001b[36msrc.model_selection.cv_main\u001b[0m:\u001b[36m_cross_validate\u001b[0m:\u001b[36m532\u001b[0m - \u001b[1mRepeat 3/3, fold 1/5 complete.\u001b[0m\n",
      "\u001b[32m2025-10-22 20:10:31.264\u001b[0m | \u001b[1mINFO    \u001b[0m | \u001b[36msrc.model_selection.cv_main\u001b[0m:\u001b[36m_cross_validate\u001b[0m:\u001b[36m532\u001b[0m - \u001b[1mRepeat 3/3, fold 2/5 complete.\u001b[0m\n",
      "\u001b[32m2025-10-22 20:10:38.307\u001b[0m | \u001b[1mINFO    \u001b[0m | \u001b[36msrc.model_selection.cv_main\u001b[0m:\u001b[36m_cross_validate\u001b[0m:\u001b[36m532\u001b[0m - \u001b[1mRepeat 3/3, fold 3/5 complete.\u001b[0m\n",
      "\u001b[32m2025-10-22 20:10:44.941\u001b[0m | \u001b[1mINFO    \u001b[0m | \u001b[36msrc.model_selection.cv_main\u001b[0m:\u001b[36m_cross_validate\u001b[0m:\u001b[36m532\u001b[0m - \u001b[1mRepeat 3/3, fold 4/5 complete.\u001b[0m\n",
      "\u001b[32m2025-10-22 20:10:50.971\u001b[0m | \u001b[1mINFO    \u001b[0m | \u001b[36msrc.model_selection.cv_main\u001b[0m:\u001b[36m_cross_validate\u001b[0m:\u001b[36m532\u001b[0m - \u001b[1mRepeat 3/3, fold 5/5 complete.\u001b[0m\n",
      "\u001b[32m2025-10-22 20:10:50.973\u001b[0m | \u001b[1mINFO    \u001b[0m | \u001b[36msrc.model_selection.cv_main\u001b[0m:\u001b[36m_cross_validate\u001b[0m:\u001b[36m548\u001b[0m - \u001b[1mAccuracy on valid_train: 0.63054167\u001b[0m\n",
      "\u001b[32m2025-10-22 20:10:50.984\u001b[0m | \u001b[34m\u001b[1mDEBUG   \u001b[0m | \u001b[36msrc.utils.general\u001b[0m:\u001b[36mstore_csv\u001b[0m:\u001b[36m145\u001b[0m - \u001b[34m\u001b[1mSaved CSV: c:\\Users\\OAVAI\\Desktop\\mma - Copy\\mma_light\\data\\output\\metrics\\natty_metrics_rndstate_stability_check.csv (7 rows)\u001b[0m\n",
      "\u001b[32m2025-10-22 20:10:50.985\u001b[0m | \u001b[1mINFO    \u001b[0m | \u001b[36msrc.model_selection.cv_main\u001b[0m:\u001b[36m_xgb_seed_stability_check\u001b[0m:\u001b[36m420\u001b[0m - \u001b[1mChecked stability for 1/5 metrics\u001b[0m\n",
      "\u001b[32m2025-10-22 20:10:50.985\u001b[0m | \u001b[1mINFO    \u001b[0m | \u001b[36msrc.model_selection.cv_main\u001b[0m:\u001b[36m_xgb_seed_stability_check\u001b[0m:\u001b[36m424\u001b[0m - \u001b[1mDifference logloss 7 valid_train: -0.0018085800000000596\u001b[0m\n",
      "\u001b[32m2025-10-22 20:10:50.986\u001b[0m | \u001b[1mINFO    \u001b[0m | \u001b[36msrc.model_selection.cv_main\u001b[0m:\u001b[36m_xgb_seed_stability_check\u001b[0m:\u001b[36m426\u001b[0m - \u001b[1mDifference logloss 2 valid_train: -0.00035890999999999007\u001b[0m\n",
      "\u001b[32m2025-10-22 20:10:50.991\u001b[0m | \u001b[34m\u001b[1mDEBUG   \u001b[0m | \u001b[36msrc.utils.general\u001b[0m:\u001b[36mopen_csv\u001b[0m:\u001b[36m108\u001b[0m - \u001b[34m\u001b[1mLoaded CSV: c:\\Users\\OAVAI\\Desktop\\mma - Copy\\mma_light\\data\\output\\metrics\\natty_metrics.csv (122 rows)\u001b[0m\n",
      "\u001b[32m2025-10-22 20:10:50.995\u001b[0m | \u001b[34m\u001b[1mDEBUG   \u001b[0m | \u001b[36msrc.utils.general\u001b[0m:\u001b[36mopen_csv\u001b[0m:\u001b[36m108\u001b[0m - \u001b[34m\u001b[1mLoaded CSV: c:\\Users\\OAVAI\\Desktop\\mma - Copy\\mma_light\\data\\output\\feature_selection\\natty_feature_frequency.csv (87 rows)\u001b[0m\n",
      "\u001b[32m2025-10-22 20:10:50.997\u001b[0m | \u001b[1mINFO    \u001b[0m | \u001b[36msrc.model_selection.cv_main\u001b[0m:\u001b[36m_cross_validate\u001b[0m:\u001b[36m476\u001b[0m - \u001b[1mSelected top 78 features for CV: 78\u001b[0m\n",
      "\u001b[32m2025-10-22 20:10:51.000\u001b[0m | \u001b[1mINFO    \u001b[0m | \u001b[36msrc.model_selection.cv_main\u001b[0m:\u001b[36m_cross_validate\u001b[0m:\u001b[36m502\u001b[0m - \u001b[1mStarting CV for {'max_depth': 3, 'learning_rate': 0.0195, 'n_estimators': 1015, 'min_child_weight': 38.0365, 'gamma': 2.0089, 'subsample': 0.5918, 'colsample_bytree': 0.7921, 'reg_alpha': 0.0, 'reg_lambda': 1.2557, 'top_k_feats': '78'}\u001b[0m\n",
      "\u001b[32m2025-10-22 20:10:57.162\u001b[0m | \u001b[1mINFO    \u001b[0m | \u001b[36msrc.model_selection.cv_main\u001b[0m:\u001b[36m_cross_validate\u001b[0m:\u001b[36m532\u001b[0m - \u001b[1mRepeat 1/3, fold 1/5 complete.\u001b[0m\n",
      "\u001b[32m2025-10-22 20:11:04.063\u001b[0m | \u001b[1mINFO    \u001b[0m | \u001b[36msrc.model_selection.cv_main\u001b[0m:\u001b[36m_cross_validate\u001b[0m:\u001b[36m532\u001b[0m - \u001b[1mRepeat 1/3, fold 2/5 complete.\u001b[0m\n",
      "\u001b[32m2025-10-22 20:11:08.849\u001b[0m | \u001b[1mINFO    \u001b[0m | \u001b[36msrc.model_selection.cv_main\u001b[0m:\u001b[36m_cross_validate\u001b[0m:\u001b[36m532\u001b[0m - \u001b[1mRepeat 1/3, fold 3/5 complete.\u001b[0m\n",
      "\u001b[32m2025-10-22 20:11:15.286\u001b[0m | \u001b[1mINFO    \u001b[0m | \u001b[36msrc.model_selection.cv_main\u001b[0m:\u001b[36m_cross_validate\u001b[0m:\u001b[36m532\u001b[0m - \u001b[1mRepeat 1/3, fold 4/5 complete.\u001b[0m\n",
      "\u001b[32m2025-10-22 20:11:22.756\u001b[0m | \u001b[1mINFO    \u001b[0m | \u001b[36msrc.model_selection.cv_main\u001b[0m:\u001b[36m_cross_validate\u001b[0m:\u001b[36m532\u001b[0m - \u001b[1mRepeat 1/3, fold 5/5 complete.\u001b[0m\n",
      "\u001b[32m2025-10-22 20:11:31.128\u001b[0m | \u001b[1mINFO    \u001b[0m | \u001b[36msrc.model_selection.cv_main\u001b[0m:\u001b[36m_cross_validate\u001b[0m:\u001b[36m532\u001b[0m - \u001b[1mRepeat 2/3, fold 1/5 complete.\u001b[0m\n",
      "\u001b[32m2025-10-22 20:11:35.974\u001b[0m | \u001b[1mINFO    \u001b[0m | \u001b[36msrc.model_selection.cv_main\u001b[0m:\u001b[36m_cross_validate\u001b[0m:\u001b[36m532\u001b[0m - \u001b[1mRepeat 2/3, fold 2/5 complete.\u001b[0m\n",
      "\u001b[32m2025-10-22 20:11:42.644\u001b[0m | \u001b[1mINFO    \u001b[0m | \u001b[36msrc.model_selection.cv_main\u001b[0m:\u001b[36m_cross_validate\u001b[0m:\u001b[36m532\u001b[0m - \u001b[1mRepeat 2/3, fold 3/5 complete.\u001b[0m\n",
      "\u001b[32m2025-10-22 20:11:50.428\u001b[0m | \u001b[1mINFO    \u001b[0m | \u001b[36msrc.model_selection.cv_main\u001b[0m:\u001b[36m_cross_validate\u001b[0m:\u001b[36m532\u001b[0m - \u001b[1mRepeat 2/3, fold 4/5 complete.\u001b[0m\n",
      "\u001b[32m2025-10-22 20:11:55.538\u001b[0m | \u001b[1mINFO    \u001b[0m | \u001b[36msrc.model_selection.cv_main\u001b[0m:\u001b[36m_cross_validate\u001b[0m:\u001b[36m532\u001b[0m - \u001b[1mRepeat 2/3, fold 5/5 complete.\u001b[0m\n",
      "\u001b[32m2025-10-22 20:12:03.408\u001b[0m | \u001b[1mINFO    \u001b[0m | \u001b[36msrc.model_selection.cv_main\u001b[0m:\u001b[36m_cross_validate\u001b[0m:\u001b[36m532\u001b[0m - \u001b[1mRepeat 3/3, fold 1/5 complete.\u001b[0m\n",
      "\u001b[32m2025-10-22 20:12:09.344\u001b[0m | \u001b[1mINFO    \u001b[0m | \u001b[36msrc.model_selection.cv_main\u001b[0m:\u001b[36m_cross_validate\u001b[0m:\u001b[36m532\u001b[0m - \u001b[1mRepeat 3/3, fold 2/5 complete.\u001b[0m\n",
      "\u001b[32m2025-10-22 20:12:16.094\u001b[0m | \u001b[1mINFO    \u001b[0m | \u001b[36msrc.model_selection.cv_main\u001b[0m:\u001b[36m_cross_validate\u001b[0m:\u001b[36m532\u001b[0m - \u001b[1mRepeat 3/3, fold 3/5 complete.\u001b[0m\n",
      "\u001b[32m2025-10-22 20:12:21.115\u001b[0m | \u001b[1mINFO    \u001b[0m | \u001b[36msrc.model_selection.cv_main\u001b[0m:\u001b[36m_cross_validate\u001b[0m:\u001b[36m532\u001b[0m - \u001b[1mRepeat 3/3, fold 4/5 complete.\u001b[0m\n",
      "\u001b[32m2025-10-22 20:12:26.607\u001b[0m | \u001b[1mINFO    \u001b[0m | \u001b[36msrc.model_selection.cv_main\u001b[0m:\u001b[36m_cross_validate\u001b[0m:\u001b[36m532\u001b[0m - \u001b[1mRepeat 3/3, fold 5/5 complete.\u001b[0m\n",
      "\u001b[32m2025-10-22 20:12:26.610\u001b[0m | \u001b[1mINFO    \u001b[0m | \u001b[36msrc.model_selection.cv_main\u001b[0m:\u001b[36m_cross_validate\u001b[0m:\u001b[36m548\u001b[0m - \u001b[1mAccuracy on valid_train: 0.63108333\u001b[0m\n",
      "\u001b[32m2025-10-22 20:12:26.621\u001b[0m | \u001b[34m\u001b[1mDEBUG   \u001b[0m | \u001b[36msrc.utils.general\u001b[0m:\u001b[36mstore_csv\u001b[0m:\u001b[36m145\u001b[0m - \u001b[34m\u001b[1mSaved CSV: c:\\Users\\OAVAI\\Desktop\\mma - Copy\\mma_light\\data\\output\\metrics\\natty_metrics_rndstate_stability_check.csv (8 rows)\u001b[0m\n",
      "\u001b[32m2025-10-22 20:12:26.622\u001b[0m | \u001b[1mINFO    \u001b[0m | \u001b[36msrc.model_selection.cv_main\u001b[0m:\u001b[36m_xgb_seed_stability_check\u001b[0m:\u001b[36m420\u001b[0m - \u001b[1mChecked stability for 2/5 metrics\u001b[0m\n",
      "\u001b[32m2025-10-22 20:12:26.623\u001b[0m | \u001b[1mINFO    \u001b[0m | \u001b[36msrc.model_selection.cv_main\u001b[0m:\u001b[36m_xgb_seed_stability_check\u001b[0m:\u001b[36m424\u001b[0m - \u001b[1mDifference logloss 7 valid_train: -0.00131533000000017\u001b[0m\n",
      "\u001b[32m2025-10-22 20:12:26.623\u001b[0m | \u001b[1mINFO    \u001b[0m | \u001b[36msrc.model_selection.cv_main\u001b[0m:\u001b[36m_xgb_seed_stability_check\u001b[0m:\u001b[36m426\u001b[0m - \u001b[1mDifference logloss 2 valid_train: 4.3270000000039666e-05\u001b[0m\n",
      "\u001b[32m2025-10-22 20:12:26.629\u001b[0m | \u001b[34m\u001b[1mDEBUG   \u001b[0m | \u001b[36msrc.utils.general\u001b[0m:\u001b[36mopen_csv\u001b[0m:\u001b[36m108\u001b[0m - \u001b[34m\u001b[1mLoaded CSV: c:\\Users\\OAVAI\\Desktop\\mma - Copy\\mma_light\\data\\output\\metrics\\natty_metrics.csv (122 rows)\u001b[0m\n",
      "\u001b[32m2025-10-22 20:12:26.631\u001b[0m | \u001b[34m\u001b[1mDEBUG   \u001b[0m | \u001b[36msrc.utils.general\u001b[0m:\u001b[36mopen_csv\u001b[0m:\u001b[36m108\u001b[0m - \u001b[34m\u001b[1mLoaded CSV: c:\\Users\\OAVAI\\Desktop\\mma - Copy\\mma_light\\data\\output\\feature_selection\\natty_feature_frequency.csv (87 rows)\u001b[0m\n",
      "\u001b[32m2025-10-22 20:12:26.631\u001b[0m | \u001b[1mINFO    \u001b[0m | \u001b[36msrc.model_selection.cv_main\u001b[0m:\u001b[36m_cross_validate\u001b[0m:\u001b[36m476\u001b[0m - \u001b[1mSelected top 75 features for CV: 75\u001b[0m\n",
      "\u001b[32m2025-10-22 20:12:26.634\u001b[0m | \u001b[1mINFO    \u001b[0m | \u001b[36msrc.model_selection.cv_main\u001b[0m:\u001b[36m_cross_validate\u001b[0m:\u001b[36m502\u001b[0m - \u001b[1mStarting CV for {'max_depth': 3, 'learning_rate': 0.0274, 'n_estimators': 821, 'min_child_weight': 36.1601, 'gamma': 2.1378, 'subsample': 0.5938, 'colsample_bytree': 0.8906, 'reg_alpha': 0.0, 'reg_lambda': 0.8657, 'top_k_feats': '75'}\u001b[0m\n",
      "\u001b[32m2025-10-22 20:12:30.402\u001b[0m | \u001b[1mINFO    \u001b[0m | \u001b[36msrc.model_selection.cv_main\u001b[0m:\u001b[36m_cross_validate\u001b[0m:\u001b[36m532\u001b[0m - \u001b[1mRepeat 1/3, fold 1/5 complete.\u001b[0m\n",
      "\u001b[32m2025-10-22 20:12:36.377\u001b[0m | \u001b[1mINFO    \u001b[0m | \u001b[36msrc.model_selection.cv_main\u001b[0m:\u001b[36m_cross_validate\u001b[0m:\u001b[36m532\u001b[0m - \u001b[1mRepeat 1/3, fold 2/5 complete.\u001b[0m\n",
      "\u001b[32m2025-10-22 20:12:41.006\u001b[0m | \u001b[1mINFO    \u001b[0m | \u001b[36msrc.model_selection.cv_main\u001b[0m:\u001b[36m_cross_validate\u001b[0m:\u001b[36m532\u001b[0m - \u001b[1mRepeat 1/3, fold 3/5 complete.\u001b[0m\n",
      "\u001b[32m2025-10-22 20:12:45.633\u001b[0m | \u001b[1mINFO    \u001b[0m | \u001b[36msrc.model_selection.cv_main\u001b[0m:\u001b[36m_cross_validate\u001b[0m:\u001b[36m532\u001b[0m - \u001b[1mRepeat 1/3, fold 4/5 complete.\u001b[0m\n",
      "\u001b[32m2025-10-22 20:12:51.525\u001b[0m | \u001b[1mINFO    \u001b[0m | \u001b[36msrc.model_selection.cv_main\u001b[0m:\u001b[36m_cross_validate\u001b[0m:\u001b[36m532\u001b[0m - \u001b[1mRepeat 1/3, fold 5/5 complete.\u001b[0m\n",
      "\u001b[32m2025-10-22 20:12:56.967\u001b[0m | \u001b[1mINFO    \u001b[0m | \u001b[36msrc.model_selection.cv_main\u001b[0m:\u001b[36m_cross_validate\u001b[0m:\u001b[36m532\u001b[0m - \u001b[1mRepeat 2/3, fold 1/5 complete.\u001b[0m\n",
      "\u001b[32m2025-10-22 20:13:00.522\u001b[0m | \u001b[1mINFO    \u001b[0m | \u001b[36msrc.model_selection.cv_main\u001b[0m:\u001b[36m_cross_validate\u001b[0m:\u001b[36m532\u001b[0m - \u001b[1mRepeat 2/3, fold 2/5 complete.\u001b[0m\n",
      "\u001b[32m2025-10-22 20:13:05.687\u001b[0m | \u001b[1mINFO    \u001b[0m | \u001b[36msrc.model_selection.cv_main\u001b[0m:\u001b[36m_cross_validate\u001b[0m:\u001b[36m532\u001b[0m - \u001b[1mRepeat 2/3, fold 3/5 complete.\u001b[0m\n",
      "\u001b[32m2025-10-22 20:13:11.483\u001b[0m | \u001b[1mINFO    \u001b[0m | \u001b[36msrc.model_selection.cv_main\u001b[0m:\u001b[36m_cross_validate\u001b[0m:\u001b[36m532\u001b[0m - \u001b[1mRepeat 2/3, fold 4/5 complete.\u001b[0m\n",
      "\u001b[32m2025-10-22 20:13:15.822\u001b[0m | \u001b[1mINFO    \u001b[0m | \u001b[36msrc.model_selection.cv_main\u001b[0m:\u001b[36m_cross_validate\u001b[0m:\u001b[36m532\u001b[0m - \u001b[1mRepeat 2/3, fold 5/5 complete.\u001b[0m\n",
      "\u001b[32m2025-10-22 20:13:21.302\u001b[0m | \u001b[1mINFO    \u001b[0m | \u001b[36msrc.model_selection.cv_main\u001b[0m:\u001b[36m_cross_validate\u001b[0m:\u001b[36m532\u001b[0m - \u001b[1mRepeat 3/3, fold 1/5 complete.\u001b[0m\n",
      "\u001b[32m2025-10-22 20:13:26.425\u001b[0m | \u001b[1mINFO    \u001b[0m | \u001b[36msrc.model_selection.cv_main\u001b[0m:\u001b[36m_cross_validate\u001b[0m:\u001b[36m532\u001b[0m - \u001b[1mRepeat 3/3, fold 2/5 complete.\u001b[0m\n",
      "\u001b[32m2025-10-22 20:13:30.624\u001b[0m | \u001b[1mINFO    \u001b[0m | \u001b[36msrc.model_selection.cv_main\u001b[0m:\u001b[36m_cross_validate\u001b[0m:\u001b[36m532\u001b[0m - \u001b[1mRepeat 3/3, fold 3/5 complete.\u001b[0m\n",
      "\u001b[32m2025-10-22 20:13:34.078\u001b[0m | \u001b[1mINFO    \u001b[0m | \u001b[36msrc.model_selection.cv_main\u001b[0m:\u001b[36m_cross_validate\u001b[0m:\u001b[36m532\u001b[0m - \u001b[1mRepeat 3/3, fold 4/5 complete.\u001b[0m\n",
      "\u001b[32m2025-10-22 20:13:38.419\u001b[0m | \u001b[1mINFO    \u001b[0m | \u001b[36msrc.model_selection.cv_main\u001b[0m:\u001b[36m_cross_validate\u001b[0m:\u001b[36m532\u001b[0m - \u001b[1mRepeat 3/3, fold 5/5 complete.\u001b[0m\n",
      "\u001b[32m2025-10-22 20:13:38.420\u001b[0m | \u001b[1mINFO    \u001b[0m | \u001b[36msrc.model_selection.cv_main\u001b[0m:\u001b[36m_cross_validate\u001b[0m:\u001b[36m548\u001b[0m - \u001b[1mAccuracy on valid_train: 0.629125\u001b[0m\n",
      "\u001b[32m2025-10-22 20:13:38.431\u001b[0m | \u001b[34m\u001b[1mDEBUG   \u001b[0m | \u001b[36msrc.utils.general\u001b[0m:\u001b[36mstore_csv\u001b[0m:\u001b[36m145\u001b[0m - \u001b[34m\u001b[1mSaved CSV: c:\\Users\\OAVAI\\Desktop\\mma - Copy\\mma_light\\data\\output\\metrics\\natty_metrics_rndstate_stability_check.csv (9 rows)\u001b[0m\n",
      "\u001b[32m2025-10-22 20:13:38.432\u001b[0m | \u001b[1mINFO    \u001b[0m | \u001b[36msrc.model_selection.cv_main\u001b[0m:\u001b[36m_xgb_seed_stability_check\u001b[0m:\u001b[36m420\u001b[0m - \u001b[1mChecked stability for 3/5 metrics\u001b[0m\n",
      "\u001b[32m2025-10-22 20:13:38.433\u001b[0m | \u001b[1mINFO    \u001b[0m | \u001b[36msrc.model_selection.cv_main\u001b[0m:\u001b[36m_xgb_seed_stability_check\u001b[0m:\u001b[36m424\u001b[0m - \u001b[1mDifference logloss 7 valid_train: -0.0013877700000000104\u001b[0m\n",
      "\u001b[32m2025-10-22 20:13:38.434\u001b[0m | \u001b[1mINFO    \u001b[0m | \u001b[36msrc.model_selection.cv_main\u001b[0m:\u001b[36m_xgb_seed_stability_check\u001b[0m:\u001b[36m426\u001b[0m - \u001b[1mDifference logloss 2 valid_train: -0.00048042999999997615\u001b[0m\n",
      "\u001b[32m2025-10-22 20:13:38.438\u001b[0m | \u001b[34m\u001b[1mDEBUG   \u001b[0m | \u001b[36msrc.utils.general\u001b[0m:\u001b[36mopen_csv\u001b[0m:\u001b[36m108\u001b[0m - \u001b[34m\u001b[1mLoaded CSV: c:\\Users\\OAVAI\\Desktop\\mma - Copy\\mma_light\\data\\output\\metrics\\natty_metrics.csv (122 rows)\u001b[0m\n",
      "\u001b[32m2025-10-22 20:13:38.441\u001b[0m | \u001b[34m\u001b[1mDEBUG   \u001b[0m | \u001b[36msrc.utils.general\u001b[0m:\u001b[36mopen_csv\u001b[0m:\u001b[36m108\u001b[0m - \u001b[34m\u001b[1mLoaded CSV: c:\\Users\\OAVAI\\Desktop\\mma - Copy\\mma_light\\data\\output\\feature_selection\\natty_feature_frequency.csv (87 rows)\u001b[0m\n",
      "\u001b[32m2025-10-22 20:13:38.442\u001b[0m | \u001b[1mINFO    \u001b[0m | \u001b[36msrc.model_selection.cv_main\u001b[0m:\u001b[36m_cross_validate\u001b[0m:\u001b[36m476\u001b[0m - \u001b[1mSelected top 75 features for CV: 75\u001b[0m\n",
      "\u001b[32m2025-10-22 20:13:38.445\u001b[0m | \u001b[1mINFO    \u001b[0m | \u001b[36msrc.model_selection.cv_main\u001b[0m:\u001b[36m_cross_validate\u001b[0m:\u001b[36m502\u001b[0m - \u001b[1mStarting CV for {'max_depth': 3, 'learning_rate': 0.0269, 'n_estimators': 805, 'min_child_weight': 36.7259, 'gamma': 2.5035, 'subsample': 0.6137, 'colsample_bytree': 0.8876, 'reg_alpha': 0.0, 'reg_lambda': 1.0826, 'top_k_feats': '75'}\u001b[0m\n",
      "\u001b[32m2025-10-22 20:13:42.682\u001b[0m | \u001b[1mINFO    \u001b[0m | \u001b[36msrc.model_selection.cv_main\u001b[0m:\u001b[36m_cross_validate\u001b[0m:\u001b[36m532\u001b[0m - \u001b[1mRepeat 1/3, fold 1/5 complete.\u001b[0m\n",
      "\u001b[32m2025-10-22 20:13:48.942\u001b[0m | \u001b[1mINFO    \u001b[0m | \u001b[36msrc.model_selection.cv_main\u001b[0m:\u001b[36m_cross_validate\u001b[0m:\u001b[36m532\u001b[0m - \u001b[1mRepeat 1/3, fold 2/5 complete.\u001b[0m\n",
      "\u001b[32m2025-10-22 20:13:52.141\u001b[0m | \u001b[1mINFO    \u001b[0m | \u001b[36msrc.model_selection.cv_main\u001b[0m:\u001b[36m_cross_validate\u001b[0m:\u001b[36m532\u001b[0m - \u001b[1mRepeat 1/3, fold 3/5 complete.\u001b[0m\n",
      "\u001b[32m2025-10-22 20:13:57.471\u001b[0m | \u001b[1mINFO    \u001b[0m | \u001b[36msrc.model_selection.cv_main\u001b[0m:\u001b[36m_cross_validate\u001b[0m:\u001b[36m532\u001b[0m - \u001b[1mRepeat 1/3, fold 4/5 complete.\u001b[0m\n",
      "\u001b[32m2025-10-22 20:14:02.280\u001b[0m | \u001b[1mINFO    \u001b[0m | \u001b[36msrc.model_selection.cv_main\u001b[0m:\u001b[36m_cross_validate\u001b[0m:\u001b[36m532\u001b[0m - \u001b[1mRepeat 1/3, fold 5/5 complete.\u001b[0m\n",
      "\u001b[32m2025-10-22 20:14:07.428\u001b[0m | \u001b[1mINFO    \u001b[0m | \u001b[36msrc.model_selection.cv_main\u001b[0m:\u001b[36m_cross_validate\u001b[0m:\u001b[36m532\u001b[0m - \u001b[1mRepeat 2/3, fold 1/5 complete.\u001b[0m\n",
      "\u001b[32m2025-10-22 20:14:11.254\u001b[0m | \u001b[1mINFO    \u001b[0m | \u001b[36msrc.model_selection.cv_main\u001b[0m:\u001b[36m_cross_validate\u001b[0m:\u001b[36m532\u001b[0m - \u001b[1mRepeat 2/3, fold 2/5 complete.\u001b[0m\n",
      "\u001b[32m2025-10-22 20:14:15.619\u001b[0m | \u001b[1mINFO    \u001b[0m | \u001b[36msrc.model_selection.cv_main\u001b[0m:\u001b[36m_cross_validate\u001b[0m:\u001b[36m532\u001b[0m - \u001b[1mRepeat 2/3, fold 3/5 complete.\u001b[0m\n",
      "\u001b[32m2025-10-22 20:14:20.239\u001b[0m | \u001b[1mINFO    \u001b[0m | \u001b[36msrc.model_selection.cv_main\u001b[0m:\u001b[36m_cross_validate\u001b[0m:\u001b[36m532\u001b[0m - \u001b[1mRepeat 2/3, fold 4/5 complete.\u001b[0m\n",
      "\u001b[32m2025-10-22 20:14:24.523\u001b[0m | \u001b[1mINFO    \u001b[0m | \u001b[36msrc.model_selection.cv_main\u001b[0m:\u001b[36m_cross_validate\u001b[0m:\u001b[36m532\u001b[0m - \u001b[1mRepeat 2/3, fold 5/5 complete.\u001b[0m\n",
      "\u001b[32m2025-10-22 20:14:29.070\u001b[0m | \u001b[1mINFO    \u001b[0m | \u001b[36msrc.model_selection.cv_main\u001b[0m:\u001b[36m_cross_validate\u001b[0m:\u001b[36m532\u001b[0m - \u001b[1mRepeat 3/3, fold 1/5 complete.\u001b[0m\n",
      "\u001b[32m2025-10-22 20:14:33.953\u001b[0m | \u001b[1mINFO    \u001b[0m | \u001b[36msrc.model_selection.cv_main\u001b[0m:\u001b[36m_cross_validate\u001b[0m:\u001b[36m532\u001b[0m - \u001b[1mRepeat 3/3, fold 2/5 complete.\u001b[0m\n",
      "\u001b[32m2025-10-22 20:14:38.462\u001b[0m | \u001b[1mINFO    \u001b[0m | \u001b[36msrc.model_selection.cv_main\u001b[0m:\u001b[36m_cross_validate\u001b[0m:\u001b[36m532\u001b[0m - \u001b[1mRepeat 3/3, fold 3/5 complete.\u001b[0m\n",
      "\u001b[32m2025-10-22 20:14:43.245\u001b[0m | \u001b[1mINFO    \u001b[0m | \u001b[36msrc.model_selection.cv_main\u001b[0m:\u001b[36m_cross_validate\u001b[0m:\u001b[36m532\u001b[0m - \u001b[1mRepeat 3/3, fold 4/5 complete.\u001b[0m\n",
      "\u001b[32m2025-10-22 20:14:47.537\u001b[0m | \u001b[1mINFO    \u001b[0m | \u001b[36msrc.model_selection.cv_main\u001b[0m:\u001b[36m_cross_validate\u001b[0m:\u001b[36m532\u001b[0m - \u001b[1mRepeat 3/3, fold 5/5 complete.\u001b[0m\n",
      "\u001b[32m2025-10-22 20:14:47.538\u001b[0m | \u001b[1mINFO    \u001b[0m | \u001b[36msrc.model_selection.cv_main\u001b[0m:\u001b[36m_cross_validate\u001b[0m:\u001b[36m548\u001b[0m - \u001b[1mAccuracy on valid_train: 0.63083333\u001b[0m\n",
      "\u001b[32m2025-10-22 20:14:47.549\u001b[0m | \u001b[34m\u001b[1mDEBUG   \u001b[0m | \u001b[36msrc.utils.general\u001b[0m:\u001b[36mstore_csv\u001b[0m:\u001b[36m145\u001b[0m - \u001b[34m\u001b[1mSaved CSV: c:\\Users\\OAVAI\\Desktop\\mma - Copy\\mma_light\\data\\output\\metrics\\natty_metrics_rndstate_stability_check.csv (10 rows)\u001b[0m\n",
      "\u001b[32m2025-10-22 20:14:47.551\u001b[0m | \u001b[1mINFO    \u001b[0m | \u001b[36msrc.model_selection.cv_main\u001b[0m:\u001b[36m_xgb_seed_stability_check\u001b[0m:\u001b[36m420\u001b[0m - \u001b[1mChecked stability for 4/5 metrics\u001b[0m\n",
      "\u001b[32m2025-10-22 20:14:47.552\u001b[0m | \u001b[1mINFO    \u001b[0m | \u001b[36msrc.model_selection.cv_main\u001b[0m:\u001b[36m_xgb_seed_stability_check\u001b[0m:\u001b[36m424\u001b[0m - \u001b[1mDifference logloss 7 valid_train: -0.0016022700000000167\u001b[0m\n",
      "\u001b[32m2025-10-22 20:14:47.552\u001b[0m | \u001b[1mINFO    \u001b[0m | \u001b[36msrc.model_selection.cv_main\u001b[0m:\u001b[36m_xgb_seed_stability_check\u001b[0m:\u001b[36m426\u001b[0m - \u001b[1mDifference logloss 2 valid_train: -0.0004025400000000623\u001b[0m\n",
      "\u001b[32m2025-10-22 20:14:47.557\u001b[0m | \u001b[34m\u001b[1mDEBUG   \u001b[0m | \u001b[36msrc.utils.general\u001b[0m:\u001b[36mopen_csv\u001b[0m:\u001b[36m108\u001b[0m - \u001b[34m\u001b[1mLoaded CSV: c:\\Users\\OAVAI\\Desktop\\mma - Copy\\mma_light\\data\\output\\metrics\\natty_metrics.csv (122 rows)\u001b[0m\n",
      "\u001b[32m2025-10-22 20:14:47.560\u001b[0m | \u001b[34m\u001b[1mDEBUG   \u001b[0m | \u001b[36msrc.utils.general\u001b[0m:\u001b[36mopen_csv\u001b[0m:\u001b[36m108\u001b[0m - \u001b[34m\u001b[1mLoaded CSV: c:\\Users\\OAVAI\\Desktop\\mma - Copy\\mma_light\\data\\output\\feature_selection\\natty_feature_frequency.csv (87 rows)\u001b[0m\n",
      "\u001b[32m2025-10-22 20:14:47.562\u001b[0m | \u001b[1mINFO    \u001b[0m | \u001b[36msrc.model_selection.cv_main\u001b[0m:\u001b[36m_cross_validate\u001b[0m:\u001b[36m476\u001b[0m - \u001b[1mSelected top 76 features for CV: 76\u001b[0m\n",
      "\u001b[32m2025-10-22 20:14:47.565\u001b[0m | \u001b[1mINFO    \u001b[0m | \u001b[36msrc.model_selection.cv_main\u001b[0m:\u001b[36m_cross_validate\u001b[0m:\u001b[36m502\u001b[0m - \u001b[1mStarting CV for {'max_depth': 3, 'learning_rate': 0.0196, 'n_estimators': 923, 'min_child_weight': 36.3428, 'gamma': 2.1163, 'subsample': 0.601, 'colsample_bytree': 0.7912, 'reg_alpha': 0.0, 'reg_lambda': 1.175, 'top_k_feats': '76'}\u001b[0m\n",
      "\u001b[32m2025-10-22 20:14:53.888\u001b[0m | \u001b[1mINFO    \u001b[0m | \u001b[36msrc.model_selection.cv_main\u001b[0m:\u001b[36m_cross_validate\u001b[0m:\u001b[36m532\u001b[0m - \u001b[1mRepeat 1/3, fold 1/5 complete.\u001b[0m\n",
      "\u001b[32m2025-10-22 20:15:00.921\u001b[0m | \u001b[1mINFO    \u001b[0m | \u001b[36msrc.model_selection.cv_main\u001b[0m:\u001b[36m_cross_validate\u001b[0m:\u001b[36m532\u001b[0m - \u001b[1mRepeat 1/3, fold 2/5 complete.\u001b[0m\n",
      "\u001b[32m2025-10-22 20:15:05.809\u001b[0m | \u001b[1mINFO    \u001b[0m | \u001b[36msrc.model_selection.cv_main\u001b[0m:\u001b[36m_cross_validate\u001b[0m:\u001b[36m532\u001b[0m - \u001b[1mRepeat 1/3, fold 3/5 complete.\u001b[0m\n",
      "\u001b[32m2025-10-22 20:15:10.655\u001b[0m | \u001b[1mINFO    \u001b[0m | \u001b[36msrc.model_selection.cv_main\u001b[0m:\u001b[36m_cross_validate\u001b[0m:\u001b[36m532\u001b[0m - \u001b[1mRepeat 1/3, fold 4/5 complete.\u001b[0m\n",
      "\u001b[32m2025-10-22 20:15:16.873\u001b[0m | \u001b[1mINFO    \u001b[0m | \u001b[36msrc.model_selection.cv_main\u001b[0m:\u001b[36m_cross_validate\u001b[0m:\u001b[36m532\u001b[0m - \u001b[1mRepeat 1/3, fold 5/5 complete.\u001b[0m\n",
      "\u001b[32m2025-10-22 20:15:24.101\u001b[0m | \u001b[1mINFO    \u001b[0m | \u001b[36msrc.model_selection.cv_main\u001b[0m:\u001b[36m_cross_validate\u001b[0m:\u001b[36m532\u001b[0m - \u001b[1mRepeat 2/3, fold 1/5 complete.\u001b[0m\n",
      "\u001b[32m2025-10-22 20:15:27.890\u001b[0m | \u001b[1mINFO    \u001b[0m | \u001b[36msrc.model_selection.cv_main\u001b[0m:\u001b[36m_cross_validate\u001b[0m:\u001b[36m532\u001b[0m - \u001b[1mRepeat 2/3, fold 2/5 complete.\u001b[0m\n",
      "\u001b[32m2025-10-22 20:15:34.209\u001b[0m | \u001b[1mINFO    \u001b[0m | \u001b[36msrc.model_selection.cv_main\u001b[0m:\u001b[36m_cross_validate\u001b[0m:\u001b[36m532\u001b[0m - \u001b[1mRepeat 2/3, fold 3/5 complete.\u001b[0m\n",
      "\u001b[32m2025-10-22 20:15:41.354\u001b[0m | \u001b[1mINFO    \u001b[0m | \u001b[36msrc.model_selection.cv_main\u001b[0m:\u001b[36m_cross_validate\u001b[0m:\u001b[36m532\u001b[0m - \u001b[1mRepeat 2/3, fold 4/5 complete.\u001b[0m\n",
      "\u001b[32m2025-10-22 20:15:46.059\u001b[0m | \u001b[1mINFO    \u001b[0m | \u001b[36msrc.model_selection.cv_main\u001b[0m:\u001b[36m_cross_validate\u001b[0m:\u001b[36m532\u001b[0m - \u001b[1mRepeat 2/3, fold 5/5 complete.\u001b[0m\n",
      "\u001b[32m2025-10-22 20:15:53.218\u001b[0m | \u001b[1mINFO    \u001b[0m | \u001b[36msrc.model_selection.cv_main\u001b[0m:\u001b[36m_cross_validate\u001b[0m:\u001b[36m532\u001b[0m - \u001b[1mRepeat 3/3, fold 1/5 complete.\u001b[0m\n",
      "\u001b[32m2025-10-22 20:16:00.392\u001b[0m | \u001b[1mINFO    \u001b[0m | \u001b[36msrc.model_selection.cv_main\u001b[0m:\u001b[36m_cross_validate\u001b[0m:\u001b[36m532\u001b[0m - \u001b[1mRepeat 3/3, fold 2/5 complete.\u001b[0m\n",
      "\u001b[32m2025-10-22 20:16:05.631\u001b[0m | \u001b[1mINFO    \u001b[0m | \u001b[36msrc.model_selection.cv_main\u001b[0m:\u001b[36m_cross_validate\u001b[0m:\u001b[36m532\u001b[0m - \u001b[1mRepeat 3/3, fold 3/5 complete.\u001b[0m\n",
      "\u001b[32m2025-10-22 20:16:11.161\u001b[0m | \u001b[1mINFO    \u001b[0m | \u001b[36msrc.model_selection.cv_main\u001b[0m:\u001b[36m_cross_validate\u001b[0m:\u001b[36m532\u001b[0m - \u001b[1mRepeat 3/3, fold 4/5 complete.\u001b[0m\n",
      "\u001b[32m2025-10-22 20:16:17.114\u001b[0m | \u001b[1mINFO    \u001b[0m | \u001b[36msrc.model_selection.cv_main\u001b[0m:\u001b[36m_cross_validate\u001b[0m:\u001b[36m532\u001b[0m - \u001b[1mRepeat 3/3, fold 5/5 complete.\u001b[0m\n",
      "\u001b[32m2025-10-22 20:16:17.114\u001b[0m | \u001b[1mINFO    \u001b[0m | \u001b[36msrc.model_selection.cv_main\u001b[0m:\u001b[36m_cross_validate\u001b[0m:\u001b[36m548\u001b[0m - \u001b[1mAccuracy on valid_train: 0.630375\u001b[0m\n",
      "\u001b[32m2025-10-22 20:16:17.126\u001b[0m | \u001b[34m\u001b[1mDEBUG   \u001b[0m | \u001b[36msrc.utils.general\u001b[0m:\u001b[36mstore_csv\u001b[0m:\u001b[36m145\u001b[0m - \u001b[34m\u001b[1mSaved CSV: c:\\Users\\OAVAI\\Desktop\\mma - Copy\\mma_light\\data\\output\\metrics\\natty_metrics_rndstate_stability_check.csv (11 rows)\u001b[0m\n",
      "\u001b[32m2025-10-22 20:16:17.126\u001b[0m | \u001b[1mINFO    \u001b[0m | \u001b[36msrc.model_selection.cv_main\u001b[0m:\u001b[36m_xgb_seed_stability_check\u001b[0m:\u001b[36m420\u001b[0m - \u001b[1mChecked stability for 5/5 metrics\u001b[0m\n",
      "\u001b[32m2025-10-22 20:16:17.129\u001b[0m | \u001b[1mINFO    \u001b[0m | \u001b[36msrc.model_selection.cv_main\u001b[0m:\u001b[36m_xgb_seed_stability_check\u001b[0m:\u001b[36m424\u001b[0m - \u001b[1mDifference logloss 7 valid_train: -0.0013729700000000289\u001b[0m\n",
      "\u001b[32m2025-10-22 20:16:17.129\u001b[0m | \u001b[1mINFO    \u001b[0m | \u001b[36msrc.model_selection.cv_main\u001b[0m:\u001b[36m_xgb_seed_stability_check\u001b[0m:\u001b[36m426\u001b[0m - \u001b[1mDifference logloss 2 valid_train: -0.0005134299999999259\u001b[0m\n",
      "\u001b[32m2025-10-22 20:16:17.151\u001b[0m | \u001b[34m\u001b[1mDEBUG   \u001b[0m | \u001b[36msrc.utils.general\u001b[0m:\u001b[36mopen_csv\u001b[0m:\u001b[36m108\u001b[0m - \u001b[34m\u001b[1mLoaded CSV: c:\\Users\\OAVAI\\Desktop\\mma - Copy\\mma_light\\data\\output\\metrics\\natty_metrics_rndstate_stability_check.csv (11 rows)\u001b[0m\n",
      "\u001b[32m2025-10-22 20:16:17.278\u001b[0m | \u001b[34m\u001b[1mDEBUG   \u001b[0m | \u001b[36msrc.utils.general\u001b[0m:\u001b[36mopen_csv\u001b[0m:\u001b[36m108\u001b[0m - \u001b[34m\u001b[1mLoaded CSV: c:\\Users\\OAVAI\\Desktop\\mma - Copy\\mma_light\\data\\processed\\train_natty.csv (14434 rows)\u001b[0m\n",
      "\u001b[32m2025-10-22 20:16:18.031\u001b[0m | \u001b[1mINFO    \u001b[0m | \u001b[36msrc.model_selection.trainvalpred\u001b[0m:\u001b[36mget_folds\u001b[0m:\u001b[36m471\u001b[0m - \u001b[1mCreated 50 unique 5-folds\u001b[0m\n",
      "\u001b[32m2025-10-22 20:16:18.035\u001b[0m | \u001b[1mINFO    \u001b[0m | \u001b[36msrc.model_selection.cv_dataloader\u001b[0m:\u001b[36m_load_train\u001b[0m:\u001b[36m30\u001b[0m - \u001b[1mNumber of features: 87\u001b[0m\n",
      "\u001b[32m2025-10-22 20:16:18.055\u001b[0m | \u001b[34m\u001b[1mDEBUG   \u001b[0m | \u001b[36msrc.utils.general\u001b[0m:\u001b[36mopen_csv\u001b[0m:\u001b[36m108\u001b[0m - \u001b[34m\u001b[1mLoaded CSV: c:\\Users\\OAVAI\\Desktop\\mma - Copy\\mma_light\\data\\processed\\pred_natty.csv (28 rows)\u001b[0m\n",
      "\u001b[32m2025-10-22 20:16:18.056\u001b[0m | \u001b[1mINFO    \u001b[0m | \u001b[36msrc.model_selection.cv_main\u001b[0m:\u001b[36mpredict\u001b[0m:\u001b[36m243\u001b[0m - \u001b[1mStarting CV for making predictions.\u001b[0m\n",
      "\u001b[32m2025-10-22 20:16:18.057\u001b[0m | \u001b[34m\u001b[1mDEBUG   \u001b[0m | \u001b[36msrc.utils.general\u001b[0m:\u001b[36mopen_csv\u001b[0m:\u001b[36m108\u001b[0m - \u001b[34m\u001b[1mLoaded CSV: c:\\Users\\OAVAI\\Desktop\\mma - Copy\\mma_light\\data\\output\\feature_selection\\natty_feature_frequency.csv (87 rows)\u001b[0m\n",
      "\u001b[32m2025-10-22 20:16:18.058\u001b[0m | \u001b[1mINFO    \u001b[0m | \u001b[36msrc.model_selection.cv_main\u001b[0m:\u001b[36m_cross_validate\u001b[0m:\u001b[36m476\u001b[0m - \u001b[1mSelected top 78 features for CV: 78\u001b[0m\n",
      "\u001b[32m2025-10-22 20:16:23.713\u001b[0m | \u001b[1mINFO    \u001b[0m | \u001b[36msrc.model_selection.cv_main\u001b[0m:\u001b[36mpredict\u001b[0m:\u001b[36m276\u001b[0m - \u001b[1mSample 0/250 predicted.\u001b[0m\n",
      "\u001b[32m2025-10-22 20:16:23.716\u001b[0m | \u001b[34m\u001b[1mDEBUG   \u001b[0m | \u001b[36msrc.utils.general\u001b[0m:\u001b[36mopen_csv\u001b[0m:\u001b[36m108\u001b[0m - \u001b[34m\u001b[1mLoaded CSV: c:\\Users\\OAVAI\\Desktop\\mma - Copy\\mma_light\\data\\output\\feature_selection\\natty_feature_frequency.csv (87 rows)\u001b[0m\n",
      "\u001b[32m2025-10-22 20:16:23.717\u001b[0m | \u001b[1mINFO    \u001b[0m | \u001b[36msrc.model_selection.cv_main\u001b[0m:\u001b[36m_cross_validate\u001b[0m:\u001b[36m476\u001b[0m - \u001b[1mSelected top 78 features for CV: 78\u001b[0m\n"
     ]
    },
    {
     "name": "stdout",
     "output_type": "stream",
     "text": [
      "huh\n"
     ]
    },
    {
     "name": "stderr",
     "output_type": "stream",
     "text": [
      "\u001b[32m2025-10-22 20:16:29.693\u001b[0m | \u001b[1mINFO    \u001b[0m | \u001b[36msrc.model_selection.cv_main\u001b[0m:\u001b[36mpredict\u001b[0m:\u001b[36m276\u001b[0m - \u001b[1mSample 1/250 predicted.\u001b[0m\n",
      "\u001b[32m2025-10-22 20:16:29.697\u001b[0m | \u001b[34m\u001b[1mDEBUG   \u001b[0m | \u001b[36msrc.utils.general\u001b[0m:\u001b[36mopen_csv\u001b[0m:\u001b[36m108\u001b[0m - \u001b[34m\u001b[1mLoaded CSV: c:\\Users\\OAVAI\\Desktop\\mma - Copy\\mma_light\\data\\output\\feature_selection\\natty_feature_frequency.csv (87 rows)\u001b[0m\n",
      "\u001b[32m2025-10-22 20:16:29.697\u001b[0m | \u001b[1mINFO    \u001b[0m | \u001b[36msrc.model_selection.cv_main\u001b[0m:\u001b[36m_cross_validate\u001b[0m:\u001b[36m476\u001b[0m - \u001b[1mSelected top 78 features for CV: 78\u001b[0m\n"
     ]
    },
    {
     "name": "stdout",
     "output_type": "stream",
     "text": [
      "huh\n"
     ]
    },
    {
     "name": "stderr",
     "output_type": "stream",
     "text": [
      "\u001b[32m2025-10-22 20:16:34.232\u001b[0m | \u001b[1mINFO    \u001b[0m | \u001b[36msrc.model_selection.cv_main\u001b[0m:\u001b[36mpredict\u001b[0m:\u001b[36m276\u001b[0m - \u001b[1mSample 2/250 predicted.\u001b[0m\n",
      "\u001b[32m2025-10-22 20:16:34.235\u001b[0m | \u001b[34m\u001b[1mDEBUG   \u001b[0m | \u001b[36msrc.utils.general\u001b[0m:\u001b[36mopen_csv\u001b[0m:\u001b[36m108\u001b[0m - \u001b[34m\u001b[1mLoaded CSV: c:\\Users\\OAVAI\\Desktop\\mma - Copy\\mma_light\\data\\output\\feature_selection\\natty_feature_frequency.csv (87 rows)\u001b[0m\n",
      "\u001b[32m2025-10-22 20:16:34.236\u001b[0m | \u001b[1mINFO    \u001b[0m | \u001b[36msrc.model_selection.cv_main\u001b[0m:\u001b[36m_cross_validate\u001b[0m:\u001b[36m476\u001b[0m - \u001b[1mSelected top 78 features for CV: 78\u001b[0m\n"
     ]
    },
    {
     "name": "stdout",
     "output_type": "stream",
     "text": [
      "huh\n"
     ]
    },
    {
     "name": "stderr",
     "output_type": "stream",
     "text": [
      "\u001b[32m2025-10-22 20:16:39.726\u001b[0m | \u001b[1mINFO    \u001b[0m | \u001b[36msrc.model_selection.cv_main\u001b[0m:\u001b[36mpredict\u001b[0m:\u001b[36m276\u001b[0m - \u001b[1mSample 3/250 predicted.\u001b[0m\n",
      "\u001b[32m2025-10-22 20:16:39.729\u001b[0m | \u001b[34m\u001b[1mDEBUG   \u001b[0m | \u001b[36msrc.utils.general\u001b[0m:\u001b[36mopen_csv\u001b[0m:\u001b[36m108\u001b[0m - \u001b[34m\u001b[1mLoaded CSV: c:\\Users\\OAVAI\\Desktop\\mma - Copy\\mma_light\\data\\output\\feature_selection\\natty_feature_frequency.csv (87 rows)\u001b[0m\n",
      "\u001b[32m2025-10-22 20:16:39.730\u001b[0m | \u001b[1mINFO    \u001b[0m | \u001b[36msrc.model_selection.cv_main\u001b[0m:\u001b[36m_cross_validate\u001b[0m:\u001b[36m476\u001b[0m - \u001b[1mSelected top 78 features for CV: 78\u001b[0m\n"
     ]
    },
    {
     "name": "stdout",
     "output_type": "stream",
     "text": [
      "huh\n"
     ]
    },
    {
     "name": "stderr",
     "output_type": "stream",
     "text": [
      "\u001b[32m2025-10-22 20:16:45.534\u001b[0m | \u001b[1mINFO    \u001b[0m | \u001b[36msrc.model_selection.cv_main\u001b[0m:\u001b[36mpredict\u001b[0m:\u001b[36m276\u001b[0m - \u001b[1mSample 4/250 predicted.\u001b[0m\n",
      "\u001b[32m2025-10-22 20:16:45.538\u001b[0m | \u001b[34m\u001b[1mDEBUG   \u001b[0m | \u001b[36msrc.utils.general\u001b[0m:\u001b[36mopen_csv\u001b[0m:\u001b[36m108\u001b[0m - \u001b[34m\u001b[1mLoaded CSV: c:\\Users\\OAVAI\\Desktop\\mma - Copy\\mma_light\\data\\output\\feature_selection\\natty_feature_frequency.csv (87 rows)\u001b[0m\n",
      "\u001b[32m2025-10-22 20:16:45.540\u001b[0m | \u001b[1mINFO    \u001b[0m | \u001b[36msrc.model_selection.cv_main\u001b[0m:\u001b[36m_cross_validate\u001b[0m:\u001b[36m476\u001b[0m - \u001b[1mSelected top 78 features for CV: 78\u001b[0m\n"
     ]
    },
    {
     "name": "stdout",
     "output_type": "stream",
     "text": [
      "huh\n"
     ]
    },
    {
     "name": "stderr",
     "output_type": "stream",
     "text": [
      "\u001b[32m2025-10-22 20:16:52.059\u001b[0m | \u001b[1mINFO    \u001b[0m | \u001b[36msrc.model_selection.cv_main\u001b[0m:\u001b[36mpredict\u001b[0m:\u001b[36m276\u001b[0m - \u001b[1mSample 5/250 predicted.\u001b[0m\n",
      "\u001b[32m2025-10-22 20:16:52.063\u001b[0m | \u001b[34m\u001b[1mDEBUG   \u001b[0m | \u001b[36msrc.utils.general\u001b[0m:\u001b[36mopen_csv\u001b[0m:\u001b[36m108\u001b[0m - \u001b[34m\u001b[1mLoaded CSV: c:\\Users\\OAVAI\\Desktop\\mma - Copy\\mma_light\\data\\output\\feature_selection\\natty_feature_frequency.csv (87 rows)\u001b[0m\n",
      "\u001b[32m2025-10-22 20:16:52.065\u001b[0m | \u001b[1mINFO    \u001b[0m | \u001b[36msrc.model_selection.cv_main\u001b[0m:\u001b[36m_cross_validate\u001b[0m:\u001b[36m476\u001b[0m - \u001b[1mSelected top 78 features for CV: 78\u001b[0m\n"
     ]
    },
    {
     "name": "stdout",
     "output_type": "stream",
     "text": [
      "huh\n"
     ]
    },
    {
     "name": "stderr",
     "output_type": "stream",
     "text": [
      "\u001b[32m2025-10-22 20:16:56.456\u001b[0m | \u001b[1mINFO    \u001b[0m | \u001b[36msrc.model_selection.cv_main\u001b[0m:\u001b[36mpredict\u001b[0m:\u001b[36m276\u001b[0m - \u001b[1mSample 6/250 predicted.\u001b[0m\n",
      "\u001b[32m2025-10-22 20:16:56.460\u001b[0m | \u001b[34m\u001b[1mDEBUG   \u001b[0m | \u001b[36msrc.utils.general\u001b[0m:\u001b[36mopen_csv\u001b[0m:\u001b[36m108\u001b[0m - \u001b[34m\u001b[1mLoaded CSV: c:\\Users\\OAVAI\\Desktop\\mma - Copy\\mma_light\\data\\output\\feature_selection\\natty_feature_frequency.csv (87 rows)\u001b[0m\n",
      "\u001b[32m2025-10-22 20:16:56.461\u001b[0m | \u001b[1mINFO    \u001b[0m | \u001b[36msrc.model_selection.cv_main\u001b[0m:\u001b[36m_cross_validate\u001b[0m:\u001b[36m476\u001b[0m - \u001b[1mSelected top 78 features for CV: 78\u001b[0m\n"
     ]
    },
    {
     "name": "stdout",
     "output_type": "stream",
     "text": [
      "huh\n"
     ]
    },
    {
     "name": "stderr",
     "output_type": "stream",
     "text": [
      "\u001b[32m2025-10-22 20:17:02.482\u001b[0m | \u001b[1mINFO    \u001b[0m | \u001b[36msrc.model_selection.cv_main\u001b[0m:\u001b[36mpredict\u001b[0m:\u001b[36m276\u001b[0m - \u001b[1mSample 7/250 predicted.\u001b[0m\n",
      "\u001b[32m2025-10-22 20:17:02.486\u001b[0m | \u001b[34m\u001b[1mDEBUG   \u001b[0m | \u001b[36msrc.utils.general\u001b[0m:\u001b[36mopen_csv\u001b[0m:\u001b[36m108\u001b[0m - \u001b[34m\u001b[1mLoaded CSV: c:\\Users\\OAVAI\\Desktop\\mma - Copy\\mma_light\\data\\output\\feature_selection\\natty_feature_frequency.csv (87 rows)\u001b[0m\n",
      "\u001b[32m2025-10-22 20:17:02.488\u001b[0m | \u001b[1mINFO    \u001b[0m | \u001b[36msrc.model_selection.cv_main\u001b[0m:\u001b[36m_cross_validate\u001b[0m:\u001b[36m476\u001b[0m - \u001b[1mSelected top 78 features for CV: 78\u001b[0m\n"
     ]
    },
    {
     "name": "stdout",
     "output_type": "stream",
     "text": [
      "huh\n"
     ]
    },
    {
     "name": "stderr",
     "output_type": "stream",
     "text": [
      "\u001b[32m2025-10-22 20:17:08.942\u001b[0m | \u001b[1mINFO    \u001b[0m | \u001b[36msrc.model_selection.cv_main\u001b[0m:\u001b[36mpredict\u001b[0m:\u001b[36m276\u001b[0m - \u001b[1mSample 8/250 predicted.\u001b[0m\n",
      "\u001b[32m2025-10-22 20:17:08.947\u001b[0m | \u001b[34m\u001b[1mDEBUG   \u001b[0m | \u001b[36msrc.utils.general\u001b[0m:\u001b[36mopen_csv\u001b[0m:\u001b[36m108\u001b[0m - \u001b[34m\u001b[1mLoaded CSV: c:\\Users\\OAVAI\\Desktop\\mma - Copy\\mma_light\\data\\output\\feature_selection\\natty_feature_frequency.csv (87 rows)\u001b[0m\n",
      "\u001b[32m2025-10-22 20:17:08.948\u001b[0m | \u001b[1mINFO    \u001b[0m | \u001b[36msrc.model_selection.cv_main\u001b[0m:\u001b[36m_cross_validate\u001b[0m:\u001b[36m476\u001b[0m - \u001b[1mSelected top 78 features for CV: 78\u001b[0m\n"
     ]
    },
    {
     "name": "stdout",
     "output_type": "stream",
     "text": [
      "huh\n"
     ]
    },
    {
     "name": "stderr",
     "output_type": "stream",
     "text": [
      "\u001b[32m2025-10-22 20:17:15.799\u001b[0m | \u001b[1mINFO    \u001b[0m | \u001b[36msrc.model_selection.cv_main\u001b[0m:\u001b[36mpredict\u001b[0m:\u001b[36m276\u001b[0m - \u001b[1mSample 9/250 predicted.\u001b[0m\n",
      "\u001b[32m2025-10-22 20:17:15.803\u001b[0m | \u001b[34m\u001b[1mDEBUG   \u001b[0m | \u001b[36msrc.utils.general\u001b[0m:\u001b[36mopen_csv\u001b[0m:\u001b[36m108\u001b[0m - \u001b[34m\u001b[1mLoaded CSV: c:\\Users\\OAVAI\\Desktop\\mma - Copy\\mma_light\\data\\output\\feature_selection\\natty_feature_frequency.csv (87 rows)\u001b[0m\n",
      "\u001b[32m2025-10-22 20:17:15.805\u001b[0m | \u001b[1mINFO    \u001b[0m | \u001b[36msrc.model_selection.cv_main\u001b[0m:\u001b[36m_cross_validate\u001b[0m:\u001b[36m476\u001b[0m - \u001b[1mSelected top 78 features for CV: 78\u001b[0m\n"
     ]
    },
    {
     "name": "stdout",
     "output_type": "stream",
     "text": [
      "huh\n"
     ]
    },
    {
     "name": "stderr",
     "output_type": "stream",
     "text": [
      "\u001b[32m2025-10-22 20:17:23.115\u001b[0m | \u001b[1mINFO    \u001b[0m | \u001b[36msrc.model_selection.cv_main\u001b[0m:\u001b[36mpredict\u001b[0m:\u001b[36m276\u001b[0m - \u001b[1mSample 10/250 predicted.\u001b[0m\n",
      "\u001b[32m2025-10-22 20:17:23.118\u001b[0m | \u001b[34m\u001b[1mDEBUG   \u001b[0m | \u001b[36msrc.utils.general\u001b[0m:\u001b[36mopen_csv\u001b[0m:\u001b[36m108\u001b[0m - \u001b[34m\u001b[1mLoaded CSV: c:\\Users\\OAVAI\\Desktop\\mma - Copy\\mma_light\\data\\output\\feature_selection\\natty_feature_frequency.csv (87 rows)\u001b[0m\n",
      "\u001b[32m2025-10-22 20:17:23.119\u001b[0m | \u001b[1mINFO    \u001b[0m | \u001b[36msrc.model_selection.cv_main\u001b[0m:\u001b[36m_cross_validate\u001b[0m:\u001b[36m476\u001b[0m - \u001b[1mSelected top 78 features for CV: 78\u001b[0m\n"
     ]
    },
    {
     "name": "stdout",
     "output_type": "stream",
     "text": [
      "huh\n"
     ]
    },
    {
     "name": "stderr",
     "output_type": "stream",
     "text": [
      "\u001b[32m2025-10-22 20:17:29.382\u001b[0m | \u001b[1mINFO    \u001b[0m | \u001b[36msrc.model_selection.cv_main\u001b[0m:\u001b[36mpredict\u001b[0m:\u001b[36m276\u001b[0m - \u001b[1mSample 11/250 predicted.\u001b[0m\n",
      "\u001b[32m2025-10-22 20:17:29.386\u001b[0m | \u001b[34m\u001b[1mDEBUG   \u001b[0m | \u001b[36msrc.utils.general\u001b[0m:\u001b[36mopen_csv\u001b[0m:\u001b[36m108\u001b[0m - \u001b[34m\u001b[1mLoaded CSV: c:\\Users\\OAVAI\\Desktop\\mma - Copy\\mma_light\\data\\output\\feature_selection\\natty_feature_frequency.csv (87 rows)\u001b[0m\n",
      "\u001b[32m2025-10-22 20:17:29.387\u001b[0m | \u001b[1mINFO    \u001b[0m | \u001b[36msrc.model_selection.cv_main\u001b[0m:\u001b[36m_cross_validate\u001b[0m:\u001b[36m476\u001b[0m - \u001b[1mSelected top 78 features for CV: 78\u001b[0m\n"
     ]
    },
    {
     "name": "stdout",
     "output_type": "stream",
     "text": [
      "huh\n"
     ]
    },
    {
     "name": "stderr",
     "output_type": "stream",
     "text": [
      "\u001b[32m2025-10-22 20:17:35.959\u001b[0m | \u001b[1mINFO    \u001b[0m | \u001b[36msrc.model_selection.cv_main\u001b[0m:\u001b[36mpredict\u001b[0m:\u001b[36m276\u001b[0m - \u001b[1mSample 12/250 predicted.\u001b[0m\n",
      "\u001b[32m2025-10-22 20:17:35.963\u001b[0m | \u001b[34m\u001b[1mDEBUG   \u001b[0m | \u001b[36msrc.utils.general\u001b[0m:\u001b[36mopen_csv\u001b[0m:\u001b[36m108\u001b[0m - \u001b[34m\u001b[1mLoaded CSV: c:\\Users\\OAVAI\\Desktop\\mma - Copy\\mma_light\\data\\output\\feature_selection\\natty_feature_frequency.csv (87 rows)\u001b[0m\n",
      "\u001b[32m2025-10-22 20:17:35.964\u001b[0m | \u001b[1mINFO    \u001b[0m | \u001b[36msrc.model_selection.cv_main\u001b[0m:\u001b[36m_cross_validate\u001b[0m:\u001b[36m476\u001b[0m - \u001b[1mSelected top 78 features for CV: 78\u001b[0m\n"
     ]
    },
    {
     "name": "stdout",
     "output_type": "stream",
     "text": [
      "huh\n"
     ]
    },
    {
     "name": "stderr",
     "output_type": "stream",
     "text": [
      "\u001b[32m2025-10-22 20:17:41.376\u001b[0m | \u001b[1mINFO    \u001b[0m | \u001b[36msrc.model_selection.cv_main\u001b[0m:\u001b[36mpredict\u001b[0m:\u001b[36m276\u001b[0m - \u001b[1mSample 13/250 predicted.\u001b[0m\n",
      "\u001b[32m2025-10-22 20:17:41.380\u001b[0m | \u001b[34m\u001b[1mDEBUG   \u001b[0m | \u001b[36msrc.utils.general\u001b[0m:\u001b[36mopen_csv\u001b[0m:\u001b[36m108\u001b[0m - \u001b[34m\u001b[1mLoaded CSV: c:\\Users\\OAVAI\\Desktop\\mma - Copy\\mma_light\\data\\output\\feature_selection\\natty_feature_frequency.csv (87 rows)\u001b[0m\n",
      "\u001b[32m2025-10-22 20:17:41.381\u001b[0m | \u001b[1mINFO    \u001b[0m | \u001b[36msrc.model_selection.cv_main\u001b[0m:\u001b[36m_cross_validate\u001b[0m:\u001b[36m476\u001b[0m - \u001b[1mSelected top 78 features for CV: 78\u001b[0m\n"
     ]
    },
    {
     "name": "stdout",
     "output_type": "stream",
     "text": [
      "huh\n"
     ]
    },
    {
     "name": "stderr",
     "output_type": "stream",
     "text": [
      "\u001b[32m2025-10-22 20:17:47.330\u001b[0m | \u001b[1mINFO    \u001b[0m | \u001b[36msrc.model_selection.cv_main\u001b[0m:\u001b[36mpredict\u001b[0m:\u001b[36m276\u001b[0m - \u001b[1mSample 14/250 predicted.\u001b[0m\n",
      "\u001b[32m2025-10-22 20:17:47.334\u001b[0m | \u001b[34m\u001b[1mDEBUG   \u001b[0m | \u001b[36msrc.utils.general\u001b[0m:\u001b[36mopen_csv\u001b[0m:\u001b[36m108\u001b[0m - \u001b[34m\u001b[1mLoaded CSV: c:\\Users\\OAVAI\\Desktop\\mma - Copy\\mma_light\\data\\output\\feature_selection\\natty_feature_frequency.csv (87 rows)\u001b[0m\n",
      "\u001b[32m2025-10-22 20:17:47.335\u001b[0m | \u001b[1mINFO    \u001b[0m | \u001b[36msrc.model_selection.cv_main\u001b[0m:\u001b[36m_cross_validate\u001b[0m:\u001b[36m476\u001b[0m - \u001b[1mSelected top 78 features for CV: 78\u001b[0m\n"
     ]
    },
    {
     "name": "stdout",
     "output_type": "stream",
     "text": [
      "huh\n"
     ]
    },
    {
     "name": "stderr",
     "output_type": "stream",
     "text": [
      "\u001b[32m2025-10-22 20:17:54.920\u001b[0m | \u001b[1mINFO    \u001b[0m | \u001b[36msrc.model_selection.cv_main\u001b[0m:\u001b[36mpredict\u001b[0m:\u001b[36m276\u001b[0m - \u001b[1mSample 15/250 predicted.\u001b[0m\n",
      "\u001b[32m2025-10-22 20:17:54.925\u001b[0m | \u001b[34m\u001b[1mDEBUG   \u001b[0m | \u001b[36msrc.utils.general\u001b[0m:\u001b[36mopen_csv\u001b[0m:\u001b[36m108\u001b[0m - \u001b[34m\u001b[1mLoaded CSV: c:\\Users\\OAVAI\\Desktop\\mma - Copy\\mma_light\\data\\output\\feature_selection\\natty_feature_frequency.csv (87 rows)\u001b[0m\n",
      "\u001b[32m2025-10-22 20:17:54.926\u001b[0m | \u001b[1mINFO    \u001b[0m | \u001b[36msrc.model_selection.cv_main\u001b[0m:\u001b[36m_cross_validate\u001b[0m:\u001b[36m476\u001b[0m - \u001b[1mSelected top 78 features for CV: 78\u001b[0m\n"
     ]
    },
    {
     "name": "stdout",
     "output_type": "stream",
     "text": [
      "huh\n"
     ]
    },
    {
     "name": "stderr",
     "output_type": "stream",
     "text": [
      "\u001b[32m2025-10-22 20:17:59.795\u001b[0m | \u001b[1mINFO    \u001b[0m | \u001b[36msrc.model_selection.cv_main\u001b[0m:\u001b[36mpredict\u001b[0m:\u001b[36m276\u001b[0m - \u001b[1mSample 16/250 predicted.\u001b[0m\n",
      "\u001b[32m2025-10-22 20:17:59.798\u001b[0m | \u001b[34m\u001b[1mDEBUG   \u001b[0m | \u001b[36msrc.utils.general\u001b[0m:\u001b[36mopen_csv\u001b[0m:\u001b[36m108\u001b[0m - \u001b[34m\u001b[1mLoaded CSV: c:\\Users\\OAVAI\\Desktop\\mma - Copy\\mma_light\\data\\output\\feature_selection\\natty_feature_frequency.csv (87 rows)\u001b[0m\n",
      "\u001b[32m2025-10-22 20:17:59.799\u001b[0m | \u001b[1mINFO    \u001b[0m | \u001b[36msrc.model_selection.cv_main\u001b[0m:\u001b[36m_cross_validate\u001b[0m:\u001b[36m476\u001b[0m - \u001b[1mSelected top 78 features for CV: 78\u001b[0m\n"
     ]
    },
    {
     "name": "stdout",
     "output_type": "stream",
     "text": [
      "huh\n"
     ]
    },
    {
     "name": "stderr",
     "output_type": "stream",
     "text": [
      "\u001b[32m2025-10-22 20:18:05.753\u001b[0m | \u001b[1mINFO    \u001b[0m | \u001b[36msrc.model_selection.cv_main\u001b[0m:\u001b[36mpredict\u001b[0m:\u001b[36m276\u001b[0m - \u001b[1mSample 17/250 predicted.\u001b[0m\n",
      "\u001b[32m2025-10-22 20:18:05.756\u001b[0m | \u001b[34m\u001b[1mDEBUG   \u001b[0m | \u001b[36msrc.utils.general\u001b[0m:\u001b[36mopen_csv\u001b[0m:\u001b[36m108\u001b[0m - \u001b[34m\u001b[1mLoaded CSV: c:\\Users\\OAVAI\\Desktop\\mma - Copy\\mma_light\\data\\output\\feature_selection\\natty_feature_frequency.csv (87 rows)\u001b[0m\n",
      "\u001b[32m2025-10-22 20:18:05.757\u001b[0m | \u001b[1mINFO    \u001b[0m | \u001b[36msrc.model_selection.cv_main\u001b[0m:\u001b[36m_cross_validate\u001b[0m:\u001b[36m476\u001b[0m - \u001b[1mSelected top 78 features for CV: 78\u001b[0m\n"
     ]
    },
    {
     "name": "stdout",
     "output_type": "stream",
     "text": [
      "huh\n"
     ]
    },
    {
     "name": "stderr",
     "output_type": "stream",
     "text": [
      "\u001b[32m2025-10-22 20:18:10.982\u001b[0m | \u001b[1mINFO    \u001b[0m | \u001b[36msrc.model_selection.cv_main\u001b[0m:\u001b[36mpredict\u001b[0m:\u001b[36m276\u001b[0m - \u001b[1mSample 18/250 predicted.\u001b[0m\n",
      "\u001b[32m2025-10-22 20:18:10.982\u001b[0m | \u001b[34m\u001b[1mDEBUG   \u001b[0m | \u001b[36msrc.utils.general\u001b[0m:\u001b[36mopen_csv\u001b[0m:\u001b[36m108\u001b[0m - \u001b[34m\u001b[1mLoaded CSV: c:\\Users\\OAVAI\\Desktop\\mma - Copy\\mma_light\\data\\output\\feature_selection\\natty_feature_frequency.csv (87 rows)\u001b[0m\n",
      "\u001b[32m2025-10-22 20:18:10.982\u001b[0m | \u001b[1mINFO    \u001b[0m | \u001b[36msrc.model_selection.cv_main\u001b[0m:\u001b[36m_cross_validate\u001b[0m:\u001b[36m476\u001b[0m - \u001b[1mSelected top 78 features for CV: 78\u001b[0m\n"
     ]
    },
    {
     "name": "stdout",
     "output_type": "stream",
     "text": [
      "huh\n"
     ]
    },
    {
     "name": "stderr",
     "output_type": "stream",
     "text": [
      "\u001b[32m2025-10-22 20:18:19.643\u001b[0m | \u001b[1mINFO    \u001b[0m | \u001b[36msrc.model_selection.cv_main\u001b[0m:\u001b[36mpredict\u001b[0m:\u001b[36m276\u001b[0m - \u001b[1mSample 19/250 predicted.\u001b[0m\n",
      "\u001b[32m2025-10-22 20:18:19.647\u001b[0m | \u001b[34m\u001b[1mDEBUG   \u001b[0m | \u001b[36msrc.utils.general\u001b[0m:\u001b[36mopen_csv\u001b[0m:\u001b[36m108\u001b[0m - \u001b[34m\u001b[1mLoaded CSV: c:\\Users\\OAVAI\\Desktop\\mma - Copy\\mma_light\\data\\output\\feature_selection\\natty_feature_frequency.csv (87 rows)\u001b[0m\n",
      "\u001b[32m2025-10-22 20:18:19.648\u001b[0m | \u001b[1mINFO    \u001b[0m | \u001b[36msrc.model_selection.cv_main\u001b[0m:\u001b[36m_cross_validate\u001b[0m:\u001b[36m476\u001b[0m - \u001b[1mSelected top 78 features for CV: 78\u001b[0m\n"
     ]
    },
    {
     "name": "stdout",
     "output_type": "stream",
     "text": [
      "huh\n"
     ]
    },
    {
     "name": "stderr",
     "output_type": "stream",
     "text": [
      "\u001b[32m2025-10-22 20:18:25.096\u001b[0m | \u001b[1mINFO    \u001b[0m | \u001b[36msrc.model_selection.cv_main\u001b[0m:\u001b[36mpredict\u001b[0m:\u001b[36m276\u001b[0m - \u001b[1mSample 20/250 predicted.\u001b[0m\n",
      "\u001b[32m2025-10-22 20:18:25.100\u001b[0m | \u001b[34m\u001b[1mDEBUG   \u001b[0m | \u001b[36msrc.utils.general\u001b[0m:\u001b[36mopen_csv\u001b[0m:\u001b[36m108\u001b[0m - \u001b[34m\u001b[1mLoaded CSV: c:\\Users\\OAVAI\\Desktop\\mma - Copy\\mma_light\\data\\output\\feature_selection\\natty_feature_frequency.csv (87 rows)\u001b[0m\n",
      "\u001b[32m2025-10-22 20:18:25.102\u001b[0m | \u001b[1mINFO    \u001b[0m | \u001b[36msrc.model_selection.cv_main\u001b[0m:\u001b[36m_cross_validate\u001b[0m:\u001b[36m476\u001b[0m - \u001b[1mSelected top 78 features for CV: 78\u001b[0m\n"
     ]
    },
    {
     "name": "stdout",
     "output_type": "stream",
     "text": [
      "huh\n"
     ]
    },
    {
     "name": "stderr",
     "output_type": "stream",
     "text": [
      "\u001b[32m2025-10-22 20:18:35.282\u001b[0m | \u001b[1mINFO    \u001b[0m | \u001b[36msrc.model_selection.cv_main\u001b[0m:\u001b[36mpredict\u001b[0m:\u001b[36m276\u001b[0m - \u001b[1mSample 21/250 predicted.\u001b[0m\n",
      "\u001b[32m2025-10-22 20:18:35.287\u001b[0m | \u001b[34m\u001b[1mDEBUG   \u001b[0m | \u001b[36msrc.utils.general\u001b[0m:\u001b[36mopen_csv\u001b[0m:\u001b[36m108\u001b[0m - \u001b[34m\u001b[1mLoaded CSV: c:\\Users\\OAVAI\\Desktop\\mma - Copy\\mma_light\\data\\output\\feature_selection\\natty_feature_frequency.csv (87 rows)\u001b[0m\n",
      "\u001b[32m2025-10-22 20:18:35.289\u001b[0m | \u001b[1mINFO    \u001b[0m | \u001b[36msrc.model_selection.cv_main\u001b[0m:\u001b[36m_cross_validate\u001b[0m:\u001b[36m476\u001b[0m - \u001b[1mSelected top 78 features for CV: 78\u001b[0m\n"
     ]
    },
    {
     "name": "stdout",
     "output_type": "stream",
     "text": [
      "huh\n"
     ]
    },
    {
     "name": "stderr",
     "output_type": "stream",
     "text": [
      "\u001b[32m2025-10-22 20:18:42.637\u001b[0m | \u001b[1mINFO    \u001b[0m | \u001b[36msrc.model_selection.cv_main\u001b[0m:\u001b[36mpredict\u001b[0m:\u001b[36m276\u001b[0m - \u001b[1mSample 22/250 predicted.\u001b[0m\n",
      "\u001b[32m2025-10-22 20:18:42.641\u001b[0m | \u001b[34m\u001b[1mDEBUG   \u001b[0m | \u001b[36msrc.utils.general\u001b[0m:\u001b[36mopen_csv\u001b[0m:\u001b[36m108\u001b[0m - \u001b[34m\u001b[1mLoaded CSV: c:\\Users\\OAVAI\\Desktop\\mma - Copy\\mma_light\\data\\output\\feature_selection\\natty_feature_frequency.csv (87 rows)\u001b[0m\n",
      "\u001b[32m2025-10-22 20:18:42.642\u001b[0m | \u001b[1mINFO    \u001b[0m | \u001b[36msrc.model_selection.cv_main\u001b[0m:\u001b[36m_cross_validate\u001b[0m:\u001b[36m476\u001b[0m - \u001b[1mSelected top 78 features for CV: 78\u001b[0m\n"
     ]
    },
    {
     "name": "stdout",
     "output_type": "stream",
     "text": [
      "huh\n"
     ]
    },
    {
     "name": "stderr",
     "output_type": "stream",
     "text": [
      "\u001b[32m2025-10-22 20:18:49.542\u001b[0m | \u001b[1mINFO    \u001b[0m | \u001b[36msrc.model_selection.cv_main\u001b[0m:\u001b[36mpredict\u001b[0m:\u001b[36m276\u001b[0m - \u001b[1mSample 23/250 predicted.\u001b[0m\n",
      "\u001b[32m2025-10-22 20:18:49.545\u001b[0m | \u001b[34m\u001b[1mDEBUG   \u001b[0m | \u001b[36msrc.utils.general\u001b[0m:\u001b[36mopen_csv\u001b[0m:\u001b[36m108\u001b[0m - \u001b[34m\u001b[1mLoaded CSV: c:\\Users\\OAVAI\\Desktop\\mma - Copy\\mma_light\\data\\output\\feature_selection\\natty_feature_frequency.csv (87 rows)\u001b[0m\n",
      "\u001b[32m2025-10-22 20:18:49.546\u001b[0m | \u001b[1mINFO    \u001b[0m | \u001b[36msrc.model_selection.cv_main\u001b[0m:\u001b[36m_cross_validate\u001b[0m:\u001b[36m476\u001b[0m - \u001b[1mSelected top 78 features for CV: 78\u001b[0m\n"
     ]
    },
    {
     "name": "stdout",
     "output_type": "stream",
     "text": [
      "huh\n"
     ]
    },
    {
     "name": "stderr",
     "output_type": "stream",
     "text": [
      "\u001b[32m2025-10-22 20:18:57.592\u001b[0m | \u001b[1mINFO    \u001b[0m | \u001b[36msrc.model_selection.cv_main\u001b[0m:\u001b[36mpredict\u001b[0m:\u001b[36m276\u001b[0m - \u001b[1mSample 24/250 predicted.\u001b[0m\n",
      "\u001b[32m2025-10-22 20:18:57.598\u001b[0m | \u001b[34m\u001b[1mDEBUG   \u001b[0m | \u001b[36msrc.utils.general\u001b[0m:\u001b[36mopen_csv\u001b[0m:\u001b[36m108\u001b[0m - \u001b[34m\u001b[1mLoaded CSV: c:\\Users\\OAVAI\\Desktop\\mma - Copy\\mma_light\\data\\output\\feature_selection\\natty_feature_frequency.csv (87 rows)\u001b[0m\n",
      "\u001b[32m2025-10-22 20:18:57.598\u001b[0m | \u001b[1mINFO    \u001b[0m | \u001b[36msrc.model_selection.cv_main\u001b[0m:\u001b[36m_cross_validate\u001b[0m:\u001b[36m476\u001b[0m - \u001b[1mSelected top 78 features for CV: 78\u001b[0m\n"
     ]
    },
    {
     "name": "stdout",
     "output_type": "stream",
     "text": [
      "huh\n"
     ]
    },
    {
     "name": "stderr",
     "output_type": "stream",
     "text": [
      "\u001b[32m2025-10-22 20:19:04.779\u001b[0m | \u001b[1mINFO    \u001b[0m | \u001b[36msrc.model_selection.cv_main\u001b[0m:\u001b[36mpredict\u001b[0m:\u001b[36m276\u001b[0m - \u001b[1mSample 25/250 predicted.\u001b[0m\n",
      "\u001b[32m2025-10-22 20:19:04.785\u001b[0m | \u001b[34m\u001b[1mDEBUG   \u001b[0m | \u001b[36msrc.utils.general\u001b[0m:\u001b[36mopen_csv\u001b[0m:\u001b[36m108\u001b[0m - \u001b[34m\u001b[1mLoaded CSV: c:\\Users\\OAVAI\\Desktop\\mma - Copy\\mma_light\\data\\output\\feature_selection\\natty_feature_frequency.csv (87 rows)\u001b[0m\n",
      "\u001b[32m2025-10-22 20:19:04.786\u001b[0m | \u001b[1mINFO    \u001b[0m | \u001b[36msrc.model_selection.cv_main\u001b[0m:\u001b[36m_cross_validate\u001b[0m:\u001b[36m476\u001b[0m - \u001b[1mSelected top 78 features for CV: 78\u001b[0m\n"
     ]
    },
    {
     "name": "stdout",
     "output_type": "stream",
     "text": [
      "huh\n"
     ]
    },
    {
     "name": "stderr",
     "output_type": "stream",
     "text": [
      "\u001b[32m2025-10-22 20:19:09.547\u001b[0m | \u001b[1mINFO    \u001b[0m | \u001b[36msrc.model_selection.cv_main\u001b[0m:\u001b[36mpredict\u001b[0m:\u001b[36m276\u001b[0m - \u001b[1mSample 26/250 predicted.\u001b[0m\n",
      "\u001b[32m2025-10-22 20:19:09.552\u001b[0m | \u001b[34m\u001b[1mDEBUG   \u001b[0m | \u001b[36msrc.utils.general\u001b[0m:\u001b[36mopen_csv\u001b[0m:\u001b[36m108\u001b[0m - \u001b[34m\u001b[1mLoaded CSV: c:\\Users\\OAVAI\\Desktop\\mma - Copy\\mma_light\\data\\output\\feature_selection\\natty_feature_frequency.csv (87 rows)\u001b[0m\n",
      "\u001b[32m2025-10-22 20:19:09.552\u001b[0m | \u001b[1mINFO    \u001b[0m | \u001b[36msrc.model_selection.cv_main\u001b[0m:\u001b[36m_cross_validate\u001b[0m:\u001b[36m476\u001b[0m - \u001b[1mSelected top 78 features for CV: 78\u001b[0m\n"
     ]
    },
    {
     "name": "stdout",
     "output_type": "stream",
     "text": [
      "huh\n"
     ]
    },
    {
     "name": "stderr",
     "output_type": "stream",
     "text": [
      "\u001b[32m2025-10-22 20:19:15.177\u001b[0m | \u001b[1mINFO    \u001b[0m | \u001b[36msrc.model_selection.cv_main\u001b[0m:\u001b[36mpredict\u001b[0m:\u001b[36m276\u001b[0m - \u001b[1mSample 27/250 predicted.\u001b[0m\n",
      "\u001b[32m2025-10-22 20:19:15.180\u001b[0m | \u001b[34m\u001b[1mDEBUG   \u001b[0m | \u001b[36msrc.utils.general\u001b[0m:\u001b[36mopen_csv\u001b[0m:\u001b[36m108\u001b[0m - \u001b[34m\u001b[1mLoaded CSV: c:\\Users\\OAVAI\\Desktop\\mma - Copy\\mma_light\\data\\output\\feature_selection\\natty_feature_frequency.csv (87 rows)\u001b[0m\n",
      "\u001b[32m2025-10-22 20:19:15.182\u001b[0m | \u001b[1mINFO    \u001b[0m | \u001b[36msrc.model_selection.cv_main\u001b[0m:\u001b[36m_cross_validate\u001b[0m:\u001b[36m476\u001b[0m - \u001b[1mSelected top 78 features for CV: 78\u001b[0m\n"
     ]
    },
    {
     "name": "stdout",
     "output_type": "stream",
     "text": [
      "huh\n"
     ]
    },
    {
     "name": "stderr",
     "output_type": "stream",
     "text": [
      "\u001b[32m2025-10-22 20:19:20.724\u001b[0m | \u001b[1mINFO    \u001b[0m | \u001b[36msrc.model_selection.cv_main\u001b[0m:\u001b[36mpredict\u001b[0m:\u001b[36m276\u001b[0m - \u001b[1mSample 28/250 predicted.\u001b[0m\n",
      "\u001b[32m2025-10-22 20:19:20.728\u001b[0m | \u001b[34m\u001b[1mDEBUG   \u001b[0m | \u001b[36msrc.utils.general\u001b[0m:\u001b[36mopen_csv\u001b[0m:\u001b[36m108\u001b[0m - \u001b[34m\u001b[1mLoaded CSV: c:\\Users\\OAVAI\\Desktop\\mma - Copy\\mma_light\\data\\output\\feature_selection\\natty_feature_frequency.csv (87 rows)\u001b[0m\n",
      "\u001b[32m2025-10-22 20:19:20.729\u001b[0m | \u001b[1mINFO    \u001b[0m | \u001b[36msrc.model_selection.cv_main\u001b[0m:\u001b[36m_cross_validate\u001b[0m:\u001b[36m476\u001b[0m - \u001b[1mSelected top 78 features for CV: 78\u001b[0m\n"
     ]
    },
    {
     "name": "stdout",
     "output_type": "stream",
     "text": [
      "huh\n"
     ]
    },
    {
     "name": "stderr",
     "output_type": "stream",
     "text": [
      "\u001b[32m2025-10-22 20:19:25.984\u001b[0m | \u001b[1mINFO    \u001b[0m | \u001b[36msrc.model_selection.cv_main\u001b[0m:\u001b[36mpredict\u001b[0m:\u001b[36m276\u001b[0m - \u001b[1mSample 29/250 predicted.\u001b[0m\n",
      "\u001b[32m2025-10-22 20:19:25.987\u001b[0m | \u001b[34m\u001b[1mDEBUG   \u001b[0m | \u001b[36msrc.utils.general\u001b[0m:\u001b[36mopen_csv\u001b[0m:\u001b[36m108\u001b[0m - \u001b[34m\u001b[1mLoaded CSV: c:\\Users\\OAVAI\\Desktop\\mma - Copy\\mma_light\\data\\output\\feature_selection\\natty_feature_frequency.csv (87 rows)\u001b[0m\n",
      "\u001b[32m2025-10-22 20:19:25.989\u001b[0m | \u001b[1mINFO    \u001b[0m | \u001b[36msrc.model_selection.cv_main\u001b[0m:\u001b[36m_cross_validate\u001b[0m:\u001b[36m476\u001b[0m - \u001b[1mSelected top 78 features for CV: 78\u001b[0m\n"
     ]
    },
    {
     "name": "stdout",
     "output_type": "stream",
     "text": [
      "huh\n"
     ]
    },
    {
     "name": "stderr",
     "output_type": "stream",
     "text": [
      "\u001b[32m2025-10-22 20:19:31.811\u001b[0m | \u001b[1mINFO    \u001b[0m | \u001b[36msrc.model_selection.cv_main\u001b[0m:\u001b[36mpredict\u001b[0m:\u001b[36m276\u001b[0m - \u001b[1mSample 30/250 predicted.\u001b[0m\n",
      "\u001b[32m2025-10-22 20:19:31.815\u001b[0m | \u001b[34m\u001b[1mDEBUG   \u001b[0m | \u001b[36msrc.utils.general\u001b[0m:\u001b[36mopen_csv\u001b[0m:\u001b[36m108\u001b[0m - \u001b[34m\u001b[1mLoaded CSV: c:\\Users\\OAVAI\\Desktop\\mma - Copy\\mma_light\\data\\output\\feature_selection\\natty_feature_frequency.csv (87 rows)\u001b[0m\n",
      "\u001b[32m2025-10-22 20:19:31.816\u001b[0m | \u001b[1mINFO    \u001b[0m | \u001b[36msrc.model_selection.cv_main\u001b[0m:\u001b[36m_cross_validate\u001b[0m:\u001b[36m476\u001b[0m - \u001b[1mSelected top 78 features for CV: 78\u001b[0m\n"
     ]
    },
    {
     "name": "stdout",
     "output_type": "stream",
     "text": [
      "huh\n"
     ]
    },
    {
     "name": "stderr",
     "output_type": "stream",
     "text": [
      "\u001b[32m2025-10-22 20:19:39.771\u001b[0m | \u001b[1mINFO    \u001b[0m | \u001b[36msrc.model_selection.cv_main\u001b[0m:\u001b[36mpredict\u001b[0m:\u001b[36m276\u001b[0m - \u001b[1mSample 31/250 predicted.\u001b[0m\n",
      "\u001b[32m2025-10-22 20:19:39.773\u001b[0m | \u001b[34m\u001b[1mDEBUG   \u001b[0m | \u001b[36msrc.utils.general\u001b[0m:\u001b[36mopen_csv\u001b[0m:\u001b[36m108\u001b[0m - \u001b[34m\u001b[1mLoaded CSV: c:\\Users\\OAVAI\\Desktop\\mma - Copy\\mma_light\\data\\output\\feature_selection\\natty_feature_frequency.csv (87 rows)\u001b[0m\n",
      "\u001b[32m2025-10-22 20:19:39.775\u001b[0m | \u001b[1mINFO    \u001b[0m | \u001b[36msrc.model_selection.cv_main\u001b[0m:\u001b[36m_cross_validate\u001b[0m:\u001b[36m476\u001b[0m - \u001b[1mSelected top 78 features for CV: 78\u001b[0m\n"
     ]
    },
    {
     "name": "stdout",
     "output_type": "stream",
     "text": [
      "huh\n"
     ]
    },
    {
     "name": "stderr",
     "output_type": "stream",
     "text": [
      "\u001b[32m2025-10-22 20:19:45.297\u001b[0m | \u001b[1mINFO    \u001b[0m | \u001b[36msrc.model_selection.cv_main\u001b[0m:\u001b[36mpredict\u001b[0m:\u001b[36m276\u001b[0m - \u001b[1mSample 32/250 predicted.\u001b[0m\n",
      "\u001b[32m2025-10-22 20:19:45.300\u001b[0m | \u001b[34m\u001b[1mDEBUG   \u001b[0m | \u001b[36msrc.utils.general\u001b[0m:\u001b[36mopen_csv\u001b[0m:\u001b[36m108\u001b[0m - \u001b[34m\u001b[1mLoaded CSV: c:\\Users\\OAVAI\\Desktop\\mma - Copy\\mma_light\\data\\output\\feature_selection\\natty_feature_frequency.csv (87 rows)\u001b[0m\n",
      "\u001b[32m2025-10-22 20:19:45.302\u001b[0m | \u001b[1mINFO    \u001b[0m | \u001b[36msrc.model_selection.cv_main\u001b[0m:\u001b[36m_cross_validate\u001b[0m:\u001b[36m476\u001b[0m - \u001b[1mSelected top 78 features for CV: 78\u001b[0m\n"
     ]
    },
    {
     "name": "stdout",
     "output_type": "stream",
     "text": [
      "huh\n"
     ]
    },
    {
     "name": "stderr",
     "output_type": "stream",
     "text": [
      "\u001b[32m2025-10-22 20:19:49.850\u001b[0m | \u001b[1mINFO    \u001b[0m | \u001b[36msrc.model_selection.cv_main\u001b[0m:\u001b[36mpredict\u001b[0m:\u001b[36m276\u001b[0m - \u001b[1mSample 33/250 predicted.\u001b[0m\n",
      "\u001b[32m2025-10-22 20:19:49.853\u001b[0m | \u001b[34m\u001b[1mDEBUG   \u001b[0m | \u001b[36msrc.utils.general\u001b[0m:\u001b[36mopen_csv\u001b[0m:\u001b[36m108\u001b[0m - \u001b[34m\u001b[1mLoaded CSV: c:\\Users\\OAVAI\\Desktop\\mma - Copy\\mma_light\\data\\output\\feature_selection\\natty_feature_frequency.csv (87 rows)\u001b[0m\n",
      "\u001b[32m2025-10-22 20:19:49.854\u001b[0m | \u001b[1mINFO    \u001b[0m | \u001b[36msrc.model_selection.cv_main\u001b[0m:\u001b[36m_cross_validate\u001b[0m:\u001b[36m476\u001b[0m - \u001b[1mSelected top 78 features for CV: 78\u001b[0m\n"
     ]
    },
    {
     "name": "stdout",
     "output_type": "stream",
     "text": [
      "huh\n"
     ]
    },
    {
     "name": "stderr",
     "output_type": "stream",
     "text": [
      "\u001b[32m2025-10-22 20:19:55.753\u001b[0m | \u001b[1mINFO    \u001b[0m | \u001b[36msrc.model_selection.cv_main\u001b[0m:\u001b[36mpredict\u001b[0m:\u001b[36m276\u001b[0m - \u001b[1mSample 34/250 predicted.\u001b[0m\n",
      "\u001b[32m2025-10-22 20:19:55.756\u001b[0m | \u001b[34m\u001b[1mDEBUG   \u001b[0m | \u001b[36msrc.utils.general\u001b[0m:\u001b[36mopen_csv\u001b[0m:\u001b[36m108\u001b[0m - \u001b[34m\u001b[1mLoaded CSV: c:\\Users\\OAVAI\\Desktop\\mma - Copy\\mma_light\\data\\output\\feature_selection\\natty_feature_frequency.csv (87 rows)\u001b[0m\n",
      "\u001b[32m2025-10-22 20:19:55.757\u001b[0m | \u001b[1mINFO    \u001b[0m | \u001b[36msrc.model_selection.cv_main\u001b[0m:\u001b[36m_cross_validate\u001b[0m:\u001b[36m476\u001b[0m - \u001b[1mSelected top 78 features for CV: 78\u001b[0m\n"
     ]
    },
    {
     "name": "stdout",
     "output_type": "stream",
     "text": [
      "huh\n"
     ]
    },
    {
     "name": "stderr",
     "output_type": "stream",
     "text": [
      "\u001b[32m2025-10-22 20:19:59.905\u001b[0m | \u001b[1mINFO    \u001b[0m | \u001b[36msrc.model_selection.cv_main\u001b[0m:\u001b[36mpredict\u001b[0m:\u001b[36m276\u001b[0m - \u001b[1mSample 35/250 predicted.\u001b[0m\n",
      "\u001b[32m2025-10-22 20:19:59.908\u001b[0m | \u001b[34m\u001b[1mDEBUG   \u001b[0m | \u001b[36msrc.utils.general\u001b[0m:\u001b[36mopen_csv\u001b[0m:\u001b[36m108\u001b[0m - \u001b[34m\u001b[1mLoaded CSV: c:\\Users\\OAVAI\\Desktop\\mma - Copy\\mma_light\\data\\output\\feature_selection\\natty_feature_frequency.csv (87 rows)\u001b[0m\n",
      "\u001b[32m2025-10-22 20:19:59.909\u001b[0m | \u001b[1mINFO    \u001b[0m | \u001b[36msrc.model_selection.cv_main\u001b[0m:\u001b[36m_cross_validate\u001b[0m:\u001b[36m476\u001b[0m - \u001b[1mSelected top 78 features for CV: 78\u001b[0m\n"
     ]
    },
    {
     "name": "stdout",
     "output_type": "stream",
     "text": [
      "huh\n"
     ]
    },
    {
     "name": "stderr",
     "output_type": "stream",
     "text": [
      "\u001b[32m2025-10-22 20:20:07.711\u001b[0m | \u001b[1mINFO    \u001b[0m | \u001b[36msrc.model_selection.cv_main\u001b[0m:\u001b[36mpredict\u001b[0m:\u001b[36m276\u001b[0m - \u001b[1mSample 36/250 predicted.\u001b[0m\n",
      "\u001b[32m2025-10-22 20:20:07.715\u001b[0m | \u001b[34m\u001b[1mDEBUG   \u001b[0m | \u001b[36msrc.utils.general\u001b[0m:\u001b[36mopen_csv\u001b[0m:\u001b[36m108\u001b[0m - \u001b[34m\u001b[1mLoaded CSV: c:\\Users\\OAVAI\\Desktop\\mma - Copy\\mma_light\\data\\output\\feature_selection\\natty_feature_frequency.csv (87 rows)\u001b[0m\n",
      "\u001b[32m2025-10-22 20:20:07.717\u001b[0m | \u001b[1mINFO    \u001b[0m | \u001b[36msrc.model_selection.cv_main\u001b[0m:\u001b[36m_cross_validate\u001b[0m:\u001b[36m476\u001b[0m - \u001b[1mSelected top 78 features for CV: 78\u001b[0m\n"
     ]
    },
    {
     "name": "stdout",
     "output_type": "stream",
     "text": [
      "huh\n"
     ]
    },
    {
     "name": "stderr",
     "output_type": "stream",
     "text": [
      "\u001b[32m2025-10-22 20:20:15.234\u001b[0m | \u001b[1mINFO    \u001b[0m | \u001b[36msrc.model_selection.cv_main\u001b[0m:\u001b[36mpredict\u001b[0m:\u001b[36m276\u001b[0m - \u001b[1mSample 37/250 predicted.\u001b[0m\n",
      "\u001b[32m2025-10-22 20:20:15.240\u001b[0m | \u001b[34m\u001b[1mDEBUG   \u001b[0m | \u001b[36msrc.utils.general\u001b[0m:\u001b[36mopen_csv\u001b[0m:\u001b[36m108\u001b[0m - \u001b[34m\u001b[1mLoaded CSV: c:\\Users\\OAVAI\\Desktop\\mma - Copy\\mma_light\\data\\output\\feature_selection\\natty_feature_frequency.csv (87 rows)\u001b[0m\n",
      "\u001b[32m2025-10-22 20:20:15.241\u001b[0m | \u001b[1mINFO    \u001b[0m | \u001b[36msrc.model_selection.cv_main\u001b[0m:\u001b[36m_cross_validate\u001b[0m:\u001b[36m476\u001b[0m - \u001b[1mSelected top 78 features for CV: 78\u001b[0m\n"
     ]
    },
    {
     "name": "stdout",
     "output_type": "stream",
     "text": [
      "huh\n"
     ]
    },
    {
     "name": "stderr",
     "output_type": "stream",
     "text": [
      "\u001b[32m2025-10-22 20:20:21.343\u001b[0m | \u001b[1mINFO    \u001b[0m | \u001b[36msrc.model_selection.cv_main\u001b[0m:\u001b[36mpredict\u001b[0m:\u001b[36m276\u001b[0m - \u001b[1mSample 38/250 predicted.\u001b[0m\n",
      "\u001b[32m2025-10-22 20:20:21.348\u001b[0m | \u001b[34m\u001b[1mDEBUG   \u001b[0m | \u001b[36msrc.utils.general\u001b[0m:\u001b[36mopen_csv\u001b[0m:\u001b[36m108\u001b[0m - \u001b[34m\u001b[1mLoaded CSV: c:\\Users\\OAVAI\\Desktop\\mma - Copy\\mma_light\\data\\output\\feature_selection\\natty_feature_frequency.csv (87 rows)\u001b[0m\n",
      "\u001b[32m2025-10-22 20:20:21.348\u001b[0m | \u001b[1mINFO    \u001b[0m | \u001b[36msrc.model_selection.cv_main\u001b[0m:\u001b[36m_cross_validate\u001b[0m:\u001b[36m476\u001b[0m - \u001b[1mSelected top 78 features for CV: 78\u001b[0m\n"
     ]
    },
    {
     "name": "stdout",
     "output_type": "stream",
     "text": [
      "huh\n"
     ]
    },
    {
     "name": "stderr",
     "output_type": "stream",
     "text": [
      "\u001b[32m2025-10-22 20:20:26.874\u001b[0m | \u001b[1mINFO    \u001b[0m | \u001b[36msrc.model_selection.cv_main\u001b[0m:\u001b[36mpredict\u001b[0m:\u001b[36m276\u001b[0m - \u001b[1mSample 39/250 predicted.\u001b[0m\n",
      "\u001b[32m2025-10-22 20:20:26.878\u001b[0m | \u001b[34m\u001b[1mDEBUG   \u001b[0m | \u001b[36msrc.utils.general\u001b[0m:\u001b[36mopen_csv\u001b[0m:\u001b[36m108\u001b[0m - \u001b[34m\u001b[1mLoaded CSV: c:\\Users\\OAVAI\\Desktop\\mma - Copy\\mma_light\\data\\output\\feature_selection\\natty_feature_frequency.csv (87 rows)\u001b[0m\n",
      "\u001b[32m2025-10-22 20:20:26.879\u001b[0m | \u001b[1mINFO    \u001b[0m | \u001b[36msrc.model_selection.cv_main\u001b[0m:\u001b[36m_cross_validate\u001b[0m:\u001b[36m476\u001b[0m - \u001b[1mSelected top 78 features for CV: 78\u001b[0m\n"
     ]
    },
    {
     "name": "stdout",
     "output_type": "stream",
     "text": [
      "huh\n"
     ]
    },
    {
     "name": "stderr",
     "output_type": "stream",
     "text": [
      "\u001b[32m2025-10-22 20:20:33.385\u001b[0m | \u001b[1mINFO    \u001b[0m | \u001b[36msrc.model_selection.cv_main\u001b[0m:\u001b[36mpredict\u001b[0m:\u001b[36m276\u001b[0m - \u001b[1mSample 40/250 predicted.\u001b[0m\n",
      "\u001b[32m2025-10-22 20:20:33.389\u001b[0m | \u001b[34m\u001b[1mDEBUG   \u001b[0m | \u001b[36msrc.utils.general\u001b[0m:\u001b[36mopen_csv\u001b[0m:\u001b[36m108\u001b[0m - \u001b[34m\u001b[1mLoaded CSV: c:\\Users\\OAVAI\\Desktop\\mma - Copy\\mma_light\\data\\output\\feature_selection\\natty_feature_frequency.csv (87 rows)\u001b[0m\n",
      "\u001b[32m2025-10-22 20:20:33.390\u001b[0m | \u001b[1mINFO    \u001b[0m | \u001b[36msrc.model_selection.cv_main\u001b[0m:\u001b[36m_cross_validate\u001b[0m:\u001b[36m476\u001b[0m - \u001b[1mSelected top 78 features for CV: 78\u001b[0m\n"
     ]
    },
    {
     "name": "stdout",
     "output_type": "stream",
     "text": [
      "huh\n"
     ]
    },
    {
     "name": "stderr",
     "output_type": "stream",
     "text": [
      "\u001b[32m2025-10-22 20:20:40.685\u001b[0m | \u001b[1mINFO    \u001b[0m | \u001b[36msrc.model_selection.cv_main\u001b[0m:\u001b[36mpredict\u001b[0m:\u001b[36m276\u001b[0m - \u001b[1mSample 41/250 predicted.\u001b[0m\n",
      "\u001b[32m2025-10-22 20:20:40.688\u001b[0m | \u001b[34m\u001b[1mDEBUG   \u001b[0m | \u001b[36msrc.utils.general\u001b[0m:\u001b[36mopen_csv\u001b[0m:\u001b[36m108\u001b[0m - \u001b[34m\u001b[1mLoaded CSV: c:\\Users\\OAVAI\\Desktop\\mma - Copy\\mma_light\\data\\output\\feature_selection\\natty_feature_frequency.csv (87 rows)\u001b[0m\n",
      "\u001b[32m2025-10-22 20:20:40.689\u001b[0m | \u001b[1mINFO    \u001b[0m | \u001b[36msrc.model_selection.cv_main\u001b[0m:\u001b[36m_cross_validate\u001b[0m:\u001b[36m476\u001b[0m - \u001b[1mSelected top 78 features for CV: 78\u001b[0m\n"
     ]
    },
    {
     "name": "stdout",
     "output_type": "stream",
     "text": [
      "huh\n"
     ]
    },
    {
     "name": "stderr",
     "output_type": "stream",
     "text": [
      "\u001b[32m2025-10-22 20:20:45.097\u001b[0m | \u001b[1mINFO    \u001b[0m | \u001b[36msrc.model_selection.cv_main\u001b[0m:\u001b[36mpredict\u001b[0m:\u001b[36m276\u001b[0m - \u001b[1mSample 42/250 predicted.\u001b[0m\n",
      "\u001b[32m2025-10-22 20:20:45.100\u001b[0m | \u001b[34m\u001b[1mDEBUG   \u001b[0m | \u001b[36msrc.utils.general\u001b[0m:\u001b[36mopen_csv\u001b[0m:\u001b[36m108\u001b[0m - \u001b[34m\u001b[1mLoaded CSV: c:\\Users\\OAVAI\\Desktop\\mma - Copy\\mma_light\\data\\output\\feature_selection\\natty_feature_frequency.csv (87 rows)\u001b[0m\n",
      "\u001b[32m2025-10-22 20:20:45.102\u001b[0m | \u001b[1mINFO    \u001b[0m | \u001b[36msrc.model_selection.cv_main\u001b[0m:\u001b[36m_cross_validate\u001b[0m:\u001b[36m476\u001b[0m - \u001b[1mSelected top 78 features for CV: 78\u001b[0m\n"
     ]
    },
    {
     "name": "stdout",
     "output_type": "stream",
     "text": [
      "huh\n"
     ]
    },
    {
     "name": "stderr",
     "output_type": "stream",
     "text": [
      "\u001b[32m2025-10-22 20:20:51.983\u001b[0m | \u001b[1mINFO    \u001b[0m | \u001b[36msrc.model_selection.cv_main\u001b[0m:\u001b[36mpredict\u001b[0m:\u001b[36m276\u001b[0m - \u001b[1mSample 43/250 predicted.\u001b[0m\n",
      "\u001b[32m2025-10-22 20:20:51.986\u001b[0m | \u001b[34m\u001b[1mDEBUG   \u001b[0m | \u001b[36msrc.utils.general\u001b[0m:\u001b[36mopen_csv\u001b[0m:\u001b[36m108\u001b[0m - \u001b[34m\u001b[1mLoaded CSV: c:\\Users\\OAVAI\\Desktop\\mma - Copy\\mma_light\\data\\output\\feature_selection\\natty_feature_frequency.csv (87 rows)\u001b[0m\n",
      "\u001b[32m2025-10-22 20:20:51.987\u001b[0m | \u001b[1mINFO    \u001b[0m | \u001b[36msrc.model_selection.cv_main\u001b[0m:\u001b[36m_cross_validate\u001b[0m:\u001b[36m476\u001b[0m - \u001b[1mSelected top 78 features for CV: 78\u001b[0m\n"
     ]
    },
    {
     "name": "stdout",
     "output_type": "stream",
     "text": [
      "huh\n"
     ]
    },
    {
     "name": "stderr",
     "output_type": "stream",
     "text": [
      "\u001b[32m2025-10-22 20:20:57.827\u001b[0m | \u001b[1mINFO    \u001b[0m | \u001b[36msrc.model_selection.cv_main\u001b[0m:\u001b[36mpredict\u001b[0m:\u001b[36m276\u001b[0m - \u001b[1mSample 44/250 predicted.\u001b[0m\n",
      "\u001b[32m2025-10-22 20:20:57.831\u001b[0m | \u001b[34m\u001b[1mDEBUG   \u001b[0m | \u001b[36msrc.utils.general\u001b[0m:\u001b[36mopen_csv\u001b[0m:\u001b[36m108\u001b[0m - \u001b[34m\u001b[1mLoaded CSV: c:\\Users\\OAVAI\\Desktop\\mma - Copy\\mma_light\\data\\output\\feature_selection\\natty_feature_frequency.csv (87 rows)\u001b[0m\n",
      "\u001b[32m2025-10-22 20:20:57.832\u001b[0m | \u001b[1mINFO    \u001b[0m | \u001b[36msrc.model_selection.cv_main\u001b[0m:\u001b[36m_cross_validate\u001b[0m:\u001b[36m476\u001b[0m - \u001b[1mSelected top 78 features for CV: 78\u001b[0m\n"
     ]
    },
    {
     "name": "stdout",
     "output_type": "stream",
     "text": [
      "huh\n"
     ]
    },
    {
     "name": "stderr",
     "output_type": "stream",
     "text": [
      "\u001b[32m2025-10-22 20:21:04.818\u001b[0m | \u001b[1mINFO    \u001b[0m | \u001b[36msrc.model_selection.cv_main\u001b[0m:\u001b[36mpredict\u001b[0m:\u001b[36m276\u001b[0m - \u001b[1mSample 45/250 predicted.\u001b[0m\n",
      "\u001b[32m2025-10-22 20:21:04.822\u001b[0m | \u001b[34m\u001b[1mDEBUG   \u001b[0m | \u001b[36msrc.utils.general\u001b[0m:\u001b[36mopen_csv\u001b[0m:\u001b[36m108\u001b[0m - \u001b[34m\u001b[1mLoaded CSV: c:\\Users\\OAVAI\\Desktop\\mma - Copy\\mma_light\\data\\output\\feature_selection\\natty_feature_frequency.csv (87 rows)\u001b[0m\n",
      "\u001b[32m2025-10-22 20:21:04.823\u001b[0m | \u001b[1mINFO    \u001b[0m | \u001b[36msrc.model_selection.cv_main\u001b[0m:\u001b[36m_cross_validate\u001b[0m:\u001b[36m476\u001b[0m - \u001b[1mSelected top 78 features for CV: 78\u001b[0m\n"
     ]
    },
    {
     "name": "stdout",
     "output_type": "stream",
     "text": [
      "huh\n"
     ]
    },
    {
     "name": "stderr",
     "output_type": "stream",
     "text": [
      "\u001b[32m2025-10-22 20:21:09.099\u001b[0m | \u001b[1mINFO    \u001b[0m | \u001b[36msrc.model_selection.cv_main\u001b[0m:\u001b[36mpredict\u001b[0m:\u001b[36m276\u001b[0m - \u001b[1mSample 46/250 predicted.\u001b[0m\n",
      "\u001b[32m2025-10-22 20:21:09.102\u001b[0m | \u001b[34m\u001b[1mDEBUG   \u001b[0m | \u001b[36msrc.utils.general\u001b[0m:\u001b[36mopen_csv\u001b[0m:\u001b[36m108\u001b[0m - \u001b[34m\u001b[1mLoaded CSV: c:\\Users\\OAVAI\\Desktop\\mma - Copy\\mma_light\\data\\output\\feature_selection\\natty_feature_frequency.csv (87 rows)\u001b[0m\n",
      "\u001b[32m2025-10-22 20:21:09.103\u001b[0m | \u001b[1mINFO    \u001b[0m | \u001b[36msrc.model_selection.cv_main\u001b[0m:\u001b[36m_cross_validate\u001b[0m:\u001b[36m476\u001b[0m - \u001b[1mSelected top 78 features for CV: 78\u001b[0m\n"
     ]
    },
    {
     "name": "stdout",
     "output_type": "stream",
     "text": [
      "huh\n"
     ]
    },
    {
     "name": "stderr",
     "output_type": "stream",
     "text": [
      "\u001b[32m2025-10-22 20:21:14.325\u001b[0m | \u001b[1mINFO    \u001b[0m | \u001b[36msrc.model_selection.cv_main\u001b[0m:\u001b[36mpredict\u001b[0m:\u001b[36m276\u001b[0m - \u001b[1mSample 47/250 predicted.\u001b[0m\n",
      "\u001b[32m2025-10-22 20:21:14.329\u001b[0m | \u001b[34m\u001b[1mDEBUG   \u001b[0m | \u001b[36msrc.utils.general\u001b[0m:\u001b[36mopen_csv\u001b[0m:\u001b[36m108\u001b[0m - \u001b[34m\u001b[1mLoaded CSV: c:\\Users\\OAVAI\\Desktop\\mma - Copy\\mma_light\\data\\output\\feature_selection\\natty_feature_frequency.csv (87 rows)\u001b[0m\n",
      "\u001b[32m2025-10-22 20:21:14.330\u001b[0m | \u001b[1mINFO    \u001b[0m | \u001b[36msrc.model_selection.cv_main\u001b[0m:\u001b[36m_cross_validate\u001b[0m:\u001b[36m476\u001b[0m - \u001b[1mSelected top 78 features for CV: 78\u001b[0m\n"
     ]
    },
    {
     "name": "stdout",
     "output_type": "stream",
     "text": [
      "huh\n"
     ]
    },
    {
     "name": "stderr",
     "output_type": "stream",
     "text": [
      "\u001b[32m2025-10-22 20:21:21.254\u001b[0m | \u001b[1mINFO    \u001b[0m | \u001b[36msrc.model_selection.cv_main\u001b[0m:\u001b[36mpredict\u001b[0m:\u001b[36m276\u001b[0m - \u001b[1mSample 48/250 predicted.\u001b[0m\n",
      "\u001b[32m2025-10-22 20:21:21.258\u001b[0m | \u001b[34m\u001b[1mDEBUG   \u001b[0m | \u001b[36msrc.utils.general\u001b[0m:\u001b[36mopen_csv\u001b[0m:\u001b[36m108\u001b[0m - \u001b[34m\u001b[1mLoaded CSV: c:\\Users\\OAVAI\\Desktop\\mma - Copy\\mma_light\\data\\output\\feature_selection\\natty_feature_frequency.csv (87 rows)\u001b[0m\n",
      "\u001b[32m2025-10-22 20:21:21.259\u001b[0m | \u001b[1mINFO    \u001b[0m | \u001b[36msrc.model_selection.cv_main\u001b[0m:\u001b[36m_cross_validate\u001b[0m:\u001b[36m476\u001b[0m - \u001b[1mSelected top 78 features for CV: 78\u001b[0m\n"
     ]
    },
    {
     "name": "stdout",
     "output_type": "stream",
     "text": [
      "huh\n"
     ]
    },
    {
     "name": "stderr",
     "output_type": "stream",
     "text": [
      "\u001b[32m2025-10-22 20:21:29.158\u001b[0m | \u001b[1mINFO    \u001b[0m | \u001b[36msrc.model_selection.cv_main\u001b[0m:\u001b[36mpredict\u001b[0m:\u001b[36m276\u001b[0m - \u001b[1mSample 49/250 predicted.\u001b[0m\n",
      "\u001b[32m2025-10-22 20:21:29.163\u001b[0m | \u001b[34m\u001b[1mDEBUG   \u001b[0m | \u001b[36msrc.utils.general\u001b[0m:\u001b[36mopen_csv\u001b[0m:\u001b[36m108\u001b[0m - \u001b[34m\u001b[1mLoaded CSV: c:\\Users\\OAVAI\\Desktop\\mma - Copy\\mma_light\\data\\output\\feature_selection\\natty_feature_frequency.csv (87 rows)\u001b[0m\n",
      "\u001b[32m2025-10-22 20:21:29.165\u001b[0m | \u001b[1mINFO    \u001b[0m | \u001b[36msrc.model_selection.cv_main\u001b[0m:\u001b[36m_cross_validate\u001b[0m:\u001b[36m476\u001b[0m - \u001b[1mSelected top 78 features for CV: 78\u001b[0m\n"
     ]
    },
    {
     "name": "stdout",
     "output_type": "stream",
     "text": [
      "huh\n"
     ]
    },
    {
     "name": "stderr",
     "output_type": "stream",
     "text": [
      "\u001b[32m2025-10-22 20:21:38.295\u001b[0m | \u001b[1mINFO    \u001b[0m | \u001b[36msrc.model_selection.cv_main\u001b[0m:\u001b[36mpredict\u001b[0m:\u001b[36m276\u001b[0m - \u001b[1mSample 50/250 predicted.\u001b[0m\n",
      "\u001b[32m2025-10-22 20:21:38.298\u001b[0m | \u001b[34m\u001b[1mDEBUG   \u001b[0m | \u001b[36msrc.utils.general\u001b[0m:\u001b[36mopen_csv\u001b[0m:\u001b[36m108\u001b[0m - \u001b[34m\u001b[1mLoaded CSV: c:\\Users\\OAVAI\\Desktop\\mma - Copy\\mma_light\\data\\output\\feature_selection\\natty_feature_frequency.csv (87 rows)\u001b[0m\n",
      "\u001b[32m2025-10-22 20:21:38.299\u001b[0m | \u001b[1mINFO    \u001b[0m | \u001b[36msrc.model_selection.cv_main\u001b[0m:\u001b[36m_cross_validate\u001b[0m:\u001b[36m476\u001b[0m - \u001b[1mSelected top 78 features for CV: 78\u001b[0m\n"
     ]
    },
    {
     "name": "stdout",
     "output_type": "stream",
     "text": [
      "huh\n"
     ]
    },
    {
     "name": "stderr",
     "output_type": "stream",
     "text": [
      "\u001b[32m2025-10-22 20:21:44.446\u001b[0m | \u001b[1mINFO    \u001b[0m | \u001b[36msrc.model_selection.cv_main\u001b[0m:\u001b[36mpredict\u001b[0m:\u001b[36m276\u001b[0m - \u001b[1mSample 51/250 predicted.\u001b[0m\n",
      "\u001b[32m2025-10-22 20:21:44.449\u001b[0m | \u001b[34m\u001b[1mDEBUG   \u001b[0m | \u001b[36msrc.utils.general\u001b[0m:\u001b[36mopen_csv\u001b[0m:\u001b[36m108\u001b[0m - \u001b[34m\u001b[1mLoaded CSV: c:\\Users\\OAVAI\\Desktop\\mma - Copy\\mma_light\\data\\output\\feature_selection\\natty_feature_frequency.csv (87 rows)\u001b[0m\n",
      "\u001b[32m2025-10-22 20:21:44.451\u001b[0m | \u001b[1mINFO    \u001b[0m | \u001b[36msrc.model_selection.cv_main\u001b[0m:\u001b[36m_cross_validate\u001b[0m:\u001b[36m476\u001b[0m - \u001b[1mSelected top 78 features for CV: 78\u001b[0m\n"
     ]
    },
    {
     "name": "stdout",
     "output_type": "stream",
     "text": [
      "huh\n"
     ]
    },
    {
     "name": "stderr",
     "output_type": "stream",
     "text": [
      "\u001b[32m2025-10-22 20:21:50.039\u001b[0m | \u001b[1mINFO    \u001b[0m | \u001b[36msrc.model_selection.cv_main\u001b[0m:\u001b[36mpredict\u001b[0m:\u001b[36m276\u001b[0m - \u001b[1mSample 52/250 predicted.\u001b[0m\n",
      "\u001b[32m2025-10-22 20:21:50.043\u001b[0m | \u001b[34m\u001b[1mDEBUG   \u001b[0m | \u001b[36msrc.utils.general\u001b[0m:\u001b[36mopen_csv\u001b[0m:\u001b[36m108\u001b[0m - \u001b[34m\u001b[1mLoaded CSV: c:\\Users\\OAVAI\\Desktop\\mma - Copy\\mma_light\\data\\output\\feature_selection\\natty_feature_frequency.csv (87 rows)\u001b[0m\n",
      "\u001b[32m2025-10-22 20:21:50.043\u001b[0m | \u001b[1mINFO    \u001b[0m | \u001b[36msrc.model_selection.cv_main\u001b[0m:\u001b[36m_cross_validate\u001b[0m:\u001b[36m476\u001b[0m - \u001b[1mSelected top 78 features for CV: 78\u001b[0m\n"
     ]
    },
    {
     "name": "stdout",
     "output_type": "stream",
     "text": [
      "huh\n"
     ]
    },
    {
     "name": "stderr",
     "output_type": "stream",
     "text": [
      "\u001b[32m2025-10-22 20:21:54.469\u001b[0m | \u001b[1mINFO    \u001b[0m | \u001b[36msrc.model_selection.cv_main\u001b[0m:\u001b[36mpredict\u001b[0m:\u001b[36m276\u001b[0m - \u001b[1mSample 53/250 predicted.\u001b[0m\n",
      "\u001b[32m2025-10-22 20:21:54.472\u001b[0m | \u001b[34m\u001b[1mDEBUG   \u001b[0m | \u001b[36msrc.utils.general\u001b[0m:\u001b[36mopen_csv\u001b[0m:\u001b[36m108\u001b[0m - \u001b[34m\u001b[1mLoaded CSV: c:\\Users\\OAVAI\\Desktop\\mma - Copy\\mma_light\\data\\output\\feature_selection\\natty_feature_frequency.csv (87 rows)\u001b[0m\n",
      "\u001b[32m2025-10-22 20:21:54.474\u001b[0m | \u001b[1mINFO    \u001b[0m | \u001b[36msrc.model_selection.cv_main\u001b[0m:\u001b[36m_cross_validate\u001b[0m:\u001b[36m476\u001b[0m - \u001b[1mSelected top 78 features for CV: 78\u001b[0m\n"
     ]
    },
    {
     "name": "stdout",
     "output_type": "stream",
     "text": [
      "huh\n"
     ]
    },
    {
     "name": "stderr",
     "output_type": "stream",
     "text": [
      "\u001b[32m2025-10-22 20:22:01.088\u001b[0m | \u001b[1mINFO    \u001b[0m | \u001b[36msrc.model_selection.cv_main\u001b[0m:\u001b[36mpredict\u001b[0m:\u001b[36m276\u001b[0m - \u001b[1mSample 54/250 predicted.\u001b[0m\n",
      "\u001b[32m2025-10-22 20:22:01.092\u001b[0m | \u001b[34m\u001b[1mDEBUG   \u001b[0m | \u001b[36msrc.utils.general\u001b[0m:\u001b[36mopen_csv\u001b[0m:\u001b[36m108\u001b[0m - \u001b[34m\u001b[1mLoaded CSV: c:\\Users\\OAVAI\\Desktop\\mma - Copy\\mma_light\\data\\output\\feature_selection\\natty_feature_frequency.csv (87 rows)\u001b[0m\n",
      "\u001b[32m2025-10-22 20:22:01.093\u001b[0m | \u001b[1mINFO    \u001b[0m | \u001b[36msrc.model_selection.cv_main\u001b[0m:\u001b[36m_cross_validate\u001b[0m:\u001b[36m476\u001b[0m - \u001b[1mSelected top 78 features for CV: 78\u001b[0m\n"
     ]
    },
    {
     "name": "stdout",
     "output_type": "stream",
     "text": [
      "huh\n"
     ]
    },
    {
     "name": "stderr",
     "output_type": "stream",
     "text": [
      "\u001b[32m2025-10-22 20:22:06.384\u001b[0m | \u001b[1mINFO    \u001b[0m | \u001b[36msrc.model_selection.cv_main\u001b[0m:\u001b[36mpredict\u001b[0m:\u001b[36m276\u001b[0m - \u001b[1mSample 55/250 predicted.\u001b[0m\n",
      "\u001b[32m2025-10-22 20:22:06.388\u001b[0m | \u001b[34m\u001b[1mDEBUG   \u001b[0m | \u001b[36msrc.utils.general\u001b[0m:\u001b[36mopen_csv\u001b[0m:\u001b[36m108\u001b[0m - \u001b[34m\u001b[1mLoaded CSV: c:\\Users\\OAVAI\\Desktop\\mma - Copy\\mma_light\\data\\output\\feature_selection\\natty_feature_frequency.csv (87 rows)\u001b[0m\n",
      "\u001b[32m2025-10-22 20:22:06.389\u001b[0m | \u001b[1mINFO    \u001b[0m | \u001b[36msrc.model_selection.cv_main\u001b[0m:\u001b[36m_cross_validate\u001b[0m:\u001b[36m476\u001b[0m - \u001b[1mSelected top 78 features for CV: 78\u001b[0m\n"
     ]
    },
    {
     "name": "stdout",
     "output_type": "stream",
     "text": [
      "huh\n"
     ]
    },
    {
     "name": "stderr",
     "output_type": "stream",
     "text": [
      "\u001b[32m2025-10-22 20:22:12.295\u001b[0m | \u001b[1mINFO    \u001b[0m | \u001b[36msrc.model_selection.cv_main\u001b[0m:\u001b[36mpredict\u001b[0m:\u001b[36m276\u001b[0m - \u001b[1mSample 56/250 predicted.\u001b[0m\n",
      "\u001b[32m2025-10-22 20:22:12.299\u001b[0m | \u001b[34m\u001b[1mDEBUG   \u001b[0m | \u001b[36msrc.utils.general\u001b[0m:\u001b[36mopen_csv\u001b[0m:\u001b[36m108\u001b[0m - \u001b[34m\u001b[1mLoaded CSV: c:\\Users\\OAVAI\\Desktop\\mma - Copy\\mma_light\\data\\output\\feature_selection\\natty_feature_frequency.csv (87 rows)\u001b[0m\n",
      "\u001b[32m2025-10-22 20:22:12.300\u001b[0m | \u001b[1mINFO    \u001b[0m | \u001b[36msrc.model_selection.cv_main\u001b[0m:\u001b[36m_cross_validate\u001b[0m:\u001b[36m476\u001b[0m - \u001b[1mSelected top 78 features for CV: 78\u001b[0m\n"
     ]
    },
    {
     "name": "stdout",
     "output_type": "stream",
     "text": [
      "huh\n"
     ]
    },
    {
     "name": "stderr",
     "output_type": "stream",
     "text": [
      "\u001b[32m2025-10-22 20:22:16.899\u001b[0m | \u001b[1mINFO    \u001b[0m | \u001b[36msrc.model_selection.cv_main\u001b[0m:\u001b[36mpredict\u001b[0m:\u001b[36m276\u001b[0m - \u001b[1mSample 57/250 predicted.\u001b[0m\n",
      "\u001b[32m2025-10-22 20:22:16.902\u001b[0m | \u001b[34m\u001b[1mDEBUG   \u001b[0m | \u001b[36msrc.utils.general\u001b[0m:\u001b[36mopen_csv\u001b[0m:\u001b[36m108\u001b[0m - \u001b[34m\u001b[1mLoaded CSV: c:\\Users\\OAVAI\\Desktop\\mma - Copy\\mma_light\\data\\output\\feature_selection\\natty_feature_frequency.csv (87 rows)\u001b[0m\n",
      "\u001b[32m2025-10-22 20:22:16.902\u001b[0m | \u001b[1mINFO    \u001b[0m | \u001b[36msrc.model_selection.cv_main\u001b[0m:\u001b[36m_cross_validate\u001b[0m:\u001b[36m476\u001b[0m - \u001b[1mSelected top 78 features for CV: 78\u001b[0m\n"
     ]
    },
    {
     "name": "stdout",
     "output_type": "stream",
     "text": [
      "huh\n"
     ]
    },
    {
     "name": "stderr",
     "output_type": "stream",
     "text": [
      "\u001b[32m2025-10-22 20:22:24.231\u001b[0m | \u001b[1mINFO    \u001b[0m | \u001b[36msrc.model_selection.cv_main\u001b[0m:\u001b[36mpredict\u001b[0m:\u001b[36m276\u001b[0m - \u001b[1mSample 58/250 predicted.\u001b[0m\n",
      "\u001b[32m2025-10-22 20:22:24.235\u001b[0m | \u001b[34m\u001b[1mDEBUG   \u001b[0m | \u001b[36msrc.utils.general\u001b[0m:\u001b[36mopen_csv\u001b[0m:\u001b[36m108\u001b[0m - \u001b[34m\u001b[1mLoaded CSV: c:\\Users\\OAVAI\\Desktop\\mma - Copy\\mma_light\\data\\output\\feature_selection\\natty_feature_frequency.csv (87 rows)\u001b[0m\n",
      "\u001b[32m2025-10-22 20:22:24.236\u001b[0m | \u001b[1mINFO    \u001b[0m | \u001b[36msrc.model_selection.cv_main\u001b[0m:\u001b[36m_cross_validate\u001b[0m:\u001b[36m476\u001b[0m - \u001b[1mSelected top 78 features for CV: 78\u001b[0m\n"
     ]
    },
    {
     "name": "stdout",
     "output_type": "stream",
     "text": [
      "huh\n"
     ]
    },
    {
     "name": "stderr",
     "output_type": "stream",
     "text": [
      "\u001b[32m2025-10-22 20:22:29.536\u001b[0m | \u001b[1mINFO    \u001b[0m | \u001b[36msrc.model_selection.cv_main\u001b[0m:\u001b[36mpredict\u001b[0m:\u001b[36m276\u001b[0m - \u001b[1mSample 59/250 predicted.\u001b[0m\n",
      "\u001b[32m2025-10-22 20:22:29.539\u001b[0m | \u001b[34m\u001b[1mDEBUG   \u001b[0m | \u001b[36msrc.utils.general\u001b[0m:\u001b[36mopen_csv\u001b[0m:\u001b[36m108\u001b[0m - \u001b[34m\u001b[1mLoaded CSV: c:\\Users\\OAVAI\\Desktop\\mma - Copy\\mma_light\\data\\output\\feature_selection\\natty_feature_frequency.csv (87 rows)\u001b[0m\n",
      "\u001b[32m2025-10-22 20:22:29.539\u001b[0m | \u001b[1mINFO    \u001b[0m | \u001b[36msrc.model_selection.cv_main\u001b[0m:\u001b[36m_cross_validate\u001b[0m:\u001b[36m476\u001b[0m - \u001b[1mSelected top 78 features for CV: 78\u001b[0m\n"
     ]
    },
    {
     "name": "stdout",
     "output_type": "stream",
     "text": [
      "huh\n"
     ]
    },
    {
     "name": "stderr",
     "output_type": "stream",
     "text": [
      "\u001b[32m2025-10-22 20:22:35.592\u001b[0m | \u001b[1mINFO    \u001b[0m | \u001b[36msrc.model_selection.cv_main\u001b[0m:\u001b[36mpredict\u001b[0m:\u001b[36m276\u001b[0m - \u001b[1mSample 60/250 predicted.\u001b[0m\n",
      "\u001b[32m2025-10-22 20:22:35.596\u001b[0m | \u001b[34m\u001b[1mDEBUG   \u001b[0m | \u001b[36msrc.utils.general\u001b[0m:\u001b[36mopen_csv\u001b[0m:\u001b[36m108\u001b[0m - \u001b[34m\u001b[1mLoaded CSV: c:\\Users\\OAVAI\\Desktop\\mma - Copy\\mma_light\\data\\output\\feature_selection\\natty_feature_frequency.csv (87 rows)\u001b[0m\n",
      "\u001b[32m2025-10-22 20:22:35.597\u001b[0m | \u001b[1mINFO    \u001b[0m | \u001b[36msrc.model_selection.cv_main\u001b[0m:\u001b[36m_cross_validate\u001b[0m:\u001b[36m476\u001b[0m - \u001b[1mSelected top 78 features for CV: 78\u001b[0m\n"
     ]
    },
    {
     "name": "stdout",
     "output_type": "stream",
     "text": [
      "huh\n"
     ]
    },
    {
     "name": "stderr",
     "output_type": "stream",
     "text": [
      "\u001b[32m2025-10-22 20:22:42.267\u001b[0m | \u001b[1mINFO    \u001b[0m | \u001b[36msrc.model_selection.cv_main\u001b[0m:\u001b[36mpredict\u001b[0m:\u001b[36m276\u001b[0m - \u001b[1mSample 61/250 predicted.\u001b[0m\n",
      "\u001b[32m2025-10-22 20:22:42.271\u001b[0m | \u001b[34m\u001b[1mDEBUG   \u001b[0m | \u001b[36msrc.utils.general\u001b[0m:\u001b[36mopen_csv\u001b[0m:\u001b[36m108\u001b[0m - \u001b[34m\u001b[1mLoaded CSV: c:\\Users\\OAVAI\\Desktop\\mma - Copy\\mma_light\\data\\output\\feature_selection\\natty_feature_frequency.csv (87 rows)\u001b[0m\n",
      "\u001b[32m2025-10-22 20:22:42.273\u001b[0m | \u001b[1mINFO    \u001b[0m | \u001b[36msrc.model_selection.cv_main\u001b[0m:\u001b[36m_cross_validate\u001b[0m:\u001b[36m476\u001b[0m - \u001b[1mSelected top 78 features for CV: 78\u001b[0m\n"
     ]
    },
    {
     "name": "stdout",
     "output_type": "stream",
     "text": [
      "huh\n"
     ]
    },
    {
     "name": "stderr",
     "output_type": "stream",
     "text": [
      "\u001b[32m2025-10-22 20:22:48.473\u001b[0m | \u001b[1mINFO    \u001b[0m | \u001b[36msrc.model_selection.cv_main\u001b[0m:\u001b[36mpredict\u001b[0m:\u001b[36m276\u001b[0m - \u001b[1mSample 62/250 predicted.\u001b[0m\n",
      "\u001b[32m2025-10-22 20:22:48.477\u001b[0m | \u001b[34m\u001b[1mDEBUG   \u001b[0m | \u001b[36msrc.utils.general\u001b[0m:\u001b[36mopen_csv\u001b[0m:\u001b[36m108\u001b[0m - \u001b[34m\u001b[1mLoaded CSV: c:\\Users\\OAVAI\\Desktop\\mma - Copy\\mma_light\\data\\output\\feature_selection\\natty_feature_frequency.csv (87 rows)\u001b[0m\n",
      "\u001b[32m2025-10-22 20:22:48.478\u001b[0m | \u001b[1mINFO    \u001b[0m | \u001b[36msrc.model_selection.cv_main\u001b[0m:\u001b[36m_cross_validate\u001b[0m:\u001b[36m476\u001b[0m - \u001b[1mSelected top 78 features for CV: 78\u001b[0m\n"
     ]
    },
    {
     "name": "stdout",
     "output_type": "stream",
     "text": [
      "huh\n"
     ]
    },
    {
     "name": "stderr",
     "output_type": "stream",
     "text": [
      "\u001b[32m2025-10-22 20:22:55.784\u001b[0m | \u001b[1mINFO    \u001b[0m | \u001b[36msrc.model_selection.cv_main\u001b[0m:\u001b[36mpredict\u001b[0m:\u001b[36m276\u001b[0m - \u001b[1mSample 63/250 predicted.\u001b[0m\n",
      "\u001b[32m2025-10-22 20:22:55.787\u001b[0m | \u001b[34m\u001b[1mDEBUG   \u001b[0m | \u001b[36msrc.utils.general\u001b[0m:\u001b[36mopen_csv\u001b[0m:\u001b[36m108\u001b[0m - \u001b[34m\u001b[1mLoaded CSV: c:\\Users\\OAVAI\\Desktop\\mma - Copy\\mma_light\\data\\output\\feature_selection\\natty_feature_frequency.csv (87 rows)\u001b[0m\n",
      "\u001b[32m2025-10-22 20:22:55.790\u001b[0m | \u001b[1mINFO    \u001b[0m | \u001b[36msrc.model_selection.cv_main\u001b[0m:\u001b[36m_cross_validate\u001b[0m:\u001b[36m476\u001b[0m - \u001b[1mSelected top 78 features for CV: 78\u001b[0m\n"
     ]
    },
    {
     "name": "stdout",
     "output_type": "stream",
     "text": [
      "huh\n"
     ]
    },
    {
     "name": "stderr",
     "output_type": "stream",
     "text": [
      "\u001b[32m2025-10-22 20:23:02.679\u001b[0m | \u001b[1mINFO    \u001b[0m | \u001b[36msrc.model_selection.cv_main\u001b[0m:\u001b[36mpredict\u001b[0m:\u001b[36m276\u001b[0m - \u001b[1mSample 64/250 predicted.\u001b[0m\n",
      "\u001b[32m2025-10-22 20:23:02.683\u001b[0m | \u001b[34m\u001b[1mDEBUG   \u001b[0m | \u001b[36msrc.utils.general\u001b[0m:\u001b[36mopen_csv\u001b[0m:\u001b[36m108\u001b[0m - \u001b[34m\u001b[1mLoaded CSV: c:\\Users\\OAVAI\\Desktop\\mma - Copy\\mma_light\\data\\output\\feature_selection\\natty_feature_frequency.csv (87 rows)\u001b[0m\n",
      "\u001b[32m2025-10-22 20:23:02.683\u001b[0m | \u001b[1mINFO    \u001b[0m | \u001b[36msrc.model_selection.cv_main\u001b[0m:\u001b[36m_cross_validate\u001b[0m:\u001b[36m476\u001b[0m - \u001b[1mSelected top 78 features for CV: 78\u001b[0m\n"
     ]
    },
    {
     "name": "stdout",
     "output_type": "stream",
     "text": [
      "huh\n"
     ]
    },
    {
     "name": "stderr",
     "output_type": "stream",
     "text": [
      "\u001b[32m2025-10-22 20:23:09.273\u001b[0m | \u001b[1mINFO    \u001b[0m | \u001b[36msrc.model_selection.cv_main\u001b[0m:\u001b[36mpredict\u001b[0m:\u001b[36m276\u001b[0m - \u001b[1mSample 65/250 predicted.\u001b[0m\n",
      "\u001b[32m2025-10-22 20:23:09.277\u001b[0m | \u001b[34m\u001b[1mDEBUG   \u001b[0m | \u001b[36msrc.utils.general\u001b[0m:\u001b[36mopen_csv\u001b[0m:\u001b[36m108\u001b[0m - \u001b[34m\u001b[1mLoaded CSV: c:\\Users\\OAVAI\\Desktop\\mma - Copy\\mma_light\\data\\output\\feature_selection\\natty_feature_frequency.csv (87 rows)\u001b[0m\n",
      "\u001b[32m2025-10-22 20:23:09.278\u001b[0m | \u001b[1mINFO    \u001b[0m | \u001b[36msrc.model_selection.cv_main\u001b[0m:\u001b[36m_cross_validate\u001b[0m:\u001b[36m476\u001b[0m - \u001b[1mSelected top 78 features for CV: 78\u001b[0m\n"
     ]
    },
    {
     "name": "stdout",
     "output_type": "stream",
     "text": [
      "huh\n"
     ]
    },
    {
     "name": "stderr",
     "output_type": "stream",
     "text": [
      "\u001b[32m2025-10-22 20:23:15.222\u001b[0m | \u001b[1mINFO    \u001b[0m | \u001b[36msrc.model_selection.cv_main\u001b[0m:\u001b[36mpredict\u001b[0m:\u001b[36m276\u001b[0m - \u001b[1mSample 66/250 predicted.\u001b[0m\n",
      "\u001b[32m2025-10-22 20:23:15.226\u001b[0m | \u001b[34m\u001b[1mDEBUG   \u001b[0m | \u001b[36msrc.utils.general\u001b[0m:\u001b[36mopen_csv\u001b[0m:\u001b[36m108\u001b[0m - \u001b[34m\u001b[1mLoaded CSV: c:\\Users\\OAVAI\\Desktop\\mma - Copy\\mma_light\\data\\output\\feature_selection\\natty_feature_frequency.csv (87 rows)\u001b[0m\n",
      "\u001b[32m2025-10-22 20:23:15.227\u001b[0m | \u001b[1mINFO    \u001b[0m | \u001b[36msrc.model_selection.cv_main\u001b[0m:\u001b[36m_cross_validate\u001b[0m:\u001b[36m476\u001b[0m - \u001b[1mSelected top 78 features for CV: 78\u001b[0m\n"
     ]
    },
    {
     "name": "stdout",
     "output_type": "stream",
     "text": [
      "huh\n"
     ]
    },
    {
     "name": "stderr",
     "output_type": "stream",
     "text": [
      "\u001b[32m2025-10-22 20:23:21.449\u001b[0m | \u001b[1mINFO    \u001b[0m | \u001b[36msrc.model_selection.cv_main\u001b[0m:\u001b[36mpredict\u001b[0m:\u001b[36m276\u001b[0m - \u001b[1mSample 67/250 predicted.\u001b[0m\n",
      "\u001b[32m2025-10-22 20:23:21.453\u001b[0m | \u001b[34m\u001b[1mDEBUG   \u001b[0m | \u001b[36msrc.utils.general\u001b[0m:\u001b[36mopen_csv\u001b[0m:\u001b[36m108\u001b[0m - \u001b[34m\u001b[1mLoaded CSV: c:\\Users\\OAVAI\\Desktop\\mma - Copy\\mma_light\\data\\output\\feature_selection\\natty_feature_frequency.csv (87 rows)\u001b[0m\n",
      "\u001b[32m2025-10-22 20:23:21.454\u001b[0m | \u001b[1mINFO    \u001b[0m | \u001b[36msrc.model_selection.cv_main\u001b[0m:\u001b[36m_cross_validate\u001b[0m:\u001b[36m476\u001b[0m - \u001b[1mSelected top 78 features for CV: 78\u001b[0m\n"
     ]
    },
    {
     "name": "stdout",
     "output_type": "stream",
     "text": [
      "huh\n"
     ]
    },
    {
     "name": "stderr",
     "output_type": "stream",
     "text": [
      "\u001b[32m2025-10-22 20:23:29.226\u001b[0m | \u001b[1mINFO    \u001b[0m | \u001b[36msrc.model_selection.cv_main\u001b[0m:\u001b[36mpredict\u001b[0m:\u001b[36m276\u001b[0m - \u001b[1mSample 68/250 predicted.\u001b[0m\n",
      "\u001b[32m2025-10-22 20:23:29.230\u001b[0m | \u001b[34m\u001b[1mDEBUG   \u001b[0m | \u001b[36msrc.utils.general\u001b[0m:\u001b[36mopen_csv\u001b[0m:\u001b[36m108\u001b[0m - \u001b[34m\u001b[1mLoaded CSV: c:\\Users\\OAVAI\\Desktop\\mma - Copy\\mma_light\\data\\output\\feature_selection\\natty_feature_frequency.csv (87 rows)\u001b[0m\n",
      "\u001b[32m2025-10-22 20:23:29.231\u001b[0m | \u001b[1mINFO    \u001b[0m | \u001b[36msrc.model_selection.cv_main\u001b[0m:\u001b[36m_cross_validate\u001b[0m:\u001b[36m476\u001b[0m - \u001b[1mSelected top 78 features for CV: 78\u001b[0m\n"
     ]
    },
    {
     "name": "stdout",
     "output_type": "stream",
     "text": [
      "huh\n"
     ]
    },
    {
     "name": "stderr",
     "output_type": "stream",
     "text": [
      "\u001b[32m2025-10-22 20:23:33.661\u001b[0m | \u001b[1mINFO    \u001b[0m | \u001b[36msrc.model_selection.cv_main\u001b[0m:\u001b[36mpredict\u001b[0m:\u001b[36m276\u001b[0m - \u001b[1mSample 69/250 predicted.\u001b[0m\n",
      "\u001b[32m2025-10-22 20:23:33.665\u001b[0m | \u001b[34m\u001b[1mDEBUG   \u001b[0m | \u001b[36msrc.utils.general\u001b[0m:\u001b[36mopen_csv\u001b[0m:\u001b[36m108\u001b[0m - \u001b[34m\u001b[1mLoaded CSV: c:\\Users\\OAVAI\\Desktop\\mma - Copy\\mma_light\\data\\output\\feature_selection\\natty_feature_frequency.csv (87 rows)\u001b[0m\n",
      "\u001b[32m2025-10-22 20:23:33.667\u001b[0m | \u001b[1mINFO    \u001b[0m | \u001b[36msrc.model_selection.cv_main\u001b[0m:\u001b[36m_cross_validate\u001b[0m:\u001b[36m476\u001b[0m - \u001b[1mSelected top 78 features for CV: 78\u001b[0m\n"
     ]
    },
    {
     "name": "stdout",
     "output_type": "stream",
     "text": [
      "huh\n"
     ]
    },
    {
     "name": "stderr",
     "output_type": "stream",
     "text": [
      "\u001b[32m2025-10-22 20:23:42.383\u001b[0m | \u001b[1mINFO    \u001b[0m | \u001b[36msrc.model_selection.cv_main\u001b[0m:\u001b[36mpredict\u001b[0m:\u001b[36m276\u001b[0m - \u001b[1mSample 70/250 predicted.\u001b[0m\n",
      "\u001b[32m2025-10-22 20:23:42.387\u001b[0m | \u001b[34m\u001b[1mDEBUG   \u001b[0m | \u001b[36msrc.utils.general\u001b[0m:\u001b[36mopen_csv\u001b[0m:\u001b[36m108\u001b[0m - \u001b[34m\u001b[1mLoaded CSV: c:\\Users\\OAVAI\\Desktop\\mma - Copy\\mma_light\\data\\output\\feature_selection\\natty_feature_frequency.csv (87 rows)\u001b[0m\n",
      "\u001b[32m2025-10-22 20:23:42.389\u001b[0m | \u001b[1mINFO    \u001b[0m | \u001b[36msrc.model_selection.cv_main\u001b[0m:\u001b[36m_cross_validate\u001b[0m:\u001b[36m476\u001b[0m - \u001b[1mSelected top 78 features for CV: 78\u001b[0m\n"
     ]
    },
    {
     "name": "stdout",
     "output_type": "stream",
     "text": [
      "huh\n"
     ]
    },
    {
     "name": "stderr",
     "output_type": "stream",
     "text": [
      "\u001b[32m2025-10-22 20:23:48.316\u001b[0m | \u001b[1mINFO    \u001b[0m | \u001b[36msrc.model_selection.cv_main\u001b[0m:\u001b[36mpredict\u001b[0m:\u001b[36m276\u001b[0m - \u001b[1mSample 71/250 predicted.\u001b[0m\n",
      "\u001b[32m2025-10-22 20:23:48.319\u001b[0m | \u001b[34m\u001b[1mDEBUG   \u001b[0m | \u001b[36msrc.utils.general\u001b[0m:\u001b[36mopen_csv\u001b[0m:\u001b[36m108\u001b[0m - \u001b[34m\u001b[1mLoaded CSV: c:\\Users\\OAVAI\\Desktop\\mma - Copy\\mma_light\\data\\output\\feature_selection\\natty_feature_frequency.csv (87 rows)\u001b[0m\n",
      "\u001b[32m2025-10-22 20:23:48.320\u001b[0m | \u001b[1mINFO    \u001b[0m | \u001b[36msrc.model_selection.cv_main\u001b[0m:\u001b[36m_cross_validate\u001b[0m:\u001b[36m476\u001b[0m - \u001b[1mSelected top 78 features for CV: 78\u001b[0m\n"
     ]
    },
    {
     "name": "stdout",
     "output_type": "stream",
     "text": [
      "huh\n"
     ]
    },
    {
     "name": "stderr",
     "output_type": "stream",
     "text": [
      "\u001b[32m2025-10-22 20:23:57.205\u001b[0m | \u001b[1mINFO    \u001b[0m | \u001b[36msrc.model_selection.cv_main\u001b[0m:\u001b[36mpredict\u001b[0m:\u001b[36m276\u001b[0m - \u001b[1mSample 72/250 predicted.\u001b[0m\n",
      "\u001b[32m2025-10-22 20:23:57.211\u001b[0m | \u001b[34m\u001b[1mDEBUG   \u001b[0m | \u001b[36msrc.utils.general\u001b[0m:\u001b[36mopen_csv\u001b[0m:\u001b[36m108\u001b[0m - \u001b[34m\u001b[1mLoaded CSV: c:\\Users\\OAVAI\\Desktop\\mma - Copy\\mma_light\\data\\output\\feature_selection\\natty_feature_frequency.csv (87 rows)\u001b[0m\n",
      "\u001b[32m2025-10-22 20:23:57.213\u001b[0m | \u001b[1mINFO    \u001b[0m | \u001b[36msrc.model_selection.cv_main\u001b[0m:\u001b[36m_cross_validate\u001b[0m:\u001b[36m476\u001b[0m - \u001b[1mSelected top 78 features for CV: 78\u001b[0m\n"
     ]
    },
    {
     "name": "stdout",
     "output_type": "stream",
     "text": [
      "huh\n"
     ]
    },
    {
     "name": "stderr",
     "output_type": "stream",
     "text": [
      "\u001b[32m2025-10-22 20:24:01.940\u001b[0m | \u001b[1mINFO    \u001b[0m | \u001b[36msrc.model_selection.cv_main\u001b[0m:\u001b[36mpredict\u001b[0m:\u001b[36m276\u001b[0m - \u001b[1mSample 73/250 predicted.\u001b[0m\n",
      "\u001b[32m2025-10-22 20:24:01.944\u001b[0m | \u001b[34m\u001b[1mDEBUG   \u001b[0m | \u001b[36msrc.utils.general\u001b[0m:\u001b[36mopen_csv\u001b[0m:\u001b[36m108\u001b[0m - \u001b[34m\u001b[1mLoaded CSV: c:\\Users\\OAVAI\\Desktop\\mma - Copy\\mma_light\\data\\output\\feature_selection\\natty_feature_frequency.csv (87 rows)\u001b[0m\n",
      "\u001b[32m2025-10-22 20:24:01.945\u001b[0m | \u001b[1mINFO    \u001b[0m | \u001b[36msrc.model_selection.cv_main\u001b[0m:\u001b[36m_cross_validate\u001b[0m:\u001b[36m476\u001b[0m - \u001b[1mSelected top 78 features for CV: 78\u001b[0m\n"
     ]
    },
    {
     "name": "stdout",
     "output_type": "stream",
     "text": [
      "huh\n"
     ]
    },
    {
     "name": "stderr",
     "output_type": "stream",
     "text": [
      "\u001b[32m2025-10-22 20:24:06.719\u001b[0m | \u001b[1mINFO    \u001b[0m | \u001b[36msrc.model_selection.cv_main\u001b[0m:\u001b[36mpredict\u001b[0m:\u001b[36m276\u001b[0m - \u001b[1mSample 74/250 predicted.\u001b[0m\n",
      "\u001b[32m2025-10-22 20:24:06.723\u001b[0m | \u001b[34m\u001b[1mDEBUG   \u001b[0m | \u001b[36msrc.utils.general\u001b[0m:\u001b[36mopen_csv\u001b[0m:\u001b[36m108\u001b[0m - \u001b[34m\u001b[1mLoaded CSV: c:\\Users\\OAVAI\\Desktop\\mma - Copy\\mma_light\\data\\output\\feature_selection\\natty_feature_frequency.csv (87 rows)\u001b[0m\n",
      "\u001b[32m2025-10-22 20:24:06.724\u001b[0m | \u001b[1mINFO    \u001b[0m | \u001b[36msrc.model_selection.cv_main\u001b[0m:\u001b[36m_cross_validate\u001b[0m:\u001b[36m476\u001b[0m - \u001b[1mSelected top 78 features for CV: 78\u001b[0m\n"
     ]
    },
    {
     "name": "stdout",
     "output_type": "stream",
     "text": [
      "huh\n"
     ]
    },
    {
     "name": "stderr",
     "output_type": "stream",
     "text": [
      "\u001b[32m2025-10-22 20:24:13.265\u001b[0m | \u001b[1mINFO    \u001b[0m | \u001b[36msrc.model_selection.cv_main\u001b[0m:\u001b[36mpredict\u001b[0m:\u001b[36m276\u001b[0m - \u001b[1mSample 75/250 predicted.\u001b[0m\n",
      "\u001b[32m2025-10-22 20:24:13.269\u001b[0m | \u001b[34m\u001b[1mDEBUG   \u001b[0m | \u001b[36msrc.utils.general\u001b[0m:\u001b[36mopen_csv\u001b[0m:\u001b[36m108\u001b[0m - \u001b[34m\u001b[1mLoaded CSV: c:\\Users\\OAVAI\\Desktop\\mma - Copy\\mma_light\\data\\output\\feature_selection\\natty_feature_frequency.csv (87 rows)\u001b[0m\n",
      "\u001b[32m2025-10-22 20:24:13.270\u001b[0m | \u001b[1mINFO    \u001b[0m | \u001b[36msrc.model_selection.cv_main\u001b[0m:\u001b[36m_cross_validate\u001b[0m:\u001b[36m476\u001b[0m - \u001b[1mSelected top 78 features for CV: 78\u001b[0m\n"
     ]
    },
    {
     "name": "stdout",
     "output_type": "stream",
     "text": [
      "huh\n"
     ]
    },
    {
     "name": "stderr",
     "output_type": "stream",
     "text": [
      "\u001b[32m2025-10-22 20:24:17.533\u001b[0m | \u001b[1mINFO    \u001b[0m | \u001b[36msrc.model_selection.cv_main\u001b[0m:\u001b[36mpredict\u001b[0m:\u001b[36m276\u001b[0m - \u001b[1mSample 76/250 predicted.\u001b[0m\n",
      "\u001b[32m2025-10-22 20:24:17.537\u001b[0m | \u001b[34m\u001b[1mDEBUG   \u001b[0m | \u001b[36msrc.utils.general\u001b[0m:\u001b[36mopen_csv\u001b[0m:\u001b[36m108\u001b[0m - \u001b[34m\u001b[1mLoaded CSV: c:\\Users\\OAVAI\\Desktop\\mma - Copy\\mma_light\\data\\output\\feature_selection\\natty_feature_frequency.csv (87 rows)\u001b[0m\n",
      "\u001b[32m2025-10-22 20:24:17.539\u001b[0m | \u001b[1mINFO    \u001b[0m | \u001b[36msrc.model_selection.cv_main\u001b[0m:\u001b[36m_cross_validate\u001b[0m:\u001b[36m476\u001b[0m - \u001b[1mSelected top 78 features for CV: 78\u001b[0m\n"
     ]
    },
    {
     "name": "stdout",
     "output_type": "stream",
     "text": [
      "huh\n",
      "huh\n"
     ]
    },
    {
     "name": "stderr",
     "output_type": "stream",
     "text": [
      "\u001b[32m2025-10-22 20:24:24.169\u001b[0m | \u001b[1mINFO    \u001b[0m | \u001b[36msrc.model_selection.cv_main\u001b[0m:\u001b[36mpredict\u001b[0m:\u001b[36m276\u001b[0m - \u001b[1mSample 77/250 predicted.\u001b[0m\n",
      "\u001b[32m2025-10-22 20:24:24.172\u001b[0m | \u001b[34m\u001b[1mDEBUG   \u001b[0m | \u001b[36msrc.utils.general\u001b[0m:\u001b[36mopen_csv\u001b[0m:\u001b[36m108\u001b[0m - \u001b[34m\u001b[1mLoaded CSV: c:\\Users\\OAVAI\\Desktop\\mma - Copy\\mma_light\\data\\output\\feature_selection\\natty_feature_frequency.csv (87 rows)\u001b[0m\n",
      "\u001b[32m2025-10-22 20:24:24.173\u001b[0m | \u001b[1mINFO    \u001b[0m | \u001b[36msrc.model_selection.cv_main\u001b[0m:\u001b[36m_cross_validate\u001b[0m:\u001b[36m476\u001b[0m - \u001b[1mSelected top 78 features for CV: 78\u001b[0m\n",
      "\u001b[32m2025-10-22 20:24:30.515\u001b[0m | \u001b[1mINFO    \u001b[0m | \u001b[36msrc.model_selection.cv_main\u001b[0m:\u001b[36mpredict\u001b[0m:\u001b[36m276\u001b[0m - \u001b[1mSample 78/250 predicted.\u001b[0m\n",
      "\u001b[32m2025-10-22 20:24:30.519\u001b[0m | \u001b[34m\u001b[1mDEBUG   \u001b[0m | \u001b[36msrc.utils.general\u001b[0m:\u001b[36mopen_csv\u001b[0m:\u001b[36m108\u001b[0m - \u001b[34m\u001b[1mLoaded CSV: c:\\Users\\OAVAI\\Desktop\\mma - Copy\\mma_light\\data\\output\\feature_selection\\natty_feature_frequency.csv (87 rows)\u001b[0m\n",
      "\u001b[32m2025-10-22 20:24:30.521\u001b[0m | \u001b[1mINFO    \u001b[0m | \u001b[36msrc.model_selection.cv_main\u001b[0m:\u001b[36m_cross_validate\u001b[0m:\u001b[36m476\u001b[0m - \u001b[1mSelected top 78 features for CV: 78\u001b[0m\n"
     ]
    },
    {
     "name": "stdout",
     "output_type": "stream",
     "text": [
      "huh\n"
     ]
    },
    {
     "name": "stderr",
     "output_type": "stream",
     "text": [
      "\u001b[32m2025-10-22 20:24:35.596\u001b[0m | \u001b[1mINFO    \u001b[0m | \u001b[36msrc.model_selection.cv_main\u001b[0m:\u001b[36mpredict\u001b[0m:\u001b[36m276\u001b[0m - \u001b[1mSample 79/250 predicted.\u001b[0m\n",
      "\u001b[32m2025-10-22 20:24:35.600\u001b[0m | \u001b[34m\u001b[1mDEBUG   \u001b[0m | \u001b[36msrc.utils.general\u001b[0m:\u001b[36mopen_csv\u001b[0m:\u001b[36m108\u001b[0m - \u001b[34m\u001b[1mLoaded CSV: c:\\Users\\OAVAI\\Desktop\\mma - Copy\\mma_light\\data\\output\\feature_selection\\natty_feature_frequency.csv (87 rows)\u001b[0m\n",
      "\u001b[32m2025-10-22 20:24:35.601\u001b[0m | \u001b[1mINFO    \u001b[0m | \u001b[36msrc.model_selection.cv_main\u001b[0m:\u001b[36m_cross_validate\u001b[0m:\u001b[36m476\u001b[0m - \u001b[1mSelected top 78 features for CV: 78\u001b[0m\n"
     ]
    },
    {
     "name": "stdout",
     "output_type": "stream",
     "text": [
      "huh\n"
     ]
    },
    {
     "name": "stderr",
     "output_type": "stream",
     "text": [
      "\u001b[32m2025-10-22 20:24:42.516\u001b[0m | \u001b[1mINFO    \u001b[0m | \u001b[36msrc.model_selection.cv_main\u001b[0m:\u001b[36mpredict\u001b[0m:\u001b[36m276\u001b[0m - \u001b[1mSample 80/250 predicted.\u001b[0m\n",
      "\u001b[32m2025-10-22 20:24:42.520\u001b[0m | \u001b[34m\u001b[1mDEBUG   \u001b[0m | \u001b[36msrc.utils.general\u001b[0m:\u001b[36mopen_csv\u001b[0m:\u001b[36m108\u001b[0m - \u001b[34m\u001b[1mLoaded CSV: c:\\Users\\OAVAI\\Desktop\\mma - Copy\\mma_light\\data\\output\\feature_selection\\natty_feature_frequency.csv (87 rows)\u001b[0m\n",
      "\u001b[32m2025-10-22 20:24:42.522\u001b[0m | \u001b[1mINFO    \u001b[0m | \u001b[36msrc.model_selection.cv_main\u001b[0m:\u001b[36m_cross_validate\u001b[0m:\u001b[36m476\u001b[0m - \u001b[1mSelected top 78 features for CV: 78\u001b[0m\n"
     ]
    },
    {
     "name": "stdout",
     "output_type": "stream",
     "text": [
      "huh\n"
     ]
    },
    {
     "name": "stderr",
     "output_type": "stream",
     "text": [
      "\u001b[32m2025-10-22 20:24:47.508\u001b[0m | \u001b[1mINFO    \u001b[0m | \u001b[36msrc.model_selection.cv_main\u001b[0m:\u001b[36mpredict\u001b[0m:\u001b[36m276\u001b[0m - \u001b[1mSample 81/250 predicted.\u001b[0m\n",
      "\u001b[32m2025-10-22 20:24:47.511\u001b[0m | \u001b[34m\u001b[1mDEBUG   \u001b[0m | \u001b[36msrc.utils.general\u001b[0m:\u001b[36mopen_csv\u001b[0m:\u001b[36m108\u001b[0m - \u001b[34m\u001b[1mLoaded CSV: c:\\Users\\OAVAI\\Desktop\\mma - Copy\\mma_light\\data\\output\\feature_selection\\natty_feature_frequency.csv (87 rows)\u001b[0m\n",
      "\u001b[32m2025-10-22 20:24:47.513\u001b[0m | \u001b[1mINFO    \u001b[0m | \u001b[36msrc.model_selection.cv_main\u001b[0m:\u001b[36m_cross_validate\u001b[0m:\u001b[36m476\u001b[0m - \u001b[1mSelected top 78 features for CV: 78\u001b[0m\n"
     ]
    },
    {
     "name": "stdout",
     "output_type": "stream",
     "text": [
      "huh\n"
     ]
    },
    {
     "name": "stderr",
     "output_type": "stream",
     "text": [
      "\u001b[32m2025-10-22 20:24:53.659\u001b[0m | \u001b[1mINFO    \u001b[0m | \u001b[36msrc.model_selection.cv_main\u001b[0m:\u001b[36mpredict\u001b[0m:\u001b[36m276\u001b[0m - \u001b[1mSample 82/250 predicted.\u001b[0m\n",
      "\u001b[32m2025-10-22 20:24:53.663\u001b[0m | \u001b[34m\u001b[1mDEBUG   \u001b[0m | \u001b[36msrc.utils.general\u001b[0m:\u001b[36mopen_csv\u001b[0m:\u001b[36m108\u001b[0m - \u001b[34m\u001b[1mLoaded CSV: c:\\Users\\OAVAI\\Desktop\\mma - Copy\\mma_light\\data\\output\\feature_selection\\natty_feature_frequency.csv (87 rows)\u001b[0m\n",
      "\u001b[32m2025-10-22 20:24:53.663\u001b[0m | \u001b[1mINFO    \u001b[0m | \u001b[36msrc.model_selection.cv_main\u001b[0m:\u001b[36m_cross_validate\u001b[0m:\u001b[36m476\u001b[0m - \u001b[1mSelected top 78 features for CV: 78\u001b[0m\n"
     ]
    },
    {
     "name": "stdout",
     "output_type": "stream",
     "text": [
      "huh\n"
     ]
    },
    {
     "name": "stderr",
     "output_type": "stream",
     "text": [
      "\u001b[32m2025-10-22 20:24:59.309\u001b[0m | \u001b[1mINFO    \u001b[0m | \u001b[36msrc.model_selection.cv_main\u001b[0m:\u001b[36mpredict\u001b[0m:\u001b[36m276\u001b[0m - \u001b[1mSample 83/250 predicted.\u001b[0m\n",
      "\u001b[32m2025-10-22 20:24:59.313\u001b[0m | \u001b[34m\u001b[1mDEBUG   \u001b[0m | \u001b[36msrc.utils.general\u001b[0m:\u001b[36mopen_csv\u001b[0m:\u001b[36m108\u001b[0m - \u001b[34m\u001b[1mLoaded CSV: c:\\Users\\OAVAI\\Desktop\\mma - Copy\\mma_light\\data\\output\\feature_selection\\natty_feature_frequency.csv (87 rows)\u001b[0m\n",
      "\u001b[32m2025-10-22 20:24:59.313\u001b[0m | \u001b[1mINFO    \u001b[0m | \u001b[36msrc.model_selection.cv_main\u001b[0m:\u001b[36m_cross_validate\u001b[0m:\u001b[36m476\u001b[0m - \u001b[1mSelected top 78 features for CV: 78\u001b[0m\n"
     ]
    },
    {
     "name": "stdout",
     "output_type": "stream",
     "text": [
      "huh\n"
     ]
    },
    {
     "name": "stderr",
     "output_type": "stream",
     "text": [
      "\u001b[32m2025-10-22 20:25:06.589\u001b[0m | \u001b[1mINFO    \u001b[0m | \u001b[36msrc.model_selection.cv_main\u001b[0m:\u001b[36mpredict\u001b[0m:\u001b[36m276\u001b[0m - \u001b[1mSample 84/250 predicted.\u001b[0m\n",
      "\u001b[32m2025-10-22 20:25:06.592\u001b[0m | \u001b[34m\u001b[1mDEBUG   \u001b[0m | \u001b[36msrc.utils.general\u001b[0m:\u001b[36mopen_csv\u001b[0m:\u001b[36m108\u001b[0m - \u001b[34m\u001b[1mLoaded CSV: c:\\Users\\OAVAI\\Desktop\\mma - Copy\\mma_light\\data\\output\\feature_selection\\natty_feature_frequency.csv (87 rows)\u001b[0m\n",
      "\u001b[32m2025-10-22 20:25:06.592\u001b[0m | \u001b[1mINFO    \u001b[0m | \u001b[36msrc.model_selection.cv_main\u001b[0m:\u001b[36m_cross_validate\u001b[0m:\u001b[36m476\u001b[0m - \u001b[1mSelected top 78 features for CV: 78\u001b[0m\n"
     ]
    },
    {
     "name": "stdout",
     "output_type": "stream",
     "text": [
      "huh\n"
     ]
    },
    {
     "name": "stderr",
     "output_type": "stream",
     "text": [
      "\u001b[32m2025-10-22 20:25:14.008\u001b[0m | \u001b[1mINFO    \u001b[0m | \u001b[36msrc.model_selection.cv_main\u001b[0m:\u001b[36mpredict\u001b[0m:\u001b[36m276\u001b[0m - \u001b[1mSample 85/250 predicted.\u001b[0m\n",
      "\u001b[32m2025-10-22 20:25:14.013\u001b[0m | \u001b[34m\u001b[1mDEBUG   \u001b[0m | \u001b[36msrc.utils.general\u001b[0m:\u001b[36mopen_csv\u001b[0m:\u001b[36m108\u001b[0m - \u001b[34m\u001b[1mLoaded CSV: c:\\Users\\OAVAI\\Desktop\\mma - Copy\\mma_light\\data\\output\\feature_selection\\natty_feature_frequency.csv (87 rows)\u001b[0m\n",
      "\u001b[32m2025-10-22 20:25:14.014\u001b[0m | \u001b[1mINFO    \u001b[0m | \u001b[36msrc.model_selection.cv_main\u001b[0m:\u001b[36m_cross_validate\u001b[0m:\u001b[36m476\u001b[0m - \u001b[1mSelected top 78 features for CV: 78\u001b[0m\n"
     ]
    },
    {
     "name": "stdout",
     "output_type": "stream",
     "text": [
      "huh\n"
     ]
    },
    {
     "name": "stderr",
     "output_type": "stream",
     "text": [
      "\u001b[32m2025-10-22 20:25:19.780\u001b[0m | \u001b[1mINFO    \u001b[0m | \u001b[36msrc.model_selection.cv_main\u001b[0m:\u001b[36mpredict\u001b[0m:\u001b[36m276\u001b[0m - \u001b[1mSample 86/250 predicted.\u001b[0m\n",
      "\u001b[32m2025-10-22 20:25:19.782\u001b[0m | \u001b[34m\u001b[1mDEBUG   \u001b[0m | \u001b[36msrc.utils.general\u001b[0m:\u001b[36mopen_csv\u001b[0m:\u001b[36m108\u001b[0m - \u001b[34m\u001b[1mLoaded CSV: c:\\Users\\OAVAI\\Desktop\\mma - Copy\\mma_light\\data\\output\\feature_selection\\natty_feature_frequency.csv (87 rows)\u001b[0m\n",
      "\u001b[32m2025-10-22 20:25:19.784\u001b[0m | \u001b[1mINFO    \u001b[0m | \u001b[36msrc.model_selection.cv_main\u001b[0m:\u001b[36m_cross_validate\u001b[0m:\u001b[36m476\u001b[0m - \u001b[1mSelected top 78 features for CV: 78\u001b[0m\n"
     ]
    },
    {
     "name": "stdout",
     "output_type": "stream",
     "text": [
      "huh\n"
     ]
    },
    {
     "name": "stderr",
     "output_type": "stream",
     "text": [
      "\u001b[32m2025-10-22 20:25:24.690\u001b[0m | \u001b[1mINFO    \u001b[0m | \u001b[36msrc.model_selection.cv_main\u001b[0m:\u001b[36mpredict\u001b[0m:\u001b[36m276\u001b[0m - \u001b[1mSample 87/250 predicted.\u001b[0m\n",
      "\u001b[32m2025-10-22 20:25:24.695\u001b[0m | \u001b[34m\u001b[1mDEBUG   \u001b[0m | \u001b[36msrc.utils.general\u001b[0m:\u001b[36mopen_csv\u001b[0m:\u001b[36m108\u001b[0m - \u001b[34m\u001b[1mLoaded CSV: c:\\Users\\OAVAI\\Desktop\\mma - Copy\\mma_light\\data\\output\\feature_selection\\natty_feature_frequency.csv (87 rows)\u001b[0m\n",
      "\u001b[32m2025-10-22 20:25:24.697\u001b[0m | \u001b[1mINFO    \u001b[0m | \u001b[36msrc.model_selection.cv_main\u001b[0m:\u001b[36m_cross_validate\u001b[0m:\u001b[36m476\u001b[0m - \u001b[1mSelected top 78 features for CV: 78\u001b[0m\n"
     ]
    },
    {
     "name": "stdout",
     "output_type": "stream",
     "text": [
      "huh\n"
     ]
    },
    {
     "name": "stderr",
     "output_type": "stream",
     "text": [
      "\u001b[32m2025-10-22 20:25:31.705\u001b[0m | \u001b[1mINFO    \u001b[0m | \u001b[36msrc.model_selection.cv_main\u001b[0m:\u001b[36mpredict\u001b[0m:\u001b[36m276\u001b[0m - \u001b[1mSample 88/250 predicted.\u001b[0m\n",
      "\u001b[32m2025-10-22 20:25:31.709\u001b[0m | \u001b[34m\u001b[1mDEBUG   \u001b[0m | \u001b[36msrc.utils.general\u001b[0m:\u001b[36mopen_csv\u001b[0m:\u001b[36m108\u001b[0m - \u001b[34m\u001b[1mLoaded CSV: c:\\Users\\OAVAI\\Desktop\\mma - Copy\\mma_light\\data\\output\\feature_selection\\natty_feature_frequency.csv (87 rows)\u001b[0m\n",
      "\u001b[32m2025-10-22 20:25:31.710\u001b[0m | \u001b[1mINFO    \u001b[0m | \u001b[36msrc.model_selection.cv_main\u001b[0m:\u001b[36m_cross_validate\u001b[0m:\u001b[36m476\u001b[0m - \u001b[1mSelected top 78 features for CV: 78\u001b[0m\n"
     ]
    },
    {
     "name": "stdout",
     "output_type": "stream",
     "text": [
      "huh\n"
     ]
    },
    {
     "name": "stderr",
     "output_type": "stream",
     "text": [
      "\u001b[32m2025-10-22 20:25:37.488\u001b[0m | \u001b[1mINFO    \u001b[0m | \u001b[36msrc.model_selection.cv_main\u001b[0m:\u001b[36mpredict\u001b[0m:\u001b[36m276\u001b[0m - \u001b[1mSample 89/250 predicted.\u001b[0m\n",
      "\u001b[32m2025-10-22 20:25:37.492\u001b[0m | \u001b[34m\u001b[1mDEBUG   \u001b[0m | \u001b[36msrc.utils.general\u001b[0m:\u001b[36mopen_csv\u001b[0m:\u001b[36m108\u001b[0m - \u001b[34m\u001b[1mLoaded CSV: c:\\Users\\OAVAI\\Desktop\\mma - Copy\\mma_light\\data\\output\\feature_selection\\natty_feature_frequency.csv (87 rows)\u001b[0m\n",
      "\u001b[32m2025-10-22 20:25:37.493\u001b[0m | \u001b[1mINFO    \u001b[0m | \u001b[36msrc.model_selection.cv_main\u001b[0m:\u001b[36m_cross_validate\u001b[0m:\u001b[36m476\u001b[0m - \u001b[1mSelected top 78 features for CV: 78\u001b[0m\n"
     ]
    },
    {
     "name": "stdout",
     "output_type": "stream",
     "text": [
      "huh\n"
     ]
    },
    {
     "name": "stderr",
     "output_type": "stream",
     "text": [
      "\u001b[32m2025-10-22 20:25:43.509\u001b[0m | \u001b[1mINFO    \u001b[0m | \u001b[36msrc.model_selection.cv_main\u001b[0m:\u001b[36mpredict\u001b[0m:\u001b[36m276\u001b[0m - \u001b[1mSample 90/250 predicted.\u001b[0m\n",
      "\u001b[32m2025-10-22 20:25:43.512\u001b[0m | \u001b[34m\u001b[1mDEBUG   \u001b[0m | \u001b[36msrc.utils.general\u001b[0m:\u001b[36mopen_csv\u001b[0m:\u001b[36m108\u001b[0m - \u001b[34m\u001b[1mLoaded CSV: c:\\Users\\OAVAI\\Desktop\\mma - Copy\\mma_light\\data\\output\\feature_selection\\natty_feature_frequency.csv (87 rows)\u001b[0m\n",
      "\u001b[32m2025-10-22 20:25:43.514\u001b[0m | \u001b[1mINFO    \u001b[0m | \u001b[36msrc.model_selection.cv_main\u001b[0m:\u001b[36m_cross_validate\u001b[0m:\u001b[36m476\u001b[0m - \u001b[1mSelected top 78 features for CV: 78\u001b[0m\n"
     ]
    },
    {
     "name": "stdout",
     "output_type": "stream",
     "text": [
      "huh\n"
     ]
    },
    {
     "name": "stderr",
     "output_type": "stream",
     "text": [
      "\u001b[32m2025-10-22 20:25:50.978\u001b[0m | \u001b[1mINFO    \u001b[0m | \u001b[36msrc.model_selection.cv_main\u001b[0m:\u001b[36mpredict\u001b[0m:\u001b[36m276\u001b[0m - \u001b[1mSample 91/250 predicted.\u001b[0m\n",
      "\u001b[32m2025-10-22 20:25:50.981\u001b[0m | \u001b[34m\u001b[1mDEBUG   \u001b[0m | \u001b[36msrc.utils.general\u001b[0m:\u001b[36mopen_csv\u001b[0m:\u001b[36m108\u001b[0m - \u001b[34m\u001b[1mLoaded CSV: c:\\Users\\OAVAI\\Desktop\\mma - Copy\\mma_light\\data\\output\\feature_selection\\natty_feature_frequency.csv (87 rows)\u001b[0m\n",
      "\u001b[32m2025-10-22 20:25:50.982\u001b[0m | \u001b[1mINFO    \u001b[0m | \u001b[36msrc.model_selection.cv_main\u001b[0m:\u001b[36m_cross_validate\u001b[0m:\u001b[36m476\u001b[0m - \u001b[1mSelected top 78 features for CV: 78\u001b[0m\n"
     ]
    },
    {
     "name": "stdout",
     "output_type": "stream",
     "text": [
      "huh\n"
     ]
    },
    {
     "name": "stderr",
     "output_type": "stream",
     "text": [
      "\u001b[32m2025-10-22 20:25:56.761\u001b[0m | \u001b[1mINFO    \u001b[0m | \u001b[36msrc.model_selection.cv_main\u001b[0m:\u001b[36mpredict\u001b[0m:\u001b[36m276\u001b[0m - \u001b[1mSample 92/250 predicted.\u001b[0m\n",
      "\u001b[32m2025-10-22 20:25:56.765\u001b[0m | \u001b[34m\u001b[1mDEBUG   \u001b[0m | \u001b[36msrc.utils.general\u001b[0m:\u001b[36mopen_csv\u001b[0m:\u001b[36m108\u001b[0m - \u001b[34m\u001b[1mLoaded CSV: c:\\Users\\OAVAI\\Desktop\\mma - Copy\\mma_light\\data\\output\\feature_selection\\natty_feature_frequency.csv (87 rows)\u001b[0m\n",
      "\u001b[32m2025-10-22 20:25:56.766\u001b[0m | \u001b[1mINFO    \u001b[0m | \u001b[36msrc.model_selection.cv_main\u001b[0m:\u001b[36m_cross_validate\u001b[0m:\u001b[36m476\u001b[0m - \u001b[1mSelected top 78 features for CV: 78\u001b[0m\n"
     ]
    },
    {
     "name": "stdout",
     "output_type": "stream",
     "text": [
      "huh\n"
     ]
    },
    {
     "name": "stderr",
     "output_type": "stream",
     "text": [
      "\u001b[32m2025-10-22 20:26:03.582\u001b[0m | \u001b[1mINFO    \u001b[0m | \u001b[36msrc.model_selection.cv_main\u001b[0m:\u001b[36mpredict\u001b[0m:\u001b[36m276\u001b[0m - \u001b[1mSample 93/250 predicted.\u001b[0m\n",
      "\u001b[32m2025-10-22 20:26:03.586\u001b[0m | \u001b[34m\u001b[1mDEBUG   \u001b[0m | \u001b[36msrc.utils.general\u001b[0m:\u001b[36mopen_csv\u001b[0m:\u001b[36m108\u001b[0m - \u001b[34m\u001b[1mLoaded CSV: c:\\Users\\OAVAI\\Desktop\\mma - Copy\\mma_light\\data\\output\\feature_selection\\natty_feature_frequency.csv (87 rows)\u001b[0m\n",
      "\u001b[32m2025-10-22 20:26:03.586\u001b[0m | \u001b[1mINFO    \u001b[0m | \u001b[36msrc.model_selection.cv_main\u001b[0m:\u001b[36m_cross_validate\u001b[0m:\u001b[36m476\u001b[0m - \u001b[1mSelected top 78 features for CV: 78\u001b[0m\n"
     ]
    },
    {
     "name": "stdout",
     "output_type": "stream",
     "text": [
      "huh\n"
     ]
    },
    {
     "name": "stderr",
     "output_type": "stream",
     "text": [
      "\u001b[32m2025-10-22 20:26:09.300\u001b[0m | \u001b[1mINFO    \u001b[0m | \u001b[36msrc.model_selection.cv_main\u001b[0m:\u001b[36mpredict\u001b[0m:\u001b[36m276\u001b[0m - \u001b[1mSample 94/250 predicted.\u001b[0m\n",
      "\u001b[32m2025-10-22 20:26:09.303\u001b[0m | \u001b[34m\u001b[1mDEBUG   \u001b[0m | \u001b[36msrc.utils.general\u001b[0m:\u001b[36mopen_csv\u001b[0m:\u001b[36m108\u001b[0m - \u001b[34m\u001b[1mLoaded CSV: c:\\Users\\OAVAI\\Desktop\\mma - Copy\\mma_light\\data\\output\\feature_selection\\natty_feature_frequency.csv (87 rows)\u001b[0m\n",
      "\u001b[32m2025-10-22 20:26:09.304\u001b[0m | \u001b[1mINFO    \u001b[0m | \u001b[36msrc.model_selection.cv_main\u001b[0m:\u001b[36m_cross_validate\u001b[0m:\u001b[36m476\u001b[0m - \u001b[1mSelected top 78 features for CV: 78\u001b[0m\n"
     ]
    },
    {
     "name": "stdout",
     "output_type": "stream",
     "text": [
      "huh\n"
     ]
    },
    {
     "name": "stderr",
     "output_type": "stream",
     "text": [
      "\u001b[32m2025-10-22 20:26:14.627\u001b[0m | \u001b[1mINFO    \u001b[0m | \u001b[36msrc.model_selection.cv_main\u001b[0m:\u001b[36mpredict\u001b[0m:\u001b[36m276\u001b[0m - \u001b[1mSample 95/250 predicted.\u001b[0m\n",
      "\u001b[32m2025-10-22 20:26:14.630\u001b[0m | \u001b[34m\u001b[1mDEBUG   \u001b[0m | \u001b[36msrc.utils.general\u001b[0m:\u001b[36mopen_csv\u001b[0m:\u001b[36m108\u001b[0m - \u001b[34m\u001b[1mLoaded CSV: c:\\Users\\OAVAI\\Desktop\\mma - Copy\\mma_light\\data\\output\\feature_selection\\natty_feature_frequency.csv (87 rows)\u001b[0m\n",
      "\u001b[32m2025-10-22 20:26:14.632\u001b[0m | \u001b[1mINFO    \u001b[0m | \u001b[36msrc.model_selection.cv_main\u001b[0m:\u001b[36m_cross_validate\u001b[0m:\u001b[36m476\u001b[0m - \u001b[1mSelected top 78 features for CV: 78\u001b[0m\n"
     ]
    },
    {
     "name": "stdout",
     "output_type": "stream",
     "text": [
      "huh\n"
     ]
    },
    {
     "name": "stderr",
     "output_type": "stream",
     "text": [
      "\u001b[32m2025-10-22 20:26:19.253\u001b[0m | \u001b[1mINFO    \u001b[0m | \u001b[36msrc.model_selection.cv_main\u001b[0m:\u001b[36mpredict\u001b[0m:\u001b[36m276\u001b[0m - \u001b[1mSample 96/250 predicted.\u001b[0m\n",
      "\u001b[32m2025-10-22 20:26:19.257\u001b[0m | \u001b[34m\u001b[1mDEBUG   \u001b[0m | \u001b[36msrc.utils.general\u001b[0m:\u001b[36mopen_csv\u001b[0m:\u001b[36m108\u001b[0m - \u001b[34m\u001b[1mLoaded CSV: c:\\Users\\OAVAI\\Desktop\\mma - Copy\\mma_light\\data\\output\\feature_selection\\natty_feature_frequency.csv (87 rows)\u001b[0m\n",
      "\u001b[32m2025-10-22 20:26:19.258\u001b[0m | \u001b[1mINFO    \u001b[0m | \u001b[36msrc.model_selection.cv_main\u001b[0m:\u001b[36m_cross_validate\u001b[0m:\u001b[36m476\u001b[0m - \u001b[1mSelected top 78 features for CV: 78\u001b[0m\n"
     ]
    },
    {
     "name": "stdout",
     "output_type": "stream",
     "text": [
      "huh\n"
     ]
    },
    {
     "name": "stderr",
     "output_type": "stream",
     "text": [
      "\u001b[32m2025-10-22 20:26:26.388\u001b[0m | \u001b[1mINFO    \u001b[0m | \u001b[36msrc.model_selection.cv_main\u001b[0m:\u001b[36mpredict\u001b[0m:\u001b[36m276\u001b[0m - \u001b[1mSample 97/250 predicted.\u001b[0m\n",
      "\u001b[32m2025-10-22 20:26:26.392\u001b[0m | \u001b[34m\u001b[1mDEBUG   \u001b[0m | \u001b[36msrc.utils.general\u001b[0m:\u001b[36mopen_csv\u001b[0m:\u001b[36m108\u001b[0m - \u001b[34m\u001b[1mLoaded CSV: c:\\Users\\OAVAI\\Desktop\\mma - Copy\\mma_light\\data\\output\\feature_selection\\natty_feature_frequency.csv (87 rows)\u001b[0m\n",
      "\u001b[32m2025-10-22 20:26:26.393\u001b[0m | \u001b[1mINFO    \u001b[0m | \u001b[36msrc.model_selection.cv_main\u001b[0m:\u001b[36m_cross_validate\u001b[0m:\u001b[36m476\u001b[0m - \u001b[1mSelected top 78 features for CV: 78\u001b[0m\n"
     ]
    },
    {
     "name": "stdout",
     "output_type": "stream",
     "text": [
      "huh\n"
     ]
    },
    {
     "name": "stderr",
     "output_type": "stream",
     "text": [
      "\u001b[32m2025-10-22 20:26:32.967\u001b[0m | \u001b[1mINFO    \u001b[0m | \u001b[36msrc.model_selection.cv_main\u001b[0m:\u001b[36mpredict\u001b[0m:\u001b[36m276\u001b[0m - \u001b[1mSample 98/250 predicted.\u001b[0m\n",
      "\u001b[32m2025-10-22 20:26:32.971\u001b[0m | \u001b[34m\u001b[1mDEBUG   \u001b[0m | \u001b[36msrc.utils.general\u001b[0m:\u001b[36mopen_csv\u001b[0m:\u001b[36m108\u001b[0m - \u001b[34m\u001b[1mLoaded CSV: c:\\Users\\OAVAI\\Desktop\\mma - Copy\\mma_light\\data\\output\\feature_selection\\natty_feature_frequency.csv (87 rows)\u001b[0m\n",
      "\u001b[32m2025-10-22 20:26:32.973\u001b[0m | \u001b[1mINFO    \u001b[0m | \u001b[36msrc.model_selection.cv_main\u001b[0m:\u001b[36m_cross_validate\u001b[0m:\u001b[36m476\u001b[0m - \u001b[1mSelected top 78 features for CV: 78\u001b[0m\n"
     ]
    },
    {
     "name": "stdout",
     "output_type": "stream",
     "text": [
      "huh\n"
     ]
    },
    {
     "name": "stderr",
     "output_type": "stream",
     "text": [
      "\u001b[32m2025-10-22 20:26:39.972\u001b[0m | \u001b[1mINFO    \u001b[0m | \u001b[36msrc.model_selection.cv_main\u001b[0m:\u001b[36mpredict\u001b[0m:\u001b[36m276\u001b[0m - \u001b[1mSample 99/250 predicted.\u001b[0m\n",
      "\u001b[32m2025-10-22 20:26:39.977\u001b[0m | \u001b[34m\u001b[1mDEBUG   \u001b[0m | \u001b[36msrc.utils.general\u001b[0m:\u001b[36mopen_csv\u001b[0m:\u001b[36m108\u001b[0m - \u001b[34m\u001b[1mLoaded CSV: c:\\Users\\OAVAI\\Desktop\\mma - Copy\\mma_light\\data\\output\\feature_selection\\natty_feature_frequency.csv (87 rows)\u001b[0m\n",
      "\u001b[32m2025-10-22 20:26:39.978\u001b[0m | \u001b[1mINFO    \u001b[0m | \u001b[36msrc.model_selection.cv_main\u001b[0m:\u001b[36m_cross_validate\u001b[0m:\u001b[36m476\u001b[0m - \u001b[1mSelected top 78 features for CV: 78\u001b[0m\n"
     ]
    },
    {
     "name": "stdout",
     "output_type": "stream",
     "text": [
      "huh\n"
     ]
    },
    {
     "name": "stderr",
     "output_type": "stream",
     "text": [
      "\u001b[32m2025-10-22 20:26:46.597\u001b[0m | \u001b[1mINFO    \u001b[0m | \u001b[36msrc.model_selection.cv_main\u001b[0m:\u001b[36mpredict\u001b[0m:\u001b[36m276\u001b[0m - \u001b[1mSample 100/250 predicted.\u001b[0m\n",
      "\u001b[32m2025-10-22 20:26:46.601\u001b[0m | \u001b[34m\u001b[1mDEBUG   \u001b[0m | \u001b[36msrc.utils.general\u001b[0m:\u001b[36mopen_csv\u001b[0m:\u001b[36m108\u001b[0m - \u001b[34m\u001b[1mLoaded CSV: c:\\Users\\OAVAI\\Desktop\\mma - Copy\\mma_light\\data\\output\\feature_selection\\natty_feature_frequency.csv (87 rows)\u001b[0m\n",
      "\u001b[32m2025-10-22 20:26:46.602\u001b[0m | \u001b[1mINFO    \u001b[0m | \u001b[36msrc.model_selection.cv_main\u001b[0m:\u001b[36m_cross_validate\u001b[0m:\u001b[36m476\u001b[0m - \u001b[1mSelected top 78 features for CV: 78\u001b[0m\n"
     ]
    },
    {
     "name": "stdout",
     "output_type": "stream",
     "text": [
      "huh\n"
     ]
    },
    {
     "name": "stderr",
     "output_type": "stream",
     "text": [
      "\u001b[32m2025-10-22 20:26:52.829\u001b[0m | \u001b[1mINFO    \u001b[0m | \u001b[36msrc.model_selection.cv_main\u001b[0m:\u001b[36mpredict\u001b[0m:\u001b[36m276\u001b[0m - \u001b[1mSample 101/250 predicted.\u001b[0m\n",
      "\u001b[32m2025-10-22 20:26:52.833\u001b[0m | \u001b[34m\u001b[1mDEBUG   \u001b[0m | \u001b[36msrc.utils.general\u001b[0m:\u001b[36mopen_csv\u001b[0m:\u001b[36m108\u001b[0m - \u001b[34m\u001b[1mLoaded CSV: c:\\Users\\OAVAI\\Desktop\\mma - Copy\\mma_light\\data\\output\\feature_selection\\natty_feature_frequency.csv (87 rows)\u001b[0m\n",
      "\u001b[32m2025-10-22 20:26:52.834\u001b[0m | \u001b[1mINFO    \u001b[0m | \u001b[36msrc.model_selection.cv_main\u001b[0m:\u001b[36m_cross_validate\u001b[0m:\u001b[36m476\u001b[0m - \u001b[1mSelected top 78 features for CV: 78\u001b[0m\n"
     ]
    },
    {
     "name": "stdout",
     "output_type": "stream",
     "text": [
      "huh\n"
     ]
    },
    {
     "name": "stderr",
     "output_type": "stream",
     "text": [
      "\u001b[32m2025-10-22 20:26:59.223\u001b[0m | \u001b[1mINFO    \u001b[0m | \u001b[36msrc.model_selection.cv_main\u001b[0m:\u001b[36mpredict\u001b[0m:\u001b[36m276\u001b[0m - \u001b[1mSample 102/250 predicted.\u001b[0m\n",
      "\u001b[32m2025-10-22 20:26:59.226\u001b[0m | \u001b[34m\u001b[1mDEBUG   \u001b[0m | \u001b[36msrc.utils.general\u001b[0m:\u001b[36mopen_csv\u001b[0m:\u001b[36m108\u001b[0m - \u001b[34m\u001b[1mLoaded CSV: c:\\Users\\OAVAI\\Desktop\\mma - Copy\\mma_light\\data\\output\\feature_selection\\natty_feature_frequency.csv (87 rows)\u001b[0m\n",
      "\u001b[32m2025-10-22 20:26:59.227\u001b[0m | \u001b[1mINFO    \u001b[0m | \u001b[36msrc.model_selection.cv_main\u001b[0m:\u001b[36m_cross_validate\u001b[0m:\u001b[36m476\u001b[0m - \u001b[1mSelected top 78 features for CV: 78\u001b[0m\n"
     ]
    },
    {
     "name": "stdout",
     "output_type": "stream",
     "text": [
      "huh\n"
     ]
    },
    {
     "name": "stderr",
     "output_type": "stream",
     "text": [
      "\u001b[32m2025-10-22 20:27:04.530\u001b[0m | \u001b[1mINFO    \u001b[0m | \u001b[36msrc.model_selection.cv_main\u001b[0m:\u001b[36mpredict\u001b[0m:\u001b[36m276\u001b[0m - \u001b[1mSample 103/250 predicted.\u001b[0m\n",
      "\u001b[32m2025-10-22 20:27:04.532\u001b[0m | \u001b[34m\u001b[1mDEBUG   \u001b[0m | \u001b[36msrc.utils.general\u001b[0m:\u001b[36mopen_csv\u001b[0m:\u001b[36m108\u001b[0m - \u001b[34m\u001b[1mLoaded CSV: c:\\Users\\OAVAI\\Desktop\\mma - Copy\\mma_light\\data\\output\\feature_selection\\natty_feature_frequency.csv (87 rows)\u001b[0m\n",
      "\u001b[32m2025-10-22 20:27:04.534\u001b[0m | \u001b[1mINFO    \u001b[0m | \u001b[36msrc.model_selection.cv_main\u001b[0m:\u001b[36m_cross_validate\u001b[0m:\u001b[36m476\u001b[0m - \u001b[1mSelected top 78 features for CV: 78\u001b[0m\n"
     ]
    },
    {
     "name": "stdout",
     "output_type": "stream",
     "text": [
      "huh\n"
     ]
    },
    {
     "name": "stderr",
     "output_type": "stream",
     "text": [
      "\u001b[32m2025-10-22 20:27:10.820\u001b[0m | \u001b[1mINFO    \u001b[0m | \u001b[36msrc.model_selection.cv_main\u001b[0m:\u001b[36mpredict\u001b[0m:\u001b[36m276\u001b[0m - \u001b[1mSample 104/250 predicted.\u001b[0m\n",
      "\u001b[32m2025-10-22 20:27:10.823\u001b[0m | \u001b[34m\u001b[1mDEBUG   \u001b[0m | \u001b[36msrc.utils.general\u001b[0m:\u001b[36mopen_csv\u001b[0m:\u001b[36m108\u001b[0m - \u001b[34m\u001b[1mLoaded CSV: c:\\Users\\OAVAI\\Desktop\\mma - Copy\\mma_light\\data\\output\\feature_selection\\natty_feature_frequency.csv (87 rows)\u001b[0m\n",
      "\u001b[32m2025-10-22 20:27:10.824\u001b[0m | \u001b[1mINFO    \u001b[0m | \u001b[36msrc.model_selection.cv_main\u001b[0m:\u001b[36m_cross_validate\u001b[0m:\u001b[36m476\u001b[0m - \u001b[1mSelected top 78 features for CV: 78\u001b[0m\n"
     ]
    },
    {
     "name": "stdout",
     "output_type": "stream",
     "text": [
      "huh\n"
     ]
    },
    {
     "name": "stderr",
     "output_type": "stream",
     "text": [
      "\u001b[32m2025-10-22 20:27:16.551\u001b[0m | \u001b[1mINFO    \u001b[0m | \u001b[36msrc.model_selection.cv_main\u001b[0m:\u001b[36mpredict\u001b[0m:\u001b[36m276\u001b[0m - \u001b[1mSample 105/250 predicted.\u001b[0m\n",
      "\u001b[32m2025-10-22 20:27:16.554\u001b[0m | \u001b[34m\u001b[1mDEBUG   \u001b[0m | \u001b[36msrc.utils.general\u001b[0m:\u001b[36mopen_csv\u001b[0m:\u001b[36m108\u001b[0m - \u001b[34m\u001b[1mLoaded CSV: c:\\Users\\OAVAI\\Desktop\\mma - Copy\\mma_light\\data\\output\\feature_selection\\natty_feature_frequency.csv (87 rows)\u001b[0m\n",
      "\u001b[32m2025-10-22 20:27:16.554\u001b[0m | \u001b[1mINFO    \u001b[0m | \u001b[36msrc.model_selection.cv_main\u001b[0m:\u001b[36m_cross_validate\u001b[0m:\u001b[36m476\u001b[0m - \u001b[1mSelected top 78 features for CV: 78\u001b[0m\n"
     ]
    },
    {
     "name": "stdout",
     "output_type": "stream",
     "text": [
      "huh\n"
     ]
    },
    {
     "name": "stderr",
     "output_type": "stream",
     "text": [
      "\u001b[32m2025-10-22 20:27:23.625\u001b[0m | \u001b[1mINFO    \u001b[0m | \u001b[36msrc.model_selection.cv_main\u001b[0m:\u001b[36mpredict\u001b[0m:\u001b[36m276\u001b[0m - \u001b[1mSample 106/250 predicted.\u001b[0m\n",
      "\u001b[32m2025-10-22 20:27:23.628\u001b[0m | \u001b[34m\u001b[1mDEBUG   \u001b[0m | \u001b[36msrc.utils.general\u001b[0m:\u001b[36mopen_csv\u001b[0m:\u001b[36m108\u001b[0m - \u001b[34m\u001b[1mLoaded CSV: c:\\Users\\OAVAI\\Desktop\\mma - Copy\\mma_light\\data\\output\\feature_selection\\natty_feature_frequency.csv (87 rows)\u001b[0m\n",
      "\u001b[32m2025-10-22 20:27:23.630\u001b[0m | \u001b[1mINFO    \u001b[0m | \u001b[36msrc.model_selection.cv_main\u001b[0m:\u001b[36m_cross_validate\u001b[0m:\u001b[36m476\u001b[0m - \u001b[1mSelected top 78 features for CV: 78\u001b[0m\n"
     ]
    },
    {
     "name": "stdout",
     "output_type": "stream",
     "text": [
      "huh\n"
     ]
    },
    {
     "name": "stderr",
     "output_type": "stream",
     "text": [
      "\u001b[32m2025-10-22 20:27:28.861\u001b[0m | \u001b[1mINFO    \u001b[0m | \u001b[36msrc.model_selection.cv_main\u001b[0m:\u001b[36mpredict\u001b[0m:\u001b[36m276\u001b[0m - \u001b[1mSample 107/250 predicted.\u001b[0m\n",
      "\u001b[32m2025-10-22 20:27:28.865\u001b[0m | \u001b[34m\u001b[1mDEBUG   \u001b[0m | \u001b[36msrc.utils.general\u001b[0m:\u001b[36mopen_csv\u001b[0m:\u001b[36m108\u001b[0m - \u001b[34m\u001b[1mLoaded CSV: c:\\Users\\OAVAI\\Desktop\\mma - Copy\\mma_light\\data\\output\\feature_selection\\natty_feature_frequency.csv (87 rows)\u001b[0m\n",
      "\u001b[32m2025-10-22 20:27:28.866\u001b[0m | \u001b[1mINFO    \u001b[0m | \u001b[36msrc.model_selection.cv_main\u001b[0m:\u001b[36m_cross_validate\u001b[0m:\u001b[36m476\u001b[0m - \u001b[1mSelected top 78 features for CV: 78\u001b[0m\n"
     ]
    },
    {
     "name": "stdout",
     "output_type": "stream",
     "text": [
      "huh\n"
     ]
    },
    {
     "name": "stderr",
     "output_type": "stream",
     "text": [
      "\u001b[32m2025-10-22 20:27:36.317\u001b[0m | \u001b[1mINFO    \u001b[0m | \u001b[36msrc.model_selection.cv_main\u001b[0m:\u001b[36mpredict\u001b[0m:\u001b[36m276\u001b[0m - \u001b[1mSample 108/250 predicted.\u001b[0m\n",
      "\u001b[32m2025-10-22 20:27:36.321\u001b[0m | \u001b[34m\u001b[1mDEBUG   \u001b[0m | \u001b[36msrc.utils.general\u001b[0m:\u001b[36mopen_csv\u001b[0m:\u001b[36m108\u001b[0m - \u001b[34m\u001b[1mLoaded CSV: c:\\Users\\OAVAI\\Desktop\\mma - Copy\\mma_light\\data\\output\\feature_selection\\natty_feature_frequency.csv (87 rows)\u001b[0m\n",
      "\u001b[32m2025-10-22 20:27:36.322\u001b[0m | \u001b[1mINFO    \u001b[0m | \u001b[36msrc.model_selection.cv_main\u001b[0m:\u001b[36m_cross_validate\u001b[0m:\u001b[36m476\u001b[0m - \u001b[1mSelected top 78 features for CV: 78\u001b[0m\n"
     ]
    },
    {
     "name": "stdout",
     "output_type": "stream",
     "text": [
      "huh\n"
     ]
    },
    {
     "name": "stderr",
     "output_type": "stream",
     "text": [
      "\u001b[32m2025-10-22 20:27:42.117\u001b[0m | \u001b[1mINFO    \u001b[0m | \u001b[36msrc.model_selection.cv_main\u001b[0m:\u001b[36mpredict\u001b[0m:\u001b[36m276\u001b[0m - \u001b[1mSample 109/250 predicted.\u001b[0m\n",
      "\u001b[32m2025-10-22 20:27:42.122\u001b[0m | \u001b[34m\u001b[1mDEBUG   \u001b[0m | \u001b[36msrc.utils.general\u001b[0m:\u001b[36mopen_csv\u001b[0m:\u001b[36m108\u001b[0m - \u001b[34m\u001b[1mLoaded CSV: c:\\Users\\OAVAI\\Desktop\\mma - Copy\\mma_light\\data\\output\\feature_selection\\natty_feature_frequency.csv (87 rows)\u001b[0m\n",
      "\u001b[32m2025-10-22 20:27:42.126\u001b[0m | \u001b[1mINFO    \u001b[0m | \u001b[36msrc.model_selection.cv_main\u001b[0m:\u001b[36m_cross_validate\u001b[0m:\u001b[36m476\u001b[0m - \u001b[1mSelected top 78 features for CV: 78\u001b[0m\n"
     ]
    },
    {
     "name": "stdout",
     "output_type": "stream",
     "text": [
      "huh\n"
     ]
    },
    {
     "name": "stderr",
     "output_type": "stream",
     "text": [
      "\u001b[32m2025-10-22 20:27:48.900\u001b[0m | \u001b[1mINFO    \u001b[0m | \u001b[36msrc.model_selection.cv_main\u001b[0m:\u001b[36mpredict\u001b[0m:\u001b[36m276\u001b[0m - \u001b[1mSample 110/250 predicted.\u001b[0m\n",
      "\u001b[32m2025-10-22 20:27:48.904\u001b[0m | \u001b[34m\u001b[1mDEBUG   \u001b[0m | \u001b[36msrc.utils.general\u001b[0m:\u001b[36mopen_csv\u001b[0m:\u001b[36m108\u001b[0m - \u001b[34m\u001b[1mLoaded CSV: c:\\Users\\OAVAI\\Desktop\\mma - Copy\\mma_light\\data\\output\\feature_selection\\natty_feature_frequency.csv (87 rows)\u001b[0m\n",
      "\u001b[32m2025-10-22 20:27:48.905\u001b[0m | \u001b[1mINFO    \u001b[0m | \u001b[36msrc.model_selection.cv_main\u001b[0m:\u001b[36m_cross_validate\u001b[0m:\u001b[36m476\u001b[0m - \u001b[1mSelected top 78 features for CV: 78\u001b[0m\n"
     ]
    },
    {
     "name": "stdout",
     "output_type": "stream",
     "text": [
      "huh\n"
     ]
    },
    {
     "name": "stderr",
     "output_type": "stream",
     "text": [
      "\u001b[32m2025-10-22 20:27:55.017\u001b[0m | \u001b[1mINFO    \u001b[0m | \u001b[36msrc.model_selection.cv_main\u001b[0m:\u001b[36mpredict\u001b[0m:\u001b[36m276\u001b[0m - \u001b[1mSample 111/250 predicted.\u001b[0m\n",
      "\u001b[32m2025-10-22 20:27:55.021\u001b[0m | \u001b[34m\u001b[1mDEBUG   \u001b[0m | \u001b[36msrc.utils.general\u001b[0m:\u001b[36mopen_csv\u001b[0m:\u001b[36m108\u001b[0m - \u001b[34m\u001b[1mLoaded CSV: c:\\Users\\OAVAI\\Desktop\\mma - Copy\\mma_light\\data\\output\\feature_selection\\natty_feature_frequency.csv (87 rows)\u001b[0m\n",
      "\u001b[32m2025-10-22 20:27:55.023\u001b[0m | \u001b[1mINFO    \u001b[0m | \u001b[36msrc.model_selection.cv_main\u001b[0m:\u001b[36m_cross_validate\u001b[0m:\u001b[36m476\u001b[0m - \u001b[1mSelected top 78 features for CV: 78\u001b[0m\n"
     ]
    },
    {
     "name": "stdout",
     "output_type": "stream",
     "text": [
      "huh\n"
     ]
    },
    {
     "name": "stderr",
     "output_type": "stream",
     "text": [
      "\u001b[32m2025-10-22 20:28:03.192\u001b[0m | \u001b[1mINFO    \u001b[0m | \u001b[36msrc.model_selection.cv_main\u001b[0m:\u001b[36mpredict\u001b[0m:\u001b[36m276\u001b[0m - \u001b[1mSample 112/250 predicted.\u001b[0m\n",
      "\u001b[32m2025-10-22 20:28:03.195\u001b[0m | \u001b[34m\u001b[1mDEBUG   \u001b[0m | \u001b[36msrc.utils.general\u001b[0m:\u001b[36mopen_csv\u001b[0m:\u001b[36m108\u001b[0m - \u001b[34m\u001b[1mLoaded CSV: c:\\Users\\OAVAI\\Desktop\\mma - Copy\\mma_light\\data\\output\\feature_selection\\natty_feature_frequency.csv (87 rows)\u001b[0m\n",
      "\u001b[32m2025-10-22 20:28:03.196\u001b[0m | \u001b[1mINFO    \u001b[0m | \u001b[36msrc.model_selection.cv_main\u001b[0m:\u001b[36m_cross_validate\u001b[0m:\u001b[36m476\u001b[0m - \u001b[1mSelected top 78 features for CV: 78\u001b[0m\n"
     ]
    },
    {
     "name": "stdout",
     "output_type": "stream",
     "text": [
      "huh\n"
     ]
    },
    {
     "name": "stderr",
     "output_type": "stream",
     "text": [
      "\u001b[32m2025-10-22 20:28:09.448\u001b[0m | \u001b[1mINFO    \u001b[0m | \u001b[36msrc.model_selection.cv_main\u001b[0m:\u001b[36mpredict\u001b[0m:\u001b[36m276\u001b[0m - \u001b[1mSample 113/250 predicted.\u001b[0m\n",
      "\u001b[32m2025-10-22 20:28:09.451\u001b[0m | \u001b[34m\u001b[1mDEBUG   \u001b[0m | \u001b[36msrc.utils.general\u001b[0m:\u001b[36mopen_csv\u001b[0m:\u001b[36m108\u001b[0m - \u001b[34m\u001b[1mLoaded CSV: c:\\Users\\OAVAI\\Desktop\\mma - Copy\\mma_light\\data\\output\\feature_selection\\natty_feature_frequency.csv (87 rows)\u001b[0m\n",
      "\u001b[32m2025-10-22 20:28:09.452\u001b[0m | \u001b[1mINFO    \u001b[0m | \u001b[36msrc.model_selection.cv_main\u001b[0m:\u001b[36m_cross_validate\u001b[0m:\u001b[36m476\u001b[0m - \u001b[1mSelected top 78 features for CV: 78\u001b[0m\n"
     ]
    },
    {
     "name": "stdout",
     "output_type": "stream",
     "text": [
      "huh\n"
     ]
    },
    {
     "name": "stderr",
     "output_type": "stream",
     "text": [
      "\u001b[32m2025-10-22 20:28:14.287\u001b[0m | \u001b[1mINFO    \u001b[0m | \u001b[36msrc.model_selection.cv_main\u001b[0m:\u001b[36mpredict\u001b[0m:\u001b[36m276\u001b[0m - \u001b[1mSample 114/250 predicted.\u001b[0m\n",
      "\u001b[32m2025-10-22 20:28:14.291\u001b[0m | \u001b[34m\u001b[1mDEBUG   \u001b[0m | \u001b[36msrc.utils.general\u001b[0m:\u001b[36mopen_csv\u001b[0m:\u001b[36m108\u001b[0m - \u001b[34m\u001b[1mLoaded CSV: c:\\Users\\OAVAI\\Desktop\\mma - Copy\\mma_light\\data\\output\\feature_selection\\natty_feature_frequency.csv (87 rows)\u001b[0m\n",
      "\u001b[32m2025-10-22 20:28:14.292\u001b[0m | \u001b[1mINFO    \u001b[0m | \u001b[36msrc.model_selection.cv_main\u001b[0m:\u001b[36m_cross_validate\u001b[0m:\u001b[36m476\u001b[0m - \u001b[1mSelected top 78 features for CV: 78\u001b[0m\n"
     ]
    },
    {
     "name": "stdout",
     "output_type": "stream",
     "text": [
      "huh\n"
     ]
    },
    {
     "name": "stderr",
     "output_type": "stream",
     "text": [
      "\u001b[32m2025-10-22 20:28:19.706\u001b[0m | \u001b[1mINFO    \u001b[0m | \u001b[36msrc.model_selection.cv_main\u001b[0m:\u001b[36mpredict\u001b[0m:\u001b[36m276\u001b[0m - \u001b[1mSample 115/250 predicted.\u001b[0m\n",
      "\u001b[32m2025-10-22 20:28:19.710\u001b[0m | \u001b[34m\u001b[1mDEBUG   \u001b[0m | \u001b[36msrc.utils.general\u001b[0m:\u001b[36mopen_csv\u001b[0m:\u001b[36m108\u001b[0m - \u001b[34m\u001b[1mLoaded CSV: c:\\Users\\OAVAI\\Desktop\\mma - Copy\\mma_light\\data\\output\\feature_selection\\natty_feature_frequency.csv (87 rows)\u001b[0m\n",
      "\u001b[32m2025-10-22 20:28:19.710\u001b[0m | \u001b[1mINFO    \u001b[0m | \u001b[36msrc.model_selection.cv_main\u001b[0m:\u001b[36m_cross_validate\u001b[0m:\u001b[36m476\u001b[0m - \u001b[1mSelected top 78 features for CV: 78\u001b[0m\n"
     ]
    },
    {
     "name": "stdout",
     "output_type": "stream",
     "text": [
      "huh\n"
     ]
    },
    {
     "name": "stderr",
     "output_type": "stream",
     "text": [
      "\u001b[32m2025-10-22 20:28:25.789\u001b[0m | \u001b[1mINFO    \u001b[0m | \u001b[36msrc.model_selection.cv_main\u001b[0m:\u001b[36mpredict\u001b[0m:\u001b[36m276\u001b[0m - \u001b[1mSample 116/250 predicted.\u001b[0m\n",
      "\u001b[32m2025-10-22 20:28:25.793\u001b[0m | \u001b[34m\u001b[1mDEBUG   \u001b[0m | \u001b[36msrc.utils.general\u001b[0m:\u001b[36mopen_csv\u001b[0m:\u001b[36m108\u001b[0m - \u001b[34m\u001b[1mLoaded CSV: c:\\Users\\OAVAI\\Desktop\\mma - Copy\\mma_light\\data\\output\\feature_selection\\natty_feature_frequency.csv (87 rows)\u001b[0m\n",
      "\u001b[32m2025-10-22 20:28:25.794\u001b[0m | \u001b[1mINFO    \u001b[0m | \u001b[36msrc.model_selection.cv_main\u001b[0m:\u001b[36m_cross_validate\u001b[0m:\u001b[36m476\u001b[0m - \u001b[1mSelected top 78 features for CV: 78\u001b[0m\n"
     ]
    },
    {
     "name": "stdout",
     "output_type": "stream",
     "text": [
      "huh\n"
     ]
    },
    {
     "name": "stderr",
     "output_type": "stream",
     "text": [
      "\u001b[32m2025-10-22 20:28:31.948\u001b[0m | \u001b[1mINFO    \u001b[0m | \u001b[36msrc.model_selection.cv_main\u001b[0m:\u001b[36mpredict\u001b[0m:\u001b[36m276\u001b[0m - \u001b[1mSample 117/250 predicted.\u001b[0m\n",
      "\u001b[32m2025-10-22 20:28:31.951\u001b[0m | \u001b[34m\u001b[1mDEBUG   \u001b[0m | \u001b[36msrc.utils.general\u001b[0m:\u001b[36mopen_csv\u001b[0m:\u001b[36m108\u001b[0m - \u001b[34m\u001b[1mLoaded CSV: c:\\Users\\OAVAI\\Desktop\\mma - Copy\\mma_light\\data\\output\\feature_selection\\natty_feature_frequency.csv (87 rows)\u001b[0m\n",
      "\u001b[32m2025-10-22 20:28:31.952\u001b[0m | \u001b[1mINFO    \u001b[0m | \u001b[36msrc.model_selection.cv_main\u001b[0m:\u001b[36m_cross_validate\u001b[0m:\u001b[36m476\u001b[0m - \u001b[1mSelected top 78 features for CV: 78\u001b[0m\n"
     ]
    },
    {
     "name": "stdout",
     "output_type": "stream",
     "text": [
      "huh\n"
     ]
    },
    {
     "name": "stderr",
     "output_type": "stream",
     "text": [
      "\u001b[32m2025-10-22 20:28:38.105\u001b[0m | \u001b[1mINFO    \u001b[0m | \u001b[36msrc.model_selection.cv_main\u001b[0m:\u001b[36mpredict\u001b[0m:\u001b[36m276\u001b[0m - \u001b[1mSample 118/250 predicted.\u001b[0m\n",
      "\u001b[32m2025-10-22 20:28:38.108\u001b[0m | \u001b[34m\u001b[1mDEBUG   \u001b[0m | \u001b[36msrc.utils.general\u001b[0m:\u001b[36mopen_csv\u001b[0m:\u001b[36m108\u001b[0m - \u001b[34m\u001b[1mLoaded CSV: c:\\Users\\OAVAI\\Desktop\\mma - Copy\\mma_light\\data\\output\\feature_selection\\natty_feature_frequency.csv (87 rows)\u001b[0m\n",
      "\u001b[32m2025-10-22 20:28:38.109\u001b[0m | \u001b[1mINFO    \u001b[0m | \u001b[36msrc.model_selection.cv_main\u001b[0m:\u001b[36m_cross_validate\u001b[0m:\u001b[36m476\u001b[0m - \u001b[1mSelected top 78 features for CV: 78\u001b[0m\n"
     ]
    },
    {
     "name": "stdout",
     "output_type": "stream",
     "text": [
      "huh\n"
     ]
    },
    {
     "name": "stderr",
     "output_type": "stream",
     "text": [
      "\u001b[32m2025-10-22 20:28:42.747\u001b[0m | \u001b[1mINFO    \u001b[0m | \u001b[36msrc.model_selection.cv_main\u001b[0m:\u001b[36mpredict\u001b[0m:\u001b[36m276\u001b[0m - \u001b[1mSample 119/250 predicted.\u001b[0m\n",
      "\u001b[32m2025-10-22 20:28:42.750\u001b[0m | \u001b[34m\u001b[1mDEBUG   \u001b[0m | \u001b[36msrc.utils.general\u001b[0m:\u001b[36mopen_csv\u001b[0m:\u001b[36m108\u001b[0m - \u001b[34m\u001b[1mLoaded CSV: c:\\Users\\OAVAI\\Desktop\\mma - Copy\\mma_light\\data\\output\\feature_selection\\natty_feature_frequency.csv (87 rows)\u001b[0m\n",
      "\u001b[32m2025-10-22 20:28:42.751\u001b[0m | \u001b[1mINFO    \u001b[0m | \u001b[36msrc.model_selection.cv_main\u001b[0m:\u001b[36m_cross_validate\u001b[0m:\u001b[36m476\u001b[0m - \u001b[1mSelected top 78 features for CV: 78\u001b[0m\n"
     ]
    },
    {
     "name": "stdout",
     "output_type": "stream",
     "text": [
      "huh\n"
     ]
    },
    {
     "name": "stderr",
     "output_type": "stream",
     "text": [
      "\u001b[32m2025-10-22 20:28:50.548\u001b[0m | \u001b[1mINFO    \u001b[0m | \u001b[36msrc.model_selection.cv_main\u001b[0m:\u001b[36mpredict\u001b[0m:\u001b[36m276\u001b[0m - \u001b[1mSample 120/250 predicted.\u001b[0m\n",
      "\u001b[32m2025-10-22 20:28:50.551\u001b[0m | \u001b[34m\u001b[1mDEBUG   \u001b[0m | \u001b[36msrc.utils.general\u001b[0m:\u001b[36mopen_csv\u001b[0m:\u001b[36m108\u001b[0m - \u001b[34m\u001b[1mLoaded CSV: c:\\Users\\OAVAI\\Desktop\\mma - Copy\\mma_light\\data\\output\\feature_selection\\natty_feature_frequency.csv (87 rows)\u001b[0m\n",
      "\u001b[32m2025-10-22 20:28:50.551\u001b[0m | \u001b[1mINFO    \u001b[0m | \u001b[36msrc.model_selection.cv_main\u001b[0m:\u001b[36m_cross_validate\u001b[0m:\u001b[36m476\u001b[0m - \u001b[1mSelected top 78 features for CV: 78\u001b[0m\n"
     ]
    },
    {
     "name": "stdout",
     "output_type": "stream",
     "text": [
      "huh\n"
     ]
    },
    {
     "name": "stderr",
     "output_type": "stream",
     "text": [
      "\u001b[32m2025-10-22 20:28:56.664\u001b[0m | \u001b[1mINFO    \u001b[0m | \u001b[36msrc.model_selection.cv_main\u001b[0m:\u001b[36mpredict\u001b[0m:\u001b[36m276\u001b[0m - \u001b[1mSample 121/250 predicted.\u001b[0m\n",
      "\u001b[32m2025-10-22 20:28:56.667\u001b[0m | \u001b[34m\u001b[1mDEBUG   \u001b[0m | \u001b[36msrc.utils.general\u001b[0m:\u001b[36mopen_csv\u001b[0m:\u001b[36m108\u001b[0m - \u001b[34m\u001b[1mLoaded CSV: c:\\Users\\OAVAI\\Desktop\\mma - Copy\\mma_light\\data\\output\\feature_selection\\natty_feature_frequency.csv (87 rows)\u001b[0m\n",
      "\u001b[32m2025-10-22 20:28:56.668\u001b[0m | \u001b[1mINFO    \u001b[0m | \u001b[36msrc.model_selection.cv_main\u001b[0m:\u001b[36m_cross_validate\u001b[0m:\u001b[36m476\u001b[0m - \u001b[1mSelected top 78 features for CV: 78\u001b[0m\n"
     ]
    },
    {
     "name": "stdout",
     "output_type": "stream",
     "text": [
      "huh\n"
     ]
    },
    {
     "name": "stderr",
     "output_type": "stream",
     "text": [
      "\u001b[32m2025-10-22 20:29:03.227\u001b[0m | \u001b[1mINFO    \u001b[0m | \u001b[36msrc.model_selection.cv_main\u001b[0m:\u001b[36mpredict\u001b[0m:\u001b[36m276\u001b[0m - \u001b[1mSample 122/250 predicted.\u001b[0m\n",
      "\u001b[32m2025-10-22 20:29:03.229\u001b[0m | \u001b[34m\u001b[1mDEBUG   \u001b[0m | \u001b[36msrc.utils.general\u001b[0m:\u001b[36mopen_csv\u001b[0m:\u001b[36m108\u001b[0m - \u001b[34m\u001b[1mLoaded CSV: c:\\Users\\OAVAI\\Desktop\\mma - Copy\\mma_light\\data\\output\\feature_selection\\natty_feature_frequency.csv (87 rows)\u001b[0m\n",
      "\u001b[32m2025-10-22 20:29:03.231\u001b[0m | \u001b[1mINFO    \u001b[0m | \u001b[36msrc.model_selection.cv_main\u001b[0m:\u001b[36m_cross_validate\u001b[0m:\u001b[36m476\u001b[0m - \u001b[1mSelected top 78 features for CV: 78\u001b[0m\n"
     ]
    },
    {
     "name": "stdout",
     "output_type": "stream",
     "text": [
      "huh\n"
     ]
    },
    {
     "name": "stderr",
     "output_type": "stream",
     "text": [
      "\u001b[32m2025-10-22 20:29:08.639\u001b[0m | \u001b[1mINFO    \u001b[0m | \u001b[36msrc.model_selection.cv_main\u001b[0m:\u001b[36mpredict\u001b[0m:\u001b[36m276\u001b[0m - \u001b[1mSample 123/250 predicted.\u001b[0m\n",
      "\u001b[32m2025-10-22 20:29:08.643\u001b[0m | \u001b[34m\u001b[1mDEBUG   \u001b[0m | \u001b[36msrc.utils.general\u001b[0m:\u001b[36mopen_csv\u001b[0m:\u001b[36m108\u001b[0m - \u001b[34m\u001b[1mLoaded CSV: c:\\Users\\OAVAI\\Desktop\\mma - Copy\\mma_light\\data\\output\\feature_selection\\natty_feature_frequency.csv (87 rows)\u001b[0m\n",
      "\u001b[32m2025-10-22 20:29:08.644\u001b[0m | \u001b[1mINFO    \u001b[0m | \u001b[36msrc.model_selection.cv_main\u001b[0m:\u001b[36m_cross_validate\u001b[0m:\u001b[36m476\u001b[0m - \u001b[1mSelected top 78 features for CV: 78\u001b[0m\n"
     ]
    },
    {
     "name": "stdout",
     "output_type": "stream",
     "text": [
      "huh\n"
     ]
    },
    {
     "name": "stderr",
     "output_type": "stream",
     "text": [
      "\u001b[32m2025-10-22 20:29:14.859\u001b[0m | \u001b[1mINFO    \u001b[0m | \u001b[36msrc.model_selection.cv_main\u001b[0m:\u001b[36mpredict\u001b[0m:\u001b[36m276\u001b[0m - \u001b[1mSample 124/250 predicted.\u001b[0m\n",
      "\u001b[32m2025-10-22 20:29:14.863\u001b[0m | \u001b[34m\u001b[1mDEBUG   \u001b[0m | \u001b[36msrc.utils.general\u001b[0m:\u001b[36mopen_csv\u001b[0m:\u001b[36m108\u001b[0m - \u001b[34m\u001b[1mLoaded CSV: c:\\Users\\OAVAI\\Desktop\\mma - Copy\\mma_light\\data\\output\\feature_selection\\natty_feature_frequency.csv (87 rows)\u001b[0m\n",
      "\u001b[32m2025-10-22 20:29:14.865\u001b[0m | \u001b[1mINFO    \u001b[0m | \u001b[36msrc.model_selection.cv_main\u001b[0m:\u001b[36m_cross_validate\u001b[0m:\u001b[36m476\u001b[0m - \u001b[1mSelected top 78 features for CV: 78\u001b[0m\n"
     ]
    },
    {
     "name": "stdout",
     "output_type": "stream",
     "text": [
      "huh\n"
     ]
    },
    {
     "name": "stderr",
     "output_type": "stream",
     "text": [
      "\u001b[32m2025-10-22 20:29:21.069\u001b[0m | \u001b[1mINFO    \u001b[0m | \u001b[36msrc.model_selection.cv_main\u001b[0m:\u001b[36mpredict\u001b[0m:\u001b[36m276\u001b[0m - \u001b[1mSample 125/250 predicted.\u001b[0m\n",
      "\u001b[32m2025-10-22 20:29:21.073\u001b[0m | \u001b[34m\u001b[1mDEBUG   \u001b[0m | \u001b[36msrc.utils.general\u001b[0m:\u001b[36mopen_csv\u001b[0m:\u001b[36m108\u001b[0m - \u001b[34m\u001b[1mLoaded CSV: c:\\Users\\OAVAI\\Desktop\\mma - Copy\\mma_light\\data\\output\\feature_selection\\natty_feature_frequency.csv (87 rows)\u001b[0m\n",
      "\u001b[32m2025-10-22 20:29:21.074\u001b[0m | \u001b[1mINFO    \u001b[0m | \u001b[36msrc.model_selection.cv_main\u001b[0m:\u001b[36m_cross_validate\u001b[0m:\u001b[36m476\u001b[0m - \u001b[1mSelected top 78 features for CV: 78\u001b[0m\n"
     ]
    },
    {
     "name": "stdout",
     "output_type": "stream",
     "text": [
      "huh\n"
     ]
    },
    {
     "name": "stderr",
     "output_type": "stream",
     "text": [
      "\u001b[32m2025-10-22 20:29:27.051\u001b[0m | \u001b[1mINFO    \u001b[0m | \u001b[36msrc.model_selection.cv_main\u001b[0m:\u001b[36mpredict\u001b[0m:\u001b[36m276\u001b[0m - \u001b[1mSample 126/250 predicted.\u001b[0m\n",
      "\u001b[32m2025-10-22 20:29:27.054\u001b[0m | \u001b[34m\u001b[1mDEBUG   \u001b[0m | \u001b[36msrc.utils.general\u001b[0m:\u001b[36mopen_csv\u001b[0m:\u001b[36m108\u001b[0m - \u001b[34m\u001b[1mLoaded CSV: c:\\Users\\OAVAI\\Desktop\\mma - Copy\\mma_light\\data\\output\\feature_selection\\natty_feature_frequency.csv (87 rows)\u001b[0m\n",
      "\u001b[32m2025-10-22 20:29:27.055\u001b[0m | \u001b[1mINFO    \u001b[0m | \u001b[36msrc.model_selection.cv_main\u001b[0m:\u001b[36m_cross_validate\u001b[0m:\u001b[36m476\u001b[0m - \u001b[1mSelected top 78 features for CV: 78\u001b[0m\n"
     ]
    },
    {
     "name": "stdout",
     "output_type": "stream",
     "text": [
      "huh\n"
     ]
    },
    {
     "name": "stderr",
     "output_type": "stream",
     "text": [
      "\u001b[32m2025-10-22 20:29:33.251\u001b[0m | \u001b[1mINFO    \u001b[0m | \u001b[36msrc.model_selection.cv_main\u001b[0m:\u001b[36mpredict\u001b[0m:\u001b[36m276\u001b[0m - \u001b[1mSample 127/250 predicted.\u001b[0m\n",
      "\u001b[32m2025-10-22 20:29:33.255\u001b[0m | \u001b[34m\u001b[1mDEBUG   \u001b[0m | \u001b[36msrc.utils.general\u001b[0m:\u001b[36mopen_csv\u001b[0m:\u001b[36m108\u001b[0m - \u001b[34m\u001b[1mLoaded CSV: c:\\Users\\OAVAI\\Desktop\\mma - Copy\\mma_light\\data\\output\\feature_selection\\natty_feature_frequency.csv (87 rows)\u001b[0m\n",
      "\u001b[32m2025-10-22 20:29:33.256\u001b[0m | \u001b[1mINFO    \u001b[0m | \u001b[36msrc.model_selection.cv_main\u001b[0m:\u001b[36m_cross_validate\u001b[0m:\u001b[36m476\u001b[0m - \u001b[1mSelected top 78 features for CV: 78\u001b[0m\n"
     ]
    },
    {
     "name": "stdout",
     "output_type": "stream",
     "text": [
      "huh\n"
     ]
    },
    {
     "name": "stderr",
     "output_type": "stream",
     "text": [
      "\u001b[32m2025-10-22 20:29:38.130\u001b[0m | \u001b[1mINFO    \u001b[0m | \u001b[36msrc.model_selection.cv_main\u001b[0m:\u001b[36mpredict\u001b[0m:\u001b[36m276\u001b[0m - \u001b[1mSample 128/250 predicted.\u001b[0m\n",
      "\u001b[32m2025-10-22 20:29:38.134\u001b[0m | \u001b[34m\u001b[1mDEBUG   \u001b[0m | \u001b[36msrc.utils.general\u001b[0m:\u001b[36mopen_csv\u001b[0m:\u001b[36m108\u001b[0m - \u001b[34m\u001b[1mLoaded CSV: c:\\Users\\OAVAI\\Desktop\\mma - Copy\\mma_light\\data\\output\\feature_selection\\natty_feature_frequency.csv (87 rows)\u001b[0m\n",
      "\u001b[32m2025-10-22 20:29:38.134\u001b[0m | \u001b[1mINFO    \u001b[0m | \u001b[36msrc.model_selection.cv_main\u001b[0m:\u001b[36m_cross_validate\u001b[0m:\u001b[36m476\u001b[0m - \u001b[1mSelected top 78 features for CV: 78\u001b[0m\n"
     ]
    },
    {
     "name": "stdout",
     "output_type": "stream",
     "text": [
      "huh\n"
     ]
    },
    {
     "name": "stderr",
     "output_type": "stream",
     "text": [
      "\u001b[32m2025-10-22 20:29:42.851\u001b[0m | \u001b[1mINFO    \u001b[0m | \u001b[36msrc.model_selection.cv_main\u001b[0m:\u001b[36mpredict\u001b[0m:\u001b[36m276\u001b[0m - \u001b[1mSample 129/250 predicted.\u001b[0m\n",
      "\u001b[32m2025-10-22 20:29:42.855\u001b[0m | \u001b[34m\u001b[1mDEBUG   \u001b[0m | \u001b[36msrc.utils.general\u001b[0m:\u001b[36mopen_csv\u001b[0m:\u001b[36m108\u001b[0m - \u001b[34m\u001b[1mLoaded CSV: c:\\Users\\OAVAI\\Desktop\\mma - Copy\\mma_light\\data\\output\\feature_selection\\natty_feature_frequency.csv (87 rows)\u001b[0m\n",
      "\u001b[32m2025-10-22 20:29:42.856\u001b[0m | \u001b[1mINFO    \u001b[0m | \u001b[36msrc.model_selection.cv_main\u001b[0m:\u001b[36m_cross_validate\u001b[0m:\u001b[36m476\u001b[0m - \u001b[1mSelected top 78 features for CV: 78\u001b[0m\n"
     ]
    },
    {
     "name": "stdout",
     "output_type": "stream",
     "text": [
      "huh\n"
     ]
    },
    {
     "name": "stderr",
     "output_type": "stream",
     "text": [
      "\u001b[32m2025-10-22 20:29:49.054\u001b[0m | \u001b[1mINFO    \u001b[0m | \u001b[36msrc.model_selection.cv_main\u001b[0m:\u001b[36mpredict\u001b[0m:\u001b[36m276\u001b[0m - \u001b[1mSample 130/250 predicted.\u001b[0m\n",
      "\u001b[32m2025-10-22 20:29:49.057\u001b[0m | \u001b[34m\u001b[1mDEBUG   \u001b[0m | \u001b[36msrc.utils.general\u001b[0m:\u001b[36mopen_csv\u001b[0m:\u001b[36m108\u001b[0m - \u001b[34m\u001b[1mLoaded CSV: c:\\Users\\OAVAI\\Desktop\\mma - Copy\\mma_light\\data\\output\\feature_selection\\natty_feature_frequency.csv (87 rows)\u001b[0m\n",
      "\u001b[32m2025-10-22 20:29:49.059\u001b[0m | \u001b[1mINFO    \u001b[0m | \u001b[36msrc.model_selection.cv_main\u001b[0m:\u001b[36m_cross_validate\u001b[0m:\u001b[36m476\u001b[0m - \u001b[1mSelected top 78 features for CV: 78\u001b[0m\n"
     ]
    },
    {
     "name": "stdout",
     "output_type": "stream",
     "text": [
      "huh\n"
     ]
    },
    {
     "name": "stderr",
     "output_type": "stream",
     "text": [
      "\u001b[32m2025-10-22 20:29:54.402\u001b[0m | \u001b[1mINFO    \u001b[0m | \u001b[36msrc.model_selection.cv_main\u001b[0m:\u001b[36mpredict\u001b[0m:\u001b[36m276\u001b[0m - \u001b[1mSample 131/250 predicted.\u001b[0m\n",
      "\u001b[32m2025-10-22 20:29:54.405\u001b[0m | \u001b[34m\u001b[1mDEBUG   \u001b[0m | \u001b[36msrc.utils.general\u001b[0m:\u001b[36mopen_csv\u001b[0m:\u001b[36m108\u001b[0m - \u001b[34m\u001b[1mLoaded CSV: c:\\Users\\OAVAI\\Desktop\\mma - Copy\\mma_light\\data\\output\\feature_selection\\natty_feature_frequency.csv (87 rows)\u001b[0m\n",
      "\u001b[32m2025-10-22 20:29:54.405\u001b[0m | \u001b[1mINFO    \u001b[0m | \u001b[36msrc.model_selection.cv_main\u001b[0m:\u001b[36m_cross_validate\u001b[0m:\u001b[36m476\u001b[0m - \u001b[1mSelected top 78 features for CV: 78\u001b[0m\n"
     ]
    },
    {
     "name": "stdout",
     "output_type": "stream",
     "text": [
      "huh\n"
     ]
    },
    {
     "name": "stderr",
     "output_type": "stream",
     "text": [
      "\u001b[32m2025-10-22 20:29:59.761\u001b[0m | \u001b[1mINFO    \u001b[0m | \u001b[36msrc.model_selection.cv_main\u001b[0m:\u001b[36mpredict\u001b[0m:\u001b[36m276\u001b[0m - \u001b[1mSample 132/250 predicted.\u001b[0m\n",
      "\u001b[32m2025-10-22 20:29:59.764\u001b[0m | \u001b[34m\u001b[1mDEBUG   \u001b[0m | \u001b[36msrc.utils.general\u001b[0m:\u001b[36mopen_csv\u001b[0m:\u001b[36m108\u001b[0m - \u001b[34m\u001b[1mLoaded CSV: c:\\Users\\OAVAI\\Desktop\\mma - Copy\\mma_light\\data\\output\\feature_selection\\natty_feature_frequency.csv (87 rows)\u001b[0m\n",
      "\u001b[32m2025-10-22 20:29:59.766\u001b[0m | \u001b[1mINFO    \u001b[0m | \u001b[36msrc.model_selection.cv_main\u001b[0m:\u001b[36m_cross_validate\u001b[0m:\u001b[36m476\u001b[0m - \u001b[1mSelected top 78 features for CV: 78\u001b[0m\n"
     ]
    },
    {
     "name": "stdout",
     "output_type": "stream",
     "text": [
      "huh\n"
     ]
    },
    {
     "name": "stderr",
     "output_type": "stream",
     "text": [
      "\u001b[32m2025-10-22 20:30:05.358\u001b[0m | \u001b[1mINFO    \u001b[0m | \u001b[36msrc.model_selection.cv_main\u001b[0m:\u001b[36mpredict\u001b[0m:\u001b[36m276\u001b[0m - \u001b[1mSample 133/250 predicted.\u001b[0m\n",
      "\u001b[32m2025-10-22 20:30:05.360\u001b[0m | \u001b[34m\u001b[1mDEBUG   \u001b[0m | \u001b[36msrc.utils.general\u001b[0m:\u001b[36mopen_csv\u001b[0m:\u001b[36m108\u001b[0m - \u001b[34m\u001b[1mLoaded CSV: c:\\Users\\OAVAI\\Desktop\\mma - Copy\\mma_light\\data\\output\\feature_selection\\natty_feature_frequency.csv (87 rows)\u001b[0m\n",
      "\u001b[32m2025-10-22 20:30:05.360\u001b[0m | \u001b[1mINFO    \u001b[0m | \u001b[36msrc.model_selection.cv_main\u001b[0m:\u001b[36m_cross_validate\u001b[0m:\u001b[36m476\u001b[0m - \u001b[1mSelected top 78 features for CV: 78\u001b[0m\n"
     ]
    },
    {
     "name": "stdout",
     "output_type": "stream",
     "text": [
      "huh\n"
     ]
    },
    {
     "name": "stderr",
     "output_type": "stream",
     "text": [
      "\u001b[32m2025-10-22 20:30:11.699\u001b[0m | \u001b[1mINFO    \u001b[0m | \u001b[36msrc.model_selection.cv_main\u001b[0m:\u001b[36mpredict\u001b[0m:\u001b[36m276\u001b[0m - \u001b[1mSample 134/250 predicted.\u001b[0m\n",
      "\u001b[32m2025-10-22 20:30:11.702\u001b[0m | \u001b[34m\u001b[1mDEBUG   \u001b[0m | \u001b[36msrc.utils.general\u001b[0m:\u001b[36mopen_csv\u001b[0m:\u001b[36m108\u001b[0m - \u001b[34m\u001b[1mLoaded CSV: c:\\Users\\OAVAI\\Desktop\\mma - Copy\\mma_light\\data\\output\\feature_selection\\natty_feature_frequency.csv (87 rows)\u001b[0m\n",
      "\u001b[32m2025-10-22 20:30:11.704\u001b[0m | \u001b[1mINFO    \u001b[0m | \u001b[36msrc.model_selection.cv_main\u001b[0m:\u001b[36m_cross_validate\u001b[0m:\u001b[36m476\u001b[0m - \u001b[1mSelected top 78 features for CV: 78\u001b[0m\n"
     ]
    },
    {
     "name": "stdout",
     "output_type": "stream",
     "text": [
      "huh\n"
     ]
    },
    {
     "name": "stderr",
     "output_type": "stream",
     "text": [
      "\u001b[32m2025-10-22 20:30:18.083\u001b[0m | \u001b[1mINFO    \u001b[0m | \u001b[36msrc.model_selection.cv_main\u001b[0m:\u001b[36mpredict\u001b[0m:\u001b[36m276\u001b[0m - \u001b[1mSample 135/250 predicted.\u001b[0m\n",
      "\u001b[32m2025-10-22 20:30:18.086\u001b[0m | \u001b[34m\u001b[1mDEBUG   \u001b[0m | \u001b[36msrc.utils.general\u001b[0m:\u001b[36mopen_csv\u001b[0m:\u001b[36m108\u001b[0m - \u001b[34m\u001b[1mLoaded CSV: c:\\Users\\OAVAI\\Desktop\\mma - Copy\\mma_light\\data\\output\\feature_selection\\natty_feature_frequency.csv (87 rows)\u001b[0m\n",
      "\u001b[32m2025-10-22 20:30:18.088\u001b[0m | \u001b[1mINFO    \u001b[0m | \u001b[36msrc.model_selection.cv_main\u001b[0m:\u001b[36m_cross_validate\u001b[0m:\u001b[36m476\u001b[0m - \u001b[1mSelected top 78 features for CV: 78\u001b[0m\n"
     ]
    },
    {
     "name": "stdout",
     "output_type": "stream",
     "text": [
      "huh\n"
     ]
    },
    {
     "name": "stderr",
     "output_type": "stream",
     "text": [
      "\u001b[32m2025-10-22 20:30:25.118\u001b[0m | \u001b[1mINFO    \u001b[0m | \u001b[36msrc.model_selection.cv_main\u001b[0m:\u001b[36mpredict\u001b[0m:\u001b[36m276\u001b[0m - \u001b[1mSample 136/250 predicted.\u001b[0m\n",
      "\u001b[32m2025-10-22 20:30:25.122\u001b[0m | \u001b[34m\u001b[1mDEBUG   \u001b[0m | \u001b[36msrc.utils.general\u001b[0m:\u001b[36mopen_csv\u001b[0m:\u001b[36m108\u001b[0m - \u001b[34m\u001b[1mLoaded CSV: c:\\Users\\OAVAI\\Desktop\\mma - Copy\\mma_light\\data\\output\\feature_selection\\natty_feature_frequency.csv (87 rows)\u001b[0m\n",
      "\u001b[32m2025-10-22 20:30:25.123\u001b[0m | \u001b[1mINFO    \u001b[0m | \u001b[36msrc.model_selection.cv_main\u001b[0m:\u001b[36m_cross_validate\u001b[0m:\u001b[36m476\u001b[0m - \u001b[1mSelected top 78 features for CV: 78\u001b[0m\n"
     ]
    },
    {
     "name": "stdout",
     "output_type": "stream",
     "text": [
      "huh\n"
     ]
    },
    {
     "name": "stderr",
     "output_type": "stream",
     "text": [
      "\u001b[32m2025-10-22 20:30:32.872\u001b[0m | \u001b[1mINFO    \u001b[0m | \u001b[36msrc.model_selection.cv_main\u001b[0m:\u001b[36mpredict\u001b[0m:\u001b[36m276\u001b[0m - \u001b[1mSample 137/250 predicted.\u001b[0m\n",
      "\u001b[32m2025-10-22 20:30:32.876\u001b[0m | \u001b[34m\u001b[1mDEBUG   \u001b[0m | \u001b[36msrc.utils.general\u001b[0m:\u001b[36mopen_csv\u001b[0m:\u001b[36m108\u001b[0m - \u001b[34m\u001b[1mLoaded CSV: c:\\Users\\OAVAI\\Desktop\\mma - Copy\\mma_light\\data\\output\\feature_selection\\natty_feature_frequency.csv (87 rows)\u001b[0m\n",
      "\u001b[32m2025-10-22 20:30:32.878\u001b[0m | \u001b[1mINFO    \u001b[0m | \u001b[36msrc.model_selection.cv_main\u001b[0m:\u001b[36m_cross_validate\u001b[0m:\u001b[36m476\u001b[0m - \u001b[1mSelected top 78 features for CV: 78\u001b[0m\n"
     ]
    },
    {
     "name": "stdout",
     "output_type": "stream",
     "text": [
      "huh\n"
     ]
    },
    {
     "name": "stderr",
     "output_type": "stream",
     "text": [
      "\u001b[32m2025-10-22 20:30:39.641\u001b[0m | \u001b[1mINFO    \u001b[0m | \u001b[36msrc.model_selection.cv_main\u001b[0m:\u001b[36mpredict\u001b[0m:\u001b[36m276\u001b[0m - \u001b[1mSample 138/250 predicted.\u001b[0m\n",
      "\u001b[32m2025-10-22 20:30:39.644\u001b[0m | \u001b[34m\u001b[1mDEBUG   \u001b[0m | \u001b[36msrc.utils.general\u001b[0m:\u001b[36mopen_csv\u001b[0m:\u001b[36m108\u001b[0m - \u001b[34m\u001b[1mLoaded CSV: c:\\Users\\OAVAI\\Desktop\\mma - Copy\\mma_light\\data\\output\\feature_selection\\natty_feature_frequency.csv (87 rows)\u001b[0m\n",
      "\u001b[32m2025-10-22 20:30:39.645\u001b[0m | \u001b[1mINFO    \u001b[0m | \u001b[36msrc.model_selection.cv_main\u001b[0m:\u001b[36m_cross_validate\u001b[0m:\u001b[36m476\u001b[0m - \u001b[1mSelected top 78 features for CV: 78\u001b[0m\n"
     ]
    },
    {
     "name": "stdout",
     "output_type": "stream",
     "text": [
      "huh\n"
     ]
    },
    {
     "name": "stderr",
     "output_type": "stream",
     "text": [
      "\u001b[32m2025-10-22 20:30:46.751\u001b[0m | \u001b[1mINFO    \u001b[0m | \u001b[36msrc.model_selection.cv_main\u001b[0m:\u001b[36mpredict\u001b[0m:\u001b[36m276\u001b[0m - \u001b[1mSample 139/250 predicted.\u001b[0m\n",
      "\u001b[32m2025-10-22 20:30:46.753\u001b[0m | \u001b[34m\u001b[1mDEBUG   \u001b[0m | \u001b[36msrc.utils.general\u001b[0m:\u001b[36mopen_csv\u001b[0m:\u001b[36m108\u001b[0m - \u001b[34m\u001b[1mLoaded CSV: c:\\Users\\OAVAI\\Desktop\\mma - Copy\\mma_light\\data\\output\\feature_selection\\natty_feature_frequency.csv (87 rows)\u001b[0m\n",
      "\u001b[32m2025-10-22 20:30:46.758\u001b[0m | \u001b[1mINFO    \u001b[0m | \u001b[36msrc.model_selection.cv_main\u001b[0m:\u001b[36m_cross_validate\u001b[0m:\u001b[36m476\u001b[0m - \u001b[1mSelected top 78 features for CV: 78\u001b[0m\n"
     ]
    },
    {
     "name": "stdout",
     "output_type": "stream",
     "text": [
      "huh\n"
     ]
    },
    {
     "name": "stderr",
     "output_type": "stream",
     "text": [
      "\u001b[32m2025-10-22 20:30:52.685\u001b[0m | \u001b[1mINFO    \u001b[0m | \u001b[36msrc.model_selection.cv_main\u001b[0m:\u001b[36mpredict\u001b[0m:\u001b[36m276\u001b[0m - \u001b[1mSample 140/250 predicted.\u001b[0m\n",
      "\u001b[32m2025-10-22 20:30:52.690\u001b[0m | \u001b[34m\u001b[1mDEBUG   \u001b[0m | \u001b[36msrc.utils.general\u001b[0m:\u001b[36mopen_csv\u001b[0m:\u001b[36m108\u001b[0m - \u001b[34m\u001b[1mLoaded CSV: c:\\Users\\OAVAI\\Desktop\\mma - Copy\\mma_light\\data\\output\\feature_selection\\natty_feature_frequency.csv (87 rows)\u001b[0m\n",
      "\u001b[32m2025-10-22 20:30:52.690\u001b[0m | \u001b[1mINFO    \u001b[0m | \u001b[36msrc.model_selection.cv_main\u001b[0m:\u001b[36m_cross_validate\u001b[0m:\u001b[36m476\u001b[0m - \u001b[1mSelected top 78 features for CV: 78\u001b[0m\n"
     ]
    },
    {
     "name": "stdout",
     "output_type": "stream",
     "text": [
      "huh\n"
     ]
    },
    {
     "name": "stderr",
     "output_type": "stream",
     "text": [
      "\u001b[32m2025-10-22 20:30:59.894\u001b[0m | \u001b[1mINFO    \u001b[0m | \u001b[36msrc.model_selection.cv_main\u001b[0m:\u001b[36mpredict\u001b[0m:\u001b[36m276\u001b[0m - \u001b[1mSample 141/250 predicted.\u001b[0m\n",
      "\u001b[32m2025-10-22 20:30:59.898\u001b[0m | \u001b[34m\u001b[1mDEBUG   \u001b[0m | \u001b[36msrc.utils.general\u001b[0m:\u001b[36mopen_csv\u001b[0m:\u001b[36m108\u001b[0m - \u001b[34m\u001b[1mLoaded CSV: c:\\Users\\OAVAI\\Desktop\\mma - Copy\\mma_light\\data\\output\\feature_selection\\natty_feature_frequency.csv (87 rows)\u001b[0m\n",
      "\u001b[32m2025-10-22 20:30:59.899\u001b[0m | \u001b[1mINFO    \u001b[0m | \u001b[36msrc.model_selection.cv_main\u001b[0m:\u001b[36m_cross_validate\u001b[0m:\u001b[36m476\u001b[0m - \u001b[1mSelected top 78 features for CV: 78\u001b[0m\n"
     ]
    },
    {
     "name": "stdout",
     "output_type": "stream",
     "text": [
      "huh\n"
     ]
    },
    {
     "name": "stderr",
     "output_type": "stream",
     "text": [
      "\u001b[32m2025-10-22 20:31:04.339\u001b[0m | \u001b[1mINFO    \u001b[0m | \u001b[36msrc.model_selection.cv_main\u001b[0m:\u001b[36mpredict\u001b[0m:\u001b[36m276\u001b[0m - \u001b[1mSample 142/250 predicted.\u001b[0m\n",
      "\u001b[32m2025-10-22 20:31:04.342\u001b[0m | \u001b[34m\u001b[1mDEBUG   \u001b[0m | \u001b[36msrc.utils.general\u001b[0m:\u001b[36mopen_csv\u001b[0m:\u001b[36m108\u001b[0m - \u001b[34m\u001b[1mLoaded CSV: c:\\Users\\OAVAI\\Desktop\\mma - Copy\\mma_light\\data\\output\\feature_selection\\natty_feature_frequency.csv (87 rows)\u001b[0m\n",
      "\u001b[32m2025-10-22 20:31:04.343\u001b[0m | \u001b[1mINFO    \u001b[0m | \u001b[36msrc.model_selection.cv_main\u001b[0m:\u001b[36m_cross_validate\u001b[0m:\u001b[36m476\u001b[0m - \u001b[1mSelected top 78 features for CV: 78\u001b[0m\n"
     ]
    },
    {
     "name": "stdout",
     "output_type": "stream",
     "text": [
      "huh\n"
     ]
    },
    {
     "name": "stderr",
     "output_type": "stream",
     "text": [
      "\u001b[32m2025-10-22 20:31:10.431\u001b[0m | \u001b[1mINFO    \u001b[0m | \u001b[36msrc.model_selection.cv_main\u001b[0m:\u001b[36mpredict\u001b[0m:\u001b[36m276\u001b[0m - \u001b[1mSample 143/250 predicted.\u001b[0m\n",
      "\u001b[32m2025-10-22 20:31:10.435\u001b[0m | \u001b[34m\u001b[1mDEBUG   \u001b[0m | \u001b[36msrc.utils.general\u001b[0m:\u001b[36mopen_csv\u001b[0m:\u001b[36m108\u001b[0m - \u001b[34m\u001b[1mLoaded CSV: c:\\Users\\OAVAI\\Desktop\\mma - Copy\\mma_light\\data\\output\\feature_selection\\natty_feature_frequency.csv (87 rows)\u001b[0m\n",
      "\u001b[32m2025-10-22 20:31:10.436\u001b[0m | \u001b[1mINFO    \u001b[0m | \u001b[36msrc.model_selection.cv_main\u001b[0m:\u001b[36m_cross_validate\u001b[0m:\u001b[36m476\u001b[0m - \u001b[1mSelected top 78 features for CV: 78\u001b[0m\n"
     ]
    },
    {
     "name": "stdout",
     "output_type": "stream",
     "text": [
      "huh\n"
     ]
    },
    {
     "name": "stderr",
     "output_type": "stream",
     "text": [
      "\u001b[32m2025-10-22 20:31:18.409\u001b[0m | \u001b[1mINFO    \u001b[0m | \u001b[36msrc.model_selection.cv_main\u001b[0m:\u001b[36mpredict\u001b[0m:\u001b[36m276\u001b[0m - \u001b[1mSample 144/250 predicted.\u001b[0m\n",
      "\u001b[32m2025-10-22 20:31:18.414\u001b[0m | \u001b[34m\u001b[1mDEBUG   \u001b[0m | \u001b[36msrc.utils.general\u001b[0m:\u001b[36mopen_csv\u001b[0m:\u001b[36m108\u001b[0m - \u001b[34m\u001b[1mLoaded CSV: c:\\Users\\OAVAI\\Desktop\\mma - Copy\\mma_light\\data\\output\\feature_selection\\natty_feature_frequency.csv (87 rows)\u001b[0m\n",
      "\u001b[32m2025-10-22 20:31:18.415\u001b[0m | \u001b[1mINFO    \u001b[0m | \u001b[36msrc.model_selection.cv_main\u001b[0m:\u001b[36m_cross_validate\u001b[0m:\u001b[36m476\u001b[0m - \u001b[1mSelected top 78 features for CV: 78\u001b[0m\n"
     ]
    },
    {
     "name": "stdout",
     "output_type": "stream",
     "text": [
      "huh\n"
     ]
    },
    {
     "name": "stderr",
     "output_type": "stream",
     "text": [
      "\u001b[32m2025-10-22 20:31:25.097\u001b[0m | \u001b[1mINFO    \u001b[0m | \u001b[36msrc.model_selection.cv_main\u001b[0m:\u001b[36mpredict\u001b[0m:\u001b[36m276\u001b[0m - \u001b[1mSample 145/250 predicted.\u001b[0m\n",
      "\u001b[32m2025-10-22 20:31:25.100\u001b[0m | \u001b[34m\u001b[1mDEBUG   \u001b[0m | \u001b[36msrc.utils.general\u001b[0m:\u001b[36mopen_csv\u001b[0m:\u001b[36m108\u001b[0m - \u001b[34m\u001b[1mLoaded CSV: c:\\Users\\OAVAI\\Desktop\\mma - Copy\\mma_light\\data\\output\\feature_selection\\natty_feature_frequency.csv (87 rows)\u001b[0m\n",
      "\u001b[32m2025-10-22 20:31:25.101\u001b[0m | \u001b[1mINFO    \u001b[0m | \u001b[36msrc.model_selection.cv_main\u001b[0m:\u001b[36m_cross_validate\u001b[0m:\u001b[36m476\u001b[0m - \u001b[1mSelected top 78 features for CV: 78\u001b[0m\n"
     ]
    },
    {
     "name": "stdout",
     "output_type": "stream",
     "text": [
      "huh\n"
     ]
    },
    {
     "name": "stderr",
     "output_type": "stream",
     "text": [
      "\u001b[32m2025-10-22 20:31:31.248\u001b[0m | \u001b[1mINFO    \u001b[0m | \u001b[36msrc.model_selection.cv_main\u001b[0m:\u001b[36mpredict\u001b[0m:\u001b[36m276\u001b[0m - \u001b[1mSample 146/250 predicted.\u001b[0m\n",
      "\u001b[32m2025-10-22 20:31:31.249\u001b[0m | \u001b[34m\u001b[1mDEBUG   \u001b[0m | \u001b[36msrc.utils.general\u001b[0m:\u001b[36mopen_csv\u001b[0m:\u001b[36m108\u001b[0m - \u001b[34m\u001b[1mLoaded CSV: c:\\Users\\OAVAI\\Desktop\\mma - Copy\\mma_light\\data\\output\\feature_selection\\natty_feature_frequency.csv (87 rows)\u001b[0m\n",
      "\u001b[32m2025-10-22 20:31:31.249\u001b[0m | \u001b[1mINFO    \u001b[0m | \u001b[36msrc.model_selection.cv_main\u001b[0m:\u001b[36m_cross_validate\u001b[0m:\u001b[36m476\u001b[0m - \u001b[1mSelected top 78 features for CV: 78\u001b[0m\n"
     ]
    },
    {
     "name": "stdout",
     "output_type": "stream",
     "text": [
      "huh\n"
     ]
    },
    {
     "name": "stderr",
     "output_type": "stream",
     "text": [
      "\u001b[32m2025-10-22 20:31:38.034\u001b[0m | \u001b[1mINFO    \u001b[0m | \u001b[36msrc.model_selection.cv_main\u001b[0m:\u001b[36mpredict\u001b[0m:\u001b[36m276\u001b[0m - \u001b[1mSample 147/250 predicted.\u001b[0m\n",
      "\u001b[32m2025-10-22 20:31:38.037\u001b[0m | \u001b[34m\u001b[1mDEBUG   \u001b[0m | \u001b[36msrc.utils.general\u001b[0m:\u001b[36mopen_csv\u001b[0m:\u001b[36m108\u001b[0m - \u001b[34m\u001b[1mLoaded CSV: c:\\Users\\OAVAI\\Desktop\\mma - Copy\\mma_light\\data\\output\\feature_selection\\natty_feature_frequency.csv (87 rows)\u001b[0m\n",
      "\u001b[32m2025-10-22 20:31:38.038\u001b[0m | \u001b[1mINFO    \u001b[0m | \u001b[36msrc.model_selection.cv_main\u001b[0m:\u001b[36m_cross_validate\u001b[0m:\u001b[36m476\u001b[0m - \u001b[1mSelected top 78 features for CV: 78\u001b[0m\n"
     ]
    },
    {
     "name": "stdout",
     "output_type": "stream",
     "text": [
      "huh\n"
     ]
    },
    {
     "name": "stderr",
     "output_type": "stream",
     "text": [
      "\u001b[32m2025-10-22 20:31:42.483\u001b[0m | \u001b[1mINFO    \u001b[0m | \u001b[36msrc.model_selection.cv_main\u001b[0m:\u001b[36mpredict\u001b[0m:\u001b[36m276\u001b[0m - \u001b[1mSample 148/250 predicted.\u001b[0m\n",
      "\u001b[32m2025-10-22 20:31:42.486\u001b[0m | \u001b[34m\u001b[1mDEBUG   \u001b[0m | \u001b[36msrc.utils.general\u001b[0m:\u001b[36mopen_csv\u001b[0m:\u001b[36m108\u001b[0m - \u001b[34m\u001b[1mLoaded CSV: c:\\Users\\OAVAI\\Desktop\\mma - Copy\\mma_light\\data\\output\\feature_selection\\natty_feature_frequency.csv (87 rows)\u001b[0m\n",
      "\u001b[32m2025-10-22 20:31:42.486\u001b[0m | \u001b[1mINFO    \u001b[0m | \u001b[36msrc.model_selection.cv_main\u001b[0m:\u001b[36m_cross_validate\u001b[0m:\u001b[36m476\u001b[0m - \u001b[1mSelected top 78 features for CV: 78\u001b[0m\n"
     ]
    },
    {
     "name": "stdout",
     "output_type": "stream",
     "text": [
      "huh\n"
     ]
    },
    {
     "name": "stderr",
     "output_type": "stream",
     "text": [
      "\u001b[32m2025-10-22 20:31:47.508\u001b[0m | \u001b[1mINFO    \u001b[0m | \u001b[36msrc.model_selection.cv_main\u001b[0m:\u001b[36mpredict\u001b[0m:\u001b[36m276\u001b[0m - \u001b[1mSample 149/250 predicted.\u001b[0m\n",
      "\u001b[32m2025-10-22 20:31:47.511\u001b[0m | \u001b[34m\u001b[1mDEBUG   \u001b[0m | \u001b[36msrc.utils.general\u001b[0m:\u001b[36mopen_csv\u001b[0m:\u001b[36m108\u001b[0m - \u001b[34m\u001b[1mLoaded CSV: c:\\Users\\OAVAI\\Desktop\\mma - Copy\\mma_light\\data\\output\\feature_selection\\natty_feature_frequency.csv (87 rows)\u001b[0m\n",
      "\u001b[32m2025-10-22 20:31:47.512\u001b[0m | \u001b[1mINFO    \u001b[0m | \u001b[36msrc.model_selection.cv_main\u001b[0m:\u001b[36m_cross_validate\u001b[0m:\u001b[36m476\u001b[0m - \u001b[1mSelected top 78 features for CV: 78\u001b[0m\n"
     ]
    },
    {
     "name": "stdout",
     "output_type": "stream",
     "text": [
      "huh\n"
     ]
    },
    {
     "name": "stderr",
     "output_type": "stream",
     "text": [
      "\u001b[32m2025-10-22 20:31:51.210\u001b[0m | \u001b[1mINFO    \u001b[0m | \u001b[36msrc.model_selection.cv_main\u001b[0m:\u001b[36mpredict\u001b[0m:\u001b[36m276\u001b[0m - \u001b[1mSample 150/250 predicted.\u001b[0m\n",
      "\u001b[32m2025-10-22 20:31:51.213\u001b[0m | \u001b[34m\u001b[1mDEBUG   \u001b[0m | \u001b[36msrc.utils.general\u001b[0m:\u001b[36mopen_csv\u001b[0m:\u001b[36m108\u001b[0m - \u001b[34m\u001b[1mLoaded CSV: c:\\Users\\OAVAI\\Desktop\\mma - Copy\\mma_light\\data\\output\\feature_selection\\natty_feature_frequency.csv (87 rows)\u001b[0m\n",
      "\u001b[32m2025-10-22 20:31:51.214\u001b[0m | \u001b[1mINFO    \u001b[0m | \u001b[36msrc.model_selection.cv_main\u001b[0m:\u001b[36m_cross_validate\u001b[0m:\u001b[36m476\u001b[0m - \u001b[1mSelected top 78 features for CV: 78\u001b[0m\n"
     ]
    },
    {
     "name": "stdout",
     "output_type": "stream",
     "text": [
      "huh\n"
     ]
    },
    {
     "name": "stderr",
     "output_type": "stream",
     "text": [
      "\u001b[32m2025-10-22 20:31:56.763\u001b[0m | \u001b[1mINFO    \u001b[0m | \u001b[36msrc.model_selection.cv_main\u001b[0m:\u001b[36mpredict\u001b[0m:\u001b[36m276\u001b[0m - \u001b[1mSample 151/250 predicted.\u001b[0m\n",
      "\u001b[32m2025-10-22 20:31:56.766\u001b[0m | \u001b[34m\u001b[1mDEBUG   \u001b[0m | \u001b[36msrc.utils.general\u001b[0m:\u001b[36mopen_csv\u001b[0m:\u001b[36m108\u001b[0m - \u001b[34m\u001b[1mLoaded CSV: c:\\Users\\OAVAI\\Desktop\\mma - Copy\\mma_light\\data\\output\\feature_selection\\natty_feature_frequency.csv (87 rows)\u001b[0m\n",
      "\u001b[32m2025-10-22 20:31:56.767\u001b[0m | \u001b[1mINFO    \u001b[0m | \u001b[36msrc.model_selection.cv_main\u001b[0m:\u001b[36m_cross_validate\u001b[0m:\u001b[36m476\u001b[0m - \u001b[1mSelected top 78 features for CV: 78\u001b[0m\n"
     ]
    },
    {
     "name": "stdout",
     "output_type": "stream",
     "text": [
      "huh\n"
     ]
    },
    {
     "name": "stderr",
     "output_type": "stream",
     "text": [
      "\u001b[32m2025-10-22 20:32:02.847\u001b[0m | \u001b[1mINFO    \u001b[0m | \u001b[36msrc.model_selection.cv_main\u001b[0m:\u001b[36mpredict\u001b[0m:\u001b[36m276\u001b[0m - \u001b[1mSample 152/250 predicted.\u001b[0m\n",
      "\u001b[32m2025-10-22 20:32:02.851\u001b[0m | \u001b[34m\u001b[1mDEBUG   \u001b[0m | \u001b[36msrc.utils.general\u001b[0m:\u001b[36mopen_csv\u001b[0m:\u001b[36m108\u001b[0m - \u001b[34m\u001b[1mLoaded CSV: c:\\Users\\OAVAI\\Desktop\\mma - Copy\\mma_light\\data\\output\\feature_selection\\natty_feature_frequency.csv (87 rows)\u001b[0m\n",
      "\u001b[32m2025-10-22 20:32:02.853\u001b[0m | \u001b[1mINFO    \u001b[0m | \u001b[36msrc.model_selection.cv_main\u001b[0m:\u001b[36m_cross_validate\u001b[0m:\u001b[36m476\u001b[0m - \u001b[1mSelected top 78 features for CV: 78\u001b[0m\n"
     ]
    },
    {
     "name": "stdout",
     "output_type": "stream",
     "text": [
      "huh\n"
     ]
    },
    {
     "name": "stderr",
     "output_type": "stream",
     "text": [
      "\u001b[32m2025-10-22 20:32:08.145\u001b[0m | \u001b[1mINFO    \u001b[0m | \u001b[36msrc.model_selection.cv_main\u001b[0m:\u001b[36mpredict\u001b[0m:\u001b[36m276\u001b[0m - \u001b[1mSample 153/250 predicted.\u001b[0m\n",
      "\u001b[32m2025-10-22 20:32:08.147\u001b[0m | \u001b[34m\u001b[1mDEBUG   \u001b[0m | \u001b[36msrc.utils.general\u001b[0m:\u001b[36mopen_csv\u001b[0m:\u001b[36m108\u001b[0m - \u001b[34m\u001b[1mLoaded CSV: c:\\Users\\OAVAI\\Desktop\\mma - Copy\\mma_light\\data\\output\\feature_selection\\natty_feature_frequency.csv (87 rows)\u001b[0m\n",
      "\u001b[32m2025-10-22 20:32:08.149\u001b[0m | \u001b[1mINFO    \u001b[0m | \u001b[36msrc.model_selection.cv_main\u001b[0m:\u001b[36m_cross_validate\u001b[0m:\u001b[36m476\u001b[0m - \u001b[1mSelected top 78 features for CV: 78\u001b[0m\n"
     ]
    },
    {
     "name": "stdout",
     "output_type": "stream",
     "text": [
      "huh\n"
     ]
    },
    {
     "name": "stderr",
     "output_type": "stream",
     "text": [
      "\u001b[32m2025-10-22 20:32:13.324\u001b[0m | \u001b[1mINFO    \u001b[0m | \u001b[36msrc.model_selection.cv_main\u001b[0m:\u001b[36mpredict\u001b[0m:\u001b[36m276\u001b[0m - \u001b[1mSample 154/250 predicted.\u001b[0m\n",
      "\u001b[32m2025-10-22 20:32:13.326\u001b[0m | \u001b[34m\u001b[1mDEBUG   \u001b[0m | \u001b[36msrc.utils.general\u001b[0m:\u001b[36mopen_csv\u001b[0m:\u001b[36m108\u001b[0m - \u001b[34m\u001b[1mLoaded CSV: c:\\Users\\OAVAI\\Desktop\\mma - Copy\\mma_light\\data\\output\\feature_selection\\natty_feature_frequency.csv (87 rows)\u001b[0m\n",
      "\u001b[32m2025-10-22 20:32:13.326\u001b[0m | \u001b[1mINFO    \u001b[0m | \u001b[36msrc.model_selection.cv_main\u001b[0m:\u001b[36m_cross_validate\u001b[0m:\u001b[36m476\u001b[0m - \u001b[1mSelected top 78 features for CV: 78\u001b[0m\n"
     ]
    },
    {
     "name": "stdout",
     "output_type": "stream",
     "text": [
      "huh\n"
     ]
    },
    {
     "name": "stderr",
     "output_type": "stream",
     "text": [
      "\u001b[32m2025-10-22 20:32:20.179\u001b[0m | \u001b[1mINFO    \u001b[0m | \u001b[36msrc.model_selection.cv_main\u001b[0m:\u001b[36mpredict\u001b[0m:\u001b[36m276\u001b[0m - \u001b[1mSample 155/250 predicted.\u001b[0m\n",
      "\u001b[32m2025-10-22 20:32:20.182\u001b[0m | \u001b[34m\u001b[1mDEBUG   \u001b[0m | \u001b[36msrc.utils.general\u001b[0m:\u001b[36mopen_csv\u001b[0m:\u001b[36m108\u001b[0m - \u001b[34m\u001b[1mLoaded CSV: c:\\Users\\OAVAI\\Desktop\\mma - Copy\\mma_light\\data\\output\\feature_selection\\natty_feature_frequency.csv (87 rows)\u001b[0m\n",
      "\u001b[32m2025-10-22 20:32:20.183\u001b[0m | \u001b[1mINFO    \u001b[0m | \u001b[36msrc.model_selection.cv_main\u001b[0m:\u001b[36m_cross_validate\u001b[0m:\u001b[36m476\u001b[0m - \u001b[1mSelected top 78 features for CV: 78\u001b[0m\n"
     ]
    },
    {
     "name": "stdout",
     "output_type": "stream",
     "text": [
      "huh\n"
     ]
    },
    {
     "name": "stderr",
     "output_type": "stream",
     "text": [
      "\u001b[32m2025-10-22 20:32:25.977\u001b[0m | \u001b[1mINFO    \u001b[0m | \u001b[36msrc.model_selection.cv_main\u001b[0m:\u001b[36mpredict\u001b[0m:\u001b[36m276\u001b[0m - \u001b[1mSample 156/250 predicted.\u001b[0m\n",
      "\u001b[32m2025-10-22 20:32:25.981\u001b[0m | \u001b[34m\u001b[1mDEBUG   \u001b[0m | \u001b[36msrc.utils.general\u001b[0m:\u001b[36mopen_csv\u001b[0m:\u001b[36m108\u001b[0m - \u001b[34m\u001b[1mLoaded CSV: c:\\Users\\OAVAI\\Desktop\\mma - Copy\\mma_light\\data\\output\\feature_selection\\natty_feature_frequency.csv (87 rows)\u001b[0m\n",
      "\u001b[32m2025-10-22 20:32:25.982\u001b[0m | \u001b[1mINFO    \u001b[0m | \u001b[36msrc.model_selection.cv_main\u001b[0m:\u001b[36m_cross_validate\u001b[0m:\u001b[36m476\u001b[0m - \u001b[1mSelected top 78 features for CV: 78\u001b[0m\n"
     ]
    },
    {
     "name": "stdout",
     "output_type": "stream",
     "text": [
      "huh\n"
     ]
    },
    {
     "name": "stderr",
     "output_type": "stream",
     "text": [
      "\u001b[32m2025-10-22 20:32:30.302\u001b[0m | \u001b[1mINFO    \u001b[0m | \u001b[36msrc.model_selection.cv_main\u001b[0m:\u001b[36mpredict\u001b[0m:\u001b[36m276\u001b[0m - \u001b[1mSample 157/250 predicted.\u001b[0m\n",
      "\u001b[32m2025-10-22 20:32:30.305\u001b[0m | \u001b[34m\u001b[1mDEBUG   \u001b[0m | \u001b[36msrc.utils.general\u001b[0m:\u001b[36mopen_csv\u001b[0m:\u001b[36m108\u001b[0m - \u001b[34m\u001b[1mLoaded CSV: c:\\Users\\OAVAI\\Desktop\\mma - Copy\\mma_light\\data\\output\\feature_selection\\natty_feature_frequency.csv (87 rows)\u001b[0m\n",
      "\u001b[32m2025-10-22 20:32:30.306\u001b[0m | \u001b[1mINFO    \u001b[0m | \u001b[36msrc.model_selection.cv_main\u001b[0m:\u001b[36m_cross_validate\u001b[0m:\u001b[36m476\u001b[0m - \u001b[1mSelected top 78 features for CV: 78\u001b[0m\n"
     ]
    },
    {
     "name": "stdout",
     "output_type": "stream",
     "text": [
      "huh\n"
     ]
    },
    {
     "name": "stderr",
     "output_type": "stream",
     "text": [
      "\u001b[32m2025-10-22 20:32:36.389\u001b[0m | \u001b[1mINFO    \u001b[0m | \u001b[36msrc.model_selection.cv_main\u001b[0m:\u001b[36mpredict\u001b[0m:\u001b[36m276\u001b[0m - \u001b[1mSample 158/250 predicted.\u001b[0m\n",
      "\u001b[32m2025-10-22 20:32:36.394\u001b[0m | \u001b[34m\u001b[1mDEBUG   \u001b[0m | \u001b[36msrc.utils.general\u001b[0m:\u001b[36mopen_csv\u001b[0m:\u001b[36m108\u001b[0m - \u001b[34m\u001b[1mLoaded CSV: c:\\Users\\OAVAI\\Desktop\\mma - Copy\\mma_light\\data\\output\\feature_selection\\natty_feature_frequency.csv (87 rows)\u001b[0m\n",
      "\u001b[32m2025-10-22 20:32:36.396\u001b[0m | \u001b[1mINFO    \u001b[0m | \u001b[36msrc.model_selection.cv_main\u001b[0m:\u001b[36m_cross_validate\u001b[0m:\u001b[36m476\u001b[0m - \u001b[1mSelected top 78 features for CV: 78\u001b[0m\n"
     ]
    },
    {
     "name": "stdout",
     "output_type": "stream",
     "text": [
      "huh\n"
     ]
    },
    {
     "name": "stderr",
     "output_type": "stream",
     "text": [
      "\u001b[32m2025-10-22 20:32:43.789\u001b[0m | \u001b[1mINFO    \u001b[0m | \u001b[36msrc.model_selection.cv_main\u001b[0m:\u001b[36mpredict\u001b[0m:\u001b[36m276\u001b[0m - \u001b[1mSample 159/250 predicted.\u001b[0m\n",
      "\u001b[32m2025-10-22 20:32:43.793\u001b[0m | \u001b[34m\u001b[1mDEBUG   \u001b[0m | \u001b[36msrc.utils.general\u001b[0m:\u001b[36mopen_csv\u001b[0m:\u001b[36m108\u001b[0m - \u001b[34m\u001b[1mLoaded CSV: c:\\Users\\OAVAI\\Desktop\\mma - Copy\\mma_light\\data\\output\\feature_selection\\natty_feature_frequency.csv (87 rows)\u001b[0m\n",
      "\u001b[32m2025-10-22 20:32:43.794\u001b[0m | \u001b[1mINFO    \u001b[0m | \u001b[36msrc.model_selection.cv_main\u001b[0m:\u001b[36m_cross_validate\u001b[0m:\u001b[36m476\u001b[0m - \u001b[1mSelected top 78 features for CV: 78\u001b[0m\n"
     ]
    },
    {
     "name": "stdout",
     "output_type": "stream",
     "text": [
      "huh\n"
     ]
    },
    {
     "name": "stderr",
     "output_type": "stream",
     "text": [
      "\u001b[32m2025-10-22 20:32:50.152\u001b[0m | \u001b[1mINFO    \u001b[0m | \u001b[36msrc.model_selection.cv_main\u001b[0m:\u001b[36mpredict\u001b[0m:\u001b[36m276\u001b[0m - \u001b[1mSample 160/250 predicted.\u001b[0m\n",
      "\u001b[32m2025-10-22 20:32:50.155\u001b[0m | \u001b[34m\u001b[1mDEBUG   \u001b[0m | \u001b[36msrc.utils.general\u001b[0m:\u001b[36mopen_csv\u001b[0m:\u001b[36m108\u001b[0m - \u001b[34m\u001b[1mLoaded CSV: c:\\Users\\OAVAI\\Desktop\\mma - Copy\\mma_light\\data\\output\\feature_selection\\natty_feature_frequency.csv (87 rows)\u001b[0m\n",
      "\u001b[32m2025-10-22 20:32:50.156\u001b[0m | \u001b[1mINFO    \u001b[0m | \u001b[36msrc.model_selection.cv_main\u001b[0m:\u001b[36m_cross_validate\u001b[0m:\u001b[36m476\u001b[0m - \u001b[1mSelected top 78 features for CV: 78\u001b[0m\n"
     ]
    },
    {
     "name": "stdout",
     "output_type": "stream",
     "text": [
      "huh\n"
     ]
    },
    {
     "name": "stderr",
     "output_type": "stream",
     "text": [
      "\u001b[32m2025-10-22 20:32:57.493\u001b[0m | \u001b[1mINFO    \u001b[0m | \u001b[36msrc.model_selection.cv_main\u001b[0m:\u001b[36mpredict\u001b[0m:\u001b[36m276\u001b[0m - \u001b[1mSample 161/250 predicted.\u001b[0m\n",
      "\u001b[32m2025-10-22 20:32:57.497\u001b[0m | \u001b[34m\u001b[1mDEBUG   \u001b[0m | \u001b[36msrc.utils.general\u001b[0m:\u001b[36mopen_csv\u001b[0m:\u001b[36m108\u001b[0m - \u001b[34m\u001b[1mLoaded CSV: c:\\Users\\OAVAI\\Desktop\\mma - Copy\\mma_light\\data\\output\\feature_selection\\natty_feature_frequency.csv (87 rows)\u001b[0m\n",
      "\u001b[32m2025-10-22 20:32:57.498\u001b[0m | \u001b[1mINFO    \u001b[0m | \u001b[36msrc.model_selection.cv_main\u001b[0m:\u001b[36m_cross_validate\u001b[0m:\u001b[36m476\u001b[0m - \u001b[1mSelected top 78 features for CV: 78\u001b[0m\n"
     ]
    },
    {
     "name": "stdout",
     "output_type": "stream",
     "text": [
      "huh\n"
     ]
    },
    {
     "name": "stderr",
     "output_type": "stream",
     "text": [
      "\u001b[32m2025-10-22 20:33:03.026\u001b[0m | \u001b[1mINFO    \u001b[0m | \u001b[36msrc.model_selection.cv_main\u001b[0m:\u001b[36mpredict\u001b[0m:\u001b[36m276\u001b[0m - \u001b[1mSample 162/250 predicted.\u001b[0m\n",
      "\u001b[32m2025-10-22 20:33:03.029\u001b[0m | \u001b[34m\u001b[1mDEBUG   \u001b[0m | \u001b[36msrc.utils.general\u001b[0m:\u001b[36mopen_csv\u001b[0m:\u001b[36m108\u001b[0m - \u001b[34m\u001b[1mLoaded CSV: c:\\Users\\OAVAI\\Desktop\\mma - Copy\\mma_light\\data\\output\\feature_selection\\natty_feature_frequency.csv (87 rows)\u001b[0m\n",
      "\u001b[32m2025-10-22 20:33:03.030\u001b[0m | \u001b[1mINFO    \u001b[0m | \u001b[36msrc.model_selection.cv_main\u001b[0m:\u001b[36m_cross_validate\u001b[0m:\u001b[36m476\u001b[0m - \u001b[1mSelected top 78 features for CV: 78\u001b[0m\n"
     ]
    },
    {
     "name": "stdout",
     "output_type": "stream",
     "text": [
      "huh\n"
     ]
    },
    {
     "name": "stderr",
     "output_type": "stream",
     "text": [
      "\u001b[32m2025-10-22 20:33:10.869\u001b[0m | \u001b[1mINFO    \u001b[0m | \u001b[36msrc.model_selection.cv_main\u001b[0m:\u001b[36mpredict\u001b[0m:\u001b[36m276\u001b[0m - \u001b[1mSample 163/250 predicted.\u001b[0m\n",
      "\u001b[32m2025-10-22 20:33:10.873\u001b[0m | \u001b[34m\u001b[1mDEBUG   \u001b[0m | \u001b[36msrc.utils.general\u001b[0m:\u001b[36mopen_csv\u001b[0m:\u001b[36m108\u001b[0m - \u001b[34m\u001b[1mLoaded CSV: c:\\Users\\OAVAI\\Desktop\\mma - Copy\\mma_light\\data\\output\\feature_selection\\natty_feature_frequency.csv (87 rows)\u001b[0m\n",
      "\u001b[32m2025-10-22 20:33:10.874\u001b[0m | \u001b[1mINFO    \u001b[0m | \u001b[36msrc.model_selection.cv_main\u001b[0m:\u001b[36m_cross_validate\u001b[0m:\u001b[36m476\u001b[0m - \u001b[1mSelected top 78 features for CV: 78\u001b[0m\n"
     ]
    },
    {
     "name": "stdout",
     "output_type": "stream",
     "text": [
      "huh\n"
     ]
    },
    {
     "name": "stderr",
     "output_type": "stream",
     "text": [
      "\u001b[32m2025-10-22 20:33:18.080\u001b[0m | \u001b[1mINFO    \u001b[0m | \u001b[36msrc.model_selection.cv_main\u001b[0m:\u001b[36mpredict\u001b[0m:\u001b[36m276\u001b[0m - \u001b[1mSample 164/250 predicted.\u001b[0m\n",
      "\u001b[32m2025-10-22 20:33:18.083\u001b[0m | \u001b[34m\u001b[1mDEBUG   \u001b[0m | \u001b[36msrc.utils.general\u001b[0m:\u001b[36mopen_csv\u001b[0m:\u001b[36m108\u001b[0m - \u001b[34m\u001b[1mLoaded CSV: c:\\Users\\OAVAI\\Desktop\\mma - Copy\\mma_light\\data\\output\\feature_selection\\natty_feature_frequency.csv (87 rows)\u001b[0m\n",
      "\u001b[32m2025-10-22 20:33:18.084\u001b[0m | \u001b[1mINFO    \u001b[0m | \u001b[36msrc.model_selection.cv_main\u001b[0m:\u001b[36m_cross_validate\u001b[0m:\u001b[36m476\u001b[0m - \u001b[1mSelected top 78 features for CV: 78\u001b[0m\n"
     ]
    },
    {
     "name": "stdout",
     "output_type": "stream",
     "text": [
      "huh\n"
     ]
    },
    {
     "name": "stderr",
     "output_type": "stream",
     "text": [
      "\u001b[32m2025-10-22 20:33:23.637\u001b[0m | \u001b[1mINFO    \u001b[0m | \u001b[36msrc.model_selection.cv_main\u001b[0m:\u001b[36mpredict\u001b[0m:\u001b[36m276\u001b[0m - \u001b[1mSample 165/250 predicted.\u001b[0m\n",
      "\u001b[32m2025-10-22 20:33:23.639\u001b[0m | \u001b[34m\u001b[1mDEBUG   \u001b[0m | \u001b[36msrc.utils.general\u001b[0m:\u001b[36mopen_csv\u001b[0m:\u001b[36m108\u001b[0m - \u001b[34m\u001b[1mLoaded CSV: c:\\Users\\OAVAI\\Desktop\\mma - Copy\\mma_light\\data\\output\\feature_selection\\natty_feature_frequency.csv (87 rows)\u001b[0m\n",
      "\u001b[32m2025-10-22 20:33:23.640\u001b[0m | \u001b[1mINFO    \u001b[0m | \u001b[36msrc.model_selection.cv_main\u001b[0m:\u001b[36m_cross_validate\u001b[0m:\u001b[36m476\u001b[0m - \u001b[1mSelected top 78 features for CV: 78\u001b[0m\n"
     ]
    },
    {
     "name": "stdout",
     "output_type": "stream",
     "text": [
      "huh\n"
     ]
    },
    {
     "name": "stderr",
     "output_type": "stream",
     "text": [
      "\u001b[32m2025-10-22 20:33:28.649\u001b[0m | \u001b[1mINFO    \u001b[0m | \u001b[36msrc.model_selection.cv_main\u001b[0m:\u001b[36mpredict\u001b[0m:\u001b[36m276\u001b[0m - \u001b[1mSample 166/250 predicted.\u001b[0m\n",
      "\u001b[32m2025-10-22 20:33:28.653\u001b[0m | \u001b[34m\u001b[1mDEBUG   \u001b[0m | \u001b[36msrc.utils.general\u001b[0m:\u001b[36mopen_csv\u001b[0m:\u001b[36m108\u001b[0m - \u001b[34m\u001b[1mLoaded CSV: c:\\Users\\OAVAI\\Desktop\\mma - Copy\\mma_light\\data\\output\\feature_selection\\natty_feature_frequency.csv (87 rows)\u001b[0m\n",
      "\u001b[32m2025-10-22 20:33:28.654\u001b[0m | \u001b[1mINFO    \u001b[0m | \u001b[36msrc.model_selection.cv_main\u001b[0m:\u001b[36m_cross_validate\u001b[0m:\u001b[36m476\u001b[0m - \u001b[1mSelected top 78 features for CV: 78\u001b[0m\n"
     ]
    },
    {
     "name": "stdout",
     "output_type": "stream",
     "text": [
      "huh\n"
     ]
    },
    {
     "name": "stderr",
     "output_type": "stream",
     "text": [
      "\u001b[32m2025-10-22 20:33:33.740\u001b[0m | \u001b[1mINFO    \u001b[0m | \u001b[36msrc.model_selection.cv_main\u001b[0m:\u001b[36mpredict\u001b[0m:\u001b[36m276\u001b[0m - \u001b[1mSample 167/250 predicted.\u001b[0m\n",
      "\u001b[32m2025-10-22 20:33:33.742\u001b[0m | \u001b[34m\u001b[1mDEBUG   \u001b[0m | \u001b[36msrc.utils.general\u001b[0m:\u001b[36mopen_csv\u001b[0m:\u001b[36m108\u001b[0m - \u001b[34m\u001b[1mLoaded CSV: c:\\Users\\OAVAI\\Desktop\\mma - Copy\\mma_light\\data\\output\\feature_selection\\natty_feature_frequency.csv (87 rows)\u001b[0m\n",
      "\u001b[32m2025-10-22 20:33:33.744\u001b[0m | \u001b[1mINFO    \u001b[0m | \u001b[36msrc.model_selection.cv_main\u001b[0m:\u001b[36m_cross_validate\u001b[0m:\u001b[36m476\u001b[0m - \u001b[1mSelected top 78 features for CV: 78\u001b[0m\n"
     ]
    },
    {
     "name": "stdout",
     "output_type": "stream",
     "text": [
      "huh\n"
     ]
    },
    {
     "name": "stderr",
     "output_type": "stream",
     "text": [
      "\u001b[32m2025-10-22 20:33:40.393\u001b[0m | \u001b[1mINFO    \u001b[0m | \u001b[36msrc.model_selection.cv_main\u001b[0m:\u001b[36mpredict\u001b[0m:\u001b[36m276\u001b[0m - \u001b[1mSample 168/250 predicted.\u001b[0m\n",
      "\u001b[32m2025-10-22 20:33:40.396\u001b[0m | \u001b[34m\u001b[1mDEBUG   \u001b[0m | \u001b[36msrc.utils.general\u001b[0m:\u001b[36mopen_csv\u001b[0m:\u001b[36m108\u001b[0m - \u001b[34m\u001b[1mLoaded CSV: c:\\Users\\OAVAI\\Desktop\\mma - Copy\\mma_light\\data\\output\\feature_selection\\natty_feature_frequency.csv (87 rows)\u001b[0m\n",
      "\u001b[32m2025-10-22 20:33:40.397\u001b[0m | \u001b[1mINFO    \u001b[0m | \u001b[36msrc.model_selection.cv_main\u001b[0m:\u001b[36m_cross_validate\u001b[0m:\u001b[36m476\u001b[0m - \u001b[1mSelected top 78 features for CV: 78\u001b[0m\n"
     ]
    },
    {
     "name": "stdout",
     "output_type": "stream",
     "text": [
      "huh\n"
     ]
    },
    {
     "name": "stderr",
     "output_type": "stream",
     "text": [
      "\u001b[32m2025-10-22 20:33:47.466\u001b[0m | \u001b[1mINFO    \u001b[0m | \u001b[36msrc.model_selection.cv_main\u001b[0m:\u001b[36mpredict\u001b[0m:\u001b[36m276\u001b[0m - \u001b[1mSample 169/250 predicted.\u001b[0m\n",
      "\u001b[32m2025-10-22 20:33:47.469\u001b[0m | \u001b[34m\u001b[1mDEBUG   \u001b[0m | \u001b[36msrc.utils.general\u001b[0m:\u001b[36mopen_csv\u001b[0m:\u001b[36m108\u001b[0m - \u001b[34m\u001b[1mLoaded CSV: c:\\Users\\OAVAI\\Desktop\\mma - Copy\\mma_light\\data\\output\\feature_selection\\natty_feature_frequency.csv (87 rows)\u001b[0m\n",
      "\u001b[32m2025-10-22 20:33:47.470\u001b[0m | \u001b[1mINFO    \u001b[0m | \u001b[36msrc.model_selection.cv_main\u001b[0m:\u001b[36m_cross_validate\u001b[0m:\u001b[36m476\u001b[0m - \u001b[1mSelected top 78 features for CV: 78\u001b[0m\n"
     ]
    },
    {
     "name": "stdout",
     "output_type": "stream",
     "text": [
      "huh\n"
     ]
    },
    {
     "name": "stderr",
     "output_type": "stream",
     "text": [
      "\u001b[32m2025-10-22 20:33:53.613\u001b[0m | \u001b[1mINFO    \u001b[0m | \u001b[36msrc.model_selection.cv_main\u001b[0m:\u001b[36mpredict\u001b[0m:\u001b[36m276\u001b[0m - \u001b[1mSample 170/250 predicted.\u001b[0m\n",
      "\u001b[32m2025-10-22 20:33:53.617\u001b[0m | \u001b[34m\u001b[1mDEBUG   \u001b[0m | \u001b[36msrc.utils.general\u001b[0m:\u001b[36mopen_csv\u001b[0m:\u001b[36m108\u001b[0m - \u001b[34m\u001b[1mLoaded CSV: c:\\Users\\OAVAI\\Desktop\\mma - Copy\\mma_light\\data\\output\\feature_selection\\natty_feature_frequency.csv (87 rows)\u001b[0m\n",
      "\u001b[32m2025-10-22 20:33:53.618\u001b[0m | \u001b[1mINFO    \u001b[0m | \u001b[36msrc.model_selection.cv_main\u001b[0m:\u001b[36m_cross_validate\u001b[0m:\u001b[36m476\u001b[0m - \u001b[1mSelected top 78 features for CV: 78\u001b[0m\n"
     ]
    },
    {
     "name": "stdout",
     "output_type": "stream",
     "text": [
      "huh\n"
     ]
    },
    {
     "name": "stderr",
     "output_type": "stream",
     "text": [
      "\u001b[32m2025-10-22 20:33:57.981\u001b[0m | \u001b[1mINFO    \u001b[0m | \u001b[36msrc.model_selection.cv_main\u001b[0m:\u001b[36mpredict\u001b[0m:\u001b[36m276\u001b[0m - \u001b[1mSample 171/250 predicted.\u001b[0m\n",
      "\u001b[32m2025-10-22 20:33:57.985\u001b[0m | \u001b[34m\u001b[1mDEBUG   \u001b[0m | \u001b[36msrc.utils.general\u001b[0m:\u001b[36mopen_csv\u001b[0m:\u001b[36m108\u001b[0m - \u001b[34m\u001b[1mLoaded CSV: c:\\Users\\OAVAI\\Desktop\\mma - Copy\\mma_light\\data\\output\\feature_selection\\natty_feature_frequency.csv (87 rows)\u001b[0m\n",
      "\u001b[32m2025-10-22 20:33:57.986\u001b[0m | \u001b[1mINFO    \u001b[0m | \u001b[36msrc.model_selection.cv_main\u001b[0m:\u001b[36m_cross_validate\u001b[0m:\u001b[36m476\u001b[0m - \u001b[1mSelected top 78 features for CV: 78\u001b[0m\n"
     ]
    },
    {
     "name": "stdout",
     "output_type": "stream",
     "text": [
      "huh\n"
     ]
    },
    {
     "name": "stderr",
     "output_type": "stream",
     "text": [
      "\u001b[32m2025-10-22 20:34:04.651\u001b[0m | \u001b[1mINFO    \u001b[0m | \u001b[36msrc.model_selection.cv_main\u001b[0m:\u001b[36mpredict\u001b[0m:\u001b[36m276\u001b[0m - \u001b[1mSample 172/250 predicted.\u001b[0m\n",
      "\u001b[32m2025-10-22 20:34:04.655\u001b[0m | \u001b[34m\u001b[1mDEBUG   \u001b[0m | \u001b[36msrc.utils.general\u001b[0m:\u001b[36mopen_csv\u001b[0m:\u001b[36m108\u001b[0m - \u001b[34m\u001b[1mLoaded CSV: c:\\Users\\OAVAI\\Desktop\\mma - Copy\\mma_light\\data\\output\\feature_selection\\natty_feature_frequency.csv (87 rows)\u001b[0m\n",
      "\u001b[32m2025-10-22 20:34:04.656\u001b[0m | \u001b[1mINFO    \u001b[0m | \u001b[36msrc.model_selection.cv_main\u001b[0m:\u001b[36m_cross_validate\u001b[0m:\u001b[36m476\u001b[0m - \u001b[1mSelected top 78 features for CV: 78\u001b[0m\n"
     ]
    },
    {
     "name": "stdout",
     "output_type": "stream",
     "text": [
      "huh\n"
     ]
    },
    {
     "name": "stderr",
     "output_type": "stream",
     "text": [
      "\u001b[32m2025-10-22 20:34:09.002\u001b[0m | \u001b[1mINFO    \u001b[0m | \u001b[36msrc.model_selection.cv_main\u001b[0m:\u001b[36mpredict\u001b[0m:\u001b[36m276\u001b[0m - \u001b[1mSample 173/250 predicted.\u001b[0m\n",
      "\u001b[32m2025-10-22 20:34:09.006\u001b[0m | \u001b[34m\u001b[1mDEBUG   \u001b[0m | \u001b[36msrc.utils.general\u001b[0m:\u001b[36mopen_csv\u001b[0m:\u001b[36m108\u001b[0m - \u001b[34m\u001b[1mLoaded CSV: c:\\Users\\OAVAI\\Desktop\\mma - Copy\\mma_light\\data\\output\\feature_selection\\natty_feature_frequency.csv (87 rows)\u001b[0m\n",
      "\u001b[32m2025-10-22 20:34:09.006\u001b[0m | \u001b[1mINFO    \u001b[0m | \u001b[36msrc.model_selection.cv_main\u001b[0m:\u001b[36m_cross_validate\u001b[0m:\u001b[36m476\u001b[0m - \u001b[1mSelected top 78 features for CV: 78\u001b[0m\n"
     ]
    },
    {
     "name": "stdout",
     "output_type": "stream",
     "text": [
      "huh\n"
     ]
    },
    {
     "name": "stderr",
     "output_type": "stream",
     "text": [
      "\u001b[32m2025-10-22 20:34:15.350\u001b[0m | \u001b[1mINFO    \u001b[0m | \u001b[36msrc.model_selection.cv_main\u001b[0m:\u001b[36mpredict\u001b[0m:\u001b[36m276\u001b[0m - \u001b[1mSample 174/250 predicted.\u001b[0m\n",
      "\u001b[32m2025-10-22 20:34:15.354\u001b[0m | \u001b[34m\u001b[1mDEBUG   \u001b[0m | \u001b[36msrc.utils.general\u001b[0m:\u001b[36mopen_csv\u001b[0m:\u001b[36m108\u001b[0m - \u001b[34m\u001b[1mLoaded CSV: c:\\Users\\OAVAI\\Desktop\\mma - Copy\\mma_light\\data\\output\\feature_selection\\natty_feature_frequency.csv (87 rows)\u001b[0m\n",
      "\u001b[32m2025-10-22 20:34:15.355\u001b[0m | \u001b[1mINFO    \u001b[0m | \u001b[36msrc.model_selection.cv_main\u001b[0m:\u001b[36m_cross_validate\u001b[0m:\u001b[36m476\u001b[0m - \u001b[1mSelected top 78 features for CV: 78\u001b[0m\n"
     ]
    },
    {
     "name": "stdout",
     "output_type": "stream",
     "text": [
      "huh\n"
     ]
    },
    {
     "name": "stderr",
     "output_type": "stream",
     "text": [
      "\u001b[32m2025-10-22 20:34:20.582\u001b[0m | \u001b[1mINFO    \u001b[0m | \u001b[36msrc.model_selection.cv_main\u001b[0m:\u001b[36mpredict\u001b[0m:\u001b[36m276\u001b[0m - \u001b[1mSample 175/250 predicted.\u001b[0m\n",
      "\u001b[32m2025-10-22 20:34:20.584\u001b[0m | \u001b[34m\u001b[1mDEBUG   \u001b[0m | \u001b[36msrc.utils.general\u001b[0m:\u001b[36mopen_csv\u001b[0m:\u001b[36m108\u001b[0m - \u001b[34m\u001b[1mLoaded CSV: c:\\Users\\OAVAI\\Desktop\\mma - Copy\\mma_light\\data\\output\\feature_selection\\natty_feature_frequency.csv (87 rows)\u001b[0m\n",
      "\u001b[32m2025-10-22 20:34:20.584\u001b[0m | \u001b[1mINFO    \u001b[0m | \u001b[36msrc.model_selection.cv_main\u001b[0m:\u001b[36m_cross_validate\u001b[0m:\u001b[36m476\u001b[0m - \u001b[1mSelected top 78 features for CV: 78\u001b[0m\n"
     ]
    },
    {
     "name": "stdout",
     "output_type": "stream",
     "text": [
      "huh\n"
     ]
    },
    {
     "name": "stderr",
     "output_type": "stream",
     "text": [
      "\u001b[32m2025-10-22 20:34:26.904\u001b[0m | \u001b[1mINFO    \u001b[0m | \u001b[36msrc.model_selection.cv_main\u001b[0m:\u001b[36mpredict\u001b[0m:\u001b[36m276\u001b[0m - \u001b[1mSample 176/250 predicted.\u001b[0m\n",
      "\u001b[32m2025-10-22 20:34:26.908\u001b[0m | \u001b[34m\u001b[1mDEBUG   \u001b[0m | \u001b[36msrc.utils.general\u001b[0m:\u001b[36mopen_csv\u001b[0m:\u001b[36m108\u001b[0m - \u001b[34m\u001b[1mLoaded CSV: c:\\Users\\OAVAI\\Desktop\\mma - Copy\\mma_light\\data\\output\\feature_selection\\natty_feature_frequency.csv (87 rows)\u001b[0m\n",
      "\u001b[32m2025-10-22 20:34:26.909\u001b[0m | \u001b[1mINFO    \u001b[0m | \u001b[36msrc.model_selection.cv_main\u001b[0m:\u001b[36m_cross_validate\u001b[0m:\u001b[36m476\u001b[0m - \u001b[1mSelected top 78 features for CV: 78\u001b[0m\n"
     ]
    },
    {
     "name": "stdout",
     "output_type": "stream",
     "text": [
      "huh\n"
     ]
    },
    {
     "name": "stderr",
     "output_type": "stream",
     "text": [
      "\u001b[32m2025-10-22 20:34:33.125\u001b[0m | \u001b[1mINFO    \u001b[0m | \u001b[36msrc.model_selection.cv_main\u001b[0m:\u001b[36mpredict\u001b[0m:\u001b[36m276\u001b[0m - \u001b[1mSample 177/250 predicted.\u001b[0m\n",
      "\u001b[32m2025-10-22 20:34:33.129\u001b[0m | \u001b[34m\u001b[1mDEBUG   \u001b[0m | \u001b[36msrc.utils.general\u001b[0m:\u001b[36mopen_csv\u001b[0m:\u001b[36m108\u001b[0m - \u001b[34m\u001b[1mLoaded CSV: c:\\Users\\OAVAI\\Desktop\\mma - Copy\\mma_light\\data\\output\\feature_selection\\natty_feature_frequency.csv (87 rows)\u001b[0m\n",
      "\u001b[32m2025-10-22 20:34:33.130\u001b[0m | \u001b[1mINFO    \u001b[0m | \u001b[36msrc.model_selection.cv_main\u001b[0m:\u001b[36m_cross_validate\u001b[0m:\u001b[36m476\u001b[0m - \u001b[1mSelected top 78 features for CV: 78\u001b[0m\n"
     ]
    },
    {
     "name": "stdout",
     "output_type": "stream",
     "text": [
      "huh\n"
     ]
    },
    {
     "name": "stderr",
     "output_type": "stream",
     "text": [
      "\u001b[32m2025-10-22 20:34:39.912\u001b[0m | \u001b[1mINFO    \u001b[0m | \u001b[36msrc.model_selection.cv_main\u001b[0m:\u001b[36mpredict\u001b[0m:\u001b[36m276\u001b[0m - \u001b[1mSample 178/250 predicted.\u001b[0m\n",
      "\u001b[32m2025-10-22 20:34:39.915\u001b[0m | \u001b[34m\u001b[1mDEBUG   \u001b[0m | \u001b[36msrc.utils.general\u001b[0m:\u001b[36mopen_csv\u001b[0m:\u001b[36m108\u001b[0m - \u001b[34m\u001b[1mLoaded CSV: c:\\Users\\OAVAI\\Desktop\\mma - Copy\\mma_light\\data\\output\\feature_selection\\natty_feature_frequency.csv (87 rows)\u001b[0m\n",
      "\u001b[32m2025-10-22 20:34:39.916\u001b[0m | \u001b[1mINFO    \u001b[0m | \u001b[36msrc.model_selection.cv_main\u001b[0m:\u001b[36m_cross_validate\u001b[0m:\u001b[36m476\u001b[0m - \u001b[1mSelected top 78 features for CV: 78\u001b[0m\n"
     ]
    },
    {
     "name": "stdout",
     "output_type": "stream",
     "text": [
      "huh\n"
     ]
    },
    {
     "name": "stderr",
     "output_type": "stream",
     "text": [
      "\u001b[32m2025-10-22 20:34:45.973\u001b[0m | \u001b[1mINFO    \u001b[0m | \u001b[36msrc.model_selection.cv_main\u001b[0m:\u001b[36mpredict\u001b[0m:\u001b[36m276\u001b[0m - \u001b[1mSample 179/250 predicted.\u001b[0m\n",
      "\u001b[32m2025-10-22 20:34:45.977\u001b[0m | \u001b[34m\u001b[1mDEBUG   \u001b[0m | \u001b[36msrc.utils.general\u001b[0m:\u001b[36mopen_csv\u001b[0m:\u001b[36m108\u001b[0m - \u001b[34m\u001b[1mLoaded CSV: c:\\Users\\OAVAI\\Desktop\\mma - Copy\\mma_light\\data\\output\\feature_selection\\natty_feature_frequency.csv (87 rows)\u001b[0m\n",
      "\u001b[32m2025-10-22 20:34:45.978\u001b[0m | \u001b[1mINFO    \u001b[0m | \u001b[36msrc.model_selection.cv_main\u001b[0m:\u001b[36m_cross_validate\u001b[0m:\u001b[36m476\u001b[0m - \u001b[1mSelected top 78 features for CV: 78\u001b[0m\n"
     ]
    },
    {
     "name": "stdout",
     "output_type": "stream",
     "text": [
      "huh\n"
     ]
    },
    {
     "name": "stderr",
     "output_type": "stream",
     "text": [
      "\u001b[32m2025-10-22 20:34:52.897\u001b[0m | \u001b[1mINFO    \u001b[0m | \u001b[36msrc.model_selection.cv_main\u001b[0m:\u001b[36mpredict\u001b[0m:\u001b[36m276\u001b[0m - \u001b[1mSample 180/250 predicted.\u001b[0m\n",
      "\u001b[32m2025-10-22 20:34:52.901\u001b[0m | \u001b[34m\u001b[1mDEBUG   \u001b[0m | \u001b[36msrc.utils.general\u001b[0m:\u001b[36mopen_csv\u001b[0m:\u001b[36m108\u001b[0m - \u001b[34m\u001b[1mLoaded CSV: c:\\Users\\OAVAI\\Desktop\\mma - Copy\\mma_light\\data\\output\\feature_selection\\natty_feature_frequency.csv (87 rows)\u001b[0m\n",
      "\u001b[32m2025-10-22 20:34:52.903\u001b[0m | \u001b[1mINFO    \u001b[0m | \u001b[36msrc.model_selection.cv_main\u001b[0m:\u001b[36m_cross_validate\u001b[0m:\u001b[36m476\u001b[0m - \u001b[1mSelected top 78 features for CV: 78\u001b[0m\n"
     ]
    },
    {
     "name": "stdout",
     "output_type": "stream",
     "text": [
      "huh\n"
     ]
    },
    {
     "name": "stderr",
     "output_type": "stream",
     "text": [
      "\u001b[32m2025-10-22 20:35:00.135\u001b[0m | \u001b[1mINFO    \u001b[0m | \u001b[36msrc.model_selection.cv_main\u001b[0m:\u001b[36mpredict\u001b[0m:\u001b[36m276\u001b[0m - \u001b[1mSample 181/250 predicted.\u001b[0m\n",
      "\u001b[32m2025-10-22 20:35:00.139\u001b[0m | \u001b[34m\u001b[1mDEBUG   \u001b[0m | \u001b[36msrc.utils.general\u001b[0m:\u001b[36mopen_csv\u001b[0m:\u001b[36m108\u001b[0m - \u001b[34m\u001b[1mLoaded CSV: c:\\Users\\OAVAI\\Desktop\\mma - Copy\\mma_light\\data\\output\\feature_selection\\natty_feature_frequency.csv (87 rows)\u001b[0m\n",
      "\u001b[32m2025-10-22 20:35:00.139\u001b[0m | \u001b[1mINFO    \u001b[0m | \u001b[36msrc.model_selection.cv_main\u001b[0m:\u001b[36m_cross_validate\u001b[0m:\u001b[36m476\u001b[0m - \u001b[1mSelected top 78 features for CV: 78\u001b[0m\n"
     ]
    },
    {
     "name": "stdout",
     "output_type": "stream",
     "text": [
      "huh\n"
     ]
    },
    {
     "name": "stderr",
     "output_type": "stream",
     "text": [
      "\u001b[32m2025-10-22 20:35:04.273\u001b[0m | \u001b[1mINFO    \u001b[0m | \u001b[36msrc.model_selection.cv_main\u001b[0m:\u001b[36mpredict\u001b[0m:\u001b[36m276\u001b[0m - \u001b[1mSample 182/250 predicted.\u001b[0m\n",
      "\u001b[32m2025-10-22 20:35:04.276\u001b[0m | \u001b[34m\u001b[1mDEBUG   \u001b[0m | \u001b[36msrc.utils.general\u001b[0m:\u001b[36mopen_csv\u001b[0m:\u001b[36m108\u001b[0m - \u001b[34m\u001b[1mLoaded CSV: c:\\Users\\OAVAI\\Desktop\\mma - Copy\\mma_light\\data\\output\\feature_selection\\natty_feature_frequency.csv (87 rows)\u001b[0m\n",
      "\u001b[32m2025-10-22 20:35:04.276\u001b[0m | \u001b[1mINFO    \u001b[0m | \u001b[36msrc.model_selection.cv_main\u001b[0m:\u001b[36m_cross_validate\u001b[0m:\u001b[36m476\u001b[0m - \u001b[1mSelected top 78 features for CV: 78\u001b[0m\n"
     ]
    },
    {
     "name": "stdout",
     "output_type": "stream",
     "text": [
      "huh\n"
     ]
    },
    {
     "name": "stderr",
     "output_type": "stream",
     "text": [
      "\u001b[32m2025-10-22 20:35:10.099\u001b[0m | \u001b[1mINFO    \u001b[0m | \u001b[36msrc.model_selection.cv_main\u001b[0m:\u001b[36mpredict\u001b[0m:\u001b[36m276\u001b[0m - \u001b[1mSample 183/250 predicted.\u001b[0m\n",
      "\u001b[32m2025-10-22 20:35:10.102\u001b[0m | \u001b[34m\u001b[1mDEBUG   \u001b[0m | \u001b[36msrc.utils.general\u001b[0m:\u001b[36mopen_csv\u001b[0m:\u001b[36m108\u001b[0m - \u001b[34m\u001b[1mLoaded CSV: c:\\Users\\OAVAI\\Desktop\\mma - Copy\\mma_light\\data\\output\\feature_selection\\natty_feature_frequency.csv (87 rows)\u001b[0m\n",
      "\u001b[32m2025-10-22 20:35:10.103\u001b[0m | \u001b[1mINFO    \u001b[0m | \u001b[36msrc.model_selection.cv_main\u001b[0m:\u001b[36m_cross_validate\u001b[0m:\u001b[36m476\u001b[0m - \u001b[1mSelected top 78 features for CV: 78\u001b[0m\n"
     ]
    },
    {
     "name": "stdout",
     "output_type": "stream",
     "text": [
      "huh\n"
     ]
    },
    {
     "name": "stderr",
     "output_type": "stream",
     "text": [
      "\u001b[32m2025-10-22 20:35:15.517\u001b[0m | \u001b[1mINFO    \u001b[0m | \u001b[36msrc.model_selection.cv_main\u001b[0m:\u001b[36mpredict\u001b[0m:\u001b[36m276\u001b[0m - \u001b[1mSample 184/250 predicted.\u001b[0m\n",
      "\u001b[32m2025-10-22 20:35:15.521\u001b[0m | \u001b[34m\u001b[1mDEBUG   \u001b[0m | \u001b[36msrc.utils.general\u001b[0m:\u001b[36mopen_csv\u001b[0m:\u001b[36m108\u001b[0m - \u001b[34m\u001b[1mLoaded CSV: c:\\Users\\OAVAI\\Desktop\\mma - Copy\\mma_light\\data\\output\\feature_selection\\natty_feature_frequency.csv (87 rows)\u001b[0m\n",
      "\u001b[32m2025-10-22 20:35:15.522\u001b[0m | \u001b[1mINFO    \u001b[0m | \u001b[36msrc.model_selection.cv_main\u001b[0m:\u001b[36m_cross_validate\u001b[0m:\u001b[36m476\u001b[0m - \u001b[1mSelected top 78 features for CV: 78\u001b[0m\n"
     ]
    },
    {
     "name": "stdout",
     "output_type": "stream",
     "text": [
      "huh\n"
     ]
    },
    {
     "name": "stderr",
     "output_type": "stream",
     "text": [
      "\u001b[32m2025-10-22 20:35:20.395\u001b[0m | \u001b[1mINFO    \u001b[0m | \u001b[36msrc.model_selection.cv_main\u001b[0m:\u001b[36mpredict\u001b[0m:\u001b[36m276\u001b[0m - \u001b[1mSample 185/250 predicted.\u001b[0m\n",
      "\u001b[32m2025-10-22 20:35:20.399\u001b[0m | \u001b[34m\u001b[1mDEBUG   \u001b[0m | \u001b[36msrc.utils.general\u001b[0m:\u001b[36mopen_csv\u001b[0m:\u001b[36m108\u001b[0m - \u001b[34m\u001b[1mLoaded CSV: c:\\Users\\OAVAI\\Desktop\\mma - Copy\\mma_light\\data\\output\\feature_selection\\natty_feature_frequency.csv (87 rows)\u001b[0m\n",
      "\u001b[32m2025-10-22 20:35:20.400\u001b[0m | \u001b[1mINFO    \u001b[0m | \u001b[36msrc.model_selection.cv_main\u001b[0m:\u001b[36m_cross_validate\u001b[0m:\u001b[36m476\u001b[0m - \u001b[1mSelected top 78 features for CV: 78\u001b[0m\n"
     ]
    },
    {
     "name": "stdout",
     "output_type": "stream",
     "text": [
      "huh\n"
     ]
    },
    {
     "name": "stderr",
     "output_type": "stream",
     "text": [
      "\u001b[32m2025-10-22 20:35:27.024\u001b[0m | \u001b[1mINFO    \u001b[0m | \u001b[36msrc.model_selection.cv_main\u001b[0m:\u001b[36mpredict\u001b[0m:\u001b[36m276\u001b[0m - \u001b[1mSample 186/250 predicted.\u001b[0m\n",
      "\u001b[32m2025-10-22 20:35:27.028\u001b[0m | \u001b[34m\u001b[1mDEBUG   \u001b[0m | \u001b[36msrc.utils.general\u001b[0m:\u001b[36mopen_csv\u001b[0m:\u001b[36m108\u001b[0m - \u001b[34m\u001b[1mLoaded CSV: c:\\Users\\OAVAI\\Desktop\\mma - Copy\\mma_light\\data\\output\\feature_selection\\natty_feature_frequency.csv (87 rows)\u001b[0m\n",
      "\u001b[32m2025-10-22 20:35:27.029\u001b[0m | \u001b[1mINFO    \u001b[0m | \u001b[36msrc.model_selection.cv_main\u001b[0m:\u001b[36m_cross_validate\u001b[0m:\u001b[36m476\u001b[0m - \u001b[1mSelected top 78 features for CV: 78\u001b[0m\n"
     ]
    },
    {
     "name": "stdout",
     "output_type": "stream",
     "text": [
      "huh\n"
     ]
    },
    {
     "name": "stderr",
     "output_type": "stream",
     "text": [
      "\u001b[32m2025-10-22 20:35:33.044\u001b[0m | \u001b[1mINFO    \u001b[0m | \u001b[36msrc.model_selection.cv_main\u001b[0m:\u001b[36mpredict\u001b[0m:\u001b[36m276\u001b[0m - \u001b[1mSample 187/250 predicted.\u001b[0m\n",
      "\u001b[32m2025-10-22 20:35:33.047\u001b[0m | \u001b[34m\u001b[1mDEBUG   \u001b[0m | \u001b[36msrc.utils.general\u001b[0m:\u001b[36mopen_csv\u001b[0m:\u001b[36m108\u001b[0m - \u001b[34m\u001b[1mLoaded CSV: c:\\Users\\OAVAI\\Desktop\\mma - Copy\\mma_light\\data\\output\\feature_selection\\natty_feature_frequency.csv (87 rows)\u001b[0m\n",
      "\u001b[32m2025-10-22 20:35:33.049\u001b[0m | \u001b[1mINFO    \u001b[0m | \u001b[36msrc.model_selection.cv_main\u001b[0m:\u001b[36m_cross_validate\u001b[0m:\u001b[36m476\u001b[0m - \u001b[1mSelected top 78 features for CV: 78\u001b[0m\n"
     ]
    },
    {
     "name": "stdout",
     "output_type": "stream",
     "text": [
      "huh\n"
     ]
    },
    {
     "name": "stderr",
     "output_type": "stream",
     "text": [
      "\u001b[32m2025-10-22 20:35:39.690\u001b[0m | \u001b[1mINFO    \u001b[0m | \u001b[36msrc.model_selection.cv_main\u001b[0m:\u001b[36mpredict\u001b[0m:\u001b[36m276\u001b[0m - \u001b[1mSample 188/250 predicted.\u001b[0m\n",
      "\u001b[32m2025-10-22 20:35:39.693\u001b[0m | \u001b[34m\u001b[1mDEBUG   \u001b[0m | \u001b[36msrc.utils.general\u001b[0m:\u001b[36mopen_csv\u001b[0m:\u001b[36m108\u001b[0m - \u001b[34m\u001b[1mLoaded CSV: c:\\Users\\OAVAI\\Desktop\\mma - Copy\\mma_light\\data\\output\\feature_selection\\natty_feature_frequency.csv (87 rows)\u001b[0m\n",
      "\u001b[32m2025-10-22 20:35:39.694\u001b[0m | \u001b[1mINFO    \u001b[0m | \u001b[36msrc.model_selection.cv_main\u001b[0m:\u001b[36m_cross_validate\u001b[0m:\u001b[36m476\u001b[0m - \u001b[1mSelected top 78 features for CV: 78\u001b[0m\n"
     ]
    },
    {
     "name": "stdout",
     "output_type": "stream",
     "text": [
      "huh\n"
     ]
    },
    {
     "name": "stderr",
     "output_type": "stream",
     "text": [
      "\u001b[32m2025-10-22 20:35:45.050\u001b[0m | \u001b[1mINFO    \u001b[0m | \u001b[36msrc.model_selection.cv_main\u001b[0m:\u001b[36mpredict\u001b[0m:\u001b[36m276\u001b[0m - \u001b[1mSample 189/250 predicted.\u001b[0m\n",
      "\u001b[32m2025-10-22 20:35:45.053\u001b[0m | \u001b[34m\u001b[1mDEBUG   \u001b[0m | \u001b[36msrc.utils.general\u001b[0m:\u001b[36mopen_csv\u001b[0m:\u001b[36m108\u001b[0m - \u001b[34m\u001b[1mLoaded CSV: c:\\Users\\OAVAI\\Desktop\\mma - Copy\\mma_light\\data\\output\\feature_selection\\natty_feature_frequency.csv (87 rows)\u001b[0m\n",
      "\u001b[32m2025-10-22 20:35:45.054\u001b[0m | \u001b[1mINFO    \u001b[0m | \u001b[36msrc.model_selection.cv_main\u001b[0m:\u001b[36m_cross_validate\u001b[0m:\u001b[36m476\u001b[0m - \u001b[1mSelected top 78 features for CV: 78\u001b[0m\n"
     ]
    },
    {
     "name": "stdout",
     "output_type": "stream",
     "text": [
      "huh\n"
     ]
    },
    {
     "name": "stderr",
     "output_type": "stream",
     "text": [
      "\u001b[32m2025-10-22 20:35:49.646\u001b[0m | \u001b[1mINFO    \u001b[0m | \u001b[36msrc.model_selection.cv_main\u001b[0m:\u001b[36mpredict\u001b[0m:\u001b[36m276\u001b[0m - \u001b[1mSample 190/250 predicted.\u001b[0m\n",
      "\u001b[32m2025-10-22 20:35:49.649\u001b[0m | \u001b[34m\u001b[1mDEBUG   \u001b[0m | \u001b[36msrc.utils.general\u001b[0m:\u001b[36mopen_csv\u001b[0m:\u001b[36m108\u001b[0m - \u001b[34m\u001b[1mLoaded CSV: c:\\Users\\OAVAI\\Desktop\\mma - Copy\\mma_light\\data\\output\\feature_selection\\natty_feature_frequency.csv (87 rows)\u001b[0m\n",
      "\u001b[32m2025-10-22 20:35:49.650\u001b[0m | \u001b[1mINFO    \u001b[0m | \u001b[36msrc.model_selection.cv_main\u001b[0m:\u001b[36m_cross_validate\u001b[0m:\u001b[36m476\u001b[0m - \u001b[1mSelected top 78 features for CV: 78\u001b[0m\n"
     ]
    },
    {
     "name": "stdout",
     "output_type": "stream",
     "text": [
      "huh\n"
     ]
    },
    {
     "name": "stderr",
     "output_type": "stream",
     "text": [
      "\u001b[32m2025-10-22 20:35:56.245\u001b[0m | \u001b[1mINFO    \u001b[0m | \u001b[36msrc.model_selection.cv_main\u001b[0m:\u001b[36mpredict\u001b[0m:\u001b[36m276\u001b[0m - \u001b[1mSample 191/250 predicted.\u001b[0m\n",
      "\u001b[32m2025-10-22 20:35:56.249\u001b[0m | \u001b[34m\u001b[1mDEBUG   \u001b[0m | \u001b[36msrc.utils.general\u001b[0m:\u001b[36mopen_csv\u001b[0m:\u001b[36m108\u001b[0m - \u001b[34m\u001b[1mLoaded CSV: c:\\Users\\OAVAI\\Desktop\\mma - Copy\\mma_light\\data\\output\\feature_selection\\natty_feature_frequency.csv (87 rows)\u001b[0m\n",
      "\u001b[32m2025-10-22 20:35:56.250\u001b[0m | \u001b[1mINFO    \u001b[0m | \u001b[36msrc.model_selection.cv_main\u001b[0m:\u001b[36m_cross_validate\u001b[0m:\u001b[36m476\u001b[0m - \u001b[1mSelected top 78 features for CV: 78\u001b[0m\n"
     ]
    },
    {
     "name": "stdout",
     "output_type": "stream",
     "text": [
      "huh\n"
     ]
    },
    {
     "name": "stderr",
     "output_type": "stream",
     "text": [
      "\u001b[32m2025-10-22 20:36:01.994\u001b[0m | \u001b[1mINFO    \u001b[0m | \u001b[36msrc.model_selection.cv_main\u001b[0m:\u001b[36mpredict\u001b[0m:\u001b[36m276\u001b[0m - \u001b[1mSample 192/250 predicted.\u001b[0m\n",
      "\u001b[32m2025-10-22 20:36:01.997\u001b[0m | \u001b[34m\u001b[1mDEBUG   \u001b[0m | \u001b[36msrc.utils.general\u001b[0m:\u001b[36mopen_csv\u001b[0m:\u001b[36m108\u001b[0m - \u001b[34m\u001b[1mLoaded CSV: c:\\Users\\OAVAI\\Desktop\\mma - Copy\\mma_light\\data\\output\\feature_selection\\natty_feature_frequency.csv (87 rows)\u001b[0m\n",
      "\u001b[32m2025-10-22 20:36:01.999\u001b[0m | \u001b[1mINFO    \u001b[0m | \u001b[36msrc.model_selection.cv_main\u001b[0m:\u001b[36m_cross_validate\u001b[0m:\u001b[36m476\u001b[0m - \u001b[1mSelected top 78 features for CV: 78\u001b[0m\n"
     ]
    },
    {
     "name": "stdout",
     "output_type": "stream",
     "text": [
      "huh\n"
     ]
    },
    {
     "name": "stderr",
     "output_type": "stream",
     "text": [
      "\u001b[32m2025-10-22 20:36:06.753\u001b[0m | \u001b[1mINFO    \u001b[0m | \u001b[36msrc.model_selection.cv_main\u001b[0m:\u001b[36mpredict\u001b[0m:\u001b[36m276\u001b[0m - \u001b[1mSample 193/250 predicted.\u001b[0m\n",
      "\u001b[32m2025-10-22 20:36:06.756\u001b[0m | \u001b[34m\u001b[1mDEBUG   \u001b[0m | \u001b[36msrc.utils.general\u001b[0m:\u001b[36mopen_csv\u001b[0m:\u001b[36m108\u001b[0m - \u001b[34m\u001b[1mLoaded CSV: c:\\Users\\OAVAI\\Desktop\\mma - Copy\\mma_light\\data\\output\\feature_selection\\natty_feature_frequency.csv (87 rows)\u001b[0m\n",
      "\u001b[32m2025-10-22 20:36:06.756\u001b[0m | \u001b[1mINFO    \u001b[0m | \u001b[36msrc.model_selection.cv_main\u001b[0m:\u001b[36m_cross_validate\u001b[0m:\u001b[36m476\u001b[0m - \u001b[1mSelected top 78 features for CV: 78\u001b[0m\n"
     ]
    },
    {
     "name": "stdout",
     "output_type": "stream",
     "text": [
      "huh\n"
     ]
    },
    {
     "name": "stderr",
     "output_type": "stream",
     "text": [
      "\u001b[32m2025-10-22 20:36:11.762\u001b[0m | \u001b[1mINFO    \u001b[0m | \u001b[36msrc.model_selection.cv_main\u001b[0m:\u001b[36mpredict\u001b[0m:\u001b[36m276\u001b[0m - \u001b[1mSample 194/250 predicted.\u001b[0m\n",
      "\u001b[32m2025-10-22 20:36:11.766\u001b[0m | \u001b[34m\u001b[1mDEBUG   \u001b[0m | \u001b[36msrc.utils.general\u001b[0m:\u001b[36mopen_csv\u001b[0m:\u001b[36m108\u001b[0m - \u001b[34m\u001b[1mLoaded CSV: c:\\Users\\OAVAI\\Desktop\\mma - Copy\\mma_light\\data\\output\\feature_selection\\natty_feature_frequency.csv (87 rows)\u001b[0m\n",
      "\u001b[32m2025-10-22 20:36:11.767\u001b[0m | \u001b[1mINFO    \u001b[0m | \u001b[36msrc.model_selection.cv_main\u001b[0m:\u001b[36m_cross_validate\u001b[0m:\u001b[36m476\u001b[0m - \u001b[1mSelected top 78 features for CV: 78\u001b[0m\n"
     ]
    },
    {
     "name": "stdout",
     "output_type": "stream",
     "text": [
      "huh\n"
     ]
    },
    {
     "name": "stderr",
     "output_type": "stream",
     "text": [
      "\u001b[32m2025-10-22 20:36:19.202\u001b[0m | \u001b[1mINFO    \u001b[0m | \u001b[36msrc.model_selection.cv_main\u001b[0m:\u001b[36mpredict\u001b[0m:\u001b[36m276\u001b[0m - \u001b[1mSample 195/250 predicted.\u001b[0m\n",
      "\u001b[32m2025-10-22 20:36:19.206\u001b[0m | \u001b[34m\u001b[1mDEBUG   \u001b[0m | \u001b[36msrc.utils.general\u001b[0m:\u001b[36mopen_csv\u001b[0m:\u001b[36m108\u001b[0m - \u001b[34m\u001b[1mLoaded CSV: c:\\Users\\OAVAI\\Desktop\\mma - Copy\\mma_light\\data\\output\\feature_selection\\natty_feature_frequency.csv (87 rows)\u001b[0m\n",
      "\u001b[32m2025-10-22 20:36:19.207\u001b[0m | \u001b[1mINFO    \u001b[0m | \u001b[36msrc.model_selection.cv_main\u001b[0m:\u001b[36m_cross_validate\u001b[0m:\u001b[36m476\u001b[0m - \u001b[1mSelected top 78 features for CV: 78\u001b[0m\n"
     ]
    },
    {
     "name": "stdout",
     "output_type": "stream",
     "text": [
      "huh\n"
     ]
    },
    {
     "name": "stderr",
     "output_type": "stream",
     "text": [
      "\u001b[32m2025-10-22 20:36:24.642\u001b[0m | \u001b[1mINFO    \u001b[0m | \u001b[36msrc.model_selection.cv_main\u001b[0m:\u001b[36mpredict\u001b[0m:\u001b[36m276\u001b[0m - \u001b[1mSample 196/250 predicted.\u001b[0m\n",
      "\u001b[32m2025-10-22 20:36:24.646\u001b[0m | \u001b[34m\u001b[1mDEBUG   \u001b[0m | \u001b[36msrc.utils.general\u001b[0m:\u001b[36mopen_csv\u001b[0m:\u001b[36m108\u001b[0m - \u001b[34m\u001b[1mLoaded CSV: c:\\Users\\OAVAI\\Desktop\\mma - Copy\\mma_light\\data\\output\\feature_selection\\natty_feature_frequency.csv (87 rows)\u001b[0m\n",
      "\u001b[32m2025-10-22 20:36:24.646\u001b[0m | \u001b[1mINFO    \u001b[0m | \u001b[36msrc.model_selection.cv_main\u001b[0m:\u001b[36m_cross_validate\u001b[0m:\u001b[36m476\u001b[0m - \u001b[1mSelected top 78 features for CV: 78\u001b[0m\n"
     ]
    },
    {
     "name": "stdout",
     "output_type": "stream",
     "text": [
      "huh\n"
     ]
    },
    {
     "name": "stderr",
     "output_type": "stream",
     "text": [
      "\u001b[32m2025-10-22 20:36:30.621\u001b[0m | \u001b[1mINFO    \u001b[0m | \u001b[36msrc.model_selection.cv_main\u001b[0m:\u001b[36mpredict\u001b[0m:\u001b[36m276\u001b[0m - \u001b[1mSample 197/250 predicted.\u001b[0m\n",
      "\u001b[32m2025-10-22 20:36:30.624\u001b[0m | \u001b[34m\u001b[1mDEBUG   \u001b[0m | \u001b[36msrc.utils.general\u001b[0m:\u001b[36mopen_csv\u001b[0m:\u001b[36m108\u001b[0m - \u001b[34m\u001b[1mLoaded CSV: c:\\Users\\OAVAI\\Desktop\\mma - Copy\\mma_light\\data\\output\\feature_selection\\natty_feature_frequency.csv (87 rows)\u001b[0m\n",
      "\u001b[32m2025-10-22 20:36:30.625\u001b[0m | \u001b[1mINFO    \u001b[0m | \u001b[36msrc.model_selection.cv_main\u001b[0m:\u001b[36m_cross_validate\u001b[0m:\u001b[36m476\u001b[0m - \u001b[1mSelected top 78 features for CV: 78\u001b[0m\n"
     ]
    },
    {
     "name": "stdout",
     "output_type": "stream",
     "text": [
      "huh\n"
     ]
    },
    {
     "name": "stderr",
     "output_type": "stream",
     "text": [
      "\u001b[32m2025-10-22 20:36:35.861\u001b[0m | \u001b[1mINFO    \u001b[0m | \u001b[36msrc.model_selection.cv_main\u001b[0m:\u001b[36mpredict\u001b[0m:\u001b[36m276\u001b[0m - \u001b[1mSample 198/250 predicted.\u001b[0m\n",
      "\u001b[32m2025-10-22 20:36:35.864\u001b[0m | \u001b[34m\u001b[1mDEBUG   \u001b[0m | \u001b[36msrc.utils.general\u001b[0m:\u001b[36mopen_csv\u001b[0m:\u001b[36m108\u001b[0m - \u001b[34m\u001b[1mLoaded CSV: c:\\Users\\OAVAI\\Desktop\\mma - Copy\\mma_light\\data\\output\\feature_selection\\natty_feature_frequency.csv (87 rows)\u001b[0m\n",
      "\u001b[32m2025-10-22 20:36:35.865\u001b[0m | \u001b[1mINFO    \u001b[0m | \u001b[36msrc.model_selection.cv_main\u001b[0m:\u001b[36m_cross_validate\u001b[0m:\u001b[36m476\u001b[0m - \u001b[1mSelected top 78 features for CV: 78\u001b[0m\n"
     ]
    },
    {
     "name": "stdout",
     "output_type": "stream",
     "text": [
      "huh\n"
     ]
    },
    {
     "name": "stderr",
     "output_type": "stream",
     "text": [
      "\u001b[32m2025-10-22 20:36:40.577\u001b[0m | \u001b[1mINFO    \u001b[0m | \u001b[36msrc.model_selection.cv_main\u001b[0m:\u001b[36mpredict\u001b[0m:\u001b[36m276\u001b[0m - \u001b[1mSample 199/250 predicted.\u001b[0m\n",
      "\u001b[32m2025-10-22 20:36:40.581\u001b[0m | \u001b[34m\u001b[1mDEBUG   \u001b[0m | \u001b[36msrc.utils.general\u001b[0m:\u001b[36mopen_csv\u001b[0m:\u001b[36m108\u001b[0m - \u001b[34m\u001b[1mLoaded CSV: c:\\Users\\OAVAI\\Desktop\\mma - Copy\\mma_light\\data\\output\\feature_selection\\natty_feature_frequency.csv (87 rows)\u001b[0m\n",
      "\u001b[32m2025-10-22 20:36:40.583\u001b[0m | \u001b[1mINFO    \u001b[0m | \u001b[36msrc.model_selection.cv_main\u001b[0m:\u001b[36m_cross_validate\u001b[0m:\u001b[36m476\u001b[0m - \u001b[1mSelected top 78 features for CV: 78\u001b[0m\n"
     ]
    },
    {
     "name": "stdout",
     "output_type": "stream",
     "text": [
      "huh\n"
     ]
    },
    {
     "name": "stderr",
     "output_type": "stream",
     "text": [
      "\u001b[32m2025-10-22 20:36:45.731\u001b[0m | \u001b[1mINFO    \u001b[0m | \u001b[36msrc.model_selection.cv_main\u001b[0m:\u001b[36mpredict\u001b[0m:\u001b[36m276\u001b[0m - \u001b[1mSample 200/250 predicted.\u001b[0m\n",
      "\u001b[32m2025-10-22 20:36:45.735\u001b[0m | \u001b[34m\u001b[1mDEBUG   \u001b[0m | \u001b[36msrc.utils.general\u001b[0m:\u001b[36mopen_csv\u001b[0m:\u001b[36m108\u001b[0m - \u001b[34m\u001b[1mLoaded CSV: c:\\Users\\OAVAI\\Desktop\\mma - Copy\\mma_light\\data\\output\\feature_selection\\natty_feature_frequency.csv (87 rows)\u001b[0m\n",
      "\u001b[32m2025-10-22 20:36:45.735\u001b[0m | \u001b[1mINFO    \u001b[0m | \u001b[36msrc.model_selection.cv_main\u001b[0m:\u001b[36m_cross_validate\u001b[0m:\u001b[36m476\u001b[0m - \u001b[1mSelected top 78 features for CV: 78\u001b[0m\n"
     ]
    },
    {
     "name": "stdout",
     "output_type": "stream",
     "text": [
      "huh\n"
     ]
    },
    {
     "name": "stderr",
     "output_type": "stream",
     "text": [
      "\u001b[32m2025-10-22 20:36:51.174\u001b[0m | \u001b[1mINFO    \u001b[0m | \u001b[36msrc.model_selection.cv_main\u001b[0m:\u001b[36mpredict\u001b[0m:\u001b[36m276\u001b[0m - \u001b[1mSample 201/250 predicted.\u001b[0m\n",
      "\u001b[32m2025-10-22 20:36:51.177\u001b[0m | \u001b[34m\u001b[1mDEBUG   \u001b[0m | \u001b[36msrc.utils.general\u001b[0m:\u001b[36mopen_csv\u001b[0m:\u001b[36m108\u001b[0m - \u001b[34m\u001b[1mLoaded CSV: c:\\Users\\OAVAI\\Desktop\\mma - Copy\\mma_light\\data\\output\\feature_selection\\natty_feature_frequency.csv (87 rows)\u001b[0m\n",
      "\u001b[32m2025-10-22 20:36:51.178\u001b[0m | \u001b[1mINFO    \u001b[0m | \u001b[36msrc.model_selection.cv_main\u001b[0m:\u001b[36m_cross_validate\u001b[0m:\u001b[36m476\u001b[0m - \u001b[1mSelected top 78 features for CV: 78\u001b[0m\n"
     ]
    },
    {
     "name": "stdout",
     "output_type": "stream",
     "text": [
      "huh\n"
     ]
    },
    {
     "name": "stderr",
     "output_type": "stream",
     "text": [
      "\u001b[32m2025-10-22 20:36:57.508\u001b[0m | \u001b[1mINFO    \u001b[0m | \u001b[36msrc.model_selection.cv_main\u001b[0m:\u001b[36mpredict\u001b[0m:\u001b[36m276\u001b[0m - \u001b[1mSample 202/250 predicted.\u001b[0m\n",
      "\u001b[32m2025-10-22 20:36:57.512\u001b[0m | \u001b[34m\u001b[1mDEBUG   \u001b[0m | \u001b[36msrc.utils.general\u001b[0m:\u001b[36mopen_csv\u001b[0m:\u001b[36m108\u001b[0m - \u001b[34m\u001b[1mLoaded CSV: c:\\Users\\OAVAI\\Desktop\\mma - Copy\\mma_light\\data\\output\\feature_selection\\natty_feature_frequency.csv (87 rows)\u001b[0m\n",
      "\u001b[32m2025-10-22 20:36:57.513\u001b[0m | \u001b[1mINFO    \u001b[0m | \u001b[36msrc.model_selection.cv_main\u001b[0m:\u001b[36m_cross_validate\u001b[0m:\u001b[36m476\u001b[0m - \u001b[1mSelected top 78 features for CV: 78\u001b[0m\n"
     ]
    },
    {
     "name": "stdout",
     "output_type": "stream",
     "text": [
      "huh\n"
     ]
    },
    {
     "name": "stderr",
     "output_type": "stream",
     "text": [
      "\u001b[32m2025-10-22 20:37:04.328\u001b[0m | \u001b[1mINFO    \u001b[0m | \u001b[36msrc.model_selection.cv_main\u001b[0m:\u001b[36mpredict\u001b[0m:\u001b[36m276\u001b[0m - \u001b[1mSample 203/250 predicted.\u001b[0m\n",
      "\u001b[32m2025-10-22 20:37:04.331\u001b[0m | \u001b[34m\u001b[1mDEBUG   \u001b[0m | \u001b[36msrc.utils.general\u001b[0m:\u001b[36mopen_csv\u001b[0m:\u001b[36m108\u001b[0m - \u001b[34m\u001b[1mLoaded CSV: c:\\Users\\OAVAI\\Desktop\\mma - Copy\\mma_light\\data\\output\\feature_selection\\natty_feature_frequency.csv (87 rows)\u001b[0m\n",
      "\u001b[32m2025-10-22 20:37:04.332\u001b[0m | \u001b[1mINFO    \u001b[0m | \u001b[36msrc.model_selection.cv_main\u001b[0m:\u001b[36m_cross_validate\u001b[0m:\u001b[36m476\u001b[0m - \u001b[1mSelected top 78 features for CV: 78\u001b[0m\n"
     ]
    },
    {
     "name": "stdout",
     "output_type": "stream",
     "text": [
      "huh\n"
     ]
    },
    {
     "name": "stderr",
     "output_type": "stream",
     "text": [
      "\u001b[32m2025-10-22 20:37:09.247\u001b[0m | \u001b[1mINFO    \u001b[0m | \u001b[36msrc.model_selection.cv_main\u001b[0m:\u001b[36mpredict\u001b[0m:\u001b[36m276\u001b[0m - \u001b[1mSample 204/250 predicted.\u001b[0m\n",
      "\u001b[32m2025-10-22 20:37:09.250\u001b[0m | \u001b[34m\u001b[1mDEBUG   \u001b[0m | \u001b[36msrc.utils.general\u001b[0m:\u001b[36mopen_csv\u001b[0m:\u001b[36m108\u001b[0m - \u001b[34m\u001b[1mLoaded CSV: c:\\Users\\OAVAI\\Desktop\\mma - Copy\\mma_light\\data\\output\\feature_selection\\natty_feature_frequency.csv (87 rows)\u001b[0m\n",
      "\u001b[32m2025-10-22 20:37:09.251\u001b[0m | \u001b[1mINFO    \u001b[0m | \u001b[36msrc.model_selection.cv_main\u001b[0m:\u001b[36m_cross_validate\u001b[0m:\u001b[36m476\u001b[0m - \u001b[1mSelected top 78 features for CV: 78\u001b[0m\n"
     ]
    },
    {
     "name": "stdout",
     "output_type": "stream",
     "text": [
      "huh\n"
     ]
    },
    {
     "name": "stderr",
     "output_type": "stream",
     "text": [
      "\u001b[32m2025-10-22 20:37:15.267\u001b[0m | \u001b[1mINFO    \u001b[0m | \u001b[36msrc.model_selection.cv_main\u001b[0m:\u001b[36mpredict\u001b[0m:\u001b[36m276\u001b[0m - \u001b[1mSample 205/250 predicted.\u001b[0m\n",
      "\u001b[32m2025-10-22 20:37:15.270\u001b[0m | \u001b[34m\u001b[1mDEBUG   \u001b[0m | \u001b[36msrc.utils.general\u001b[0m:\u001b[36mopen_csv\u001b[0m:\u001b[36m108\u001b[0m - \u001b[34m\u001b[1mLoaded CSV: c:\\Users\\OAVAI\\Desktop\\mma - Copy\\mma_light\\data\\output\\feature_selection\\natty_feature_frequency.csv (87 rows)\u001b[0m\n",
      "\u001b[32m2025-10-22 20:37:15.272\u001b[0m | \u001b[1mINFO    \u001b[0m | \u001b[36msrc.model_selection.cv_main\u001b[0m:\u001b[36m_cross_validate\u001b[0m:\u001b[36m476\u001b[0m - \u001b[1mSelected top 78 features for CV: 78\u001b[0m\n"
     ]
    },
    {
     "name": "stdout",
     "output_type": "stream",
     "text": [
      "huh\n"
     ]
    },
    {
     "name": "stderr",
     "output_type": "stream",
     "text": [
      "\u001b[32m2025-10-22 20:37:21.445\u001b[0m | \u001b[1mINFO    \u001b[0m | \u001b[36msrc.model_selection.cv_main\u001b[0m:\u001b[36mpredict\u001b[0m:\u001b[36m276\u001b[0m - \u001b[1mSample 206/250 predicted.\u001b[0m\n",
      "\u001b[32m2025-10-22 20:37:21.448\u001b[0m | \u001b[34m\u001b[1mDEBUG   \u001b[0m | \u001b[36msrc.utils.general\u001b[0m:\u001b[36mopen_csv\u001b[0m:\u001b[36m108\u001b[0m - \u001b[34m\u001b[1mLoaded CSV: c:\\Users\\OAVAI\\Desktop\\mma - Copy\\mma_light\\data\\output\\feature_selection\\natty_feature_frequency.csv (87 rows)\u001b[0m\n",
      "\u001b[32m2025-10-22 20:37:21.449\u001b[0m | \u001b[1mINFO    \u001b[0m | \u001b[36msrc.model_selection.cv_main\u001b[0m:\u001b[36m_cross_validate\u001b[0m:\u001b[36m476\u001b[0m - \u001b[1mSelected top 78 features for CV: 78\u001b[0m\n"
     ]
    },
    {
     "name": "stdout",
     "output_type": "stream",
     "text": [
      "huh\n"
     ]
    },
    {
     "name": "stderr",
     "output_type": "stream",
     "text": [
      "\u001b[32m2025-10-22 20:37:26.071\u001b[0m | \u001b[1mINFO    \u001b[0m | \u001b[36msrc.model_selection.cv_main\u001b[0m:\u001b[36mpredict\u001b[0m:\u001b[36m276\u001b[0m - \u001b[1mSample 207/250 predicted.\u001b[0m\n",
      "\u001b[32m2025-10-22 20:37:26.074\u001b[0m | \u001b[34m\u001b[1mDEBUG   \u001b[0m | \u001b[36msrc.utils.general\u001b[0m:\u001b[36mopen_csv\u001b[0m:\u001b[36m108\u001b[0m - \u001b[34m\u001b[1mLoaded CSV: c:\\Users\\OAVAI\\Desktop\\mma - Copy\\mma_light\\data\\output\\feature_selection\\natty_feature_frequency.csv (87 rows)\u001b[0m\n",
      "\u001b[32m2025-10-22 20:37:26.076\u001b[0m | \u001b[1mINFO    \u001b[0m | \u001b[36msrc.model_selection.cv_main\u001b[0m:\u001b[36m_cross_validate\u001b[0m:\u001b[36m476\u001b[0m - \u001b[1mSelected top 78 features for CV: 78\u001b[0m\n"
     ]
    },
    {
     "name": "stdout",
     "output_type": "stream",
     "text": [
      "huh\n"
     ]
    },
    {
     "name": "stderr",
     "output_type": "stream",
     "text": [
      "\u001b[32m2025-10-22 20:37:32.756\u001b[0m | \u001b[1mINFO    \u001b[0m | \u001b[36msrc.model_selection.cv_main\u001b[0m:\u001b[36mpredict\u001b[0m:\u001b[36m276\u001b[0m - \u001b[1mSample 208/250 predicted.\u001b[0m\n",
      "\u001b[32m2025-10-22 20:37:32.759\u001b[0m | \u001b[34m\u001b[1mDEBUG   \u001b[0m | \u001b[36msrc.utils.general\u001b[0m:\u001b[36mopen_csv\u001b[0m:\u001b[36m108\u001b[0m - \u001b[34m\u001b[1mLoaded CSV: c:\\Users\\OAVAI\\Desktop\\mma - Copy\\mma_light\\data\\output\\feature_selection\\natty_feature_frequency.csv (87 rows)\u001b[0m\n",
      "\u001b[32m2025-10-22 20:37:32.761\u001b[0m | \u001b[1mINFO    \u001b[0m | \u001b[36msrc.model_selection.cv_main\u001b[0m:\u001b[36m_cross_validate\u001b[0m:\u001b[36m476\u001b[0m - \u001b[1mSelected top 78 features for CV: 78\u001b[0m\n"
     ]
    },
    {
     "name": "stdout",
     "output_type": "stream",
     "text": [
      "huh\n"
     ]
    },
    {
     "name": "stderr",
     "output_type": "stream",
     "text": [
      "\u001b[32m2025-10-22 20:37:38.417\u001b[0m | \u001b[1mINFO    \u001b[0m | \u001b[36msrc.model_selection.cv_main\u001b[0m:\u001b[36mpredict\u001b[0m:\u001b[36m276\u001b[0m - \u001b[1mSample 209/250 predicted.\u001b[0m\n",
      "\u001b[32m2025-10-22 20:37:38.421\u001b[0m | \u001b[34m\u001b[1mDEBUG   \u001b[0m | \u001b[36msrc.utils.general\u001b[0m:\u001b[36mopen_csv\u001b[0m:\u001b[36m108\u001b[0m - \u001b[34m\u001b[1mLoaded CSV: c:\\Users\\OAVAI\\Desktop\\mma - Copy\\mma_light\\data\\output\\feature_selection\\natty_feature_frequency.csv (87 rows)\u001b[0m\n",
      "\u001b[32m2025-10-22 20:37:38.422\u001b[0m | \u001b[1mINFO    \u001b[0m | \u001b[36msrc.model_selection.cv_main\u001b[0m:\u001b[36m_cross_validate\u001b[0m:\u001b[36m476\u001b[0m - \u001b[1mSelected top 78 features for CV: 78\u001b[0m\n"
     ]
    },
    {
     "name": "stdout",
     "output_type": "stream",
     "text": [
      "huh\n"
     ]
    },
    {
     "name": "stderr",
     "output_type": "stream",
     "text": [
      "\u001b[32m2025-10-22 20:37:45.899\u001b[0m | \u001b[1mINFO    \u001b[0m | \u001b[36msrc.model_selection.cv_main\u001b[0m:\u001b[36mpredict\u001b[0m:\u001b[36m276\u001b[0m - \u001b[1mSample 210/250 predicted.\u001b[0m\n",
      "\u001b[32m2025-10-22 20:37:45.903\u001b[0m | \u001b[34m\u001b[1mDEBUG   \u001b[0m | \u001b[36msrc.utils.general\u001b[0m:\u001b[36mopen_csv\u001b[0m:\u001b[36m108\u001b[0m - \u001b[34m\u001b[1mLoaded CSV: c:\\Users\\OAVAI\\Desktop\\mma - Copy\\mma_light\\data\\output\\feature_selection\\natty_feature_frequency.csv (87 rows)\u001b[0m\n",
      "\u001b[32m2025-10-22 20:37:45.904\u001b[0m | \u001b[1mINFO    \u001b[0m | \u001b[36msrc.model_selection.cv_main\u001b[0m:\u001b[36m_cross_validate\u001b[0m:\u001b[36m476\u001b[0m - \u001b[1mSelected top 78 features for CV: 78\u001b[0m\n"
     ]
    },
    {
     "name": "stdout",
     "output_type": "stream",
     "text": [
      "huh\n"
     ]
    },
    {
     "name": "stderr",
     "output_type": "stream",
     "text": [
      "\u001b[32m2025-10-22 20:37:51.070\u001b[0m | \u001b[1mINFO    \u001b[0m | \u001b[36msrc.model_selection.cv_main\u001b[0m:\u001b[36mpredict\u001b[0m:\u001b[36m276\u001b[0m - \u001b[1mSample 211/250 predicted.\u001b[0m\n",
      "\u001b[32m2025-10-22 20:37:51.073\u001b[0m | \u001b[34m\u001b[1mDEBUG   \u001b[0m | \u001b[36msrc.utils.general\u001b[0m:\u001b[36mopen_csv\u001b[0m:\u001b[36m108\u001b[0m - \u001b[34m\u001b[1mLoaded CSV: c:\\Users\\OAVAI\\Desktop\\mma - Copy\\mma_light\\data\\output\\feature_selection\\natty_feature_frequency.csv (87 rows)\u001b[0m\n",
      "\u001b[32m2025-10-22 20:37:51.074\u001b[0m | \u001b[1mINFO    \u001b[0m | \u001b[36msrc.model_selection.cv_main\u001b[0m:\u001b[36m_cross_validate\u001b[0m:\u001b[36m476\u001b[0m - \u001b[1mSelected top 78 features for CV: 78\u001b[0m\n"
     ]
    },
    {
     "name": "stdout",
     "output_type": "stream",
     "text": [
      "huh\n"
     ]
    },
    {
     "name": "stderr",
     "output_type": "stream",
     "text": [
      "\u001b[32m2025-10-22 20:37:57.657\u001b[0m | \u001b[1mINFO    \u001b[0m | \u001b[36msrc.model_selection.cv_main\u001b[0m:\u001b[36mpredict\u001b[0m:\u001b[36m276\u001b[0m - \u001b[1mSample 212/250 predicted.\u001b[0m\n",
      "\u001b[32m2025-10-22 20:37:57.660\u001b[0m | \u001b[34m\u001b[1mDEBUG   \u001b[0m | \u001b[36msrc.utils.general\u001b[0m:\u001b[36mopen_csv\u001b[0m:\u001b[36m108\u001b[0m - \u001b[34m\u001b[1mLoaded CSV: c:\\Users\\OAVAI\\Desktop\\mma - Copy\\mma_light\\data\\output\\feature_selection\\natty_feature_frequency.csv (87 rows)\u001b[0m\n",
      "\u001b[32m2025-10-22 20:37:57.661\u001b[0m | \u001b[1mINFO    \u001b[0m | \u001b[36msrc.model_selection.cv_main\u001b[0m:\u001b[36m_cross_validate\u001b[0m:\u001b[36m476\u001b[0m - \u001b[1mSelected top 78 features for CV: 78\u001b[0m\n"
     ]
    },
    {
     "name": "stdout",
     "output_type": "stream",
     "text": [
      "huh\n"
     ]
    },
    {
     "name": "stderr",
     "output_type": "stream",
     "text": [
      "\u001b[32m2025-10-22 20:38:03.818\u001b[0m | \u001b[1mINFO    \u001b[0m | \u001b[36msrc.model_selection.cv_main\u001b[0m:\u001b[36mpredict\u001b[0m:\u001b[36m276\u001b[0m - \u001b[1mSample 213/250 predicted.\u001b[0m\n",
      "\u001b[32m2025-10-22 20:38:03.821\u001b[0m | \u001b[34m\u001b[1mDEBUG   \u001b[0m | \u001b[36msrc.utils.general\u001b[0m:\u001b[36mopen_csv\u001b[0m:\u001b[36m108\u001b[0m - \u001b[34m\u001b[1mLoaded CSV: c:\\Users\\OAVAI\\Desktop\\mma - Copy\\mma_light\\data\\output\\feature_selection\\natty_feature_frequency.csv (87 rows)\u001b[0m\n",
      "\u001b[32m2025-10-22 20:38:03.822\u001b[0m | \u001b[1mINFO    \u001b[0m | \u001b[36msrc.model_selection.cv_main\u001b[0m:\u001b[36m_cross_validate\u001b[0m:\u001b[36m476\u001b[0m - \u001b[1mSelected top 78 features for CV: 78\u001b[0m\n"
     ]
    },
    {
     "name": "stdout",
     "output_type": "stream",
     "text": [
      "huh\n"
     ]
    },
    {
     "name": "stderr",
     "output_type": "stream",
     "text": [
      "\u001b[32m2025-10-22 20:38:07.858\u001b[0m | \u001b[1mINFO    \u001b[0m | \u001b[36msrc.model_selection.cv_main\u001b[0m:\u001b[36mpredict\u001b[0m:\u001b[36m276\u001b[0m - \u001b[1mSample 214/250 predicted.\u001b[0m\n",
      "\u001b[32m2025-10-22 20:38:07.861\u001b[0m | \u001b[34m\u001b[1mDEBUG   \u001b[0m | \u001b[36msrc.utils.general\u001b[0m:\u001b[36mopen_csv\u001b[0m:\u001b[36m108\u001b[0m - \u001b[34m\u001b[1mLoaded CSV: c:\\Users\\OAVAI\\Desktop\\mma - Copy\\mma_light\\data\\output\\feature_selection\\natty_feature_frequency.csv (87 rows)\u001b[0m\n",
      "\u001b[32m2025-10-22 20:38:07.862\u001b[0m | \u001b[1mINFO    \u001b[0m | \u001b[36msrc.model_selection.cv_main\u001b[0m:\u001b[36m_cross_validate\u001b[0m:\u001b[36m476\u001b[0m - \u001b[1mSelected top 78 features for CV: 78\u001b[0m\n"
     ]
    },
    {
     "name": "stdout",
     "output_type": "stream",
     "text": [
      "huh\n"
     ]
    },
    {
     "name": "stderr",
     "output_type": "stream",
     "text": [
      "\u001b[32m2025-10-22 20:38:13.979\u001b[0m | \u001b[1mINFO    \u001b[0m | \u001b[36msrc.model_selection.cv_main\u001b[0m:\u001b[36mpredict\u001b[0m:\u001b[36m276\u001b[0m - \u001b[1mSample 215/250 predicted.\u001b[0m\n",
      "\u001b[32m2025-10-22 20:38:13.982\u001b[0m | \u001b[34m\u001b[1mDEBUG   \u001b[0m | \u001b[36msrc.utils.general\u001b[0m:\u001b[36mopen_csv\u001b[0m:\u001b[36m108\u001b[0m - \u001b[34m\u001b[1mLoaded CSV: c:\\Users\\OAVAI\\Desktop\\mma - Copy\\mma_light\\data\\output\\feature_selection\\natty_feature_frequency.csv (87 rows)\u001b[0m\n",
      "\u001b[32m2025-10-22 20:38:13.982\u001b[0m | \u001b[1mINFO    \u001b[0m | \u001b[36msrc.model_selection.cv_main\u001b[0m:\u001b[36m_cross_validate\u001b[0m:\u001b[36m476\u001b[0m - \u001b[1mSelected top 78 features for CV: 78\u001b[0m\n"
     ]
    },
    {
     "name": "stdout",
     "output_type": "stream",
     "text": [
      "huh\n"
     ]
    },
    {
     "name": "stderr",
     "output_type": "stream",
     "text": [
      "\u001b[32m2025-10-22 20:38:19.266\u001b[0m | \u001b[1mINFO    \u001b[0m | \u001b[36msrc.model_selection.cv_main\u001b[0m:\u001b[36mpredict\u001b[0m:\u001b[36m276\u001b[0m - \u001b[1mSample 216/250 predicted.\u001b[0m\n",
      "\u001b[32m2025-10-22 20:38:19.270\u001b[0m | \u001b[34m\u001b[1mDEBUG   \u001b[0m | \u001b[36msrc.utils.general\u001b[0m:\u001b[36mopen_csv\u001b[0m:\u001b[36m108\u001b[0m - \u001b[34m\u001b[1mLoaded CSV: c:\\Users\\OAVAI\\Desktop\\mma - Copy\\mma_light\\data\\output\\feature_selection\\natty_feature_frequency.csv (87 rows)\u001b[0m\n",
      "\u001b[32m2025-10-22 20:38:19.271\u001b[0m | \u001b[1mINFO    \u001b[0m | \u001b[36msrc.model_selection.cv_main\u001b[0m:\u001b[36m_cross_validate\u001b[0m:\u001b[36m476\u001b[0m - \u001b[1mSelected top 78 features for CV: 78\u001b[0m\n"
     ]
    },
    {
     "name": "stdout",
     "output_type": "stream",
     "text": [
      "huh\n"
     ]
    },
    {
     "name": "stderr",
     "output_type": "stream",
     "text": [
      "\u001b[32m2025-10-22 20:38:25.216\u001b[0m | \u001b[1mINFO    \u001b[0m | \u001b[36msrc.model_selection.cv_main\u001b[0m:\u001b[36mpredict\u001b[0m:\u001b[36m276\u001b[0m - \u001b[1mSample 217/250 predicted.\u001b[0m\n",
      "\u001b[32m2025-10-22 20:38:25.219\u001b[0m | \u001b[34m\u001b[1mDEBUG   \u001b[0m | \u001b[36msrc.utils.general\u001b[0m:\u001b[36mopen_csv\u001b[0m:\u001b[36m108\u001b[0m - \u001b[34m\u001b[1mLoaded CSV: c:\\Users\\OAVAI\\Desktop\\mma - Copy\\mma_light\\data\\output\\feature_selection\\natty_feature_frequency.csv (87 rows)\u001b[0m\n",
      "\u001b[32m2025-10-22 20:38:25.220\u001b[0m | \u001b[1mINFO    \u001b[0m | \u001b[36msrc.model_selection.cv_main\u001b[0m:\u001b[36m_cross_validate\u001b[0m:\u001b[36m476\u001b[0m - \u001b[1mSelected top 78 features for CV: 78\u001b[0m\n"
     ]
    },
    {
     "name": "stdout",
     "output_type": "stream",
     "text": [
      "huh\n"
     ]
    },
    {
     "name": "stderr",
     "output_type": "stream",
     "text": [
      "\u001b[32m2025-10-22 20:38:31.624\u001b[0m | \u001b[1mINFO    \u001b[0m | \u001b[36msrc.model_selection.cv_main\u001b[0m:\u001b[36mpredict\u001b[0m:\u001b[36m276\u001b[0m - \u001b[1mSample 218/250 predicted.\u001b[0m\n",
      "\u001b[32m2025-10-22 20:38:31.627\u001b[0m | \u001b[34m\u001b[1mDEBUG   \u001b[0m | \u001b[36msrc.utils.general\u001b[0m:\u001b[36mopen_csv\u001b[0m:\u001b[36m108\u001b[0m - \u001b[34m\u001b[1mLoaded CSV: c:\\Users\\OAVAI\\Desktop\\mma - Copy\\mma_light\\data\\output\\feature_selection\\natty_feature_frequency.csv (87 rows)\u001b[0m\n",
      "\u001b[32m2025-10-22 20:38:31.628\u001b[0m | \u001b[1mINFO    \u001b[0m | \u001b[36msrc.model_selection.cv_main\u001b[0m:\u001b[36m_cross_validate\u001b[0m:\u001b[36m476\u001b[0m - \u001b[1mSelected top 78 features for CV: 78\u001b[0m\n"
     ]
    },
    {
     "name": "stdout",
     "output_type": "stream",
     "text": [
      "huh\n"
     ]
    },
    {
     "name": "stderr",
     "output_type": "stream",
     "text": [
      "\u001b[32m2025-10-22 20:38:39.795\u001b[0m | \u001b[1mINFO    \u001b[0m | \u001b[36msrc.model_selection.cv_main\u001b[0m:\u001b[36mpredict\u001b[0m:\u001b[36m276\u001b[0m - \u001b[1mSample 219/250 predicted.\u001b[0m\n",
      "\u001b[32m2025-10-22 20:38:39.798\u001b[0m | \u001b[34m\u001b[1mDEBUG   \u001b[0m | \u001b[36msrc.utils.general\u001b[0m:\u001b[36mopen_csv\u001b[0m:\u001b[36m108\u001b[0m - \u001b[34m\u001b[1mLoaded CSV: c:\\Users\\OAVAI\\Desktop\\mma - Copy\\mma_light\\data\\output\\feature_selection\\natty_feature_frequency.csv (87 rows)\u001b[0m\n",
      "\u001b[32m2025-10-22 20:38:39.798\u001b[0m | \u001b[1mINFO    \u001b[0m | \u001b[36msrc.model_selection.cv_main\u001b[0m:\u001b[36m_cross_validate\u001b[0m:\u001b[36m476\u001b[0m - \u001b[1mSelected top 78 features for CV: 78\u001b[0m\n"
     ]
    },
    {
     "name": "stdout",
     "output_type": "stream",
     "text": [
      "huh\n"
     ]
    },
    {
     "name": "stderr",
     "output_type": "stream",
     "text": [
      "\u001b[32m2025-10-22 20:38:44.797\u001b[0m | \u001b[1mINFO    \u001b[0m | \u001b[36msrc.model_selection.cv_main\u001b[0m:\u001b[36mpredict\u001b[0m:\u001b[36m276\u001b[0m - \u001b[1mSample 220/250 predicted.\u001b[0m\n",
      "\u001b[32m2025-10-22 20:38:44.802\u001b[0m | \u001b[34m\u001b[1mDEBUG   \u001b[0m | \u001b[36msrc.utils.general\u001b[0m:\u001b[36mopen_csv\u001b[0m:\u001b[36m108\u001b[0m - \u001b[34m\u001b[1mLoaded CSV: c:\\Users\\OAVAI\\Desktop\\mma - Copy\\mma_light\\data\\output\\feature_selection\\natty_feature_frequency.csv (87 rows)\u001b[0m\n",
      "\u001b[32m2025-10-22 20:38:44.803\u001b[0m | \u001b[1mINFO    \u001b[0m | \u001b[36msrc.model_selection.cv_main\u001b[0m:\u001b[36m_cross_validate\u001b[0m:\u001b[36m476\u001b[0m - \u001b[1mSelected top 78 features for CV: 78\u001b[0m\n"
     ]
    },
    {
     "name": "stdout",
     "output_type": "stream",
     "text": [
      "huh\n"
     ]
    },
    {
     "name": "stderr",
     "output_type": "stream",
     "text": [
      "\u001b[32m2025-10-22 20:38:51.076\u001b[0m | \u001b[1mINFO    \u001b[0m | \u001b[36msrc.model_selection.cv_main\u001b[0m:\u001b[36mpredict\u001b[0m:\u001b[36m276\u001b[0m - \u001b[1mSample 221/250 predicted.\u001b[0m\n",
      "\u001b[32m2025-10-22 20:38:51.079\u001b[0m | \u001b[34m\u001b[1mDEBUG   \u001b[0m | \u001b[36msrc.utils.general\u001b[0m:\u001b[36mopen_csv\u001b[0m:\u001b[36m108\u001b[0m - \u001b[34m\u001b[1mLoaded CSV: c:\\Users\\OAVAI\\Desktop\\mma - Copy\\mma_light\\data\\output\\feature_selection\\natty_feature_frequency.csv (87 rows)\u001b[0m\n",
      "\u001b[32m2025-10-22 20:38:51.080\u001b[0m | \u001b[1mINFO    \u001b[0m | \u001b[36msrc.model_selection.cv_main\u001b[0m:\u001b[36m_cross_validate\u001b[0m:\u001b[36m476\u001b[0m - \u001b[1mSelected top 78 features for CV: 78\u001b[0m\n"
     ]
    },
    {
     "name": "stdout",
     "output_type": "stream",
     "text": [
      "huh\n"
     ]
    },
    {
     "name": "stderr",
     "output_type": "stream",
     "text": [
      "\u001b[32m2025-10-22 20:38:56.570\u001b[0m | \u001b[1mINFO    \u001b[0m | \u001b[36msrc.model_selection.cv_main\u001b[0m:\u001b[36mpredict\u001b[0m:\u001b[36m276\u001b[0m - \u001b[1mSample 222/250 predicted.\u001b[0m\n",
      "\u001b[32m2025-10-22 20:38:56.574\u001b[0m | \u001b[34m\u001b[1mDEBUG   \u001b[0m | \u001b[36msrc.utils.general\u001b[0m:\u001b[36mopen_csv\u001b[0m:\u001b[36m108\u001b[0m - \u001b[34m\u001b[1mLoaded CSV: c:\\Users\\OAVAI\\Desktop\\mma - Copy\\mma_light\\data\\output\\feature_selection\\natty_feature_frequency.csv (87 rows)\u001b[0m\n",
      "\u001b[32m2025-10-22 20:38:56.575\u001b[0m | \u001b[1mINFO    \u001b[0m | \u001b[36msrc.model_selection.cv_main\u001b[0m:\u001b[36m_cross_validate\u001b[0m:\u001b[36m476\u001b[0m - \u001b[1mSelected top 78 features for CV: 78\u001b[0m\n"
     ]
    },
    {
     "name": "stdout",
     "output_type": "stream",
     "text": [
      "huh\n"
     ]
    },
    {
     "name": "stderr",
     "output_type": "stream",
     "text": [
      "\u001b[32m2025-10-22 20:39:02.657\u001b[0m | \u001b[1mINFO    \u001b[0m | \u001b[36msrc.model_selection.cv_main\u001b[0m:\u001b[36mpredict\u001b[0m:\u001b[36m276\u001b[0m - \u001b[1mSample 223/250 predicted.\u001b[0m\n",
      "\u001b[32m2025-10-22 20:39:02.661\u001b[0m | \u001b[34m\u001b[1mDEBUG   \u001b[0m | \u001b[36msrc.utils.general\u001b[0m:\u001b[36mopen_csv\u001b[0m:\u001b[36m108\u001b[0m - \u001b[34m\u001b[1mLoaded CSV: c:\\Users\\OAVAI\\Desktop\\mma - Copy\\mma_light\\data\\output\\feature_selection\\natty_feature_frequency.csv (87 rows)\u001b[0m\n",
      "\u001b[32m2025-10-22 20:39:02.662\u001b[0m | \u001b[1mINFO    \u001b[0m | \u001b[36msrc.model_selection.cv_main\u001b[0m:\u001b[36m_cross_validate\u001b[0m:\u001b[36m476\u001b[0m - \u001b[1mSelected top 78 features for CV: 78\u001b[0m\n"
     ]
    },
    {
     "name": "stdout",
     "output_type": "stream",
     "text": [
      "huh\n"
     ]
    },
    {
     "name": "stderr",
     "output_type": "stream",
     "text": [
      "\u001b[32m2025-10-22 20:39:08.789\u001b[0m | \u001b[1mINFO    \u001b[0m | \u001b[36msrc.model_selection.cv_main\u001b[0m:\u001b[36mpredict\u001b[0m:\u001b[36m276\u001b[0m - \u001b[1mSample 224/250 predicted.\u001b[0m\n",
      "\u001b[32m2025-10-22 20:39:08.793\u001b[0m | \u001b[34m\u001b[1mDEBUG   \u001b[0m | \u001b[36msrc.utils.general\u001b[0m:\u001b[36mopen_csv\u001b[0m:\u001b[36m108\u001b[0m - \u001b[34m\u001b[1mLoaded CSV: c:\\Users\\OAVAI\\Desktop\\mma - Copy\\mma_light\\data\\output\\feature_selection\\natty_feature_frequency.csv (87 rows)\u001b[0m\n",
      "\u001b[32m2025-10-22 20:39:08.794\u001b[0m | \u001b[1mINFO    \u001b[0m | \u001b[36msrc.model_selection.cv_main\u001b[0m:\u001b[36m_cross_validate\u001b[0m:\u001b[36m476\u001b[0m - \u001b[1mSelected top 78 features for CV: 78\u001b[0m\n"
     ]
    },
    {
     "name": "stdout",
     "output_type": "stream",
     "text": [
      "huh\n"
     ]
    },
    {
     "name": "stderr",
     "output_type": "stream",
     "text": [
      "\u001b[32m2025-10-22 20:39:14.145\u001b[0m | \u001b[1mINFO    \u001b[0m | \u001b[36msrc.model_selection.cv_main\u001b[0m:\u001b[36mpredict\u001b[0m:\u001b[36m276\u001b[0m - \u001b[1mSample 225/250 predicted.\u001b[0m\n",
      "\u001b[32m2025-10-22 20:39:14.147\u001b[0m | \u001b[34m\u001b[1mDEBUG   \u001b[0m | \u001b[36msrc.utils.general\u001b[0m:\u001b[36mopen_csv\u001b[0m:\u001b[36m108\u001b[0m - \u001b[34m\u001b[1mLoaded CSV: c:\\Users\\OAVAI\\Desktop\\mma - Copy\\mma_light\\data\\output\\feature_selection\\natty_feature_frequency.csv (87 rows)\u001b[0m\n",
      "\u001b[32m2025-10-22 20:39:14.149\u001b[0m | \u001b[1mINFO    \u001b[0m | \u001b[36msrc.model_selection.cv_main\u001b[0m:\u001b[36m_cross_validate\u001b[0m:\u001b[36m476\u001b[0m - \u001b[1mSelected top 78 features for CV: 78\u001b[0m\n"
     ]
    },
    {
     "name": "stdout",
     "output_type": "stream",
     "text": [
      "huh\n"
     ]
    },
    {
     "name": "stderr",
     "output_type": "stream",
     "text": [
      "\u001b[32m2025-10-22 20:39:19.532\u001b[0m | \u001b[1mINFO    \u001b[0m | \u001b[36msrc.model_selection.cv_main\u001b[0m:\u001b[36mpredict\u001b[0m:\u001b[36m276\u001b[0m - \u001b[1mSample 226/250 predicted.\u001b[0m\n",
      "\u001b[32m2025-10-22 20:39:19.535\u001b[0m | \u001b[34m\u001b[1mDEBUG   \u001b[0m | \u001b[36msrc.utils.general\u001b[0m:\u001b[36mopen_csv\u001b[0m:\u001b[36m108\u001b[0m - \u001b[34m\u001b[1mLoaded CSV: c:\\Users\\OAVAI\\Desktop\\mma - Copy\\mma_light\\data\\output\\feature_selection\\natty_feature_frequency.csv (87 rows)\u001b[0m\n",
      "\u001b[32m2025-10-22 20:39:19.536\u001b[0m | \u001b[1mINFO    \u001b[0m | \u001b[36msrc.model_selection.cv_main\u001b[0m:\u001b[36m_cross_validate\u001b[0m:\u001b[36m476\u001b[0m - \u001b[1mSelected top 78 features for CV: 78\u001b[0m\n"
     ]
    },
    {
     "name": "stdout",
     "output_type": "stream",
     "text": [
      "huh\n"
     ]
    },
    {
     "name": "stderr",
     "output_type": "stream",
     "text": [
      "\u001b[32m2025-10-22 20:39:27.028\u001b[0m | \u001b[1mINFO    \u001b[0m | \u001b[36msrc.model_selection.cv_main\u001b[0m:\u001b[36mpredict\u001b[0m:\u001b[36m276\u001b[0m - \u001b[1mSample 227/250 predicted.\u001b[0m\n",
      "\u001b[32m2025-10-22 20:39:27.031\u001b[0m | \u001b[34m\u001b[1mDEBUG   \u001b[0m | \u001b[36msrc.utils.general\u001b[0m:\u001b[36mopen_csv\u001b[0m:\u001b[36m108\u001b[0m - \u001b[34m\u001b[1mLoaded CSV: c:\\Users\\OAVAI\\Desktop\\mma - Copy\\mma_light\\data\\output\\feature_selection\\natty_feature_frequency.csv (87 rows)\u001b[0m\n",
      "\u001b[32m2025-10-22 20:39:27.032\u001b[0m | \u001b[1mINFO    \u001b[0m | \u001b[36msrc.model_selection.cv_main\u001b[0m:\u001b[36m_cross_validate\u001b[0m:\u001b[36m476\u001b[0m - \u001b[1mSelected top 78 features for CV: 78\u001b[0m\n"
     ]
    },
    {
     "name": "stdout",
     "output_type": "stream",
     "text": [
      "huh\n"
     ]
    },
    {
     "name": "stderr",
     "output_type": "stream",
     "text": [
      "\u001b[32m2025-10-22 20:39:33.371\u001b[0m | \u001b[1mINFO    \u001b[0m | \u001b[36msrc.model_selection.cv_main\u001b[0m:\u001b[36mpredict\u001b[0m:\u001b[36m276\u001b[0m - \u001b[1mSample 228/250 predicted.\u001b[0m\n",
      "\u001b[32m2025-10-22 20:39:33.375\u001b[0m | \u001b[34m\u001b[1mDEBUG   \u001b[0m | \u001b[36msrc.utils.general\u001b[0m:\u001b[36mopen_csv\u001b[0m:\u001b[36m108\u001b[0m - \u001b[34m\u001b[1mLoaded CSV: c:\\Users\\OAVAI\\Desktop\\mma - Copy\\mma_light\\data\\output\\feature_selection\\natty_feature_frequency.csv (87 rows)\u001b[0m\n",
      "\u001b[32m2025-10-22 20:39:33.377\u001b[0m | \u001b[1mINFO    \u001b[0m | \u001b[36msrc.model_selection.cv_main\u001b[0m:\u001b[36m_cross_validate\u001b[0m:\u001b[36m476\u001b[0m - \u001b[1mSelected top 78 features for CV: 78\u001b[0m\n"
     ]
    },
    {
     "name": "stdout",
     "output_type": "stream",
     "text": [
      "huh\n"
     ]
    },
    {
     "name": "stderr",
     "output_type": "stream",
     "text": [
      "\u001b[32m2025-10-22 20:39:38.156\u001b[0m | \u001b[1mINFO    \u001b[0m | \u001b[36msrc.model_selection.cv_main\u001b[0m:\u001b[36mpredict\u001b[0m:\u001b[36m276\u001b[0m - \u001b[1mSample 229/250 predicted.\u001b[0m\n",
      "\u001b[32m2025-10-22 20:39:38.159\u001b[0m | \u001b[34m\u001b[1mDEBUG   \u001b[0m | \u001b[36msrc.utils.general\u001b[0m:\u001b[36mopen_csv\u001b[0m:\u001b[36m108\u001b[0m - \u001b[34m\u001b[1mLoaded CSV: c:\\Users\\OAVAI\\Desktop\\mma - Copy\\mma_light\\data\\output\\feature_selection\\natty_feature_frequency.csv (87 rows)\u001b[0m\n",
      "\u001b[32m2025-10-22 20:39:38.160\u001b[0m | \u001b[1mINFO    \u001b[0m | \u001b[36msrc.model_selection.cv_main\u001b[0m:\u001b[36m_cross_validate\u001b[0m:\u001b[36m476\u001b[0m - \u001b[1mSelected top 78 features for CV: 78\u001b[0m\n"
     ]
    },
    {
     "name": "stdout",
     "output_type": "stream",
     "text": [
      "huh\n"
     ]
    },
    {
     "name": "stderr",
     "output_type": "stream",
     "text": [
      "\u001b[32m2025-10-22 20:39:44.946\u001b[0m | \u001b[1mINFO    \u001b[0m | \u001b[36msrc.model_selection.cv_main\u001b[0m:\u001b[36mpredict\u001b[0m:\u001b[36m276\u001b[0m - \u001b[1mSample 230/250 predicted.\u001b[0m\n",
      "\u001b[32m2025-10-22 20:39:44.950\u001b[0m | \u001b[34m\u001b[1mDEBUG   \u001b[0m | \u001b[36msrc.utils.general\u001b[0m:\u001b[36mopen_csv\u001b[0m:\u001b[36m108\u001b[0m - \u001b[34m\u001b[1mLoaded CSV: c:\\Users\\OAVAI\\Desktop\\mma - Copy\\mma_light\\data\\output\\feature_selection\\natty_feature_frequency.csv (87 rows)\u001b[0m\n",
      "\u001b[32m2025-10-22 20:39:44.951\u001b[0m | \u001b[1mINFO    \u001b[0m | \u001b[36msrc.model_selection.cv_main\u001b[0m:\u001b[36m_cross_validate\u001b[0m:\u001b[36m476\u001b[0m - \u001b[1mSelected top 78 features for CV: 78\u001b[0m\n"
     ]
    },
    {
     "name": "stdout",
     "output_type": "stream",
     "text": [
      "huh\n"
     ]
    },
    {
     "name": "stderr",
     "output_type": "stream",
     "text": [
      "\u001b[32m2025-10-22 20:39:49.378\u001b[0m | \u001b[1mINFO    \u001b[0m | \u001b[36msrc.model_selection.cv_main\u001b[0m:\u001b[36mpredict\u001b[0m:\u001b[36m276\u001b[0m - \u001b[1mSample 231/250 predicted.\u001b[0m\n",
      "\u001b[32m2025-10-22 20:39:49.381\u001b[0m | \u001b[34m\u001b[1mDEBUG   \u001b[0m | \u001b[36msrc.utils.general\u001b[0m:\u001b[36mopen_csv\u001b[0m:\u001b[36m108\u001b[0m - \u001b[34m\u001b[1mLoaded CSV: c:\\Users\\OAVAI\\Desktop\\mma - Copy\\mma_light\\data\\output\\feature_selection\\natty_feature_frequency.csv (87 rows)\u001b[0m\n",
      "\u001b[32m2025-10-22 20:39:49.382\u001b[0m | \u001b[1mINFO    \u001b[0m | \u001b[36msrc.model_selection.cv_main\u001b[0m:\u001b[36m_cross_validate\u001b[0m:\u001b[36m476\u001b[0m - \u001b[1mSelected top 78 features for CV: 78\u001b[0m\n"
     ]
    },
    {
     "name": "stdout",
     "output_type": "stream",
     "text": [
      "huh\n"
     ]
    },
    {
     "name": "stderr",
     "output_type": "stream",
     "text": [
      "\u001b[32m2025-10-22 20:39:55.647\u001b[0m | \u001b[1mINFO    \u001b[0m | \u001b[36msrc.model_selection.cv_main\u001b[0m:\u001b[36mpredict\u001b[0m:\u001b[36m276\u001b[0m - \u001b[1mSample 232/250 predicted.\u001b[0m\n",
      "\u001b[32m2025-10-22 20:39:55.651\u001b[0m | \u001b[34m\u001b[1mDEBUG   \u001b[0m | \u001b[36msrc.utils.general\u001b[0m:\u001b[36mopen_csv\u001b[0m:\u001b[36m108\u001b[0m - \u001b[34m\u001b[1mLoaded CSV: c:\\Users\\OAVAI\\Desktop\\mma - Copy\\mma_light\\data\\output\\feature_selection\\natty_feature_frequency.csv (87 rows)\u001b[0m\n",
      "\u001b[32m2025-10-22 20:39:55.651\u001b[0m | \u001b[1mINFO    \u001b[0m | \u001b[36msrc.model_selection.cv_main\u001b[0m:\u001b[36m_cross_validate\u001b[0m:\u001b[36m476\u001b[0m - \u001b[1mSelected top 78 features for CV: 78\u001b[0m\n"
     ]
    },
    {
     "name": "stdout",
     "output_type": "stream",
     "text": [
      "huh\n"
     ]
    },
    {
     "name": "stderr",
     "output_type": "stream",
     "text": [
      "\u001b[32m2025-10-22 20:40:01.912\u001b[0m | \u001b[1mINFO    \u001b[0m | \u001b[36msrc.model_selection.cv_main\u001b[0m:\u001b[36mpredict\u001b[0m:\u001b[36m276\u001b[0m - \u001b[1mSample 233/250 predicted.\u001b[0m\n",
      "\u001b[32m2025-10-22 20:40:01.916\u001b[0m | \u001b[34m\u001b[1mDEBUG   \u001b[0m | \u001b[36msrc.utils.general\u001b[0m:\u001b[36mopen_csv\u001b[0m:\u001b[36m108\u001b[0m - \u001b[34m\u001b[1mLoaded CSV: c:\\Users\\OAVAI\\Desktop\\mma - Copy\\mma_light\\data\\output\\feature_selection\\natty_feature_frequency.csv (87 rows)\u001b[0m\n",
      "\u001b[32m2025-10-22 20:40:01.917\u001b[0m | \u001b[1mINFO    \u001b[0m | \u001b[36msrc.model_selection.cv_main\u001b[0m:\u001b[36m_cross_validate\u001b[0m:\u001b[36m476\u001b[0m - \u001b[1mSelected top 78 features for CV: 78\u001b[0m\n"
     ]
    },
    {
     "name": "stdout",
     "output_type": "stream",
     "text": [
      "huh\n"
     ]
    },
    {
     "name": "stderr",
     "output_type": "stream",
     "text": [
      "\u001b[32m2025-10-22 20:40:08.310\u001b[0m | \u001b[1mINFO    \u001b[0m | \u001b[36msrc.model_selection.cv_main\u001b[0m:\u001b[36mpredict\u001b[0m:\u001b[36m276\u001b[0m - \u001b[1mSample 234/250 predicted.\u001b[0m\n",
      "\u001b[32m2025-10-22 20:40:08.313\u001b[0m | \u001b[34m\u001b[1mDEBUG   \u001b[0m | \u001b[36msrc.utils.general\u001b[0m:\u001b[36mopen_csv\u001b[0m:\u001b[36m108\u001b[0m - \u001b[34m\u001b[1mLoaded CSV: c:\\Users\\OAVAI\\Desktop\\mma - Copy\\mma_light\\data\\output\\feature_selection\\natty_feature_frequency.csv (87 rows)\u001b[0m\n",
      "\u001b[32m2025-10-22 20:40:08.314\u001b[0m | \u001b[1mINFO    \u001b[0m | \u001b[36msrc.model_selection.cv_main\u001b[0m:\u001b[36m_cross_validate\u001b[0m:\u001b[36m476\u001b[0m - \u001b[1mSelected top 78 features for CV: 78\u001b[0m\n"
     ]
    },
    {
     "name": "stdout",
     "output_type": "stream",
     "text": [
      "huh\n"
     ]
    },
    {
     "name": "stderr",
     "output_type": "stream",
     "text": [
      "\u001b[32m2025-10-22 20:40:16.180\u001b[0m | \u001b[1mINFO    \u001b[0m | \u001b[36msrc.model_selection.cv_main\u001b[0m:\u001b[36mpredict\u001b[0m:\u001b[36m276\u001b[0m - \u001b[1mSample 235/250 predicted.\u001b[0m\n",
      "\u001b[32m2025-10-22 20:40:16.183\u001b[0m | \u001b[34m\u001b[1mDEBUG   \u001b[0m | \u001b[36msrc.utils.general\u001b[0m:\u001b[36mopen_csv\u001b[0m:\u001b[36m108\u001b[0m - \u001b[34m\u001b[1mLoaded CSV: c:\\Users\\OAVAI\\Desktop\\mma - Copy\\mma_light\\data\\output\\feature_selection\\natty_feature_frequency.csv (87 rows)\u001b[0m\n",
      "\u001b[32m2025-10-22 20:40:16.184\u001b[0m | \u001b[1mINFO    \u001b[0m | \u001b[36msrc.model_selection.cv_main\u001b[0m:\u001b[36m_cross_validate\u001b[0m:\u001b[36m476\u001b[0m - \u001b[1mSelected top 78 features for CV: 78\u001b[0m\n"
     ]
    },
    {
     "name": "stdout",
     "output_type": "stream",
     "text": [
      "huh\n"
     ]
    },
    {
     "name": "stderr",
     "output_type": "stream",
     "text": [
      "\u001b[32m2025-10-22 20:40:20.917\u001b[0m | \u001b[1mINFO    \u001b[0m | \u001b[36msrc.model_selection.cv_main\u001b[0m:\u001b[36mpredict\u001b[0m:\u001b[36m276\u001b[0m - \u001b[1mSample 236/250 predicted.\u001b[0m\n",
      "\u001b[32m2025-10-22 20:40:20.921\u001b[0m | \u001b[34m\u001b[1mDEBUG   \u001b[0m | \u001b[36msrc.utils.general\u001b[0m:\u001b[36mopen_csv\u001b[0m:\u001b[36m108\u001b[0m - \u001b[34m\u001b[1mLoaded CSV: c:\\Users\\OAVAI\\Desktop\\mma - Copy\\mma_light\\data\\output\\feature_selection\\natty_feature_frequency.csv (87 rows)\u001b[0m\n",
      "\u001b[32m2025-10-22 20:40:20.922\u001b[0m | \u001b[1mINFO    \u001b[0m | \u001b[36msrc.model_selection.cv_main\u001b[0m:\u001b[36m_cross_validate\u001b[0m:\u001b[36m476\u001b[0m - \u001b[1mSelected top 78 features for CV: 78\u001b[0m\n"
     ]
    },
    {
     "name": "stdout",
     "output_type": "stream",
     "text": [
      "huh\n"
     ]
    },
    {
     "name": "stderr",
     "output_type": "stream",
     "text": [
      "\u001b[32m2025-10-22 20:40:26.801\u001b[0m | \u001b[1mINFO    \u001b[0m | \u001b[36msrc.model_selection.cv_main\u001b[0m:\u001b[36mpredict\u001b[0m:\u001b[36m276\u001b[0m - \u001b[1mSample 237/250 predicted.\u001b[0m\n",
      "\u001b[32m2025-10-22 20:40:26.805\u001b[0m | \u001b[34m\u001b[1mDEBUG   \u001b[0m | \u001b[36msrc.utils.general\u001b[0m:\u001b[36mopen_csv\u001b[0m:\u001b[36m108\u001b[0m - \u001b[34m\u001b[1mLoaded CSV: c:\\Users\\OAVAI\\Desktop\\mma - Copy\\mma_light\\data\\output\\feature_selection\\natty_feature_frequency.csv (87 rows)\u001b[0m\n",
      "\u001b[32m2025-10-22 20:40:26.806\u001b[0m | \u001b[1mINFO    \u001b[0m | \u001b[36msrc.model_selection.cv_main\u001b[0m:\u001b[36m_cross_validate\u001b[0m:\u001b[36m476\u001b[0m - \u001b[1mSelected top 78 features for CV: 78\u001b[0m\n"
     ]
    },
    {
     "name": "stdout",
     "output_type": "stream",
     "text": [
      "huh\n"
     ]
    },
    {
     "name": "stderr",
     "output_type": "stream",
     "text": [
      "\u001b[32m2025-10-22 20:40:32.610\u001b[0m | \u001b[1mINFO    \u001b[0m | \u001b[36msrc.model_selection.cv_main\u001b[0m:\u001b[36mpredict\u001b[0m:\u001b[36m276\u001b[0m - \u001b[1mSample 238/250 predicted.\u001b[0m\n",
      "\u001b[32m2025-10-22 20:40:32.613\u001b[0m | \u001b[34m\u001b[1mDEBUG   \u001b[0m | \u001b[36msrc.utils.general\u001b[0m:\u001b[36mopen_csv\u001b[0m:\u001b[36m108\u001b[0m - \u001b[34m\u001b[1mLoaded CSV: c:\\Users\\OAVAI\\Desktop\\mma - Copy\\mma_light\\data\\output\\feature_selection\\natty_feature_frequency.csv (87 rows)\u001b[0m\n",
      "\u001b[32m2025-10-22 20:40:32.613\u001b[0m | \u001b[1mINFO    \u001b[0m | \u001b[36msrc.model_selection.cv_main\u001b[0m:\u001b[36m_cross_validate\u001b[0m:\u001b[36m476\u001b[0m - \u001b[1mSelected top 78 features for CV: 78\u001b[0m\n"
     ]
    },
    {
     "name": "stdout",
     "output_type": "stream",
     "text": [
      "huh\n"
     ]
    },
    {
     "name": "stderr",
     "output_type": "stream",
     "text": [
      "\u001b[32m2025-10-22 20:40:37.227\u001b[0m | \u001b[1mINFO    \u001b[0m | \u001b[36msrc.model_selection.cv_main\u001b[0m:\u001b[36mpredict\u001b[0m:\u001b[36m276\u001b[0m - \u001b[1mSample 239/250 predicted.\u001b[0m\n",
      "\u001b[32m2025-10-22 20:40:37.232\u001b[0m | \u001b[34m\u001b[1mDEBUG   \u001b[0m | \u001b[36msrc.utils.general\u001b[0m:\u001b[36mopen_csv\u001b[0m:\u001b[36m108\u001b[0m - \u001b[34m\u001b[1mLoaded CSV: c:\\Users\\OAVAI\\Desktop\\mma - Copy\\mma_light\\data\\output\\feature_selection\\natty_feature_frequency.csv (87 rows)\u001b[0m\n",
      "\u001b[32m2025-10-22 20:40:37.232\u001b[0m | \u001b[1mINFO    \u001b[0m | \u001b[36msrc.model_selection.cv_main\u001b[0m:\u001b[36m_cross_validate\u001b[0m:\u001b[36m476\u001b[0m - \u001b[1mSelected top 78 features for CV: 78\u001b[0m\n"
     ]
    },
    {
     "name": "stdout",
     "output_type": "stream",
     "text": [
      "huh\n"
     ]
    },
    {
     "name": "stderr",
     "output_type": "stream",
     "text": [
      "\u001b[32m2025-10-22 20:40:42.484\u001b[0m | \u001b[1mINFO    \u001b[0m | \u001b[36msrc.model_selection.cv_main\u001b[0m:\u001b[36mpredict\u001b[0m:\u001b[36m276\u001b[0m - \u001b[1mSample 240/250 predicted.\u001b[0m\n",
      "\u001b[32m2025-10-22 20:40:42.487\u001b[0m | \u001b[34m\u001b[1mDEBUG   \u001b[0m | \u001b[36msrc.utils.general\u001b[0m:\u001b[36mopen_csv\u001b[0m:\u001b[36m108\u001b[0m - \u001b[34m\u001b[1mLoaded CSV: c:\\Users\\OAVAI\\Desktop\\mma - Copy\\mma_light\\data\\output\\feature_selection\\natty_feature_frequency.csv (87 rows)\u001b[0m\n",
      "\u001b[32m2025-10-22 20:40:42.488\u001b[0m | \u001b[1mINFO    \u001b[0m | \u001b[36msrc.model_selection.cv_main\u001b[0m:\u001b[36m_cross_validate\u001b[0m:\u001b[36m476\u001b[0m - \u001b[1mSelected top 78 features for CV: 78\u001b[0m\n"
     ]
    },
    {
     "name": "stdout",
     "output_type": "stream",
     "text": [
      "huh\n"
     ]
    },
    {
     "name": "stderr",
     "output_type": "stream",
     "text": [
      "\u001b[32m2025-10-22 20:40:46.272\u001b[0m | \u001b[1mINFO    \u001b[0m | \u001b[36msrc.model_selection.cv_main\u001b[0m:\u001b[36mpredict\u001b[0m:\u001b[36m276\u001b[0m - \u001b[1mSample 241/250 predicted.\u001b[0m\n",
      "\u001b[32m2025-10-22 20:40:46.276\u001b[0m | \u001b[34m\u001b[1mDEBUG   \u001b[0m | \u001b[36msrc.utils.general\u001b[0m:\u001b[36mopen_csv\u001b[0m:\u001b[36m108\u001b[0m - \u001b[34m\u001b[1mLoaded CSV: c:\\Users\\OAVAI\\Desktop\\mma - Copy\\mma_light\\data\\output\\feature_selection\\natty_feature_frequency.csv (87 rows)\u001b[0m\n",
      "\u001b[32m2025-10-22 20:40:46.277\u001b[0m | \u001b[1mINFO    \u001b[0m | \u001b[36msrc.model_selection.cv_main\u001b[0m:\u001b[36m_cross_validate\u001b[0m:\u001b[36m476\u001b[0m - \u001b[1mSelected top 78 features for CV: 78\u001b[0m\n"
     ]
    },
    {
     "name": "stdout",
     "output_type": "stream",
     "text": [
      "huh\n"
     ]
    },
    {
     "name": "stderr",
     "output_type": "stream",
     "text": [
      "\u001b[32m2025-10-22 20:40:51.948\u001b[0m | \u001b[1mINFO    \u001b[0m | \u001b[36msrc.model_selection.cv_main\u001b[0m:\u001b[36mpredict\u001b[0m:\u001b[36m276\u001b[0m - \u001b[1mSample 242/250 predicted.\u001b[0m\n",
      "\u001b[32m2025-10-22 20:40:51.952\u001b[0m | \u001b[34m\u001b[1mDEBUG   \u001b[0m | \u001b[36msrc.utils.general\u001b[0m:\u001b[36mopen_csv\u001b[0m:\u001b[36m108\u001b[0m - \u001b[34m\u001b[1mLoaded CSV: c:\\Users\\OAVAI\\Desktop\\mma - Copy\\mma_light\\data\\output\\feature_selection\\natty_feature_frequency.csv (87 rows)\u001b[0m\n",
      "\u001b[32m2025-10-22 20:40:51.952\u001b[0m | \u001b[1mINFO    \u001b[0m | \u001b[36msrc.model_selection.cv_main\u001b[0m:\u001b[36m_cross_validate\u001b[0m:\u001b[36m476\u001b[0m - \u001b[1mSelected top 78 features for CV: 78\u001b[0m\n"
     ]
    },
    {
     "name": "stdout",
     "output_type": "stream",
     "text": [
      "huh\n"
     ]
    },
    {
     "name": "stderr",
     "output_type": "stream",
     "text": [
      "\u001b[32m2025-10-22 20:40:57.636\u001b[0m | \u001b[1mINFO    \u001b[0m | \u001b[36msrc.model_selection.cv_main\u001b[0m:\u001b[36mpredict\u001b[0m:\u001b[36m276\u001b[0m - \u001b[1mSample 243/250 predicted.\u001b[0m\n",
      "\u001b[32m2025-10-22 20:40:57.639\u001b[0m | \u001b[34m\u001b[1mDEBUG   \u001b[0m | \u001b[36msrc.utils.general\u001b[0m:\u001b[36mopen_csv\u001b[0m:\u001b[36m108\u001b[0m - \u001b[34m\u001b[1mLoaded CSV: c:\\Users\\OAVAI\\Desktop\\mma - Copy\\mma_light\\data\\output\\feature_selection\\natty_feature_frequency.csv (87 rows)\u001b[0m\n",
      "\u001b[32m2025-10-22 20:40:57.639\u001b[0m | \u001b[1mINFO    \u001b[0m | \u001b[36msrc.model_selection.cv_main\u001b[0m:\u001b[36m_cross_validate\u001b[0m:\u001b[36m476\u001b[0m - \u001b[1mSelected top 78 features for CV: 78\u001b[0m\n"
     ]
    },
    {
     "name": "stdout",
     "output_type": "stream",
     "text": [
      "huh\n"
     ]
    },
    {
     "name": "stderr",
     "output_type": "stream",
     "text": [
      "\u001b[32m2025-10-22 20:41:04.514\u001b[0m | \u001b[1mINFO    \u001b[0m | \u001b[36msrc.model_selection.cv_main\u001b[0m:\u001b[36mpredict\u001b[0m:\u001b[36m276\u001b[0m - \u001b[1mSample 244/250 predicted.\u001b[0m\n",
      "\u001b[32m2025-10-22 20:41:04.518\u001b[0m | \u001b[34m\u001b[1mDEBUG   \u001b[0m | \u001b[36msrc.utils.general\u001b[0m:\u001b[36mopen_csv\u001b[0m:\u001b[36m108\u001b[0m - \u001b[34m\u001b[1mLoaded CSV: c:\\Users\\OAVAI\\Desktop\\mma - Copy\\mma_light\\data\\output\\feature_selection\\natty_feature_frequency.csv (87 rows)\u001b[0m\n",
      "\u001b[32m2025-10-22 20:41:04.520\u001b[0m | \u001b[1mINFO    \u001b[0m | \u001b[36msrc.model_selection.cv_main\u001b[0m:\u001b[36m_cross_validate\u001b[0m:\u001b[36m476\u001b[0m - \u001b[1mSelected top 78 features for CV: 78\u001b[0m\n"
     ]
    },
    {
     "name": "stdout",
     "output_type": "stream",
     "text": [
      "huh\n"
     ]
    },
    {
     "name": "stderr",
     "output_type": "stream",
     "text": [
      "\u001b[32m2025-10-22 20:41:10.380\u001b[0m | \u001b[1mINFO    \u001b[0m | \u001b[36msrc.model_selection.cv_main\u001b[0m:\u001b[36mpredict\u001b[0m:\u001b[36m276\u001b[0m - \u001b[1mSample 245/250 predicted.\u001b[0m\n",
      "\u001b[32m2025-10-22 20:41:10.384\u001b[0m | \u001b[34m\u001b[1mDEBUG   \u001b[0m | \u001b[36msrc.utils.general\u001b[0m:\u001b[36mopen_csv\u001b[0m:\u001b[36m108\u001b[0m - \u001b[34m\u001b[1mLoaded CSV: c:\\Users\\OAVAI\\Desktop\\mma - Copy\\mma_light\\data\\output\\feature_selection\\natty_feature_frequency.csv (87 rows)\u001b[0m\n",
      "\u001b[32m2025-10-22 20:41:10.385\u001b[0m | \u001b[1mINFO    \u001b[0m | \u001b[36msrc.model_selection.cv_main\u001b[0m:\u001b[36m_cross_validate\u001b[0m:\u001b[36m476\u001b[0m - \u001b[1mSelected top 78 features for CV: 78\u001b[0m\n"
     ]
    },
    {
     "name": "stdout",
     "output_type": "stream",
     "text": [
      "huh\n"
     ]
    },
    {
     "name": "stderr",
     "output_type": "stream",
     "text": [
      "\u001b[32m2025-10-22 20:41:17.107\u001b[0m | \u001b[1mINFO    \u001b[0m | \u001b[36msrc.model_selection.cv_main\u001b[0m:\u001b[36mpredict\u001b[0m:\u001b[36m276\u001b[0m - \u001b[1mSample 246/250 predicted.\u001b[0m\n",
      "\u001b[32m2025-10-22 20:41:17.111\u001b[0m | \u001b[34m\u001b[1mDEBUG   \u001b[0m | \u001b[36msrc.utils.general\u001b[0m:\u001b[36mopen_csv\u001b[0m:\u001b[36m108\u001b[0m - \u001b[34m\u001b[1mLoaded CSV: c:\\Users\\OAVAI\\Desktop\\mma - Copy\\mma_light\\data\\output\\feature_selection\\natty_feature_frequency.csv (87 rows)\u001b[0m\n",
      "\u001b[32m2025-10-22 20:41:17.112\u001b[0m | \u001b[1mINFO    \u001b[0m | \u001b[36msrc.model_selection.cv_main\u001b[0m:\u001b[36m_cross_validate\u001b[0m:\u001b[36m476\u001b[0m - \u001b[1mSelected top 78 features for CV: 78\u001b[0m\n"
     ]
    },
    {
     "name": "stdout",
     "output_type": "stream",
     "text": [
      "huh\n"
     ]
    },
    {
     "name": "stderr",
     "output_type": "stream",
     "text": [
      "\u001b[32m2025-10-22 20:41:23.479\u001b[0m | \u001b[1mINFO    \u001b[0m | \u001b[36msrc.model_selection.cv_main\u001b[0m:\u001b[36mpredict\u001b[0m:\u001b[36m276\u001b[0m - \u001b[1mSample 247/250 predicted.\u001b[0m\n",
      "\u001b[32m2025-10-22 20:41:23.482\u001b[0m | \u001b[34m\u001b[1mDEBUG   \u001b[0m | \u001b[36msrc.utils.general\u001b[0m:\u001b[36mopen_csv\u001b[0m:\u001b[36m108\u001b[0m - \u001b[34m\u001b[1mLoaded CSV: c:\\Users\\OAVAI\\Desktop\\mma - Copy\\mma_light\\data\\output\\feature_selection\\natty_feature_frequency.csv (87 rows)\u001b[0m\n",
      "\u001b[32m2025-10-22 20:41:23.484\u001b[0m | \u001b[1mINFO    \u001b[0m | \u001b[36msrc.model_selection.cv_main\u001b[0m:\u001b[36m_cross_validate\u001b[0m:\u001b[36m476\u001b[0m - \u001b[1mSelected top 78 features for CV: 78\u001b[0m\n"
     ]
    },
    {
     "name": "stdout",
     "output_type": "stream",
     "text": [
      "huh\n"
     ]
    },
    {
     "name": "stderr",
     "output_type": "stream",
     "text": [
      "\u001b[32m2025-10-22 20:41:29.942\u001b[0m | \u001b[1mINFO    \u001b[0m | \u001b[36msrc.model_selection.cv_main\u001b[0m:\u001b[36mpredict\u001b[0m:\u001b[36m276\u001b[0m - \u001b[1mSample 248/250 predicted.\u001b[0m\n",
      "\u001b[32m2025-10-22 20:41:29.946\u001b[0m | \u001b[34m\u001b[1mDEBUG   \u001b[0m | \u001b[36msrc.utils.general\u001b[0m:\u001b[36mopen_csv\u001b[0m:\u001b[36m108\u001b[0m - \u001b[34m\u001b[1mLoaded CSV: c:\\Users\\OAVAI\\Desktop\\mma - Copy\\mma_light\\data\\output\\feature_selection\\natty_feature_frequency.csv (87 rows)\u001b[0m\n",
      "\u001b[32m2025-10-22 20:41:29.947\u001b[0m | \u001b[1mINFO    \u001b[0m | \u001b[36msrc.model_selection.cv_main\u001b[0m:\u001b[36m_cross_validate\u001b[0m:\u001b[36m476\u001b[0m - \u001b[1mSelected top 78 features for CV: 78\u001b[0m\n"
     ]
    },
    {
     "name": "stdout",
     "output_type": "stream",
     "text": [
      "huh\n"
     ]
    },
    {
     "name": "stderr",
     "output_type": "stream",
     "text": [
      "\u001b[32m2025-10-22 20:41:37.467\u001b[0m | \u001b[1mINFO    \u001b[0m | \u001b[36msrc.model_selection.cv_main\u001b[0m:\u001b[36mpredict\u001b[0m:\u001b[36m276\u001b[0m - \u001b[1mSample 249/250 predicted.\u001b[0m\n",
      "\u001b[32m2025-10-22 20:41:37.489\u001b[0m | \u001b[34m\u001b[1mDEBUG   \u001b[0m | \u001b[36msrc.utils.general\u001b[0m:\u001b[36mopen_csv\u001b[0m:\u001b[36m108\u001b[0m - \u001b[34m\u001b[1mLoaded CSV: c:\\Users\\OAVAI\\Desktop\\mma - Copy\\mma_light\\data\\interim\\valid_names.csv (1604 rows)\u001b[0m\n"
     ]
    },
    {
     "name": "stdout",
     "output_type": "stream",
     "text": [
      "huh\n"
     ]
    },
    {
     "name": "stderr",
     "output_type": "stream",
     "text": [
      "\u001b[32m2025-10-22 20:41:37.730\u001b[0m | \u001b[34m\u001b[1mDEBUG   \u001b[0m | \u001b[36msrc.utils.general\u001b[0m:\u001b[36mstore_csv\u001b[0m:\u001b[36m145\u001b[0m - \u001b[34m\u001b[1mSaved CSV: c:\\Users\\OAVAI\\Desktop\\mma - Copy\\mma_light\\data\\output\\calibration\\natty_preds7.csv (5614 rows)\u001b[0m\n",
      "\u001b[32m2025-10-22 20:41:37.732\u001b[0m | \u001b[1mINFO    \u001b[0m | \u001b[36msrc.model_selection.process_predictions\u001b[0m:\u001b[36m_probability_distribution\u001b[0m:\u001b[36m168\u001b[0m - \u001b[1mStored predictions on valid for 7\u001b[0m\n",
      "\u001b[32m2025-10-22 20:41:37.732\u001b[0m | \u001b[1mINFO    \u001b[0m | \u001b[36msrc.model_selection.process_predictions\u001b[0m:\u001b[36m_probability_distribution\u001b[0m:\u001b[36m168\u001b[0m - \u001b[1mStored predictions on valid for 7\u001b[0m\n",
      "\u001b[32m2025-10-22 20:41:39.280\u001b[0m | \u001b[1mINFO    \u001b[0m | \u001b[36msrc.model_selection.process_predictions\u001b[0m:\u001b[36m_plot_calibration\u001b[0m:\u001b[36m313\u001b[0m - \u001b[1mStored calibration plot at: c:\\Users\\OAVAI\\Desktop\\mma - Copy\\mma_light\\data\\output\\calibration\\natty7.png\u001b[0m\n",
      "\u001b[32m2025-10-22 20:41:39.763\u001b[0m | \u001b[34m\u001b[1mDEBUG   \u001b[0m | \u001b[36msrc.utils.general\u001b[0m:\u001b[36mstore_csv\u001b[0m:\u001b[36m145\u001b[0m - \u001b[34m\u001b[1mSaved CSV: c:\\Users\\OAVAI\\Desktop\\mma - Copy\\mma_light\\data\\output\\calibration\\natty_preds2.csv (1600 rows)\u001b[0m\n",
      "\u001b[32m2025-10-22 20:41:39.764\u001b[0m | \u001b[1mINFO    \u001b[0m | \u001b[36msrc.model_selection.process_predictions\u001b[0m:\u001b[36m_probability_distribution\u001b[0m:\u001b[36m168\u001b[0m - \u001b[1mStored predictions on valid for 2\u001b[0m\n",
      "\u001b[32m2025-10-22 20:41:40.010\u001b[0m | \u001b[1mINFO    \u001b[0m | \u001b[36msrc.model_selection.process_predictions\u001b[0m:\u001b[36m_plot_calibration\u001b[0m:\u001b[36m377\u001b[0m - \u001b[1mStored calibration plot at: c:\\Users\\OAVAI\\Desktop\\mma - Copy\\mma_light\\data\\output\\calibration\\natty2.png\u001b[0m\n",
      "\u001b[32m2025-10-22 20:41:40.018\u001b[0m | \u001b[34m\u001b[1mDEBUG   \u001b[0m | \u001b[36msrc.utils.general\u001b[0m:\u001b[36mopen_csv\u001b[0m:\u001b[36m108\u001b[0m - \u001b[34m\u001b[1mLoaded CSV: c:\\Users\\OAVAI\\Desktop\\mma - Copy\\mma_light\\data\\interim\\pred_names.csv (24 rows)\u001b[0m\n",
      "\u001b[32m2025-10-22 20:41:40.031\u001b[0m | \u001b[34m\u001b[1mDEBUG   \u001b[0m | \u001b[36msrc.utils.general\u001b[0m:\u001b[36mstore_csv\u001b[0m:\u001b[36m145\u001b[0m - \u001b[34m\u001b[1mSaved CSV: c:\\Users\\OAVAI\\Desktop\\mma - Copy\\mma_light\\data\\output\\predictions\\natty_preds7.csv (84 rows)\u001b[0m\n",
      "\u001b[32m2025-10-22 20:41:40.032\u001b[0m | \u001b[1mINFO    \u001b[0m | \u001b[36msrc.model_selection.process_predictions\u001b[0m:\u001b[36m_probability_distribution\u001b[0m:\u001b[36m168\u001b[0m - \u001b[1mStored predictions on pred for 7\u001b[0m\n",
      "\u001b[32m2025-10-22 20:41:40.364\u001b[0m | \u001b[34m\u001b[1mDEBUG   \u001b[0m | \u001b[36msrc.utils.general\u001b[0m:\u001b[36mstore_csv\u001b[0m:\u001b[36m145\u001b[0m - \u001b[34m\u001b[1mSaved CSV: c:\\Users\\OAVAI\\Desktop\\mma - Copy\\mma_light\\data\\output\\predictions\\natty_preds2.csv (24 rows)\u001b[0m\n",
      "\u001b[32m2025-10-22 20:41:40.365\u001b[0m | \u001b[1mINFO    \u001b[0m | \u001b[36msrc.model_selection.process_predictions\u001b[0m:\u001b[36m_probability_distribution\u001b[0m:\u001b[36m168\u001b[0m - \u001b[1mStored predictions on pred for 2\u001b[0m\n"
     ]
    }
   ],
   "source": [
    "CV.change_cv_param('n_repeats', 50) # Takes n_repeats * n_folds samples with as many different random states\n",
    "CV.predict(rndstate_stability_check=True)"
   ]
  },
  {
   "cell_type": "markdown",
   "metadata": {},
   "source": [
    "---\n",
    "\n",
    "## Run in your browser (GitHub Codespaces)\n",
    "\n",
    "Run the notebook and view MLflow entirely in the browser using GitHub Codespaces.\n",
    "\n",
    "[![Open in GitHub Codespaces](https://github.com/codespaces/badge.svg)](https://codespaces.new/REPLACE_WITH_YOUR_GITHUB_USERNAME_OR_ORG/REPO_NAME?quickstart=1)\n",
    "\n",
    "What it does\n",
    "- Spins up a cloud dev environment with Python 3.11\n",
    "- Auto-installs `requirements.txt` (devcontainer provided)\n",
    "- Forwards MLflow UI on port 5000\n",
    "\n",
    "Steps\n",
    "1) Click the badge above (or Code → Codespaces → Create codespace on main)\n",
    "2) Open `mma_project_guide.ipynb` and run cells\n",
    "3) To view MLflow UI, open a terminal and run:\n",
    "\n",
    "```bash\n",
    "mlflow ui --host 0.0.0.0 --port 5000\n",
    "```\n",
    "\n",
    "The port will auto-forward; click the globe icon in the Ports panel to open the UI in a new tab.\n",
    "# mma_money_making_algorithm\n",
    "\n",
    "---\n",
    "\n",
    "## Acknowledements \n",
    "\n",
    "Massive thanks to Erik Prjadka for his invaluable advice throughout, teaching me about data science principles and which machine learning method to use. Also to Sjoerd Visser for bringing me up to date on machine learning and coding standards and practices. \n",
    "\n",
    "## Sources \n",
    "- www.ufcstats.com\n",
    "- greco1899/ufc_stats_scraper\n",
    "- pandas\n",
    "- xgboost \n",
    "- numpy \n",
    "- sklearn"
   ]
  }
 ],
 "metadata": {
  "kernelspec": {
   "display_name": ".venv (3.12.10)",
   "language": "python",
   "name": "python3"
  },
  "language_info": {
   "codemirror_mode": {
    "name": "ipython",
    "version": 3
   },
   "file_extension": ".py",
   "mimetype": "text/x-python",
   "name": "python",
   "nbconvert_exporter": "python",
   "pygments_lexer": "ipython3",
   "version": "3.12.10"
  }
 },
 "nbformat": 4,
 "nbformat_minor": 5
}
